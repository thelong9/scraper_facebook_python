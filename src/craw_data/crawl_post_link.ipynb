{
 "cells": [
  {
   "cell_type": "markdown",
   "id": "3112bcde",
   "metadata": {},
   "source": [
    "<img src=\"../../res/image/Manchester_United_F.C.-Logo.wine.png\"\n",
    "    style=\"width:400px; float: right; margin: 0 40px 40px 40px;\"></img>\n",
    "\n",
    "# 1. Thu thập link các bài viết\n",
    "Dữ liệu được thu thập từ các trang sau, khoảng 2000 bài viết mỗi trang.\n",
    "\n",
    "[Fan Manchester United in Viet Nam](https://www.facebook.com/ManUnitedVN1878)\n",
    "\n",
    "[Fan MU Việt Nam](https://www.facebook.com/fanmuvn1878)\n",
    "\n",
    "[Hội Quỷ Đỏ](https://www.facebook.com/hoiquydomu)"
   ]
  },
  {
   "cell_type": "markdown",
   "id": "1464c51f",
   "metadata": {},
   "source": [
    "![purple-divider](../../res/image/purple.png)\n",
    "## Cài đặt"
   ]
  },
  {
   "cell_type": "code",
   "execution_count": null,
   "id": "4785fcfc",
   "metadata": {},
   "outputs": [],
   "source": [
    "%pip install pandas"
   ]
  },
  {
   "cell_type": "markdown",
   "id": "3075fb85",
   "metadata": {},
   "source": [
    "![green-divider](../../res/image/green.png)\n",
    "## Import thư viện"
   ]
  },
  {
   "cell_type": "code",
   "execution_count": 2,
   "id": "5d3fc043",
   "metadata": {},
   "outputs": [
    {
     "name": "stderr",
     "output_type": "stream",
     "text": [
      "C:\\Users\\AD\\AppData\\Local\\Packages\\PythonSoftwareFoundation.Python.3.11_qbz5n2kfra8p0\\LocalCache\\local-packages\\Python311\\site-packages\\tqdm\\auto.py:21: TqdmWarning: IProgress not found. Please update jupyter and ipywidgets. See https://ipywidgets.readthedocs.io/en/stable/user_install.html\n",
      "  from .autonotebook import tqdm as notebook_tqdm\n"
     ]
    }
   ],
   "source": [
    "import pandas as pd\n",
    "import sys\n",
    "sys.path.append('../..')\n",
    "from facebook_scraper import get_posts"
   ]
  },
  {
   "cell_type": "markdown",
   "id": "ca26decc",
   "metadata": {},
   "source": [
    "![green-divider](../../res/image/green.png)\n",
    "## Thu thập liên kết của các bài viết\n",
    "Thu thập link của các bài viết.\n",
    "\n",
    "Tất cả các link sẽ được lưu vào file **\"FANPAGE\".txt**"
   ]
  },
  {
   "cell_type": "code",
   "execution_count": 3,
   "id": "88ef6fae",
   "metadata": {},
   "outputs": [],
   "source": [
    "# ManUnitedVN1878\n",
    "# fanmuvn1878\n",
    "# hoiquydomu\n",
    "FANPAGE =\"tgsb.vnn\"\n",
    "COOKIE_PATH = \"../../res/www.facebook.com_cookies.txt\"\n",
    "PAGES_NUMBER = 100"
   ]
  },
  {
   "cell_type": "code",
   "execution_count": 4,
   "id": "110a3ce9",
   "metadata": {},
   "outputs": [
    {
     "name": "stdout",
     "output_type": "stream",
     "text": [
      "Done\n"
     ]
    }
   ],
   "source": [
    "post_list = list(get_posts(FANPAGE, base_url=\"https://mbasic.facebook.com\", start_url=\"https://mbasic.facebook.com/\" + FANPAGE + \"?v=timeline\",\n",
    "                    options={\"comments\": False, \"reactions\": False, \"allow_extra_requests\": False},\n",
    "                    extra_info=False, pages=PAGES_NUMBER, cookies=COOKIE_PATH))\n",
    "print(\"Done\")"
   ]
  },
  {
   "cell_type": "code",
   "execution_count": 5,
   "id": "82701a5b",
   "metadata": {
    "scrolled": true
   },
   "outputs": [
    {
     "data": {
      "text/html": [
       "<div>\n",
       "<style scoped>\n",
       "    .dataframe tbody tr th:only-of-type {\n",
       "        vertical-align: middle;\n",
       "    }\n",
       "\n",
       "    .dataframe tbody tr th {\n",
       "        vertical-align: top;\n",
       "    }\n",
       "\n",
       "    .dataframe thead th {\n",
       "        text-align: right;\n",
       "    }\n",
       "</style>\n",
       "<table border=\"1\" class=\"dataframe\">\n",
       "  <thead>\n",
       "    <tr style=\"text-align: right;\">\n",
       "      <th></th>\n",
       "      <th>post_id</th>\n",
       "      <th>text</th>\n",
       "      <th>post_text</th>\n",
       "      <th>shared_text</th>\n",
       "      <th>original_text</th>\n",
       "      <th>time</th>\n",
       "      <th>timestamp</th>\n",
       "      <th>image</th>\n",
       "      <th>image_lowquality</th>\n",
       "      <th>images</th>\n",
       "      <th>...</th>\n",
       "      <th>w3_fb_url</th>\n",
       "      <th>reactions</th>\n",
       "      <th>reaction_count</th>\n",
       "      <th>with</th>\n",
       "      <th>page_id</th>\n",
       "      <th>sharers</th>\n",
       "      <th>translated_text</th>\n",
       "      <th>image_id</th>\n",
       "      <th>image_ids</th>\n",
       "      <th>was_live</th>\n",
       "    </tr>\n",
       "  </thead>\n",
       "  <tbody>\n",
       "    <tr>\n",
       "      <th>0</th>\n",
       "      <td>460876613289368</td>\n",
       "      <td>Nghe đâu là 1 phân cảnh trong \"Lệ Cay 3 remix\"...</td>\n",
       "      <td>Nghe đâu là 1 phân cảnh trong \"Lệ Cay 3 remix\"...</td>\n",
       "      <td></td>\n",
       "      <td>None</td>\n",
       "      <td>2024-05-21 23:39:00</td>\n",
       "      <td>None</td>\n",
       "      <td>None</td>\n",
       "      <td>https://scontent-hkg4-1.xx.fbcdn.net/v/t39.308...</td>\n",
       "      <td>None</td>\n",
       "      <td>...</td>\n",
       "      <td>None</td>\n",
       "      <td>None</td>\n",
       "      <td>449</td>\n",
       "      <td>None</td>\n",
       "      <td>None</td>\n",
       "      <td>None</td>\n",
       "      <td></td>\n",
       "      <td>None</td>\n",
       "      <td>[]</td>\n",
       "      <td>False</td>\n",
       "    </tr>\n",
       "    <tr>\n",
       "      <th>1</th>\n",
       "      <td>460864353290594</td>\n",
       "      <td>Nam thanh niên (2K2) thích thầm chị (1996) và ...</td>\n",
       "      <td>Nam thanh niên (2K2) thích thầm chị (1996) và ...</td>\n",
       "      <td></td>\n",
       "      <td>None</td>\n",
       "      <td>2024-05-21 23:16:00</td>\n",
       "      <td>None</td>\n",
       "      <td>None</td>\n",
       "      <td>https://scontent-hkg4-1.xx.fbcdn.net/v/t39.308...</td>\n",
       "      <td>None</td>\n",
       "      <td>...</td>\n",
       "      <td>None</td>\n",
       "      <td>None</td>\n",
       "      <td>284</td>\n",
       "      <td>None</td>\n",
       "      <td>None</td>\n",
       "      <td>None</td>\n",
       "      <td></td>\n",
       "      <td>None</td>\n",
       "      <td>[]</td>\n",
       "      <td>False</td>\n",
       "    </tr>\n",
       "    <tr>\n",
       "      <th>2</th>\n",
       "      <td>460844606625902</td>\n",
       "      <td>Theo Tuấn Hưng thì MV này được đầu tư \"khủng\" ...</td>\n",
       "      <td>Theo Tuấn Hưng thì MV này được đầu tư \"khủng\" ...</td>\n",
       "      <td></td>\n",
       "      <td>None</td>\n",
       "      <td>2024-05-01 00:00:00</td>\n",
       "      <td>None</td>\n",
       "      <td>None</td>\n",
       "      <td>https://scontent-hkg4-1.xx.fbcdn.net/v/t39.308...</td>\n",
       "      <td>None</td>\n",
       "      <td>...</td>\n",
       "      <td>None</td>\n",
       "      <td>None</td>\n",
       "      <td>684</td>\n",
       "      <td>None</td>\n",
       "      <td>None</td>\n",
       "      <td>None</td>\n",
       "      <td></td>\n",
       "      <td>None</td>\n",
       "      <td>[]</td>\n",
       "      <td>False</td>\n",
       "    </tr>\n",
       "    <tr>\n",
       "      <th>3</th>\n",
       "      <td>460768453300184</td>\n",
       "      <td>GIẢI CỨU THÀNH CÔNG 1 CÁ THỂ HỔ 200KG Ở PHÚ TH...</td>\n",
       "      <td>GIẢI CỨU THÀNH CÔNG 1 CÁ THỂ HỔ 200KG Ở PHÚ TH...</td>\n",
       "      <td></td>\n",
       "      <td>None</td>\n",
       "      <td>2024-05-03 00:00:00</td>\n",
       "      <td>None</td>\n",
       "      <td>None</td>\n",
       "      <td>https://scontent-hkg1-1.xx.fbcdn.net/v/t39.308...</td>\n",
       "      <td>None</td>\n",
       "      <td>...</td>\n",
       "      <td>None</td>\n",
       "      <td>None</td>\n",
       "      <td>908</td>\n",
       "      <td>None</td>\n",
       "      <td>None</td>\n",
       "      <td>None</td>\n",
       "      <td></td>\n",
       "      <td>None</td>\n",
       "      <td>[]</td>\n",
       "      <td>False</td>\n",
       "    </tr>\n",
       "    <tr>\n",
       "      <th>4</th>\n",
       "      <td>460753129968383</td>\n",
       "      <td>Người phụ nữ gào khóc thảm thiết khi bị kẻ gia...</td>\n",
       "      <td>Người phụ nữ gào khóc thảm thiết khi bị kẻ gia...</td>\n",
       "      <td></td>\n",
       "      <td>None</td>\n",
       "      <td>2024-05-04 00:00:00</td>\n",
       "      <td>None</td>\n",
       "      <td>None</td>\n",
       "      <td>https://scontent-hkg1-1.xx.fbcdn.net/v/t39.308...</td>\n",
       "      <td>None</td>\n",
       "      <td>...</td>\n",
       "      <td>None</td>\n",
       "      <td>None</td>\n",
       "      <td>1178</td>\n",
       "      <td>None</td>\n",
       "      <td>None</td>\n",
       "      <td>None</td>\n",
       "      <td></td>\n",
       "      <td>None</td>\n",
       "      <td>[]</td>\n",
       "      <td>False</td>\n",
       "    </tr>\n",
       "  </tbody>\n",
       "</table>\n",
       "<p>5 rows × 52 columns</p>\n",
       "</div>"
      ],
      "text/plain": [
       "           post_id                                               text  \\\n",
       "0  460876613289368  Nghe đâu là 1 phân cảnh trong \"Lệ Cay 3 remix\"...   \n",
       "1  460864353290594  Nam thanh niên (2K2) thích thầm chị (1996) và ...   \n",
       "2  460844606625902  Theo Tuấn Hưng thì MV này được đầu tư \"khủng\" ...   \n",
       "3  460768453300184  GIẢI CỨU THÀNH CÔNG 1 CÁ THỂ HỔ 200KG Ở PHÚ TH...   \n",
       "4  460753129968383  Người phụ nữ gào khóc thảm thiết khi bị kẻ gia...   \n",
       "\n",
       "                                           post_text shared_text  \\\n",
       "0  Nghe đâu là 1 phân cảnh trong \"Lệ Cay 3 remix\"...               \n",
       "1  Nam thanh niên (2K2) thích thầm chị (1996) và ...               \n",
       "2  Theo Tuấn Hưng thì MV này được đầu tư \"khủng\" ...               \n",
       "3  GIẢI CỨU THÀNH CÔNG 1 CÁ THỂ HỔ 200KG Ở PHÚ TH...               \n",
       "4  Người phụ nữ gào khóc thảm thiết khi bị kẻ gia...               \n",
       "\n",
       "  original_text                time timestamp image  \\\n",
       "0          None 2024-05-21 23:39:00      None  None   \n",
       "1          None 2024-05-21 23:16:00      None  None   \n",
       "2          None 2024-05-01 00:00:00      None  None   \n",
       "3          None 2024-05-03 00:00:00      None  None   \n",
       "4          None 2024-05-04 00:00:00      None  None   \n",
       "\n",
       "                                    image_lowquality images  ... w3_fb_url  \\\n",
       "0  https://scontent-hkg4-1.xx.fbcdn.net/v/t39.308...   None  ...      None   \n",
       "1  https://scontent-hkg4-1.xx.fbcdn.net/v/t39.308...   None  ...      None   \n",
       "2  https://scontent-hkg4-1.xx.fbcdn.net/v/t39.308...   None  ...      None   \n",
       "3  https://scontent-hkg1-1.xx.fbcdn.net/v/t39.308...   None  ...      None   \n",
       "4  https://scontent-hkg1-1.xx.fbcdn.net/v/t39.308...   None  ...      None   \n",
       "\n",
       "  reactions reaction_count  with page_id sharers translated_text image_id  \\\n",
       "0      None            449  None    None    None                     None   \n",
       "1      None            284  None    None    None                     None   \n",
       "2      None            684  None    None    None                     None   \n",
       "3      None            908  None    None    None                     None   \n",
       "4      None           1178  None    None    None                     None   \n",
       "\n",
       "  image_ids was_live  \n",
       "0        []    False  \n",
       "1        []    False  \n",
       "2        []    False  \n",
       "3        []    False  \n",
       "4        []    False  \n",
       "\n",
       "[5 rows x 52 columns]"
      ]
     },
     "execution_count": 5,
     "metadata": {},
     "output_type": "execute_result"
    }
   ],
   "source": [
    "post_df_full = pd.DataFrame(columns=post_list[0].keys(), index=range(len(post_list)), data=post_list)\n",
    "post_df_full.head()"
   ]
  },
  {
   "cell_type": "markdown",
   "id": "a703afa5",
   "metadata": {},
   "source": [
    "![green-divider](../../res/image/green.png)\n",
    "## Lưu link các post vào file"
   ]
  },
  {
   "cell_type": "code",
   "execution_count": 6,
   "id": "f80329f2",
   "metadata": {},
   "outputs": [
    {
     "name": "stdout",
     "output_type": "stream",
     "text": [
      "Done\n"
     ]
    }
   ],
   "source": [
    "with open(\"../../res/data/\" + FANPAGE + \".txt\", mode=\"w\") as file:\n",
    "    for post_id in post_df_full.post_id:\n",
    "        file.write(\"https://facebook.com/\" + FANPAGE + \"/posts/\" + post_id + \"\\n\")\n",
    "print(\"Done\")"
   ]
  },
  {
   "cell_type": "markdown",
   "id": "a1d1d4cd",
   "metadata": {},
   "source": [
    "![purple-divider](../../res/image/purple.png)"
   ]
  }
 ],
 "metadata": {
  "kernelspec": {
   "display_name": "Python 3 (ipykernel)",
   "language": "python",
   "name": "python3"
  },
  "language_info": {
   "codemirror_mode": {
    "name": "ipython",
    "version": 3
   },
   "file_extension": ".py",
   "mimetype": "text/x-python",
   "name": "python",
   "nbconvert_exporter": "python",
   "pygments_lexer": "ipython3",
   "version": "3.11.9"
  }
 },
 "nbformat": 4,
 "nbformat_minor": 5
}
