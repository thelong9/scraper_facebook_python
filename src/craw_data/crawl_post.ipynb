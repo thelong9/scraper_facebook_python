{
 "cells": [
  {
   "cell_type": "markdown",
   "metadata": {},
   "source": [
    "<img src=\"../../res/image/Manchester_United_F.C.-Logo.wine.png\"\n",
    "    style=\"width:400px; float: right; margin: 0 40px 40px 40px;\"></img>\n",
    "\n",
    "# 1. Thu thập dữ liệu các bài viết\n",
    "Dữ liệu được thu thập từ các trang sau, khoảng 2000 bài viết mỗi trang.\n",
    "\n",
    "[Fan Manchester United in Viet Nam](https://www.facebook.com/ManUnitedVN1878)\n",
    "\n",
    "[Fan MU Việt Nam](https://www.facebook.com/fanmuvn1878)\n",
    "\n",
    "[Hội Quỷ Đỏ](https://www.facebook.com/hoiquydomu)"
   ]
  },
  {
   "cell_type": "markdown",
   "metadata": {},
   "source": [
    "![purple-divider](../../res/image/purple.png)\n",
    "## Cài đặt"
   ]
  },
  {
   "cell_type": "code",
   "execution_count": null,
   "metadata": {},
   "outputs": [],
   "source": [
    "%pip install pandas\n",
    "%pip install facebook_scraper"
   ]
  },
  {
   "cell_type": "markdown",
   "metadata": {},
   "source": [
    "![green-divider](../../res/image/green.png)\n",
    "## Import thư viện"
   ]
  },
  {
   "cell_type": "code",
   "execution_count": null,
   "metadata": {},
   "outputs": [],
   "source": [
    "import pandas as pd\n",
    "from facebook_scraper import get_posts"
   ]
  },
  {
   "cell_type": "markdown",
   "metadata": {},
   "source": [
    "![green-divider](../../res/image/green.png)\n",
    "## Thu thập liên kết của các bài viết\n",
    "Thu thập dữ liệu của các bài viết.\n",
    "\n",
    "Tất cả các link sẽ được lưu vào file **\"FANPAGE\".csv**"
   ]
  },
  {
   "cell_type": "code",
   "execution_count": null,
   "metadata": {},
   "outputs": [],
   "source": [
    "# ManUnitedVN1878 - fanmuvn1878 - hoiquydomu\n",
    "FANPAGE =\"tgsb.vnn\"\n",
    "COOKIE_PATH = \"../../res/www.facebook.com_cookies.txt\"\n",
    "FILE_PATH = \"../../res/data/\" + FANPAGE + \".txt\""
   ]
  },
  {
   "cell_type": "code",
   "execution_count": null,
   "metadata": {},
   "outputs": [],
   "source": [
    "POST_URLS = []\n",
    "with open(FILE_PATH, \"r\") as file:\n",
    "    POST_URLS = file.read().split(\"\\n\")\n",
    "################################## Bắt đầu thu thập từ bài viết thứ ...\n",
    "POST_URLS = POST_URLS[0:]\n",
    "################################## Bắt đầu thu thập từ bài viết thứ ...\n",
    "print(POST_URLS[:5])"
   ]
  },
  {
   "cell_type": "code",
   "execution_count": null,
   "metadata": {},
   "outputs": [],
   "source": [
    "post_list = []\n",
    "for post in get_posts(post_urls=POST_URLS,\n",
    "                    options={\"comments\": True, \"reactions\": True, \"allow_extra_requests\": True},\n",
    "                    cookies=COOKIE_PATH):\n",
    "    post_list.append(post)\n",
    "    print(post)\n",
    "print(\"Done\")"
   ]
  },
  {
   "cell_type": "code",
   "execution_count": null,
   "metadata": {},
   "outputs": [],
   "source": [
    "post_df_full = pd.DataFrame(columns=post_list[0].keys(), index=range(len(post_list)), data=post_list)\n",
    "post_df_full"
   ]
  },
  {
   "cell_type": "code",
   "execution_count": null,
   "metadata": {},
   "outputs": [],
   "source": [
    "post_df_full['comments_full'].head()"
   ]
  },
  {
   "cell_type": "code",
   "execution_count": null,
   "metadata": {},
   "outputs": [],
   "source": [
    "path = \"../../res/data/\" + FANPAGE + \".csv\"\n",
    "post_df_full.to_csv(path, index=False)\n",
    "print(\"Done\")"
   ]
  }
 ],
 "metadata": {
  "kernelspec": {
   "display_name": "Py311",
   "language": "python",
   "name": "python3"
  },
  "language_info": {
   "codemirror_mode": {
    "name": "ipython",
    "version": 3
   },
   "file_extension": ".py",
   "mimetype": "text/x-python",
   "name": "python",
   "nbconvert_exporter": "python",
   "pygments_lexer": "ipython3",
   "version": "3.11.9"
  }
 },
 "nbformat": 4,
 "nbformat_minor": 2
}
