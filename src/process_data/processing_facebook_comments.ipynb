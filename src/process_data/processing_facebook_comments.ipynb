{
 "cells": [
  {
   "cell_type": "code",
   "execution_count": 1,
   "metadata": {},
   "outputs": [],
   "source": [
    "import pandas as pd"
   ]
  },
  {
   "cell_type": "code",
   "execution_count": 2,
   "metadata": {},
   "outputs": [],
   "source": [
    "# FANPAGE =\"tgsb.vnn\"\n",
    "# path = \"../../res/data/\" + FANPAGE + \".csv\""
   ]
  },
  {
   "cell_type": "code",
   "execution_count": 3,
   "metadata": {},
   "outputs": [],
   "source": [
    "# df = pd.read_csv(path)"
   ]
  },
  {
   "cell_type": "code",
   "execution_count": 25,
   "metadata": {},
   "outputs": [],
   "source": [
    "FANPAGE =\"pagechuithue\"\n",
    "path = \"../../res/data/\" + FANPAGE + \".xlsx\""
   ]
  },
  {
   "cell_type": "code",
   "execution_count": 5,
   "metadata": {},
   "outputs": [],
   "source": [
    "df = pd.read_excel(path)"
   ]
  },
  {
   "cell_type": "code",
   "execution_count": 6,
   "metadata": {},
   "outputs": [],
   "source": [
    "df = df.dropna(subset=['comments_full'])"
   ]
  },
  {
   "cell_type": "code",
   "execution_count": 7,
   "metadata": {},
   "outputs": [
    {
     "data": {
      "text/plain": [
       "0      [{'comment_id': '772648424978098', 'comment_ur...\n",
       "1      [{'comment_id': '1859060094579667', 'comment_u...\n",
       "2      [{'comment_id': '2168980873482761', 'comment_u...\n",
       "3      [{'comment_id': '990453656046222', 'comment_ur...\n",
       "4      [{'comment_id': '418325051119866', 'comment_ur...\n",
       "5      [{'comment_id': '1168339311147626', 'comment_u...\n",
       "6      [{'comment_id': '1109575496785066', 'comment_u...\n",
       "7      [{'comment_id': '279382788503692', 'comment_ur...\n",
       "8      [{'comment_id': '816931333217377', 'comment_ur...\n",
       "9      [{'comment_id': '1211974556690642', 'comment_u...\n",
       "10     [{'comment_id': '8359853270710431', 'comment_u...\n",
       "11     [{'comment_id': '763416302276816', 'comment_ur...\n",
       "12     [{'comment_id': '1811264962719600', 'comment_u...\n",
       "13     [{'comment_id': '403006472718667', 'comment_ur...\n",
       "14     [{'comment_id': '1500813604165192', 'comment_u...\n",
       "15     [{'comment_id': '478446881305724', 'comment_ur...\n",
       "16     [{'comment_id': '785312810034197', 'comment_ur...\n",
       "17     [{'comment_id': '1087831328955622', 'comment_u...\n",
       "18     [{'comment_id': '1191901202183320', 'comment_u...\n",
       "19     [{'comment_id': '985362086536542', 'comment_ur...\n",
       "20     [{'comment_id': '965143711965144', 'comment_ur...\n",
       "21     [{'comment_id': '959179119080097', 'comment_ur...\n",
       "22     [{'comment_id': '1171199633923695', 'comment_u...\n",
       "23     [{'comment_id': '328124126980512', 'comment_ur...\n",
       "24     [{'comment_id': '466014445811795', 'comment_ur...\n",
       "33     [{'comment_id': '3631161313765266', 'comment_u...\n",
       "39     [{'comment_id': '1163932705059156', 'comment_u...\n",
       "40     [{'comment_id': '1293884145332605', 'comment_u...\n",
       "56     [{'comment_id': '342659611825647', 'comment_ur...\n",
       "112    [{'comment_id': '841627848014355', 'comment_ur...\n",
       "Name: comments_full, dtype: object"
      ]
     },
     "execution_count": 7,
     "metadata": {},
     "output_type": "execute_result"
    }
   ],
   "source": [
    "df['comments_full']"
   ]
  },
  {
   "cell_type": "code",
   "execution_count": 8,
   "metadata": {},
   "outputs": [],
   "source": [
    "def extract_comment(comment_str):\n",
    "    comments = []\n",
    "    for i in range(len(comment_str)):\n",
    "        if i % 2 == 1:\n",
    "            comments.append(comment_str[i])\n",
    "\n",
    "    return comments"
   ]
  },
  {
   "cell_type": "code",
   "execution_count": 20,
   "metadata": {},
   "outputs": [],
   "source": [
    "comment_df = pd.DataFrame(columns=['comments'])\n",
    "\n",
    "for comment in df['comments_full']:\n",
    "    comment = comment.replace(\"'\", '\"').replace('\"comment_text\": \"', '\\n').replace('\", \"comment_time\": ', '\\n').split('\\n')\n",
    "    all_comments = extract_comment(comment)\n",
    "    for text in all_comments:\n",
    "        new_row = pd.DataFrame({'comments': [text]})\n",
    "        comment_df = pd.concat([comment_df, new_row], ignore_index=True)\n",
    "    "
   ]
  },
  {
   "cell_type": "code",
   "execution_count": 21,
   "metadata": {},
   "outputs": [
    {
     "data": {
      "text/html": [
       "<div>\n",
       "<style scoped>\n",
       "    .dataframe tbody tr th:only-of-type {\n",
       "        vertical-align: middle;\n",
       "    }\n",
       "\n",
       "    .dataframe tbody tr th {\n",
       "        vertical-align: top;\n",
       "    }\n",
       "\n",
       "    .dataframe thead th {\n",
       "        text-align: right;\n",
       "    }\n",
       "</style>\n",
       "<table border=\"1\" class=\"dataframe\">\n",
       "  <thead>\n",
       "    <tr style=\"text-align: right;\">\n",
       "      <th></th>\n",
       "      <th>comments</th>\n",
       "    </tr>\n",
       "  </thead>\n",
       "  <tbody>\n",
       "    <tr>\n",
       "      <th>0</th>\n",
       "      <td>Câu chiện cảm lạnh 😂😂\\nXưa tui với chị tui gọi...</td>\n",
       "    </tr>\n",
       "    <tr>\n",
       "      <th>1</th>\n",
       "      <td>Còn tui thì đi lên HN học mà nhỏ em khóc như m...</td>\n",
       "    </tr>\n",
       "    <tr>\n",
       "      <th>2</th>\n",
       "      <td>Quý Phùng hơi quen quen</td>\n",
       "    </tr>\n",
       "    <tr>\n",
       "      <th>3</th>\n",
       "      <td>Là ý bảo chị đi mạnh khoẻ ấy hả :)))</td>\n",
       "    </tr>\n",
       "    <tr>\n",
       "      <th>4</th>\n",
       "      <td>Thằng cậu nào đấy</td>\n",
       "    </tr>\n",
       "    <tr>\n",
       "      <th>...</th>\n",
       "      <td>...</td>\n",
       "    </tr>\n",
       "    <tr>\n",
       "      <th>1316</th>\n",
       "      <td>Phương Ly mh ok thôi, coi như trải nghiệm 🥹. s...</td>\n",
       "    </tr>\n",
       "    <tr>\n",
       "      <th>1317</th>\n",
       "      <td>Ken Nguyen tại đợt đó mình mới tìm hiểu tiktok...</td>\n",
       "    </tr>\n",
       "    <tr>\n",
       "      <th>1318</th>\n",
       "      <td>Trịnh Thành thằng nào ngu thì kệ cụ cho nó chế...</td>\n",
       "    </tr>\n",
       "    <tr>\n",
       "      <th>1319</th>\n",
       "      <td>Đặng Quang Sơn tao có bảo trẻ là ko giỏi đâu m...</td>\n",
       "    </tr>\n",
       "    <tr>\n",
       "      <th>1320</th>\n",
       "      <td>Trịnh Thành ấy bác, đang đồng tình với ý kiến ...</td>\n",
       "    </tr>\n",
       "  </tbody>\n",
       "</table>\n",
       "<p>1321 rows × 1 columns</p>\n",
       "</div>"
      ],
      "text/plain": [
       "                                               comments\n",
       "0     Câu chiện cảm lạnh 😂😂\\nXưa tui với chị tui gọi...\n",
       "1     Còn tui thì đi lên HN học mà nhỏ em khóc như m...\n",
       "2                               Quý Phùng hơi quen quen\n",
       "3                  Là ý bảo chị đi mạnh khoẻ ấy hả :)))\n",
       "4                                     Thằng cậu nào đấy\n",
       "...                                                 ...\n",
       "1316  Phương Ly mh ok thôi, coi như trải nghiệm 🥹. s...\n",
       "1317  Ken Nguyen tại đợt đó mình mới tìm hiểu tiktok...\n",
       "1318  Trịnh Thành thằng nào ngu thì kệ cụ cho nó chế...\n",
       "1319  Đặng Quang Sơn tao có bảo trẻ là ko giỏi đâu m...\n",
       "1320  Trịnh Thành ấy bác, đang đồng tình với ý kiến ...\n",
       "\n",
       "[1321 rows x 1 columns]"
      ]
     },
     "execution_count": 21,
     "metadata": {},
     "output_type": "execute_result"
    }
   ],
   "source": [
    "comment_df"
   ]
  },
  {
   "cell_type": "markdown",
   "metadata": {},
   "source": [
    "# Trang thứ 2\n"
   ]
  },
  {
   "cell_type": "code",
   "execution_count": 13,
   "metadata": {},
   "outputs": [],
   "source": [
    "FANPAGE =\"pagechuithue_1\"\n",
    "path = \"../../res/data/\" + FANPAGE + \".xlsx\""
   ]
  },
  {
   "cell_type": "code",
   "execution_count": 14,
   "metadata": {},
   "outputs": [],
   "source": [
    "df1 = pd.read_excel(path)"
   ]
  },
  {
   "cell_type": "code",
   "execution_count": 15,
   "metadata": {},
   "outputs": [],
   "source": [
    "df1 = df1.dropna(subset= ['comments_full'])"
   ]
  },
  {
   "cell_type": "code",
   "execution_count": 16,
   "metadata": {},
   "outputs": [
    {
     "data": {
      "text/plain": [
       "0     [{'comment_id': '1161162325338984', 'comment_u...\n",
       "1     [{'comment_id': '1054996253086186', 'comment_u...\n",
       "2     [{'comment_id': '803881915003534', 'comment_ur...\n",
       "3     [{'comment_id': '1931795273905394', 'comment_u...\n",
       "4     [{'comment_id': '1224079081942173', 'comment_u...\n",
       "5     [{'comment_id': '1609984789842359', 'comment_u...\n",
       "6     [{'comment_id': '1172509954170760', 'comment_u...\n",
       "7     [{'comment_id': '464815065916548', 'comment_ur...\n",
       "8     [{'comment_id': '640489484960635', 'comment_ur...\n",
       "9     [{'comment_id': '986210643023579', 'comment_ur...\n",
       "10    [{'comment_id': '1413073702741180', 'comment_u...\n",
       "11    [{'comment_id': '331491733296886', 'comment_ur...\n",
       "12    [{'comment_id': '372941725198556', 'comment_ur...\n",
       "13    [{'comment_id': '1520091788582318', 'comment_u...\n",
       "14    [{'comment_id': '1148980563101831', 'comment_u...\n",
       "15    [{'comment_id': '472403495264980', 'comment_ur...\n",
       "16    [{'comment_id': '1794222107738905', 'comment_u...\n",
       "17    [{'comment_id': '1158800361979982', 'comment_u...\n",
       "18    [{'comment_id': '774232924841494', 'comment_ur...\n",
       "19    [{'comment_id': '427091253514147', 'comment_ur...\n",
       "20    [{'comment_id': '1132527361304450', 'comment_u...\n",
       "21    [{'comment_id': '385469591153947', 'comment_ur...\n",
       "22    [{'comment_id': '1118349409283105', 'comment_u...\n",
       "23    [{'comment_id': '464310002753291', 'comment_ur...\n",
       "24    [{'comment_id': '1505723103659044', 'comment_u...\n",
       "25    [{'comment_id': '1500486390826224', 'comment_u...\n",
       "26    [{'comment_id': '1925869747853888', 'comment_u...\n",
       "27    [{'comment_id': '1178272593539445', 'comment_u...\n",
       "28    [{'comment_id': '1004356781039992', 'comment_u...\n",
       "29    [{'comment_id': '1467418697186695', 'comment_u...\n",
       "30    [{'comment_id': '785792253652955', 'comment_ur...\n",
       "31    [{'comment_id': '831076912412018', 'comment_ur...\n",
       "32    [{'comment_id': '1478619786415946', 'comment_u...\n",
       "33    [{'comment_id': '7173895332716367', 'comment_u...\n",
       "34    [{'comment_id': '1428711504677041', 'comment_u...\n",
       "35    [{'comment_id': '432782452792177', 'comment_ur...\n",
       "36    [{'comment_id': '434118072656526', 'comment_ur...\n",
       "37    [{'comment_id': '968538954756932', 'comment_ur...\n",
       "38    [{'comment_id': '1159510405084839', 'comment_u...\n",
       "39    [{'comment_id': '489534020176661', 'comment_ur...\n",
       "40    [{'comment_id': '966784418096441', 'comment_ur...\n",
       "41    [{'comment_id': '961975288804799', 'comment_ur...\n",
       "42    [{'comment_id': '1174971967010983', 'comment_u...\n",
       "Name: comments_full, dtype: object"
      ]
     },
     "execution_count": 16,
     "metadata": {},
     "output_type": "execute_result"
    }
   ],
   "source": [
    "df1['comments_full']"
   ]
  },
  {
   "cell_type": "code",
   "execution_count": 18,
   "metadata": {},
   "outputs": [],
   "source": [
    "def extract_comment(comment_str):\n",
    "    comments = []\n",
    "    for i in range(len(comment_str)):\n",
    "        if i % 2 == 1:\n",
    "            comments.append(comment_str[i])\n",
    "\n",
    "    return comments"
   ]
  },
  {
   "cell_type": "code",
   "execution_count": 22,
   "metadata": {},
   "outputs": [],
   "source": [
    "comment_df1 = pd.DataFrame(columns=['comments'])\n",
    "\n",
    "for comment in df1['comments_full']:\n",
    "    comment = comment.replace(\"'\", '\"').replace('\"comment_text\": \"', '\\n').replace('\", \"comment_time\": ', '\\n').split('\\n')\n",
    "    all_comments1 = extract_comment(comment)\n",
    "    for text in all_comments1:\n",
    "        new_row1 = pd.DataFrame({'comments': [text]})\n",
    "        comment_df1 = pd.concat([comment_df1, new_row1], ignore_index=True)\n",
    "    "
   ]
  },
  {
   "cell_type": "code",
   "execution_count": 23,
   "metadata": {},
   "outputs": [
    {
     "data": {
      "text/html": [
       "<div>\n",
       "<style scoped>\n",
       "    .dataframe tbody tr th:only-of-type {\n",
       "        vertical-align: middle;\n",
       "    }\n",
       "\n",
       "    .dataframe tbody tr th {\n",
       "        vertical-align: top;\n",
       "    }\n",
       "\n",
       "    .dataframe thead th {\n",
       "        text-align: right;\n",
       "    }\n",
       "</style>\n",
       "<table border=\"1\" class=\"dataframe\">\n",
       "  <thead>\n",
       "    <tr style=\"text-align: right;\">\n",
       "      <th></th>\n",
       "      <th>comments</th>\n",
       "    </tr>\n",
       "  </thead>\n",
       "  <tbody>\n",
       "    <tr>\n",
       "      <th>0</th>\n",
       "      <td>Giờ biết giải thích sao với lão tôn đây 😅</td>\n",
       "    </tr>\n",
       "    <tr>\n",
       "      <th>1</th>\n",
       "      <td>Nguyễn Đức Duẩn Thanh niên nhà Hà Nội thích N ...</td>\n",
       "    </tr>\n",
       "    <tr>\n",
       "      <th>2</th>\n",
       "      <td>Khỉ bố đang rất đau khổ</td>\n",
       "    </tr>\n",
       "    <tr>\n",
       "      <th>3</th>\n",
       "      <td>Hàng xóm bên cạnh ngta cũng phận nữ nhi mà các...</td>\n",
       "    </tr>\n",
       "    <tr>\n",
       "      <th>4</th>\n",
       "      <td>Sinh nở đã vất vả lắm rồi, đừng hỏi bố đứa trẻ...</td>\n",
       "    </tr>\n",
       "    <tr>\n",
       "      <th>...</th>\n",
       "      <td>...</td>\n",
       "    </tr>\n",
       "    <tr>\n",
       "      <th>1558</th>\n",
       "      <td>Thì nếu ko thấy hợp với tư duy cứ chia tay ,vì...</td>\n",
       "    </tr>\n",
       "    <tr>\n",
       "      <th>1559</th>\n",
       "      <td>Vứt</td>\n",
       "    </tr>\n",
       "    <tr>\n",
       "      <th>1560</th>\n",
       "      <td>Qua sông thì phải luỵ đò\\nBố mẹ nó giàu sao ph...</td>\n",
       "    </tr>\n",
       "    <tr>\n",
       "      <th>1561</th>\n",
       "      <td>S lúc đầu cưới đc hay vậy?</td>\n",
       "    </tr>\n",
       "    <tr>\n",
       "      <th>1562</th>\n",
       "      <td>Khó nhỉ! Có ý chí, siêng năng nhưng chưa giàu,...</td>\n",
       "    </tr>\n",
       "  </tbody>\n",
       "</table>\n",
       "<p>1563 rows × 1 columns</p>\n",
       "</div>"
      ],
      "text/plain": [
       "                                               comments\n",
       "0             Giờ biết giải thích sao với lão tôn đây 😅\n",
       "1     Nguyễn Đức Duẩn Thanh niên nhà Hà Nội thích N ...\n",
       "2                               Khỉ bố đang rất đau khổ\n",
       "3     Hàng xóm bên cạnh ngta cũng phận nữ nhi mà các...\n",
       "4     Sinh nở đã vất vả lắm rồi, đừng hỏi bố đứa trẻ...\n",
       "...                                                 ...\n",
       "1558  Thì nếu ko thấy hợp với tư duy cứ chia tay ,vì...\n",
       "1559                                                Vứt\n",
       "1560  Qua sông thì phải luỵ đò\\nBố mẹ nó giàu sao ph...\n",
       "1561                         S lúc đầu cưới đc hay vậy?\n",
       "1562  Khó nhỉ! Có ý chí, siêng năng nhưng chưa giàu,...\n",
       "\n",
       "[1563 rows x 1 columns]"
      ]
     },
     "execution_count": 23,
     "metadata": {},
     "output_type": "execute_result"
    }
   ],
   "source": [
    "comment_df1"
   ]
  },
  {
   "cell_type": "code",
   "execution_count": 24,
   "metadata": {},
   "outputs": [
    {
     "name": "stdout",
     "output_type": "stream",
     "text": [
      "                                               comments\n",
      "0     Câu chiện cảm lạnh 😂😂\\nXưa tui với chị tui gọi...\n",
      "1     Còn tui thì đi lên HN học mà nhỏ em khóc như m...\n",
      "2                               Quý Phùng hơi quen quen\n",
      "3                  Là ý bảo chị đi mạnh khoẻ ấy hả :)))\n",
      "4                                     Thằng cậu nào đấy\n",
      "...                                                 ...\n",
      "2879  Thì nếu ko thấy hợp với tư duy cứ chia tay ,vì...\n",
      "2880                                                Vứt\n",
      "2881  Qua sông thì phải luỵ đò\\nBố mẹ nó giàu sao ph...\n",
      "2882                         S lúc đầu cưới đc hay vậy?\n",
      "2883  Khó nhỉ! Có ý chí, siêng năng nhưng chưa giàu,...\n",
      "\n",
      "[2884 rows x 1 columns]\n"
     ]
    }
   ],
   "source": [
    "comment_full = pd.concat([comment_df, comment_df1], ignore_index=True)\n",
    "print(comment_full)"
   ]
  },
  {
   "cell_type": "code",
   "execution_count": 26,
   "metadata": {},
   "outputs": [],
   "source": [
    "path = \"../../res/data/\" + FANPAGE + \"_comments.csv\"\n",
    "comment_full.to_csv(path, index=False)"
   ]
  },
  {
   "cell_type": "code",
   "execution_count": 27,
   "metadata": {},
   "outputs": [],
   "source": [
    "path = \"../../res/data/\" + FANPAGE + \"_comments.xlsx\"\n",
    "comment_full.to_excel(path, index=False)"
   ]
  },
  {
   "cell_type": "code",
   "execution_count": null,
   "metadata": {},
   "outputs": [],
   "source": []
  }
 ],
 "metadata": {
  "kernelspec": {
   "display_name": "Py311",
   "language": "python",
   "name": "python3"
  },
  "language_info": {
   "codemirror_mode": {
    "name": "ipython",
    "version": 3
   },
   "file_extension": ".py",
   "mimetype": "text/x-python",
   "name": "python",
   "nbconvert_exporter": "python",
   "pygments_lexer": "ipython3",
   "version": "3.11.9"
  }
 },
 "nbformat": 4,
 "nbformat_minor": 2
}
