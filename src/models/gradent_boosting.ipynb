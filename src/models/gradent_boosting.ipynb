{
  "cells": [
    {
      "cell_type": "code",
      "execution_count": null,
      "metadata": {
        "id": "GvGf_wd06c6e"
      },
      "outputs": [],
      "source": [
        "data.info()"
      ]
    },
    {
      "cell_type": "code",
      "source": [
        "savePath = \"data.csv\""
      ],
      "metadata": {
        "id": "-kXADyIEW3rt"
      },
      "execution_count": 24,
      "outputs": []
    },
    {
      "cell_type": "code",
      "execution_count": null,
      "metadata": {
        "id": "TwqEPpKY5L85"
      },
      "outputs": [],
      "source": [
        "from datetime import datetime\n",
        "saveData(data, savePath + str(datetime.now()).replace(\":\", \"-\"))"
      ]
    },
    {
      "cell_type": "markdown",
      "metadata": {
        "id": "aBeq0EAY-Nc6"
      },
      "source": [
        "Bóp tương tác: 179 -> 458 (bỏ 459, 460, 461, 462, 463)"
      ]
    },
    {
      "cell_type": "code",
      "execution_count": 1,
      "metadata": {
        "colab": {
          "base_uri": "https://localhost:8080/"
        },
        "id": "ApQZz_f7QtU5",
        "outputId": "ef94216b-0307-4a24-f638-a994ece5e2a4"
      },
      "outputs": [
        {
          "output_type": "stream",
          "name": "stdout",
          "text": [
            "Mounted at /content/drive\n",
            "/content/drive/MyDrive/Colab Notebooks/temp/last\n"
          ]
        }
      ],
      "source": [
        "# @title Connect to GDrive (DO NOT RUN)\n",
        "import os\n",
        "from google.colab import drive\n",
        "MOUNTPOINT = '/content/drive'\n",
        "DATADIR = os.path.join(MOUNTPOINT, 'MyDrive', 'Colab Notebooks')\n",
        "drive.mount(MOUNTPOINT, force_remount = True)\n",
        "%cd \"drive/MyDrive/Colab Notebooks/temp/last\""
      ]
    },
    {
      "cell_type": "code",
      "execution_count": 2,
      "metadata": {
        "colab": {
          "base_uri": "https://localhost:8080/"
        },
        "id": "PFfGh5ajrcbs",
        "outputId": "3b95a1e3-0d32-4cc9-f174-71ffe857b606"
      },
      "outputs": [
        {
          "output_type": "stream",
          "name": "stdout",
          "text": [
            "Collecting optuna\n",
            "  Downloading optuna-3.6.1-py3-none-any.whl (380 kB)\n",
            "\u001b[2K     \u001b[90m━━━━━━━━━━━━━━━━━━━━━━━━━━━━━━━━━━━━━━━━\u001b[0m \u001b[32m380.1/380.1 kB\u001b[0m \u001b[31m6.6 MB/s\u001b[0m eta \u001b[36m0:00:00\u001b[0m\n",
            "\u001b[?25hCollecting alembic>=1.5.0 (from optuna)\n",
            "  Downloading alembic-1.13.1-py3-none-any.whl (233 kB)\n",
            "\u001b[2K     \u001b[90m━━━━━━━━━━━━━━━━━━━━━━━━━━━━━━━━━━━━━━━━\u001b[0m \u001b[32m233.4/233.4 kB\u001b[0m \u001b[31m16.7 MB/s\u001b[0m eta \u001b[36m0:00:00\u001b[0m\n",
            "\u001b[?25hCollecting colorlog (from optuna)\n",
            "  Downloading colorlog-6.8.2-py3-none-any.whl (11 kB)\n",
            "Requirement already satisfied: numpy in /usr/local/lib/python3.10/dist-packages (from optuna) (1.25.2)\n",
            "Requirement already satisfied: packaging>=20.0 in /usr/local/lib/python3.10/dist-packages (from optuna) (24.0)\n",
            "Requirement already satisfied: sqlalchemy>=1.3.0 in /usr/local/lib/python3.10/dist-packages (from optuna) (2.0.30)\n",
            "Requirement already satisfied: tqdm in /usr/local/lib/python3.10/dist-packages (from optuna) (4.66.4)\n",
            "Requirement already satisfied: PyYAML in /usr/local/lib/python3.10/dist-packages (from optuna) (6.0.1)\n",
            "Collecting Mako (from alembic>=1.5.0->optuna)\n",
            "  Downloading Mako-1.3.5-py3-none-any.whl (78 kB)\n",
            "\u001b[2K     \u001b[90m━━━━━━━━━━━━━━━━━━━━━━━━━━━━━━━━━━━━━━━━\u001b[0m \u001b[32m78.6/78.6 kB\u001b[0m \u001b[31m7.0 MB/s\u001b[0m eta \u001b[36m0:00:00\u001b[0m\n",
            "\u001b[?25hRequirement already satisfied: typing-extensions>=4 in /usr/local/lib/python3.10/dist-packages (from alembic>=1.5.0->optuna) (4.11.0)\n",
            "Requirement already satisfied: greenlet!=0.4.17 in /usr/local/lib/python3.10/dist-packages (from sqlalchemy>=1.3.0->optuna) (3.0.3)\n",
            "Requirement already satisfied: MarkupSafe>=0.9.2 in /usr/local/lib/python3.10/dist-packages (from Mako->alembic>=1.5.0->optuna) (2.1.5)\n",
            "Installing collected packages: Mako, colorlog, alembic, optuna\n",
            "Successfully installed Mako-1.3.5 alembic-1.13.1 colorlog-6.8.2 optuna-3.6.1\n"
          ]
        }
      ],
      "source": [
        "%pip install optuna"
      ]
    },
    {
      "cell_type": "code",
      "execution_count": 3,
      "metadata": {
        "id": "RDaRqamkB9VV"
      },
      "outputs": [],
      "source": [
        "# @title Imports\n",
        "from collections import defaultdict\n",
        "import copy\n",
        "import pandas\n",
        "import numpy\n",
        "import seaborn\n",
        "import matplotlib.pyplot as pyplot\n",
        "import scipy\n",
        "import random\n",
        "import os\n",
        "import sklearn\n",
        "import xgboost\n",
        "import lightgbm\n",
        "\n",
        "import sklearn.linear_model\n",
        "import sklearn.neighbors\n",
        "import sklearn.tree\n",
        "import sklearn.ensemble\n",
        "\n",
        "import optuna\n",
        "\n",
        "from wordcloud import WordCloud\n",
        "from itertools import product"
      ]
    },
    {
      "cell_type": "code",
      "execution_count": 4,
      "metadata": {
        "id": "0Swj0ojLNC7C"
      },
      "outputs": [],
      "source": [
        "# @title Config\n",
        "%matplotlib inline\n",
        "seaborn.set(color_codes = True)\n",
        "from warnings import simplefilter\n",
        "simplefilter(action = \"ignore\", category=pandas.errors.PerformanceWarning)\n",
        "simplefilter(action = \"ignore\", category=pandas.errors.SettingWithCopyWarning)"
      ]
    },
    {
      "cell_type": "code",
      "execution_count": 128,
      "metadata": {
        "id": "QfYQP54fNMHY"
      },
      "outputs": [],
      "source": [
        "# @title Constants\n",
        "DATA_FILE_PATH = \"dataF4.csv\"\n",
        "\n",
        "TRAINING_LOSS_FUNCTION = \"mean_absolute_error\""
      ]
    },
    {
      "cell_type": "markdown",
      "metadata": {
        "id": "cj0RwosgPwJM"
      },
      "source": [
        "### Read Data from files"
      ]
    },
    {
      "cell_type": "code",
      "execution_count": 129,
      "metadata": {
        "id": "doDPRw8rxBYj"
      },
      "outputs": [],
      "source": [
        "try:\n",
        "    rawData = pandas.read_csv(DATA_FILE_PATH)\n",
        "except:\n",
        "    print(\"Could not read file\")\n",
        "    rawData = pandas.DataFrame()"
      ]
    },
    {
      "cell_type": "code",
      "execution_count": 130,
      "metadata": {
        "id": "te6DdFVQ-ndR",
        "colab": {
          "base_uri": "https://localhost:8080/"
        },
        "outputId": "3feedc7d-c39b-4a63-9aa3-3ad9df6e45f9"
      },
      "outputs": [
        {
          "output_type": "stream",
          "name": "stdout",
          "text": [
            "<class 'pandas.core.frame.DataFrame'>\n",
            "RangeIndex: 1869 entries, 0 to 1868\n",
            "Data columns (total 50 columns):\n",
            " #   Column                  Non-Null Count  Dtype  \n",
            "---  ------                  --------------  -----  \n",
            " 0   has_player_mention      1869 non-null   bool   \n",
            " 1   is_umorous              1869 non-null   bool   \n",
            " 2   is_controversial_topic  1869 non-null   bool   \n",
            " 3   contains_good_deed      1869 non-null   bool   \n",
            " 4   mention_match           1869 non-null   bool   \n",
            " 5   reaction_count          1869 non-null   int64  \n",
            " 6   image_count             1869 non-null   int64  \n",
            " 7   has_with                1869 non-null   bool   \n",
            " 8   has_link                1869 non-null   bool   \n",
            " 9   Hour                    1869 non-null   int64  \n",
            " 10  Day of week             1869 non-null   int64  \n",
            " 11  Date                    1869 non-null   int64  \n",
            " 12  Month                   1869 non-null   int64  \n",
            " 13  avgLast5                1869 non-null   float64\n",
            " 14  minLast5                1869 non-null   float64\n",
            " 15  maxLast5                1869 non-null   float64\n",
            " 16  avgLast30               1869 non-null   float64\n",
            " 17  minLast30               1869 non-null   float64\n",
            " 18  maxLast30               1869 non-null   float64\n",
            " 19  captionLength           1869 non-null   int64  \n",
            " 20  trận_đấu                1869 non-null   bool   \n",
            " 21  huấn_luyện_viên         1869 non-null   bool   \n",
            " 22  ten_hag                 1869 non-null   bool   \n",
            " 23  cầu_thủ                 1869 non-null   bool   \n",
            " 24  bàn_thắng               1869 non-null   bool   \n",
            " 25  mùa_giải                1869 non-null   bool   \n",
            " 26  sân                     1869 non-null   bool   \n",
            " 27  đội_hình                1869 non-null   bool   \n",
            " 28  premier_league          1869 non-null   bool   \n",
            " 29  thi_đấu                 1869 non-null   bool   \n",
            " 30  onana                   1869 non-null   bool   \n",
            " 31  đêm                     1869 non-null   bool   \n",
            " 32  chính_thức              1869 non-null   bool   \n",
            " 33  rashford                1869 non-null   bool   \n",
            " 34  maguire                 1869 non-null   bool   \n",
            " 35  quỷ_đỏ                  1869 non-null   bool   \n",
            " 36  old_trafford            1869 non-null   bool   \n",
            " 37  tiền_đạo                1869 non-null   bool   \n",
            " 38  chấn_thương             1869 non-null   bool   \n",
            " 39  sancho                  1869 non-null   bool   \n",
            " 40  ronaldo                 1869 non-null   bool   \n",
            " 41  greenwood               1869 non-null   bool   \n",
            " 42  de_gea                  1869 non-null   bool   \n",
            " 43  triệu_bảng              1869 non-null   bool   \n",
            " 44  clb                     1869 non-null   bool   \n",
            " 45  quả_bóng                1869 non-null   bool   \n",
            " 46  bruno                   1869 non-null   bool   \n",
            " 47  chúc_mừng               1869 non-null   bool   \n",
            " 48  đội_bóng                1869 non-null   bool   \n",
            " 49  antony                  1869 non-null   bool   \n",
            "dtypes: bool(37), float64(6), int64(7)\n",
            "memory usage: 257.5 KB\n"
          ]
        }
      ],
      "source": [
        "rawData.info()"
      ]
    },
    {
      "cell_type": "markdown",
      "metadata": {
        "id": "q7SfO65h9Vq7"
      },
      "source": [
        "### Extra functions"
      ]
    },
    {
      "cell_type": "code",
      "execution_count": 29,
      "metadata": {
        "id": "7o2kOyjV9XVJ"
      },
      "outputs": [],
      "source": [
        "def oneHotBackToLabel(data, columns, newColumnName):\n",
        "    columnSeries = pandas.Series(columns)\n",
        "\n",
        "    encoder = sklearn.preprocessing.OneHotEncoder(sparse = False)\n",
        "    encoder.fit_transform(columnSeries.to_numpy().reshape(-1, 1))\n",
        "\n",
        "    newColumn = encoder.inverse_transform(data[sorted(columns)])\n",
        "    newData = copy.deepcopy(data)\n",
        "    newData[newColumnName] = [i[0] for i in newColumn]\n",
        "\n",
        "    try:\n",
        "        newData.drop(columns, axis = 1, inplace = True)\n",
        "        print(columns, \"dropped successfully from data\")\n",
        "    except Exception as error:\n",
        "        print(\"Exception:\", error)\n",
        "\n",
        "    return newData"
      ]
    },
    {
      "cell_type": "code",
      "execution_count": 30,
      "metadata": {
        "id": "vt21fhl2Bnxr"
      },
      "outputs": [],
      "source": [
        "def convertToInt(data):\n",
        "    newData = copy.deepcopy(data)\n",
        "\n",
        "    for column in newData:\n",
        "        if (newData[column].dtype == bool):\n",
        "            newData[column] = newData[column].astype(int)\n",
        "            #newData.drop(column, axis = 1, inplace = True)\n",
        "            print(column, \"converted to int\")\n",
        "\n",
        "    return newData"
      ]
    },
    {
      "cell_type": "code",
      "execution_count": 31,
      "metadata": {
        "id": "6Vj0zM0ZltWt"
      },
      "outputs": [],
      "source": [
        "def printMetrics(model, testX, testY):\n",
        "    print(sklearn.metrics.mean_absolute_percentage_error(testY, model.predict(testX)) * 100)\n",
        "    print(sklearn.metrics.mean_absolute_error(testY, model.predict(testX)))"
      ]
    },
    {
      "cell_type": "code",
      "execution_count": 32,
      "metadata": {
        "id": "3ITphQgf41Vy"
      },
      "outputs": [],
      "source": [
        "def saveData(data, path):\n",
        "    data.to_csv(path, index = False)"
      ]
    },
    {
      "cell_type": "code",
      "execution_count": 33,
      "metadata": {
        "id": "8Jlty7KD_6yf"
      },
      "outputs": [],
      "source": [
        "def yRegressionToClassification(trainData, testData, n, column):\n",
        "    newTrainData = copy.deepcopy(trainData)\n",
        "    newTestData = copy.deepcopy(testData)\n",
        "\n",
        "    newTrainData.reset_index(drop = True, inplace = True)\n",
        "    newTestData.reset_index(drop = True, inplace = True)\n",
        "\n",
        "    newTrainData[\"new_column\"] = \"\"\n",
        "    newTestData[\"new_column\"] = \"\"\n",
        "\n",
        "    lengthOfEachLabel = len(newTrainData.index) / n\n",
        "\n",
        "    newTrainData = newTrainData.sort_values(by = [column], ascending = [True])\n",
        "\n",
        "    cutOffValues = list()\n",
        "\n",
        "    for i in range(n):\n",
        "        cutOffValues.append(round(newTrainData[column].iloc[int(round(i * lengthOfEachLabel, 0) - 1)] / 2 + newTrainData[column].iloc[int(round(i * lengthOfEachLabel, 0))] / 2, 3))\n",
        "\n",
        "    cutOffValues[0] = 0\n",
        "    cutOffValues.append(\"\")\n",
        "\n",
        "    for i in range(n):\n",
        "        newTrainData[\"new_column\"].iloc[int(round(i * lengthOfEachLabel, 0)):int(round((i + 1) * lengthOfEachLabel, 0))] = str(cutOffValues[i]) + \"-\" + str(cutOffValues[i + 1])\n",
        "\n",
        "    for i, row in newTestData.iterrows():\n",
        "        for j in range(1, n):\n",
        "            if newTestData[column].iloc[i] < cutOffValues[j]:\n",
        "                newTestData[\"new_column\"].iloc[i] = str(cutOffValues[j - 1]) + \"-\" + str(cutOffValues[j])\n",
        "                break\n",
        "\n",
        "        if newTestData[\"new_column\"].iloc[i] == \"\":\n",
        "                newTestData[\"new_column\"].iloc[i] = str(cutOffValues[n - 1]) + \"-\" + str(cutOffValues[n])\n",
        "\n",
        "    newTrainData.sort_index(inplace = True)\n",
        "    return newTrainData[\"new_column\"], newTestData[\"new_column\"]"
      ]
    },
    {
      "cell_type": "markdown",
      "metadata": {
        "id": "N7SuQMxcPeFv"
      },
      "source": [
        "### Dropping columns"
      ]
    },
    {
      "cell_type": "code",
      "execution_count": 155,
      "metadata": {
        "colab": {
          "base_uri": "https://localhost:8080/"
        },
        "id": "lcpAMWfxNSbT",
        "outputId": "baeee5c9-8035-445a-da10-383f92be8e46"
      },
      "outputs": [
        {
          "output_type": "stream",
          "name": "stdout",
          "text": [
            "Index(['trận_counts', 'đội_counts', 'mùa_counts', 'hlv_counts',\n",
            "       'ten_hag_counts', 'cầu_thủ_counts', 'bàn_counts', 'sân_counts',\n",
            "       'giải_counts', 'bóng_counts', 'đấu_counts', 'premier_league_counts',\n",
            "       'onana_counts', 'dự_counts', 'chính_thức_counts', 'đêm_counts',\n",
            "       'rashford_counts', 'ghi_counts', 'maguire_counts', 'quỷ_đỏ_counts',\n",
            "       'kiến_counts', 'old_trafford_counts', 'chấn_thương_counts',\n",
            "       'sancho_counts', 'ronaldo_counts', 'kết_counts', 'greenwood_counts',\n",
            "       'de_gea_counts', 'triệu_counts', 'hàng_counts', 'hè_counts',\n",
            "       'trai_counts', 'báo_counts', 'clb_counts', 'bảng_counts', 'vệ_counts',\n",
            "       'bruno_counts', 'chúc_mừng_counts', 'thủ_counts', 'top_counts',\n",
            "       'luyện_counts', 'tỷ_counts', 'antony_counts', 'mount_counts',\n",
            "       'hojlund_counts', 'mua_counts', 'chủ_counts', 'thông_counts',\n",
            "       'casemiro_counts', 'vọng_counts'],\n",
            "      dtype='object') dropped successfully from data\n"
          ]
        }
      ],
      "source": [
        "droppedColumns = rawData.columns[37:]\n",
        "\n",
        "try:\n",
        "    rawData.drop(droppedColumns, axis = 1, inplace = True)\n",
        "    print(droppedColumns, \"dropped successfully from data\")\n",
        "except Exception as error:\n",
        "    print(\"Exception:\", error)"
      ]
    },
    {
      "cell_type": "code",
      "execution_count": 328,
      "metadata": {
        "colab": {
          "base_uri": "https://localhost:8080/"
        },
        "id": "Y1aJ1amJPf_l",
        "outputId": "d39d95bd-cfa4-40f1-a96d-505c0d806531"
      },
      "outputs": [
        {
          "output_type": "stream",
          "name": "stdout",
          "text": [
            "['url', 'comment_count', 'reactions', 'comments_text', 'date', 'time', 'text', 'share_count', 'has_image'] dropped successfully from data\n"
          ]
        }
      ],
      "source": [
        "droppedColumns = [\"url\", \"comment_count\", \"reactions\", \"comments_text\", \"date\", \"time\", \"text\", \"share_count\", \"has_image\"]\n",
        "\n",
        "try:\n",
        "    rawData.drop(droppedColumns, axis = 1, inplace = True)\n",
        "    print(droppedColumns, \"dropped successfully from data\")\n",
        "except Exception as error:\n",
        "    print(\"Exception:\", error)"
      ]
    },
    {
      "cell_type": "code",
      "execution_count": 169,
      "metadata": {
        "colab": {
          "base_uri": "https://localhost:8080/"
        },
        "id": "jt76vdNOddLU",
        "outputId": "77e0f71d-d7d5-4a9b-d223-477e11cb5f7e"
      },
      "outputs": [
        {
          "output_type": "stream",
          "name": "stdout",
          "text": [
            "['has_link', 'minAllTime', 'maxAllTime', 'has_image', 'Year', 'minAllTime', 'maxAllTime', 'captionLength', 'emoji', 'number'] dropped successfully from data\n"
          ]
        }
      ],
      "source": [
        "droppedColumns = [\"has_link\", \"minAllTime\", \"maxAllTime\", \"has_image\", \"Year\", \"minAllTime\", \"maxAllTime\", \"capitalized\", \"captionLength\"]\n",
        "\n",
        "try:\n",
        "    rawData.drop(droppedColumns, axis = 1, inplace = True)\n",
        "    print(droppedColumns, \"dropped successfully from data\")\n",
        "except Exception as error:\n",
        "    print(\"Exception:\", error)"
      ]
    },
    {
      "cell_type": "markdown",
      "metadata": {
        "id": "cGIFmp77kdJC"
      },
      "source": [
        "### Feature engineering"
      ]
    },
    {
      "cell_type": "markdown",
      "metadata": {
        "id": "WfEsNwDkWixu"
      },
      "source": [
        "object to boolean"
      ]
    },
    {
      "cell_type": "code",
      "execution_count": 308,
      "metadata": {
        "id": "jx_8S4VPWlE-"
      },
      "outputs": [],
      "source": [
        "def objectToBoolean(data):\n",
        "    newData = copy.deepcopy(data)\n",
        "\n",
        "    tempDataFrame = pandas.DataFrame(index = numpy.arange(len(newData.index)))\n",
        "    objectButBooleanColumns = [\"has_player_mention\", \"is_umorous\", \"is_controversial_topic\", \"contains_good_deed\", \"mention_match\"]\n",
        "\n",
        "    for column in objectButBooleanColumns:\n",
        "        tempDataFrame[column] = True\n",
        "\n",
        "        for i, row in newData.iterrows():\n",
        "            tempDataFrame[column].iloc[i] = newData[column].iloc[i] == \"True\" or newData[column].iloc[i] == \"TRUE\" or newData[column].iloc[i] == \"true\" or newData[column].iloc[i] == \"1\" or newData[column].iloc[i] == 1\n",
        "\n",
        "        newData[column] = tempDataFrame[column]\n",
        "    return newData\n",
        "\n",
        "data = objectToBoolean(rawData)"
      ]
    },
    {
      "cell_type": "markdown",
      "metadata": {
        "id": "p3DBlJW4lFfs"
      },
      "source": [
        "Hour, day of week, date, month, year of posting time, of a post"
      ]
    },
    {
      "cell_type": "code",
      "execution_count": null,
      "metadata": {
        "id": "QnMCElokCFOn"
      },
      "outputs": [],
      "source": [
        "usefulColumns = [\"reaction_count\", \"avgAllTime\", \"avgLast5\", \"minLast5\", \"maxLast5\", \"Hour\", \"Day of week\", \"Date\", \"Month\", \"capitalized\", \"captionLength\"]\n",
        "\n",
        "data[usefulColumns].iloc[:30]"
      ]
    },
    {
      "cell_type": "code",
      "execution_count": 307,
      "metadata": {
        "id": "tccItGgjE-d2",
        "colab": {
          "base_uri": "https://localhost:8080/"
        },
        "outputId": "2233b418-ed91-4060-8155-3c18f758c540"
      },
      "outputs": [
        {
          "output_type": "stream",
          "name": "stdout",
          "text": [
            "<class 'pandas.core.frame.DataFrame'>\n",
            "RangeIndex: 1874 entries, 0 to 1873\n",
            "Data columns (total 62 columns):\n",
            " #   Column                  Non-Null Count  Dtype \n",
            "---  ------                  --------------  ----- \n",
            " 0   url                     1874 non-null   object\n",
            " 1   text                    1874 non-null   object\n",
            " 2   has_player_mention      1874 non-null   bool  \n",
            " 3   is_umorous              1874 non-null   bool  \n",
            " 4   is_controversial_topic  1874 non-null   bool  \n",
            " 5   contains_good_deed      1874 non-null   bool  \n",
            " 6   mention_match           1874 non-null   bool  \n",
            " 7   comment_count           1874 non-null   int64 \n",
            " 8   share_count             1874 non-null   int64 \n",
            " 9   reactions               1874 non-null   object\n",
            " 10  reaction_count          1874 non-null   int64 \n",
            " 11  was_live                1874 non-null   bool  \n",
            " 12  fanpage_name            1874 non-null   object\n",
            " 13  image_count             1874 non-null   int64 \n",
            " 14  has_image               1874 non-null   bool  \n",
            " 15  has_with                1874 non-null   bool  \n",
            " 16  date                    1874 non-null   object\n",
            " 17  time                    1874 non-null   object\n",
            " 18  has_link                1874 non-null   bool  \n",
            " 19  comments_text           1874 non-null   object\n",
            " 20  fanpage_followers       1874 non-null   int64 \n",
            " 21  fanpage_created_time    1874 non-null   object\n",
            " 22  Hour                    1874 non-null   int64 \n",
            " 23  Day of week             1874 non-null   object\n",
            " 24  Date                    1874 non-null   int64 \n",
            " 25  Month                   1874 non-null   int64 \n",
            " 26  avgLast5                1584 non-null   object\n",
            " 27  minLast5                1584 non-null   object\n",
            " 28  maxLast5                1584 non-null   object\n",
            " 29  avgAllTime              1584 non-null   object\n",
            " 30  capitalized             1874 non-null   object\n",
            " 31  captionLength           1874 non-null   object\n",
            " 32  trận_đấu                1874 non-null   bool  \n",
            " 33  huấn_luyện_viên         1874 non-null   bool  \n",
            " 34  ten_hag                 1874 non-null   bool  \n",
            " 35  cầu_thủ                 1874 non-null   bool  \n",
            " 36  bàn_thắng               1874 non-null   bool  \n",
            " 37  mùa_giải                1874 non-null   bool  \n",
            " 38  sân                     1874 non-null   bool  \n",
            " 39  đội_hình                1874 non-null   bool  \n",
            " 40  premier_league          1874 non-null   bool  \n",
            " 41  thi_đấu                 1874 non-null   bool  \n",
            " 42  onana                   1874 non-null   bool  \n",
            " 43  đêm                     1874 non-null   bool  \n",
            " 44  chính_thức              1874 non-null   bool  \n",
            " 45  rashford                1874 non-null   bool  \n",
            " 46  maguire                 1874 non-null   bool  \n",
            " 47  quỷ_đỏ                  1874 non-null   bool  \n",
            " 48  old_trafford            1874 non-null   bool  \n",
            " 49  tiền_đạo                1874 non-null   bool  \n",
            " 50  chấn_thương             1874 non-null   bool  \n",
            " 51  sancho                  1874 non-null   bool  \n",
            " 52  ronaldo                 1874 non-null   bool  \n",
            " 53  greenwood               1874 non-null   bool  \n",
            " 54  de_gea                  1874 non-null   bool  \n",
            " 55  triệu_bảng              1874 non-null   bool  \n",
            " 56  clb                     1874 non-null   bool  \n",
            " 57  quả_bóng                1874 non-null   bool  \n",
            " 58  bruno                   1874 non-null   bool  \n",
            " 59  chúc_mừng               1874 non-null   bool  \n",
            " 60  đội_bóng                1874 non-null   bool  \n",
            " 61  antony                  1874 non-null   bool  \n",
            "dtypes: bool(39), int64(8), object(15)\n",
            "memory usage: 408.2+ KB\n"
          ]
        }
      ],
      "source": [
        "data.info()"
      ]
    },
    {
      "cell_type": "code",
      "execution_count": null,
      "metadata": {
        "id": "ilCGfkDn2D8w"
      },
      "outputs": [],
      "source": [
        "rawData.info()"
      ]
    },
    {
      "cell_type": "code",
      "execution_count": null,
      "metadata": {
        "colab": {
          "base_uri": "https://localhost:8080/"
        },
        "id": "lg3GVMQj1rHh",
        "outputId": "9670c69f-f4b5-4354-f246-76bfcee5bf90"
      },
      "outputs": [
        {
          "data": {
            "text/plain": [
              "0       06:58:00 AM\n",
              "1       08:15:00 AM\n",
              "2       09:00:00 AM\n",
              "3       11:00:00 AM\n",
              "4       12:00:00 PM\n",
              "           ...     \n",
              "1869    08:24:00 AM\n",
              "1870    09:09:00 AM\n",
              "1871    11:30:00 AM\n",
              "1872    05:04:00 PM\n",
              "1873    07:26:00 PM\n",
              "Name: time, Length: 1874, dtype: object"
            ]
          },
          "execution_count": 292,
          "metadata": {},
          "output_type": "execute_result"
        }
      ],
      "source": [
        "data[\"time\"]"
      ]
    },
    {
      "cell_type": "code",
      "execution_count": 296,
      "metadata": {
        "colab": {
          "base_uri": "https://localhost:8080/"
        },
        "collapsed": true,
        "id": "_hheCkNTkfPh",
        "outputId": "61793c68-0fa9-46f4-8d92-fc88396542dc"
      },
      "outputs": [
        {
          "output_type": "stream",
          "name": "stdout",
          "text": [
            "0 100 200 300 400 500 600 700 800 900 1000 1100 1200 1300 1400 1500 1600 1700 1800 \n",
            "[]\n"
          ]
        }
      ],
      "source": [
        "def textToDateTime(data):\n",
        "    newData = copy.deepcopy(data)\n",
        "\n",
        "    newData[\"Hour\"] = None\n",
        "    newData[\"Day of week\"] = None\n",
        "    newData[\"Date\"] = None\n",
        "    newData[\"Month\"] = None\n",
        "\n",
        "    droppedIndicies = list()\n",
        "\n",
        "    for i, row in newData.iterrows():\n",
        "        newData[\"Hour\"].iloc[i] = int(row[\"time\"][:2])\n",
        "        newData[\"Date\"].iloc[i] = int(row[\"date\"][:2])\n",
        "        newData[\"Month\"].iloc[i] = int(row[\"date\"][3:5])\n",
        "\n",
        "        if (row[\"time\"][len(row[\"time\"])-2:] == \"PM\"):\n",
        "            newData[\"Hour\"].iloc[i] = newData[\"Hour\"].iloc[i] + 12\n",
        "\n",
        "        if newData[\"Hour\"].iloc[i] == 24:\n",
        "            newData[\"Hour\"].iloc[i] = 0\n",
        "\n",
        "        weekday = pandas.to_datetime(row[\"date\"], dayfirst=True).weekday()\n",
        "\n",
        "        if (weekday == 0):\n",
        "            newData[\"Day of week\"].iloc[i] = \"Monday\"\n",
        "        elif (weekday == 1):\n",
        "            newData[\"Day of week\"].iloc[i] = \"Tuesday\"\n",
        "        elif (weekday == 2):\n",
        "            newData[\"Day of week\"].iloc[i] = \"Wednesday\"\n",
        "        elif (weekday == 3):\n",
        "            newData[\"Day of week\"].iloc[i] = \"Thursday\"\n",
        "        elif (weekday == 4):\n",
        "            newData[\"Day of week\"].iloc[i] = \"Friday\"\n",
        "        elif (weekday == 5):\n",
        "            newData[\"Day of week\"].iloc[i] = \"Saturday\"\n",
        "        elif (weekday == 6):\n",
        "            newData[\"Day of week\"].iloc[i] = \"Sunday\"\n",
        "\n",
        "        if (i % 100 == 0):\n",
        "            print(i, end = \" \")\n",
        "\n",
        "        if (newData[\"Hour\"].iloc[i] == None or newData[\"Day of week\"].iloc[i] == None or newData[\"Date\"].iloc[i] == None or newData[\"Month\"].iloc[i] == None):\n",
        "            print(row)\n",
        "            droppedIndicies.append(i)\n",
        "    print()\n",
        "    print(droppedIndicies)\n",
        "\n",
        "    newData[\"Hour\"] = newData[\"Hour\"].astype(int)\n",
        "    newData[\"Date\"] = newData[\"Date\"].astype(int)\n",
        "    newData[\"Month\"] = newData[\"Month\"].astype(int)\n",
        "\n",
        "    return newData\n",
        "\n",
        "data = textToDateTime(data)"
      ]
    },
    {
      "cell_type": "markdown",
      "metadata": {
        "id": "3-sBR1xiljd7"
      },
      "source": [
        "Average, min, max number of likes of the last $n$ post of a user"
      ]
    },
    {
      "cell_type": "code",
      "execution_count": 297,
      "metadata": {
        "colab": {
          "base_uri": "https://localhost:8080/"
        },
        "id": "N6h4ICu9lnyn",
        "outputId": "79d0b807-4988-4680-cf6d-95020966db78"
      },
      "outputs": [
        {
          "output_type": "stream",
          "name": "stdout",
          "text": [
            "100 500 600 700 800 900 1000 1100 1200 1300 1400 1500 1600 1700 1800 \n",
            "[0, 1, 2, 3, 4, 179, 180, 181, 182, 183, 184, 185, 186, 187, 188, 189, 190, 191, 192, 193, 194, 195, 196, 197, 198, 199, 200, 201, 202, 203, 204, 205, 206, 207, 208, 209, 210, 211, 212, 213, 214, 215, 216, 217, 218, 219, 220, 221, 222, 223, 224, 225, 226, 227, 228, 229, 230, 231, 232, 233, 234, 235, 236, 237, 238, 239, 240, 241, 242, 243, 244, 245, 246, 247, 248, 249, 250, 251, 252, 253, 254, 255, 256, 257, 258, 259, 260, 261, 262, 263, 264, 265, 266, 267, 268, 269, 270, 271, 272, 273, 274, 275, 276, 277, 278, 279, 280, 281, 282, 283, 284, 285, 286, 287, 288, 289, 290, 291, 292, 293, 294, 295, 296, 297, 298, 299, 300, 301, 302, 303, 304, 305, 306, 307, 308, 309, 310, 311, 312, 313, 314, 315, 316, 317, 318, 319, 320, 321, 322, 323, 324, 325, 326, 327, 328, 329, 330, 331, 332, 333, 334, 335, 336, 337, 338, 339, 340, 341, 342, 343, 344, 345, 346, 347, 348, 349, 350, 351, 352, 353, 354, 355, 356, 357, 358, 359, 360, 361, 362, 363, 364, 365, 366, 367, 368, 369, 370, 371, 372, 373, 374, 375, 376, 377, 378, 379, 380, 381, 382, 383, 384, 385, 386, 387, 388, 389, 390, 391, 392, 393, 394, 395, 396, 397, 398, 399, 400, 401, 402, 403, 404, 405, 406, 407, 408, 409, 410, 411, 412, 413, 414, 415, 416, 417, 418, 419, 420, 421, 422, 423, 424, 425, 426, 427, 428, 429, 430, 431, 432, 433, 434, 435, 436, 437, 438, 439, 440, 441, 442, 443, 444, 445, 446, 447, 448, 449, 450, 451, 452, 453, 454, 455, 456, 457, 458, 459, 460, 461, 462, 463]\n"
          ]
        }
      ],
      "source": [
        "def minMaxAvgLastN(data, n):\n",
        "    newData = copy.deepcopy(data)\n",
        "\n",
        "    newData[\"avgLast\" + str(n)] = None\n",
        "    newData[\"minLast\" + str(n)] = None\n",
        "    newData[\"maxLast\" + str(n)] = None\n",
        "\n",
        "    newData.sort_values(by = [\"date\", \"time\"], ascending = [True, True])\n",
        "\n",
        "    droppedIndicies = list()\n",
        "\n",
        "    for i, row in newData.iterrows():\n",
        "        if (i < 5 or (i >= 179 and i < 464)):\n",
        "            droppedIndicies.append(i)\n",
        "            continue\n",
        "\n",
        "        newData[\"avgLast\" + str(n)].iloc[i] = newData[\"reaction_count\"].iloc[i-5:i].mean()\n",
        "        newData[\"minLast\" + str(n)].iloc[i] = newData[\"reaction_count\"].iloc[i-5:i].min()\n",
        "        newData[\"maxLast\" + str(n)].iloc[i] = newData[\"reaction_count\"].iloc[i-5:i].max()\n",
        "\n",
        "        if (i % 100 == 0):\n",
        "            print(i, end = \" \")\n",
        "\n",
        "        if (newData[\"avgLast\" + str(n)].iloc[i] == None or newData[\"minLast\" + str(n)].iloc[i] == None or newData[\"maxLast\" + str(n)].iloc[i] == None):\n",
        "            print(row)\n",
        "            droppedIndicies.append(i)\n",
        "    print()\n",
        "\n",
        "    newData = newData.sort_index()\n",
        "    print(droppedIndicies)\n",
        "\n",
        "    return newData\n",
        "\n",
        "data = minMaxAvgLastN(data, 5)"
      ]
    },
    {
      "cell_type": "markdown",
      "metadata": {
        "id": "jlJTyM0jl4aL"
      },
      "source": [
        "Average, min, max number of likes of all time of a user (in the past)"
      ]
    },
    {
      "cell_type": "code",
      "execution_count": 298,
      "metadata": {
        "colab": {
          "base_uri": "https://localhost:8080/"
        },
        "id": "qXp6ikFmmB4s",
        "outputId": "40a50c3e-2d1c-40a6-c914-5a54865bd973"
      },
      "outputs": [
        {
          "output_type": "stream",
          "name": "stdout",
          "text": [
            "100 500 600 700 800 900 1000 1100 1200 1300 1400 1500 1600 1700 1800 \n",
            "[0, 1, 2, 3, 4, 179, 180, 181, 182, 183, 184, 185, 186, 187, 188, 189, 190, 191, 192, 193, 194, 195, 196, 197, 198, 199, 200, 201, 202, 203, 204, 205, 206, 207, 208, 209, 210, 211, 212, 213, 214, 215, 216, 217, 218, 219, 220, 221, 222, 223, 224, 225, 226, 227, 228, 229, 230, 231, 232, 233, 234, 235, 236, 237, 238, 239, 240, 241, 242, 243, 244, 245, 246, 247, 248, 249, 250, 251, 252, 253, 254, 255, 256, 257, 258, 259, 260, 261, 262, 263, 264, 265, 266, 267, 268, 269, 270, 271, 272, 273, 274, 275, 276, 277, 278, 279, 280, 281, 282, 283, 284, 285, 286, 287, 288, 289, 290, 291, 292, 293, 294, 295, 296, 297, 298, 299, 300, 301, 302, 303, 304, 305, 306, 307, 308, 309, 310, 311, 312, 313, 314, 315, 316, 317, 318, 319, 320, 321, 322, 323, 324, 325, 326, 327, 328, 329, 330, 331, 332, 333, 334, 335, 336, 337, 338, 339, 340, 341, 342, 343, 344, 345, 346, 347, 348, 349, 350, 351, 352, 353, 354, 355, 356, 357, 358, 359, 360, 361, 362, 363, 364, 365, 366, 367, 368, 369, 370, 371, 372, 373, 374, 375, 376, 377, 378, 379, 380, 381, 382, 383, 384, 385, 386, 387, 388, 389, 390, 391, 392, 393, 394, 395, 396, 397, 398, 399, 400, 401, 402, 403, 404, 405, 406, 407, 408, 409, 410, 411, 412, 413, 414, 415, 416, 417, 418, 419, 420, 421, 422, 423, 424, 425, 426, 427, 428, 429, 430, 431, 432, 433, 434, 435, 436, 437, 438, 439, 440, 441, 442, 443, 444, 445, 446, 447, 448, 449, 450, 451, 452, 453, 454, 455, 456, 457, 458, 459, 460, 461, 462, 463]\n"
          ]
        }
      ],
      "source": [
        "def minMaxAvgAllTime(data):\n",
        "    newData = copy.deepcopy(data)\n",
        "\n",
        "    newData[\"avgAllTime\"] = None\n",
        "    #newData[\"minAllTime\"] = None\n",
        "    #newData[\"maxAllTime\"] = None\n",
        "\n",
        "    newData.sort_values(by = [\"date\", \"time\"], ascending = [True, True])\n",
        "\n",
        "    droppedIndicies = list()\n",
        "\n",
        "    for i, row in newData.iterrows():\n",
        "        if (i < 5 or (i >= 179 and i < 464)):\n",
        "            droppedIndicies.append(i)\n",
        "            continue\n",
        "\n",
        "        if (i > 178):\n",
        "            index = numpy.r_[:179, 464:i]\n",
        "        else:\n",
        "            index = numpy.r_[:i]\n",
        "\n",
        "        newData[\"avgAllTime\"].iloc[i] = newData[\"reaction_count\"].iloc[index].mean()\n",
        "        #newData[\"minAllTime\"].iloc[i] = newData[\"reaction_count\"].iloc[index].min()\n",
        "        #newData[\"maxAllTime\"].iloc[i] = newData[\"reaction_count\"].iloc[index].max()\n",
        "        if (i % 100 == 0):\n",
        "            print(i, end = \" \")\n",
        "\n",
        "        if (newData[\"avgAllTime\"].iloc[i] == None):\n",
        "            print(row)\n",
        "            droppedIndicies.append(i)\n",
        "    print()\n",
        "\n",
        "    print(droppedIndicies)\n",
        "\n",
        "    newData = newData.sort_index()\n",
        "\n",
        "    return newData\n",
        "\n",
        "data = minMaxAvgAllTime(data)"
      ]
    },
    {
      "cell_type": "markdown",
      "metadata": {
        "id": "sNsvW3rbAN43"
      },
      "source": [
        "Capitalized percentage of a post"
      ]
    },
    {
      "cell_type": "code",
      "execution_count": 299,
      "metadata": {
        "colab": {
          "base_uri": "https://localhost:8080/"
        },
        "id": "Of3Hgi3fARRI",
        "outputId": "f226b664-bb2a-4eae-ddf3-c4aaa525f17d"
      },
      "outputs": [
        {
          "output_type": "stream",
          "name": "stdout",
          "text": [
            "0 100 200 300 400 500 600 700 800 900 1000 1100 1200 1300 1400 1500 1600 1700 1800 \n",
            "[]\n"
          ]
        }
      ],
      "source": [
        "def capitalizedPercentage(data):\n",
        "    import re\n",
        "\n",
        "    letters = set('abcdefghijklmnopqrstuvwxyzABCDEFGHIJKLMNOPQRSTUVWXYZàáảãạăằắẳẵặâầấẩẫậđèéẻẽẹêềếểễệìíỉĩịòóỏõọôồốổỗộơờớởỡợùúủũụưừứửữựỳýỷỹỵÀÁẢÃẠĂẰẮẲẴẶÂẦẤẨẪẬĐÈÉẺẼẸÊỀẾỂỄỆÌÍỈĨỊÒÓỎÕỌÔỒỐỔỖỘƠỜỚỞỠỢÙÚỦŨỤƯỪỨỬỮỰỲÝỶỸỴ')\n",
        "\n",
        "    def uses_other_chars(s):\n",
        "        return set(s) <= letters\n",
        "\n",
        "    def useCapializedLetters(s):\n",
        "        return re.search('[ABCDEFGHIJKLMNOPQRSTUVWXYZÀÁẢÃẠĂẰẮẲẴẶÂẦẤẨẪẬĐÈÉẺẼẸÊỀẾỂỄỆÌÍỈĨỊÒÓỎÕỌÔỒỐỔỖỘƠỜỚỞỠỢÙÚỦŨỤƯỪỨỬỮỰỲÝỶỸỴ]', s)\n",
        "\n",
        "    specialCharacters = \"`~!@#$%^&*()_-=+[{;:\\'\\\"\\\\|/?.<>,}]\"\n",
        "\n",
        "    newData = copy.deepcopy(data)\n",
        "\n",
        "    newData[\"capitalized\"] = None\n",
        "\n",
        "    droppedIndicies = list()\n",
        "\n",
        "    for i, row in newData.iterrows():\n",
        "        totalWords = ''.join(idx if idx not in specialCharacters else \"\" for idx in row[\"text\"].split(\"\\r\\n\\r\\nTRANGCUOCSONG24H.COM\\r\\n\")[0].split(\"\\r\\n\")[0]).split(\" \")\n",
        "        totalWords = [i for i in totalWords if uses_other_chars(i)]\n",
        "        totalWords = [i for i in totalWords if i]\n",
        "\n",
        "        capitalizedWords = [i for i in totalWords if useCapializedLetters(i)]\n",
        "\n",
        "        newData[\"capitalized\"].iloc[i] = len(capitalizedWords) / len(totalWords) if len(totalWords) != 0 else 0\n",
        "\n",
        "        if (i % 100 == 0):\n",
        "            print(i, end = \" \")\n",
        "\n",
        "        if (newData[\"capitalized\"].iloc[i] == None):\n",
        "            print(row)\n",
        "            droppedIndicies.append(i)\n",
        "    print()\n",
        "\n",
        "    print(droppedIndicies)\n",
        "\n",
        "    return newData\n",
        "\n",
        "data = capitalizedPercentage(data)"
      ]
    },
    {
      "cell_type": "markdown",
      "metadata": {
        "id": "5mecy6akAz_Q"
      },
      "source": [
        "Caption length of a post"
      ]
    },
    {
      "cell_type": "code",
      "execution_count": 300,
      "metadata": {
        "colab": {
          "base_uri": "https://localhost:8080/"
        },
        "id": "lPg1rckYA1iv",
        "outputId": "2e0f9ecf-59aa-43d2-b305-b0aed51f7710"
      },
      "outputs": [
        {
          "output_type": "stream",
          "name": "stdout",
          "text": [
            "0 100 200 300 400 500 600 700 800 900 1000 1100 1200 1300 1400 1500 1600 1700 1800 \n",
            "[]\n"
          ]
        }
      ],
      "source": [
        "def captionLength(data):\n",
        "    newData = copy.deepcopy(data)\n",
        "\n",
        "    newData[\"captionLength\"] = None\n",
        "\n",
        "    specialCharacters = \"`~!@#$%^&*()_-=+[{;:\\'\\\"\\\\|/?.<>,}]\"\n",
        "\n",
        "    letters = set('abcdefghijklmnopqrstuvwxyzABCDEFGHIJKLMNOPQRSTUVWXYZàáảãạăằắẳẵặâầấẩẫậđèéẻẽẹêềếểễệìíỉĩịòóỏõọôồốổỗộơờớởỡợùúủũụưừứửữựỳýỷỹỵÀÁẢÃẠĂẰẮẲẴẶÂẦẤẨẪẬĐÈÉẺẼẸÊỀẾỂỄỆÌÍỈĨỊÒÓỎÕỌÔỒỐỔỖỘƠỜỚỞỠỢÙÚỦŨỤƯỪỨỬỮỰỲÝỶỸỴ0123456789')\n",
        "\n",
        "    droppedIndicies = list()\n",
        "\n",
        "    def uses_other_chars(s):\n",
        "        return set(s) <= letters\n",
        "\n",
        "    for i, row in newData.iterrows():\n",
        "        totalWords = ''.join(idx if idx not in specialCharacters else \"\" for idx in row[\"text\"].split(\"\\r\\n\\r\\nTRANGCUOCSONG24H.COM\\r\\n\")[0].split(\"\\r\\n\")[0]).split(\" \")\n",
        "        totalWords = [i for i in totalWords if uses_other_chars(i)]\n",
        "        totalWords = [i for i in totalWords if i]\n",
        "\n",
        "        newData[\"captionLength\"].iloc[i] = len(totalWords)\n",
        "\n",
        "        if (i % 100 == 0):\n",
        "            print(i, end = \" \")\n",
        "\n",
        "        if (newData[\"captionLength\"].iloc[i] == None):\n",
        "            print(row)\n",
        "            droppedIndicies.append(i)\n",
        "    print()\n",
        "\n",
        "    print(droppedIndicies)\n",
        "\n",
        "    return newData\n",
        "\n",
        "data = captionLength(data)"
      ]
    },
    {
      "cell_type": "markdown",
      "metadata": {
        "id": "bN1R2NGNEcfW"
      },
      "source": [
        "$n$ most common words count"
      ]
    },
    {
      "cell_type": "code",
      "execution_count": 301,
      "metadata": {
        "colab": {
          "base_uri": "https://localhost:8080/"
        },
        "id": "Hv_2duJ1BpPn",
        "outputId": "4d4a5a56-3381-44eb-869c-ab643c6c7ec2"
      },
      "outputs": [
        {
          "output_type": "stream",
          "name": "stdout",
          "text": [
            "0 100 200 300 400 500 600 700 800 900 1000 1100 1200 1300 1400 1500 1600 1700 1800 \n"
          ]
        }
      ],
      "source": [
        "def topNWords(data, n):\n",
        "    newData = copy.deepcopy(data)\n",
        "\n",
        "    stopWordsFile = open(\"vietnamese-stopwords.txt\", \"r\")\n",
        "    stopWordsFileContent = stopWordsFile.readlines()\n",
        "    stopWordsFile.close()\n",
        "\n",
        "    stopWords = set()\n",
        "\n",
        "    for line in stopWordsFileContent:\n",
        "        stopWords.update(line.split())\n",
        "\n",
        "    stopWords.add(\"chàng\")\n",
        "\n",
        "    wordData = dict()\n",
        "\n",
        "    import re\n",
        "\n",
        "    string1 = \" abcdefghijklmnopqrstuvwxyzàáảãạăằắẳẵặâầấẩẫậđèéẻẽẹêềếểễệìíỉĩịòóỏõọôồốổỗộơờớởỡợùúủũụưừứửữựỳýỷỹỵ\"\n",
        "    string2 = \"_ABCDEFGHIJKLMNOPQRSTUVWXYZÀÁẢÃẠĂẰẮẲẴẶÂẦẤẨẪẬĐÈÉẺẼẸÊỀẾỂỄỆÌÍỈĨỊÒÓỎÕỌÔỒỐỔỖỘƠỜỚỞỠỢÙÚỦŨỤƯỪỨỬỮỰỲÝỶỸỴ\"\n",
        "\n",
        "    wordReplacementDict = {\n",
        "        'giải nghệ': 'giải_nghệ',\n",
        "        'manchester united': 'man united',\n",
        "        'man united': 'man utd',\n",
        "        'man utd': 'mu',\n",
        "        'premier league': 'epl',\n",
        "        'epl': 'premier_league',\n",
        "        'marcus rashford': 'rashford',\n",
        "        'marcus': 'rashford',\n",
        "        'erik ten hag': 'ten hag',\n",
        "        'ten hag': 'ten_hag',\n",
        "        'harry maguire': 'maguire',\n",
        "        'mason greenwood': 'greenwood',\n",
        "        'mason mount': 'mason_mount',\n",
        "        'old trafford': 'old_trafford',\n",
        "        'de gea': 'de_gea',\n",
        "        'sir alex': 'sir_alex',\n",
        "        'thông báo': 'thông_báo',\n",
        "        'hàng tiền đạo': 'tiền đạo',\n",
        "        'tiền đạo': 'tiền_đạo',\n",
        "        'chúc mừng': 'chúc_mừng',\n",
        "        'bảng xếp hạng': 'bxh',\n",
        "        'bảng đấu': 'bxh',\n",
        "        'hàng thủ': 'hậu vệ',\n",
        "        'hàng hậu vệ': 'hậu vệ',\n",
        "        'hậu vệ': 'hậu_vệ',\n",
        "        'quỷ đỏ': 'quỷ_đỏ',\n",
        "        'hàng tiền vệ': 'tiền vệ',\n",
        "        'tiền vệ': 'tiền_vệ',\n",
        "        'chính thức': 'chính_thức',\n",
        "        'chiến đấu': 'chiến_đấu',\n",
        "        'chiến thắng': 'chiến_thắng',\n",
        "        'đối thủ': 'đối_thủ',\n",
        "        'thi đấu': 'thi_đấu',\n",
        "        'trận đấu': 'trận',\n",
        "        'trận': 'trận_đấu',\n",
        "        'giải đấu': 'giải_đấu',\n",
        "        'cầu thủ': 'cầu_thủ',\n",
        "        'chấn thương': 'chấn_thương',\n",
        "        'thông báo': 'thông_báo',\n",
        "        'rasmus hojlund': 'hojlund',\n",
        "        'tham dự': 'tham_dự',\n",
        "        'dự kiến': 'dự_kiến',\n",
        "        'ghi bàn': 'bàn',\n",
        "        'bàn thắng': 'bàn',\n",
        "        'bàn': 'bàn_thắng',\n",
        "        'kì vọng': 'kì_vọng',\n",
        "        'kỳ vọng': 'kì_vọng',\n",
        "        'đội bóng': 'đội_bóng',\n",
        "        'kết quả': 'kết_quả',\n",
        "        'kết thúc': 'kết_thúc',\n",
        "        'kết liễu': 'kết_liễu',\n",
        "        'thất vọng': 'thất_vọng',\n",
        "        'triệu tập': 'triệu_tập',\n",
        "        'thông tin': 'thông_tin',\n",
        "        'sân nhà': 'sân_nhà',\n",
        "        'sân bóng': 'sân',\n",
        "        'bóng đá': 'bóng_đá',\n",
        "        'đá bóng': 'đá_bóng',\n",
        "        'báo thủ': 'báo_thủ',\n",
        "        'con hàng': 'con_hàng',\n",
        "        'tập luyện': 'tập_luyện',\n",
        "        'hlv': 'huấn luyện viên',\n",
        "        'huấn luyện viên': 'huấn_luyện_viên',\n",
        "        'mùa hè': 'mùa_hè',\n",
        "        'mùa mùa_hè': 'mùa_hè',\n",
        "        'mùa đông': 'mùa_đông',\n",
        "        'mùa mùa_đông': 'mùa_đông',\n",
        "        'mùa bóng': 'mùa giải',\n",
        "        'mùa giải': 'mùa_giải',\n",
        "        'xuân': 'mùa xuân',\n",
        "        'mùa xuân': 'mùa_xuân',\n",
        "        'mùa mùa_xuân': 'mùa_xuân',\n",
        "        'mùa thu': 'mùa_thu',\n",
        "        'mùa mùa_thu': 'mùa_thu',\n",
        "        'mùa bóng': 'mùa_giải',\n",
        "        'bóng': 'quả_bóng',\n",
        "        'quả quả_bóng': 'quả_bóng',\n",
        "        'đội_quả_bóng': 'đội_bóng',\n",
        "        'mùa ': 'mùa_giải',\n",
        "        'này': '',\n",
        "        'triệu bảng': 'triệu_bảng',\n",
        "        'triệu euro': 'triệu_bảng',\n",
        "        'triệu usd': 'triệu_bảng',\n",
        "        'chàng trai': 'chàng_trai',\n",
        "        'cảnh báo': 'cảnh_báo',\n",
        "        'họp báo': 'họp_báo',\n",
        "        'báo cáo': 'báo_cáo',\n",
        "        'nhà báo': 'báo_chí',\n",
        "        'báo anh': 'báo_chí',\n",
        "        'báo hà lan': 'báo_chí',\n",
        "        'bài báo': 'báo_chí',\n",
        "        'báo chí': 'báo_chí',\n",
        "        'tỷ số': 'tỉ_số',\n",
        "        'tỉ số': 'tỉ_số',\n",
        "        'tỷ lệ': 'tỉ_lệ',\n",
        "        'thủ môn': 'thủ_môn',\n",
        "        'danh thủ': 'danh_thủ',\n",
        "        'tuyển thủ': 'cầu_thủ',\n",
        "        'thủ thành': 'thủ_môn',\n",
        "        'hàng đầu': 'hàng_đầu',\n",
        "        'hàng công': 'tiền_đạo',\n",
        "        'hàng loạt': 'hàng_loạt',\n",
        "        'đội tuyển': 'đội_tuyển',\n",
        "        'đội khách': 'đội_khách',\n",
        "        'đội hình': 'đội_hình',\n",
        "        'đồng đội': 'đồng_đội',\n",
        "        'đội chủ': 'đội bóng chủ',\n",
        "        'đội bạn': 'đội_bạn',\n",
        "        'đội đầu': 'đội_đầu',\n",
        "        'đội trưởng': 'đội_trưởng',\n",
        "        ' đội ': ' đội_bóng'\n",
        "    }\n",
        "\n",
        "    specialCharacters = \"`~!@#$%^&*()-=+[{;:\\'\\\"\\\\|/?.<>,}]\"\n",
        "    commonWords = list(stopWords)\n",
        "\n",
        "    letters = set(string1 + string2)\n",
        "\n",
        "    lettersMap = dict()\n",
        "\n",
        "    for i in range(len(string1)):\n",
        "        lettersMap[string2[i]] = string1[i]\n",
        "\n",
        "    def uses_other_chars(s):\n",
        "        return set(s) <= letters\n",
        "\n",
        "    for i, row in newData.iterrows():\n",
        "        totalWords = ''.join(idx if idx not in specialCharacters else \"\" for idx in ''.join(idy if idy not in lettersMap else lettersMap[idy] for idy in row[\"text\"].split(\"\\r\\n\\r\\nTRANGCUOCSONG24H.COM\\r\\n\")[0].split(\"\\r\\n\")[0]))\n",
        "        for key, value in wordReplacementDict.items():\n",
        "            totalWords = totalWords.replace(key, value)\n",
        "\n",
        "        totalWords = totalWords.split()\n",
        "\n",
        "        totalWords = [i for i in totalWords if uses_other_chars(i)]\n",
        "        totalWords = [i for i in totalWords if i]\n",
        "\n",
        "        for word in totalWords:\n",
        "            if word not in commonWords:\n",
        "                wordData[word] = wordData.get(word, 0) + 1\n",
        "\n",
        "    topWords = list(dict(sorted(wordData.items(), key=lambda item: item[1], reverse = True)).keys())[:n]\n",
        "\n",
        "    for word in topWords:\n",
        "        newData[word] = False\n",
        "\n",
        "    for i, row in newData.iterrows():\n",
        "        totalWords = ''.join(idx if idx not in specialCharacters else \"\" for idx in ''.join(idy if idy not in lettersMap else lettersMap[idy] for idy in row[\"text\"].split(\"\\r\\n\\r\\nTRANGCUOCSONG24H.COM\\r\\n\")[0].split(\"\\r\\n\")[0]))\n",
        "        for key, value in wordReplacementDict.items():\n",
        "            totalWords = totalWords.replace(key, value)\n",
        "\n",
        "        totalWords = totalWords.split()\n",
        "\n",
        "        totalWords = [i for i in totalWords if uses_other_chars(i)]\n",
        "        totalWords = [i for i in totalWords if i]\n",
        "\n",
        "        for word in totalWords:\n",
        "            if word in topWords:\n",
        "                newData[word].iloc[i] = True\n",
        "\n",
        "        if (i % 100 == 0):\n",
        "            print(i, end = \" \")\n",
        "    print()\n",
        "\n",
        "    return newData\n",
        "data = topNWords(data, 30)"
      ]
    },
    {
      "cell_type": "markdown",
      "metadata": {
        "id": "6SXoWaS0JH_R"
      },
      "source": [
        "Number of emojis of a post"
      ]
    },
    {
      "cell_type": "code",
      "execution_count": null,
      "metadata": {
        "colab": {
          "base_uri": "https://localhost:8080/"
        },
        "id": "k9rLvSiMJsGy",
        "outputId": "f3532f4b-432c-4529-a499-4077aa4be754"
      },
      "outputs": [
        {
          "name": "stdout",
          "output_type": "stream",
          "text": [
            "0 100 200 300 400 500 600 700 800 900 1000 1100 1200 1300 1400 1500 1600 1700 1800 \n",
            "[]\n"
          ]
        }
      ],
      "source": [
        "def emojiNumber(data):\n",
        "    import re\n",
        "    letters = set('abcdefghijklmnopqrstuvwxyzABCDEFGHIJKLMNOPQRSTUVWXYZàáảãạăằắẳẵặâầấẩẫậđèéẻẽẹêềếểễệìíỉĩịòóỏõọôồốổỗộơờớởỡợùúủũụưừứửữựỳýỷỹỵÀÁẢÃẠĂẰẮẲẴẶÂẦẤẨẪẬĐÈÉẺẼẸÊỀẾỂỄỆÌÍỈĨỊÒÓỎÕỌÔỒỐỔỖỘƠỜỚỞỠỢÙÚỦŨỤƯỪỨỬỮỰỲÝỶỸỴ')\n",
        "\n",
        "    def uses_other_chars(s):\n",
        "        return set(s) <= letters\n",
        "\n",
        "    newData = copy.deepcopy(data)\n",
        "    specialCharacters = \"`~“!@#$%”^&*()_-=+[{’;:\\'\\\"\\\\|/?.<>,}‘]…\"\n",
        "    emojiList = \"😌😍🤔😆😂😞😲😏💪😉🐧🙏🥳😎🔥🤪😅😓❤️😌‼❤🥰💢🗣😢👍🚨🤩😔🤝✌\\U000e0067\\U000e0062\\U000e0065\\U000e006e\\U000e007f\\U0001f979🎉🎂😱✍🤕🤣🤦🥇🎤😬😒👆📰😃🏆😘🏴🧤🏰🏆🏅👈👀👉\\U0001fae3😗⚽😁✊📢💬💩🎙😰🔴✍🏻👏🙁🤧🎤😈📊➡😘❌📸🥺😳💰🥺😤💔🛑😐🙃📌📍💫😑😵\"\n",
        "\n",
        "    newData[\"emoji\"] = None\n",
        "\n",
        "    droppedIndicies = list()\n",
        "\n",
        "    for i, row in newData.iterrows():\n",
        "        newData[\"emoji\"].iloc[i] = len(''.join(idx if idx in emojiList else \"\" for idx in row[\"text\"]))\n",
        "\n",
        "        if (i % 100 == 0):\n",
        "            print(i, end = \" \")\n",
        "    print()\n",
        "\n",
        "    print(droppedIndicies)\n",
        "\n",
        "    return newData\n",
        "\n",
        "data = emojiNumber(data)"
      ]
    },
    {
      "cell_type": "markdown",
      "metadata": {
        "id": "QRvMRds2RLrd"
      },
      "source": [
        "Number of numbers of a post"
      ]
    },
    {
      "cell_type": "code",
      "execution_count": null,
      "metadata": {
        "colab": {
          "base_uri": "https://localhost:8080/"
        },
        "id": "GjCbDc_dRJfN",
        "outputId": "f49e5c5c-aa49-4239-c437-bb913c8af9e0"
      },
      "outputs": [
        {
          "name": "stdout",
          "output_type": "stream",
          "text": [
            "0 100 200 300 400 500 600 700 800 900 1000 1100 1200 1300 1400 1500 1600 1700 1800 \n",
            "[]\n"
          ]
        }
      ],
      "source": [
        "def numberNumber(data):\n",
        "    import re\n",
        "\n",
        "    newData = copy.deepcopy(data)\n",
        "\n",
        "    newData[\"number\"] = None\n",
        "\n",
        "    droppedIndicies = list()\n",
        "\n",
        "    for i, row in newData.iterrows():\n",
        "        newData[\"number\"].iloc[i] = len(re.findall(r'\\d+', row[\"text\"]))\n",
        "\n",
        "        if (i % 100 == 0):\n",
        "            print(i, end = \" \")\n",
        "\n",
        "        if (newData[\"number\"].iloc[i] == None):\n",
        "            droppedIndicies.append(i)\n",
        "    print()\n",
        "\n",
        "    print(droppedIndicies)\n",
        "\n",
        "    return newData\n",
        "\n",
        "data = numberNumber(data)"
      ]
    },
    {
      "cell_type": "markdown",
      "metadata": {
        "id": "GF-0p_yVgcED"
      },
      "source": [
        "### Explainable data analyitics"
      ]
    },
    {
      "cell_type": "markdown",
      "metadata": {
        "id": "iLFnz8kUhW1E"
      },
      "source": [
        "Scatter plot of $\\vec{y}$ against $\\vec{x_i}, \\, i = 0, ..., n - 1$"
      ]
    },
    {
      "cell_type": "code",
      "execution_count": null,
      "metadata": {
        "colab": {
          "base_uri": "https://localhost:8080/",
          "height": 812
        },
        "id": "4vMhrcm6gbdc",
        "outputId": "db95cfad-a686-469d-907e-82f5a24e8ae5"
      },
      "outputs": [
        {
          "ename": "ValueError",
          "evalue": "x and y must be the same size",
          "output_type": "error",
          "traceback": [
            "\u001b[0;31m---------------------------------------------------------------------------\u001b[0m",
            "\u001b[0;31mValueError\u001b[0m                                Traceback (most recent call last)",
            "\u001b[0;32m<ipython-input-129-663c47e32d03>\u001b[0m in \u001b[0;36m<cell line: 2>\u001b[0;34m()\u001b[0m\n\u001b[1;32m      1\u001b[0m \u001b[0mpyplot\u001b[0m\u001b[0;34m.\u001b[0m\u001b[0mfigure\u001b[0m\u001b[0;34m(\u001b[0m\u001b[0mfigsize\u001b[0m \u001b[0;34m=\u001b[0m \u001b[0;34m(\u001b[0m\u001b[0;36m5\u001b[0m\u001b[0;34m,\u001b[0m \u001b[0;36m5\u001b[0m\u001b[0;34m)\u001b[0m\u001b[0;34m)\u001b[0m\u001b[0;34m\u001b[0m\u001b[0;34m\u001b[0m\u001b[0m\n\u001b[0;32m----> 2\u001b[0;31m \u001b[0mpyplot\u001b[0m\u001b[0;34m.\u001b[0m\u001b[0mscatter\u001b[0m\u001b[0;34m(\u001b[0m\u001b[0mx\u001b[0m \u001b[0;34m=\u001b[0m \u001b[0;34m\"monday\"\u001b[0m\u001b[0;34m,\u001b[0m \u001b[0my\u001b[0m \u001b[0;34m=\u001b[0m \u001b[0;34m\"reaction_count\"\u001b[0m\u001b[0;34m,\u001b[0m \u001b[0mdata\u001b[0m \u001b[0;34m=\u001b[0m \u001b[0mtrainData\u001b[0m\u001b[0;34m)\u001b[0m \u001b[0;31m#for i in range n\u001b[0m\u001b[0;34m\u001b[0m\u001b[0;34m\u001b[0m\u001b[0m\n\u001b[0m\u001b[1;32m      3\u001b[0m \u001b[0mpyplot\u001b[0m\u001b[0;34m.\u001b[0m\u001b[0mxlabel\u001b[0m\u001b[0;34m(\u001b[0m\u001b[0;34m\"x_i\"\u001b[0m\u001b[0;34m)\u001b[0m\u001b[0;34m\u001b[0m\u001b[0;34m\u001b[0m\u001b[0m\n\u001b[1;32m      4\u001b[0m \u001b[0mpyplot\u001b[0m\u001b[0;34m.\u001b[0m\u001b[0mylabel\u001b[0m\u001b[0;34m(\u001b[0m\u001b[0;34m\"y\"\u001b[0m\u001b[0;34m)\u001b[0m\u001b[0;34m\u001b[0m\u001b[0;34m\u001b[0m\u001b[0m\n\u001b[1;32m      5\u001b[0m \u001b[0mpyplot\u001b[0m\u001b[0;34m.\u001b[0m\u001b[0mshow\u001b[0m\u001b[0;34m(\u001b[0m\u001b[0;34m)\u001b[0m\u001b[0;34m\u001b[0m\u001b[0;34m\u001b[0m\u001b[0m\n",
            "\u001b[0;32m/usr/local/lib/python3.10/dist-packages/matplotlib/pyplot.py\u001b[0m in \u001b[0;36mscatter\u001b[0;34m(x, y, s, c, marker, cmap, norm, vmin, vmax, alpha, linewidths, edgecolors, plotnonfinite, data, **kwargs)\u001b[0m\n\u001b[1;32m   2860\u001b[0m         \u001b[0mvmin\u001b[0m\u001b[0;34m=\u001b[0m\u001b[0;32mNone\u001b[0m\u001b[0;34m,\u001b[0m \u001b[0mvmax\u001b[0m\u001b[0;34m=\u001b[0m\u001b[0;32mNone\u001b[0m\u001b[0;34m,\u001b[0m \u001b[0malpha\u001b[0m\u001b[0;34m=\u001b[0m\u001b[0;32mNone\u001b[0m\u001b[0;34m,\u001b[0m \u001b[0mlinewidths\u001b[0m\u001b[0;34m=\u001b[0m\u001b[0;32mNone\u001b[0m\u001b[0;34m,\u001b[0m \u001b[0;34m*\u001b[0m\u001b[0;34m,\u001b[0m\u001b[0;34m\u001b[0m\u001b[0;34m\u001b[0m\u001b[0m\n\u001b[1;32m   2861\u001b[0m         edgecolors=None, plotnonfinite=False, data=None, **kwargs):\n\u001b[0;32m-> 2862\u001b[0;31m     __ret = gca().scatter(\n\u001b[0m\u001b[1;32m   2863\u001b[0m         \u001b[0mx\u001b[0m\u001b[0;34m,\u001b[0m \u001b[0my\u001b[0m\u001b[0;34m,\u001b[0m \u001b[0ms\u001b[0m\u001b[0;34m=\u001b[0m\u001b[0ms\u001b[0m\u001b[0;34m,\u001b[0m \u001b[0mc\u001b[0m\u001b[0;34m=\u001b[0m\u001b[0mc\u001b[0m\u001b[0;34m,\u001b[0m \u001b[0mmarker\u001b[0m\u001b[0;34m=\u001b[0m\u001b[0mmarker\u001b[0m\u001b[0;34m,\u001b[0m \u001b[0mcmap\u001b[0m\u001b[0;34m=\u001b[0m\u001b[0mcmap\u001b[0m\u001b[0;34m,\u001b[0m \u001b[0mnorm\u001b[0m\u001b[0;34m=\u001b[0m\u001b[0mnorm\u001b[0m\u001b[0;34m,\u001b[0m\u001b[0;34m\u001b[0m\u001b[0;34m\u001b[0m\u001b[0m\n\u001b[1;32m   2864\u001b[0m         \u001b[0mvmin\u001b[0m\u001b[0;34m=\u001b[0m\u001b[0mvmin\u001b[0m\u001b[0;34m,\u001b[0m \u001b[0mvmax\u001b[0m\u001b[0;34m=\u001b[0m\u001b[0mvmax\u001b[0m\u001b[0;34m,\u001b[0m \u001b[0malpha\u001b[0m\u001b[0;34m=\u001b[0m\u001b[0malpha\u001b[0m\u001b[0;34m,\u001b[0m \u001b[0mlinewidths\u001b[0m\u001b[0;34m=\u001b[0m\u001b[0mlinewidths\u001b[0m\u001b[0;34m,\u001b[0m\u001b[0;34m\u001b[0m\u001b[0;34m\u001b[0m\u001b[0m\n",
            "\u001b[0;32m/usr/local/lib/python3.10/dist-packages/matplotlib/__init__.py\u001b[0m in \u001b[0;36minner\u001b[0;34m(ax, data, *args, **kwargs)\u001b[0m\n\u001b[1;32m   1466\u001b[0m                 args_and_kwargs.get(label_namer), auto_label)\n\u001b[1;32m   1467\u001b[0m \u001b[0;34m\u001b[0m\u001b[0m\n\u001b[0;32m-> 1468\u001b[0;31m         \u001b[0;32mreturn\u001b[0m \u001b[0mfunc\u001b[0m\u001b[0;34m(\u001b[0m\u001b[0;34m*\u001b[0m\u001b[0mnew_args\u001b[0m\u001b[0;34m,\u001b[0m \u001b[0;34m**\u001b[0m\u001b[0mnew_kwargs\u001b[0m\u001b[0;34m)\u001b[0m\u001b[0;34m\u001b[0m\u001b[0;34m\u001b[0m\u001b[0m\n\u001b[0m\u001b[1;32m   1469\u001b[0m \u001b[0;34m\u001b[0m\u001b[0m\n\u001b[1;32m   1470\u001b[0m     \u001b[0minner\u001b[0m\u001b[0;34m.\u001b[0m\u001b[0m__doc__\u001b[0m \u001b[0;34m=\u001b[0m \u001b[0m_add_data_doc\u001b[0m\u001b[0;34m(\u001b[0m\u001b[0minner\u001b[0m\u001b[0;34m.\u001b[0m\u001b[0m__doc__\u001b[0m\u001b[0;34m,\u001b[0m \u001b[0mreplace_names\u001b[0m\u001b[0;34m)\u001b[0m\u001b[0;34m\u001b[0m\u001b[0;34m\u001b[0m\u001b[0m\n",
            "\u001b[0;32m/usr/local/lib/python3.10/dist-packages/matplotlib/axes/_axes.py\u001b[0m in \u001b[0;36mscatter\u001b[0;34m(self, x, y, s, c, marker, cmap, norm, vmin, vmax, alpha, linewidths, edgecolors, plotnonfinite, **kwargs)\u001b[0m\n\u001b[1;32m   4582\u001b[0m         \u001b[0my\u001b[0m \u001b[0;34m=\u001b[0m \u001b[0mnp\u001b[0m\u001b[0;34m.\u001b[0m\u001b[0mma\u001b[0m\u001b[0;34m.\u001b[0m\u001b[0mravel\u001b[0m\u001b[0;34m(\u001b[0m\u001b[0my\u001b[0m\u001b[0;34m)\u001b[0m\u001b[0;34m\u001b[0m\u001b[0;34m\u001b[0m\u001b[0m\n\u001b[1;32m   4583\u001b[0m         \u001b[0;32mif\u001b[0m \u001b[0mx\u001b[0m\u001b[0;34m.\u001b[0m\u001b[0msize\u001b[0m \u001b[0;34m!=\u001b[0m \u001b[0my\u001b[0m\u001b[0;34m.\u001b[0m\u001b[0msize\u001b[0m\u001b[0;34m:\u001b[0m\u001b[0;34m\u001b[0m\u001b[0;34m\u001b[0m\u001b[0m\n\u001b[0;32m-> 4584\u001b[0;31m             \u001b[0;32mraise\u001b[0m \u001b[0mValueError\u001b[0m\u001b[0;34m(\u001b[0m\u001b[0;34m\"x and y must be the same size\"\u001b[0m\u001b[0;34m)\u001b[0m\u001b[0;34m\u001b[0m\u001b[0;34m\u001b[0m\u001b[0m\n\u001b[0m\u001b[1;32m   4585\u001b[0m \u001b[0;34m\u001b[0m\u001b[0m\n\u001b[1;32m   4586\u001b[0m         \u001b[0;32mif\u001b[0m \u001b[0ms\u001b[0m \u001b[0;32mis\u001b[0m \u001b[0;32mNone\u001b[0m\u001b[0;34m:\u001b[0m\u001b[0;34m\u001b[0m\u001b[0;34m\u001b[0m\u001b[0m\n",
            "\u001b[0;31mValueError\u001b[0m: x and y must be the same size"
          ]
        },
        {
          "data": {
            "image/png": "[encoded data removed]",
            "text/plain": [
              "<Figure size 500x500 with 1 Axes>"
            ]
          },
          "metadata": {},
          "output_type": "display_data"
        }
      ],
      "source": [
        "pyplot.figure(figsize = (5, 5))\n",
        "pyplot.scatter(x = \"monday\", y = \"reaction_count\", data = trainData) #for i in range n\n",
        "pyplot.xlabel(\"x_i\")\n",
        "pyplot.ylabel(\"y\")\n",
        "pyplot.show()"
      ]
    },
    {
      "cell_type": "markdown",
      "metadata": {
        "id": "8UoohEo1tLSL"
      },
      "source": [
        "Scatter plot of $\\vec{x_i}$ against $\\vec{x_j}$,\n",
        "\n",
        "$i = 0, ..., n - 1$,\n",
        "\n",
        "$j = 0, ..., n - 1$"
      ]
    },
    {
      "cell_type": "code",
      "execution_count": null,
      "metadata": {
        "colab": {
          "base_uri": "https://localhost:8080/",
          "height": 475
        },
        "id": "un2pNEkTtbZ1",
        "outputId": "75375497-706a-410d-bfb3-071fe28ee97b"
      },
      "outputs": [
        {
          "data": {
            "image/png": "[encoded data removed]",
            "text/plain": [
              "<Figure size 500x500 with 1 Axes>"
            ]
          },
          "metadata": {},
          "output_type": "display_data"
        }
      ],
      "source": [
        "pyplot.figure(figsize = (5, 5))\n",
        "pyplot.scatter(x = \"x_i\", y = \"x_j\", data = data) #for i in range n: for j in range n\n",
        "pyplot.xlabel(\"x_i\")\n",
        "pyplot.ylabel(\"x_j\")\n",
        "pyplot.show()"
      ]
    },
    {
      "cell_type": "markdown",
      "metadata": {
        "id": "-eqbEMrYjEsA"
      },
      "source": [
        "Bar graph of $x_i$ distribution, $\\, i = 0, ..., n - 1$"
      ]
    },
    {
      "cell_type": "code",
      "execution_count": null,
      "metadata": {
        "colab": {
          "base_uri": "https://localhost:8080/"
        },
        "id": "51MGz_vKBELs",
        "outputId": "f6ced6e9-3387-4328-b830-d5fb666d0177"
      },
      "outputs": [
        {
          "name": "stdout",
          "output_type": "stream",
          "text": [
            "<class 'pandas.core.frame.DataFrame'>\n",
            "RangeIndex: 1584 entries, 0 to 1583\n",
            "Data columns (total 23 columns):\n",
            " #   Column                  Non-Null Count  Dtype  \n",
            "---  ------                  --------------  -----  \n",
            " 0   has_player_mention      1584 non-null   bool   \n",
            " 1   is_umorous              1584 non-null   bool   \n",
            " 2   is_controversial_topic  1584 non-null   bool   \n",
            " 3   contains_good_deed      1584 non-null   bool   \n",
            " 4   mention_match           1584 non-null   bool   \n",
            " 5   image_count             1584 non-null   int64  \n",
            " 6   has_image               1584 non-null   bool   \n",
            " 7   has_with                1584 non-null   bool   \n",
            " 8   Hour                    1584 non-null   int64  \n",
            " 9   Day of week             1584 non-null   int64  \n",
            " 10  Date                    1584 non-null   int64  \n",
            " 11  Month                   1584 non-null   int64  \n",
            " 12  Year                    1584 non-null   int64  \n",
            " 13  avgLast5                1584 non-null   float64\n",
            " 14  minLast5                1584 non-null   float64\n",
            " 15  maxLast5                1584 non-null   float64\n",
            " 16  avgAllTime              1584 non-null   float64\n",
            " 17  maxAllTime              1584 non-null   float64\n",
            " 18  capitalized             1584 non-null   float64\n",
            " 19  captionLength           1584 non-null   int64  \n",
            " 20  emoji                   1584 non-null   int64  \n",
            " 21  number                  1584 non-null   int64  \n",
            " 22  reaction_count_log      1584 non-null   float64\n",
            "dtypes: bool(7), float64(7), int64(9)\n",
            "memory usage: 209.0 KB\n"
          ]
        }
      ],
      "source": [
        "rawData.info()"
      ]
    },
    {
      "cell_type": "code",
      "execution_count": null,
      "metadata": {
        "id": "NixOQ5xw-K0A"
      },
      "outputs": [],
      "source": [
        "figure = seaborn.displot(data[\"maxAllTime\"]) #for i in range n\n",
        "figure.fig.set_size_inches(8, 6)"
      ]
    },
    {
      "cell_type": "code",
      "execution_count": null,
      "metadata": {
        "colab": {
          "base_uri": "https://localhost:8080/"
        },
        "id": "4-2N52agjTD5",
        "outputId": "ee30529a-602b-4c9e-f02e-7c1bd5310392"
      },
      "outputs": [
        {
          "data": {
            "image/png": "[encoded data removed]",
            "text/plain": [
              "<Figure size 1000x1000 with 1 Axes>"
            ]
          },
          "metadata": {},
          "output_type": "display_data"
        }
      ],
      "source": [
        "figure = seaborn.displot(rawData[\"reaction_count_log\"]) #for i in range n\n",
        "figure.fig.set_size_inches(10, 10)"
      ]
    },
    {
      "cell_type": "markdown",
      "metadata": {
        "id": "kVFvPodXi0y2"
      },
      "source": [
        "Bar graph of $y$ distribution"
      ]
    },
    {
      "cell_type": "code",
      "execution_count": null,
      "metadata": {
        "id": "yvW-HWZri5uD"
      },
      "outputs": [],
      "source": [
        "seaborn.displot(data, x = \"y\")"
      ]
    },
    {
      "cell_type": "markdown",
      "metadata": {
        "id": "jQ5865VPKEhK"
      },
      "source": [
        "Distribution of $x_i$ and $y$ log transformed"
      ]
    },
    {
      "cell_type": "code",
      "execution_count": null,
      "metadata": {
        "id": "JDDAMIt0KRty"
      },
      "outputs": [],
      "source": [
        "pandas.Series(numpy.log1p(data[\"x_i\"])).plot(kind = \"density\", figzide = (10, 4))"
      ]
    },
    {
      "cell_type": "markdown",
      "metadata": {
        "id": "x8OsUX_oje2p"
      },
      "source": [
        "Box graph of $y$"
      ]
    },
    {
      "cell_type": "code",
      "execution_count": null,
      "metadata": {
        "id": "74xz1Zn9Q3mN"
      },
      "outputs": [],
      "source": [
        "pandas.Series(data[\"y\"]).plot(kind = \"box\", figsize = (10, 4), vert = False)"
      ]
    },
    {
      "cell_type": "code",
      "execution_count": null,
      "metadata": {
        "id": "anvOtLCkQ_xp"
      },
      "outputs": [],
      "source": [
        "pandas.Series(numpy.log1p(data[\"y\"])).plot(kind = \"box\", figsize = (10, 4), vert = False)"
      ]
    },
    {
      "cell_type": "code",
      "execution_count": null,
      "metadata": {
        "colab": {
          "base_uri": "https://localhost:8080/"
        },
        "id": "gXjsI9E9308-",
        "outputId": "6838abc9-72a6-4c87-e9c0-780ef6ea532c"
      },
      "outputs": [
        {
          "data": {
            "image/png": "[encoded data removed]",
            "text/plain": [
              "<Figure size 640x480 with 1 Axes>"
            ]
          },
          "metadata": {},
          "output_type": "display_data"
        }
      ],
      "source": [
        "plot = seaborn.boxplot(rawData[\"reaction_count_log\"])"
      ]
    },
    {
      "cell_type": "markdown",
      "metadata": {
        "id": "W2v6D9Tvs48U"
      },
      "source": [
        "Data correlation map"
      ]
    },
    {
      "cell_type": "code",
      "execution_count": null,
      "metadata": {
        "collapsed": true,
        "id": "sXcU_thTs8yM"
      },
      "outputs": [],
      "source": [
        "categoricalColumns = [\"Day of week\"]\n",
        "\n",
        "trainDataCorr = pandas.get_dummies(rawData, categoricalColumns)\n",
        "\n",
        "pyplot.figure(figsize = (60, 60))\n",
        "seaborn.heatmap(trainDataCorr.corr(), annot = True)"
      ]
    },
    {
      "cell_type": "code",
      "execution_count": null,
      "metadata": {
        "id": "a6Lki8hC_ySY"
      },
      "outputs": [],
      "source": [
        "seaborn.pairplot(trainData.corr())\n",
        "pyplot.show()"
      ]
    },
    {
      "cell_type": "code",
      "execution_count": null,
      "metadata": {
        "id": "CSoRZ6SjTAh9"
      },
      "outputs": [],
      "source": [
        "seaborn.pairplot(trainData)"
      ]
    },
    {
      "cell_type": "markdown",
      "metadata": {
        "id": "acSUen_aah6_"
      },
      "source": [
        "### Data processing"
      ]
    },
    {
      "cell_type": "code",
      "execution_count": null,
      "metadata": {
        "id": "9fGgxn8bYnc2"
      },
      "outputs": [],
      "source": [
        "rawData.info()"
      ]
    },
    {
      "cell_type": "code",
      "execution_count": 329,
      "metadata": {
        "id": "t9R5RpDouBzS"
      },
      "outputs": [],
      "source": [
        "data = rawData"
      ]
    },
    {
      "cell_type": "markdown",
      "metadata": {
        "id": "zPXHdLL4SnQw"
      },
      "source": [
        "Apply log transformation (DO NOT RUN)"
      ]
    },
    {
      "cell_type": "code",
      "execution_count": 171,
      "metadata": {
        "id": "7QvqnSQYSpP2"
      },
      "outputs": [],
      "source": [
        "data[\"reaction_count_log\"] = numpy.log1p(data[\"reaction_count\"])\n",
        "# data[\"avgLast5\"] = numpy.log1p(data[\"avgLast5\"])\n",
        "# data[\"minLast5\"] = numpy.log1p(data[\"minLast5\"])\n",
        "# data[\"maxLast5\"] = numpy.log1p(data[\"maxLast5\"])\n",
        "# data[\"captionLength\"] = numpy.log1p(data[\"captionLength\"])"
      ]
    },
    {
      "cell_type": "code",
      "execution_count": null,
      "metadata": {
        "id": "tbAihZQAFgWr"
      },
      "outputs": [],
      "source": [
        "for i in range(len(data[\"reaction_count_log\"])):\n",
        "    print(numpy.exp(data[\"reaction_count_log\"].iloc[i]) - 1, rawData[\"reaction_count\"].iloc[i])"
      ]
    },
    {
      "cell_type": "markdown",
      "metadata": {
        "id": "iAXsYl08ASpM"
      },
      "source": [
        "Removing outliers (DO NOT RUN)"
      ]
    },
    {
      "cell_type": "code",
      "execution_count": null,
      "metadata": {
        "id": "9eA48dk_ASeF"
      },
      "outputs": [],
      "source": [
        "data = data.loc[rawData[] >= 0.9]"
      ]
    },
    {
      "cell_type": "markdown",
      "metadata": {
        "id": "CK5Eh9nyENRn"
      },
      "source": [
        "Dropping null and non-unique columns"
      ]
    },
    {
      "cell_type": "code",
      "execution_count": 324,
      "metadata": {
        "id": "_H3-Dk-eDsvR"
      },
      "outputs": [],
      "source": [
        "for column in data.columns:\n",
        "    if len(data[column].unique()) == 1:\n",
        "        print(column)\n",
        "        data.drop(column, axis = 1, inplace = True)\n",
        "\n",
        "data = data.dropna()\n",
        "data.reset_index(drop = True, inplace = True)\n",
        "\n",
        "data.drop([\"reaction_count\"], axis = 1, inplace = True)"
      ]
    },
    {
      "cell_type": "code",
      "source": [
        "for column in data.columns:\n",
        "    if len(data[column].unique()) == 1:\n",
        "        print(column)\n",
        "        data.drop(column, axis = 1, inplace = True)\n",
        "\n",
        "data = data.dropna()\n",
        "data.reset_index(drop = True, inplace = True)"
      ],
      "metadata": {
        "colab": {
          "base_uri": "https://localhost:8080/"
        },
        "id": "a2xdCQtL2qNo",
        "outputId": "6876a047-7896-4d2d-a495-228e59d8de4d"
      },
      "execution_count": 330,
      "outputs": [
        {
          "output_type": "stream",
          "name": "stdout",
          "text": [
            "was_live\n",
            "fanpage_name\n",
            "fanpage_followers\n",
            "fanpage_created_time\n"
          ]
        }
      ]
    },
    {
      "cell_type": "code",
      "source": [
        "data.info()"
      ],
      "metadata": {
        "id": "Fl7EnD2u2r3p"
      },
      "execution_count": null,
      "outputs": []
    },
    {
      "cell_type": "markdown",
      "metadata": {
        "id": "DQJU3Hi5DwTt"
      },
      "source": [
        "Categorical Encoding"
      ]
    },
    {
      "cell_type": "code",
      "execution_count": null,
      "metadata": {
        "id": "0FNlS-SSDylV"
      },
      "outputs": [],
      "source": [
        "categoricalColumns = []\n",
        "\n",
        "encoder = sklearn.preprocessing.OneHotEncoder(sparse_output=False)\n",
        "\n",
        "newDataFrame = encoder.fit_transform(data[categoricalColumns])\n",
        "\n",
        "one_hot_df = pandas.DataFrame(newDataFrame, columns = encoder.get_feature_names_out(categoricalColumns))\n",
        "\n",
        "data = pandas.concat([data, one_hot_df], axis = 1)\n",
        "\n",
        "data = data.drop(categoricalColumns, axis = 1)"
      ]
    },
    {
      "cell_type": "markdown",
      "metadata": {
        "id": "ZOWAvxMtbawJ"
      },
      "source": [
        "Label Encoding"
      ]
    },
    {
      "cell_type": "code",
      "execution_count": 173,
      "metadata": {
        "id": "BFOIyjdLbaYi"
      },
      "outputs": [],
      "source": [
        "categoricalColumns = [\"Day of week\"]\n",
        "\n",
        "for i in categoricalColumns:\n",
        "    data[i] = sklearn.preprocessing.LabelEncoder().fit_transform(data[i])"
      ]
    },
    {
      "cell_type": "markdown",
      "metadata": {
        "id": "IL0-uI6ZgF9j"
      },
      "source": [
        "train, test split"
      ]
    },
    {
      "cell_type": "code",
      "execution_count": 174,
      "metadata": {
        "id": "3bNNjJ_XNHCR"
      },
      "outputs": [],
      "source": [
        "trainData, testData = sklearn.model_selection.train_test_split(data, test_size = 0.2, random_state = 42)\n",
        "\n",
        "trainData.reset_index(drop = True, inplace = True)\n",
        "testData.reset_index(drop = True, inplace = True)"
      ]
    },
    {
      "cell_type": "code",
      "execution_count": null,
      "metadata": {
        "id": "a7WzcNZ2iOPy"
      },
      "outputs": [],
      "source": [
        "trainData.info()"
      ]
    },
    {
      "cell_type": "code",
      "execution_count": 175,
      "metadata": {
        "colab": {
          "base_uri": "https://localhost:8080/"
        },
        "id": "cDatKDwXq8eE",
        "outputId": "8ec9c156-4cd3-46e4-9e37-e84f42802a35"
      },
      "outputs": [
        {
          "output_type": "stream",
          "name": "stdout",
          "text": [
            "(1267, 66) (1267,) (1267,) (317, 66) (317,) (317,)\n"
          ]
        }
      ],
      "source": [
        "label = \"reaction_count_log\"\n",
        "\n",
        "trainYRegression = trainData[label]\n",
        "trainX = copy.deepcopy(trainData)\n",
        "trainX.pop(label)\n",
        "\n",
        "testYRegression = testData[label]\n",
        "testX = copy.deepcopy(testData)\n",
        "testX.pop(label)\n",
        "\n",
        "trainYClassification, testYClassification = yRegressionToClassification(trainData, testData, 10, label)\n",
        "\n",
        "print(trainX.shape, trainYRegression.shape, trainYClassification.shape, testX.shape, testYRegression.shape, testYClassification.shape)"
      ]
    },
    {
      "cell_type": "markdown",
      "metadata": {
        "id": "HE2bC4v-gnxw"
      },
      "source": [
        "Standardize"
      ]
    },
    {
      "cell_type": "code",
      "execution_count": 176,
      "metadata": {
        "id": "jACv9FUSgnlQ"
      },
      "outputs": [],
      "source": [
        "standardScaler = sklearn.preprocessing.StandardScaler()\n",
        "standardScaler.fit(trainX)\n",
        "trainX = pandas.DataFrame(standardScaler.transform(trainX), columns = trainX.columns)\n",
        "testX = pandas.DataFrame(standardScaler.transform(testX), columns = trainX.columns)"
      ]
    },
    {
      "cell_type": "markdown",
      "metadata": {
        "id": "ZJ9dlghvwf87"
      },
      "source": [
        "Normalization (DEPRECATED)"
      ]
    },
    {
      "cell_type": "code",
      "execution_count": null,
      "metadata": {
        "id": "bfF8bsHAwfwh"
      },
      "outputs": [],
      "source": [
        "normalizer = sklearn.preprocessing.MinMaxScaler().fit(trainX)\n",
        "trainX = pandas.DataFrame(normalizer.transform(trainX), columns = trainX.columns)\n",
        "testX = pandas.DataFrame(normalizer.transform(testX), columns = trainX.columns)"
      ]
    },
    {
      "cell_type": "markdown",
      "metadata": {
        "id": "VlYGXWOZsn_1"
      },
      "source": [
        "INFO"
      ]
    },
    {
      "cell_type": "code",
      "execution_count": null,
      "metadata": {
        "id": "lr7EZoz6sqcp"
      },
      "outputs": [],
      "source": [
        "trainX"
      ]
    },
    {
      "cell_type": "markdown",
      "metadata": {
        "id": "WXbd6G5mdlXq"
      },
      "source": [
        "### Models and feature importances"
      ]
    },
    {
      "cell_type": "code",
      "execution_count": null,
      "metadata": {
        "colab": {
          "base_uri": "https://localhost:8080/"
        },
        "id": "iXDxQJ5nuSFA",
        "outputId": "4ecf201c-9b38-49d7-98e4-da0ff44e343e"
      },
      "outputs": [
        {
          "name": "stdout",
          "output_type": "stream",
          "text": [
            "359.0\n",
            "500.09148264984225\n",
            "203650.48058991533\n"
          ]
        }
      ],
      "source": [
        "print(numpy.median(testYRegression))\n",
        "print(numpy.average(testYRegression))\n",
        "print(numpy.var(testYRegression))"
      ]
    },
    {
      "cell_type": "markdown",
      "metadata": {
        "id": "57S0yI6yC00s"
      },
      "source": [
        "Gradient Boosting Regression"
      ]
    },
    {
      "cell_type": "code",
      "execution_count": null,
      "metadata": {
        "colab": {
          "base_uri": "https://localhost:8080/",
          "height": 373
        },
        "id": "cUn4dsHUQI0k",
        "outputId": "4f4253d8-fe00-4bd8-b9b5-0c0635499272"
      },
      "outputs": [
        {
          "data": {
            "image/png": "[encoded data removed]",
            "text/plain": [
              "<Figure size 1500x400 with 1 Axes>"
            ]
          },
          "metadata": {},
          "output_type": "display_data"
        }
      ],
      "source": [
        "figure = pyplot.figure()\n",
        "figure.set_figwidth(15)\n",
        "figure.set_figheight(4)\n",
        "\n",
        "pyplot.plot(testYRegression[:200], label = \"testY\")\n",
        "pyplot.plot(lightGBMModel.predict(testX)[:200], label = \"predicteTestY\")\n",
        "pyplot.legend()\n",
        "pyplot.show()"
      ]
    },
    {
      "cell_type": "markdown",
      "metadata": {
        "id": "7v0gkxc37c2t"
      },
      "source": []
    },
    {
      "cell_type": "code",
      "execution_count": null,
      "metadata": {
        "id": "WaZNlBnJTiw1"
      },
      "outputs": [],
      "source": [
        "lightGBMModel = lightgbm.LGBMRegressor(n_estimators = 404, num_leaves = 6, learning_rate = 0.01, boosting_type = 'gbdt', verbose = -1, random_state = 69) # Hyperparameter\n",
        "\n",
        "lightGBMModel.fit(trainX, trainYRegression)\n",
        "\n",
        "print(sklearn.metrics.mean_absolute_percentage_error(numpy.exp(testYRegression) - 1, numpy.exp(lightGBMModel.predict(testX)) - 1) * 100)\n",
        "print(sklearn.metrics.mean_absolute_error(numpy.exp(testYRegression) - 1, numpy.exp(lightGBMModel.predict(testX)) - 1))\n",
        "print(sklearn.metrics.r2_score(numpy.exp(testYRegression) - 1, numpy.exp(lightGBMModel.predict(testX)) - 1))\n",
        "print(sklearn.metrics.mean_absolute_percentage_error(testYRegression, lightGBMModel.predict(testX)) * 100)\n",
        "print(sklearn.metrics.mean_absolute_error(testYRegression - 1, lightGBMModel.predict(testX) - 1))\n",
        "print(sklearn.metrics.r2_score(testYRegression, lightGBMModel.predict(testX)))\n",
        "\n",
        "\n",
        "featureImportances = pandas.DataFrame({'Value':lightGBMModel.feature_importances_,'Feature':trainX.columns})\n",
        "\n",
        "print(featureImportances.loc[featureImportances[\"Value\"] == 0])\n",
        "lightgbm.plot_importance(lightGBMModel, importance_type=\"gain\", figsize=(7,6), title=\"LightGBM Feature Importance (Gain)\")"
      ]
    },
    {
      "cell_type": "code",
      "execution_count": null,
      "metadata": {
        "id": "e1WwiyfoC0gG"
      },
      "outputs": [],
      "source": [
        "lightGBMModel = lightgbm.LGBMRegressor(verbose = -1) # Hyperparameter\n",
        "\n",
        "lightGBMModel.fit(trainX, trainYRegression)\n",
        "\n",
        "print(sklearn.metrics.mean_absolute_percentage_error(testYRegression, lightGBMModel.predict(testX)) * 100)\n",
        "print(sklearn.metrics.mean_absolute_error(testYRegression, lightGBMModel.predict(testX)))\n",
        "\n",
        "gridParams = {\n",
        "    'learning_rate': [0.01],\n",
        "    'num_leaves': list(range(5, 35)),\n",
        "    'boosting_type' : ['gbdt'],\n",
        "    'eval_metric':['mean_squared_error'],\n",
        "    'n_estimators': list(range(280, 420)),\n",
        "    'random_state': [69]\n",
        "    }\n",
        "\n",
        "randomizedSearch = sklearn.model_selection.RandomizedSearchCV(lightGBMModel, gridParams, cv = 6, scoring = 'neg_mean_squared_error', n_iter = 50, verbose = 3)\n",
        "\n",
        "randomizedSearch.fit(trainX, trainYRegression)\n",
        "\n",
        "print(randomizedSearch.best_params_)\n",
        "print(randomizedSearch.best_score_)"
      ]
    },
    {
      "cell_type": "code",
      "execution_count": null,
      "metadata": {
        "id": "zC9RQ1jn1uTp"
      },
      "outputs": [],
      "source": [
        "trainData.info()"
      ]
    },
    {
      "cell_type": "code",
      "execution_count": null,
      "metadata": {
        "colab": {
          "base_uri": "https://localhost:8080/"
        },
        "id": "NBdQYqry3xLJ",
        "outputId": "b130e514-41b2-4723-ddec-c23afa7a9a81"
      },
      "outputs": [
        {
          "data": {
            "text/plain": [
              "47"
            ]
          },
          "execution_count": 51,
          "metadata": {},
          "output_type": "execute_result"
        }
      ],
      "source": [
        "len([0] + numpy.linspace(0.0001, 0.0009, 9).tolist() + numpy.linspace(0.001, 0.009, 9).tolist() + numpy.linspace(0.01, 0.09, 9).tolist() + numpy.linspace(0.1, 0.9, 9).tolist() + numpy.linspace(1, 9, 9).tolist() + [10])"
      ]
    },
    {
      "cell_type": "markdown",
      "metadata": {
        "id": "ZbaS3WGF4PZy"
      },
      "source": [
        "### Hyperparameter optimization and chooosing model"
      ]
    },
    {
      "cell_type": "code",
      "execution_count": 34,
      "metadata": {
        "id": "bAx5UG0E4PZz"
      },
      "outputs": [],
      "source": [
        "logUniformIncludesZero = [0] + numpy.linspace(0.0001, 0.0009, 9).tolist() + numpy.linspace(0.001, 0.009, 9).tolist() + numpy.linspace(0.01, 0.09, 9).tolist() + numpy.linspace(0.1, 0.9, 9).tolist() + numpy.linspace(1, 9, 9).tolist() + [10]"
      ]
    },
    {
      "cell_type": "code",
      "execution_count": 35,
      "metadata": {
        "id": "t6vOBbrx4PZz"
      },
      "outputs": [],
      "source": [
        "def customMAE(y_true, y_pred):\n",
        "    return 'customMAE', sklearn.metrics.mean_absolute_error(y_true, y_pred), False\n",
        "\n",
        "def optunaObjectiveMAE(trial):\n",
        "    params = {\n",
        "        'learning_rate': trial.suggest_float('learning_rate', 0.001, 0.1, log = True),\n",
        "        'num_leaves': trial.suggest_int(\"num_leaves\", 5, 101),\n",
        "        'n_estimators': trial.suggest_int(\"n_estimators\", 10, 501),\n",
        "        'reg_alpha': trial.suggest_categorical('reg_alpha', logUniformIncludesZero),\n",
        "        'reg_lambda': trial.suggest_categorical('reg_lambda', logUniformIncludesZero),\n",
        "        'min_child_samples': trial.suggest_int(\"min_child_samples\", 10, 101),\n",
        "        'n_jobs': trial.suggest_categorical('n_jobs', [2]),\n",
        "        'random_state': trial.suggest_categorical('random_state', [69]),\n",
        "        'subsample': trial.suggest_categorical('subsample', [0.5, 0.6, 0.7, 0.8, 0.9, 1]),\n",
        "        'verbose': trial.suggest_categorical('verbose', [-1]),\n",
        "    }\n",
        "\n",
        "    thisLightGBMModel = lightgbm.LGBMRegressor(metric = \"None\", **params)\n",
        "\n",
        "    kFold = sklearn.model_selection.KFold(n_splits = 6, shuffle = True, random_state = 420)\n",
        "\n",
        "    loss = []\n",
        "\n",
        "    for trainIndex, validationIndex in kFold.split(trainX):\n",
        "        trainX_cv, validationX_cv = trainX.iloc[trainIndex], trainX.iloc[validationIndex]\n",
        "        trainY_cv, validationY_cv = trainYRegression.iloc[trainIndex], trainYRegression.iloc[validationIndex]\n",
        "\n",
        "        thisLightGBMModel.fit(trainX_cv, trainY_cv, eval_metric = customMAE)\n",
        "\n",
        "        loss.append(sklearn.metrics.mean_absolute_error(validationY_cv, thisLightGBMModel.predict(validationX_cv)))\n",
        "\n",
        "    return numpy.mean(loss)"
      ]
    },
    {
      "cell_type": "code",
      "execution_count": 36,
      "metadata": {
        "id": "BzcB4Th14ySB"
      },
      "outputs": [],
      "source": [
        "def customMSE(y_true, y_pred):\n",
        "    return 'customMSE', sklearn.metrics.mean_squared_error(y_true, y_pred), False\n",
        "\n",
        "def optunaObjectiveMSE(trial):\n",
        "    params = {\n",
        "        'learning_rate': trial.suggest_float('learning_rate', 0.001, 0.1, log = True),\n",
        "        'num_leaves': trial.suggest_int(\"num_leaves\", 5, 101),\n",
        "        'n_estimators': trial.suggest_int(\"n_estimators\", 10, 501),\n",
        "        'reg_alpha': trial.suggest_categorical('reg_alpha', logUniformIncludesZero),\n",
        "        'reg_lambda': trial.suggest_categorical('reg_lambda', logUniformIncludesZero),\n",
        "        'min_child_samples': trial.suggest_int(\"min_child_samples\", 10, 101),\n",
        "        'n_jobs': trial.suggest_categorical('n_jobs', [2]),\n",
        "        'random_state': trial.suggest_categorical('random_state', [69]),\n",
        "        'subsample': trial.suggest_categorical('subsample', [0.5, 0.6, 0.7, 0.8, 0.9, 1]),\n",
        "        'verbose': trial.suggest_categorical('verbose', [-1]),\n",
        "    }\n",
        "\n",
        "    thisLightGBMModel = lightgbm.LGBMRegressor(metric = \"None\", **params)\n",
        "\n",
        "    kFold = sklearn.model_selection.KFold(n_splits = 6, shuffle = True, random_state = 420)\n",
        "\n",
        "    loss = []\n",
        "\n",
        "    for trainIndex, validationIndex in kFold.split(trainX):\n",
        "        trainX_cv, validationX_cv = trainX.iloc[trainIndex], trainX.iloc[validationIndex]\n",
        "        trainY_cv, validationY_cv = trainYRegression.iloc[trainIndex], trainYRegression.iloc[validationIndex]\n",
        "\n",
        "        thisLightGBMModel.fit(trainX_cv, trainY_cv, eval_metric = customMSE)\n",
        "\n",
        "        loss.append(sklearn.metrics.mean_absolute_error(validationY_cv, thisLightGBMModel.predict(validationX_cv)))\n",
        "\n",
        "    return numpy.mean(loss)"
      ]
    },
    {
      "cell_type": "code",
      "source": [
        "def customMAPE(y_true, y_pred):\n",
        "    return 'customMSE', sklearn.metrics.mean_absolute_percentage_error(y_true, y_pred), False\n",
        "\n",
        "def optunaObjectiveMAPE(trial):\n",
        "    params = {\n",
        "        'learning_rate': trial.suggest_float('learning_rate', 0.001, 0.1, log = True),\n",
        "        'num_leaves': trial.suggest_int(\"num_leaves\", 5, 101),\n",
        "        'n_estimators': trial.suggest_int(\"n_estimators\", 10, 501),\n",
        "        'reg_alpha': trial.suggest_categorical('reg_alpha', logUniformIncludesZero),\n",
        "        'reg_lambda': trial.suggest_categorical('reg_lambda', logUniformIncludesZero),\n",
        "        'min_child_samples': trial.suggest_int(\"min_child_samples\", 10, 101),\n",
        "        'n_jobs': trial.suggest_categorical('n_jobs', [2]),\n",
        "        'random_state': trial.suggest_categorical('random_state', [69]),\n",
        "        'subsample': trial.suggest_categorical('subsample', [0.5, 0.6, 0.7, 0.8, 0.9, 1]),\n",
        "        'verbose': trial.suggest_categorical('verbose', [-1]),\n",
        "    }\n",
        "\n",
        "    thisLightGBMModel = lightgbm.LGBMRegressor(metric = \"None\", **params)\n",
        "\n",
        "    kFold = sklearn.model_selection.KFold(n_splits = 6, shuffle = True, random_state = 420)\n",
        "\n",
        "    loss = []\n",
        "\n",
        "    for trainIndex, validationIndex in kFold.split(trainX):\n",
        "        trainX_cv, validationX_cv = trainX.iloc[trainIndex], trainX.iloc[validationIndex]\n",
        "        trainY_cv, validationY_cv = trainYRegression.iloc[trainIndex], trainYRegression.iloc[validationIndex]\n",
        "\n",
        "        thisLightGBMModel.fit(trainX_cv, trainY_cv, eval_metric = customMAPE)\n",
        "\n",
        "        loss.append(sklearn.metrics.mean_absolute_error(validationY_cv, thisLightGBMModel.predict(validationX_cv)))\n",
        "\n",
        "    return numpy.mean(loss)"
      ],
      "metadata": {
        "id": "CV4Kcldui-gB"
      },
      "execution_count": 53,
      "outputs": []
    },
    {
      "cell_type": "code",
      "source": [
        "data = rawData"
      ],
      "metadata": {
        "id": "jH7_Klzcb6iS"
      },
      "execution_count": 41,
      "outputs": []
    },
    {
      "cell_type": "code",
      "source": [
        "rawData.info()"
      ],
      "metadata": {
        "id": "gPOxdXSKrvWZ"
      },
      "execution_count": null,
      "outputs": []
    },
    {
      "cell_type": "code",
      "execution_count": 59,
      "metadata": {
        "colab": {
          "base_uri": "https://localhost:8080/"
        },
        "id": "RYPSKMtJ4PZz",
        "outputId": "8c51bcc5-44e9-46c1-d0ea-83c3e040afe1"
      },
      "outputs": [
        {
          "output_type": "stream",
          "name": "stdout",
          "text": [
            "\n",
            "\n",
            "\n",
            "Start optimizing\n",
            "{'lossFunction': 'mae'} "
          ]
        },
        {
          "output_type": "stream",
          "name": "stderr",
          "text": [
            "[I 2024-05-17 12:38:29,092] A new study created in memory with name: no-name-193fb584-49a7-4d8b-a748-5cadda55fb59\n",
            "[I 2024-05-17 12:38:29,840] Trial 0 finished with value: 284.8028769339683 and parameters: {'learning_rate': 0.011179289065124531, 'num_leaves': 10, 'n_estimators': 380, 'reg_alpha': 0.00019999999999999998, 'reg_lambda': 1.0, 'min_child_samples': 90, 'n_jobs': 2, 'random_state': 69, 'subsample': 0.5, 'verbose': -1}. Best is trial 0 with value: 284.8028769339683.\n",
            "[I 2024-05-17 12:38:30,827] Trial 1 finished with value: 290.9287218047625 and parameters: {'learning_rate': 0.042804855111078115, 'num_leaves': 35, 'n_estimators': 362, 'reg_alpha': 7.0, 'reg_lambda': 0.001, 'min_child_samples': 63, 'n_jobs': 2, 'random_state': 69, 'subsample': 0.5, 'verbose': -1}. Best is trial 0 with value: 284.8028769339683.\n",
            "[I 2024-05-17 12:38:31,842] Trial 2 finished with value: 288.1788371201643 and parameters: {'learning_rate': 0.006295834453917011, 'num_leaves': 67, 'n_estimators': 147, 'reg_alpha': 0.002, 'reg_lambda': 0.00039999999999999996, 'min_child_samples': 23, 'n_jobs': 2, 'random_state': 69, 'subsample': 0.9, 'verbose': -1}. Best is trial 0 with value: 284.8028769339683.\n",
            "[I 2024-05-17 12:38:33,109] Trial 3 finished with value: 286.9236101450987 and parameters: {'learning_rate': 0.0712611273938631, 'num_leaves': 82, 'n_estimators': 100, 'reg_alpha': 4.0, 'reg_lambda': 0.008, 'min_child_samples': 68, 'n_jobs': 2, 'random_state': 69, 'subsample': 0.8, 'verbose': -1}. Best is trial 0 with value: 284.8028769339683.\n",
            "[I 2024-05-17 12:38:36,276] Trial 4 finished with value: 271.2050203964424 and parameters: {'learning_rate': 0.013963620012225647, 'num_leaves': 77, 'n_estimators': 261, 'reg_alpha': 6.0, 'reg_lambda': 0.009, 'min_child_samples': 37, 'n_jobs': 2, 'random_state': 69, 'subsample': 1, 'verbose': -1}. Best is trial 4 with value: 271.2050203964424.\n",
            "[I 2024-05-17 12:38:36,537] Trial 5 finished with value: 285.79162229100103 and parameters: {'learning_rate': 0.05804192041967881, 'num_leaves': 65, 'n_estimators': 90, 'reg_alpha': 0.0006000000000000001, 'reg_lambda': 4.0, 'min_child_samples': 80, 'n_jobs': 2, 'random_state': 69, 'subsample': 0.8, 'verbose': -1}. Best is trial 4 with value: 271.2050203964424.\n",
            "[I 2024-05-17 12:38:37,223] Trial 6 finished with value: 290.47819556078554 and parameters: {'learning_rate': 0.044421647823410335, 'num_leaves': 99, 'n_estimators': 297, 'reg_alpha': 0.008, 'reg_lambda': 0.008, 'min_child_samples': 82, 'n_jobs': 2, 'random_state': 69, 'subsample': 1, 'verbose': -1}. Best is trial 4 with value: 271.2050203964424.\n",
            "[I 2024-05-17 12:38:37,462] Trial 7 finished with value: 335.57884170891924 and parameters: {'learning_rate': 0.00468465238540725, 'num_leaves': 67, 'n_estimators': 40, 'reg_alpha': 7.0, 'reg_lambda': 0.0006000000000000001, 'min_child_samples': 39, 'n_jobs': 2, 'random_state': 69, 'subsample': 0.7, 'verbose': -1}. Best is trial 4 with value: 271.2050203964424.\n",
            "[I 2024-05-17 12:38:38,073] Trial 8 finished with value: 285.0802024751586 and parameters: {'learning_rate': 0.01779461358819736, 'num_leaves': 99, 'n_estimators': 247, 'reg_alpha': 0.005, 'reg_lambda': 0.0007, 'min_child_samples': 76, 'n_jobs': 2, 'random_state': 69, 'subsample': 0.6, 'verbose': -1}. Best is trial 4 with value: 271.2050203964424.\n",
            "[I 2024-05-17 12:38:38,776] Trial 9 finished with value: 281.208762984234 and parameters: {'learning_rate': 0.011205062905206217, 'num_leaves': 65, 'n_estimators': 221, 'reg_alpha': 0.007, 'reg_lambda': 0.6, 'min_child_samples': 54, 'n_jobs': 2, 'random_state': 69, 'subsample': 0.9, 'verbose': -1}. Best is trial 4 with value: 271.2050203964424.\n",
            "[I 2024-05-17 12:38:41,727] Trial 10 finished with value: 289.7916132440653 and parameters: {'learning_rate': 0.0017441520377923165, 'num_leaves': 34, 'n_estimators': 501, 'reg_alpha': 2.0, 'reg_lambda': 0.009, 'min_child_samples': 11, 'n_jobs': 2, 'random_state': 69, 'subsample': 1, 'verbose': -1}. Best is trial 4 with value: 271.2050203964424.\n",
            "[I 2024-05-17 12:38:42,519] Trial 11 finished with value: 276.4599036236679 and parameters: {'learning_rate': 0.01673276626594744, 'num_leaves': 43, 'n_estimators': 206, 'reg_alpha': 6.0, 'reg_lambda': 0.6, 'min_child_samples': 44, 'n_jobs': 2, 'random_state': 69, 'subsample': 0.9, 'verbose': -1}. Best is trial 4 with value: 271.2050203964424.\n",
            "[I 2024-05-17 12:38:43,279] Trial 12 finished with value: 274.41789359842807 and parameters: {'learning_rate': 0.02555555321035679, 'num_leaves': 39, 'n_estimators': 185, 'reg_alpha': 6.0, 'reg_lambda': 0.007, 'min_child_samples': 41, 'n_jobs': 2, 'random_state': 69, 'subsample': 1, 'verbose': -1}. Best is trial 4 with value: 271.2050203964424.\n",
            "[I 2024-05-17 12:38:44,563] Trial 13 finished with value: 271.2172087120989 and parameters: {'learning_rate': 0.02507540105655849, 'num_leaves': 18, 'n_estimators': 345, 'reg_alpha': 6.0, 'reg_lambda': 0.007, 'min_child_samples': 31, 'n_jobs': 2, 'random_state': 69, 'subsample': 1, 'verbose': -1}. Best is trial 4 with value: 271.2050203964424.\n",
            "[I 2024-05-17 12:38:45,658] Trial 14 finished with value: 283.2200273643842 and parameters: {'learning_rate': 0.0036878986688226112, 'num_leaves': 18, 'n_estimators': 318, 'reg_alpha': 1.0, 'reg_lambda': 0.00019999999999999998, 'min_child_samples': 25, 'n_jobs': 2, 'random_state': 69, 'subsample': 1, 'verbose': -1}. Best is trial 4 with value: 271.2050203964424.\n",
            "[I 2024-05-17 12:38:51,316] Trial 15 finished with value: 276.6225663099251 and parameters: {'learning_rate': 0.027076203879172183, 'num_leaves': 86, 'n_estimators': 443, 'reg_alpha': 0, 'reg_lambda': 0, 'min_child_samples': 28, 'n_jobs': 2, 'random_state': 69, 'subsample': 1, 'verbose': -1}. Best is trial 4 with value: 271.2050203964424.\n",
            "[I 2024-05-17 12:38:53,734] Trial 16 finished with value: 315.93782348209066 and parameters: {'learning_rate': 0.0011572515587218938, 'num_leaves': 52, 'n_estimators': 306, 'reg_alpha': 0.0007999999999999999, 'reg_lambda': 0.08, 'min_child_samples': 14, 'n_jobs': 2, 'random_state': 69, 'subsample': 0.6, 'verbose': -1}. Best is trial 4 with value: 271.2050203964424.\n",
            "[I 2024-05-17 12:38:54,965] Trial 17 finished with value: 279.6667881109084 and parameters: {'learning_rate': 0.008008570524507987, 'num_leaves': 21, 'n_estimators': 387, 'reg_alpha': 5.0, 'reg_lambda': 0.06999999999999999, 'min_child_samples': 51, 'n_jobs': 2, 'random_state': 69, 'subsample': 0.7, 'verbose': -1}. Best is trial 4 with value: 271.2050203964424.\n",
            "[I 2024-05-17 12:38:55,465] Trial 18 finished with value: 272.89009107133967 and parameters: {'learning_rate': 0.09373173463746932, 'num_leaves': 6, 'n_estimators': 276, 'reg_alpha': 9.0, 'reg_lambda': 0.7000000000000001, 'min_child_samples': 32, 'n_jobs': 2, 'random_state': 69, 'subsample': 1, 'verbose': -1}. Best is trial 4 with value: 271.2050203964424.\n",
            "[I 2024-05-17 12:38:57,597] Trial 19 finished with value: 277.3681690366688 and parameters: {'learning_rate': 0.029017792897572278, 'num_leaves': 78, 'n_estimators': 434, 'reg_alpha': 0.0007, 'reg_lambda': 0.0001, 'min_child_samples': 34, 'n_jobs': 2, 'random_state': 69, 'subsample': 1, 'verbose': -1}. Best is trial 4 with value: 271.2050203964424.\n",
            "[I 2024-05-17 12:38:58,296] Trial 20 finished with value: 303.5716650693028 and parameters: {'learning_rate': 0.0028608782041118766, 'num_leaves': 52, 'n_estimators': 350, 'reg_alpha': 0.4, 'reg_lambda': 0.02, 'min_child_samples': 100, 'n_jobs': 2, 'random_state': 69, 'subsample': 1, 'verbose': -1}. Best is trial 4 with value: 271.2050203964424.\n",
            "[I 2024-05-17 12:38:59,003] Trial 21 finished with value: 265.51502694450227 and parameters: {'learning_rate': 0.014767955285671944, 'num_leaves': 10, 'n_estimators': 268, 'reg_alpha': 0.0001, 'reg_lambda': 0.7000000000000001, 'min_child_samples': 31, 'n_jobs': 2, 'random_state': 69, 'subsample': 1, 'verbose': -1}. Best is trial 21 with value: 265.51502694450227.\n",
            "[I 2024-05-17 12:39:00,300] Trial 22 finished with value: 263.6150116138709 and parameters: {'learning_rate': 0.016410601007867655, 'num_leaves': 23, 'n_estimators': 261, 'reg_alpha': 0.0001, 'reg_lambda': 0.2, 'min_child_samples': 19, 'n_jobs': 2, 'random_state': 69, 'subsample': 1, 'verbose': -1}. Best is trial 22 with value: 263.6150116138709.\n",
            "[I 2024-05-17 12:39:04,864] Trial 23 finished with value: 264.66263817371873 and parameters: {'learning_rate': 0.016776113359603367, 'num_leaves': 25, 'n_estimators': 258, 'reg_alpha': 10, 'reg_lambda': 0.2, 'min_child_samples': 21, 'n_jobs': 2, 'random_state': 69, 'subsample': 1, 'verbose': -1}. Best is trial 22 with value: 263.6150116138709.\n",
            "[I 2024-05-17 12:39:05,762] Trial 24 finished with value: 278.80894705031295 and parameters: {'learning_rate': 0.007409068868601954, 'num_leaves': 28, 'n_estimators': 172, 'reg_alpha': 0.0001, 'reg_lambda': 0.2, 'min_child_samples': 18, 'n_jobs': 2, 'random_state': 69, 'subsample': 1, 'verbose': -1}. Best is trial 22 with value: 263.6150116138709.\n",
            "[I 2024-05-17 12:39:06,934] Trial 25 finished with value: 263.85117938901425 and parameters: {'learning_rate': 0.017859568310245752, 'num_leaves': 26, 'n_estimators': 240, 'reg_alpha': 0.0001, 'reg_lambda': 8.0, 'min_child_samples': 20, 'n_jobs': 2, 'random_state': 69, 'subsample': 0.6, 'verbose': -1}. Best is trial 22 with value: 263.6150116138709.\n",
            "[I 2024-05-17 12:39:07,672] Trial 26 finished with value: 263.9839652122185 and parameters: {'learning_rate': 0.03895056443102958, 'num_leaves': 26, 'n_estimators': 133, 'reg_alpha': 10, 'reg_lambda': 8.0, 'min_child_samples': 19, 'n_jobs': 2, 'random_state': 69, 'subsample': 0.6, 'verbose': -1}. Best is trial 22 with value: 263.6150116138709.\n",
            "[I 2024-05-17 12:39:08,539] Trial 27 finished with value: 265.6395525737428 and parameters: {'learning_rate': 0.03521383978563732, 'num_leaves': 45, 'n_estimators': 110, 'reg_alpha': 10, 'reg_lambda': 0.30000000000000004, 'min_child_samples': 16, 'n_jobs': 2, 'random_state': 69, 'subsample': 0.6, 'verbose': -1}. Best is trial 22 with value: 263.6150116138709.\n",
            "[I 2024-05-17 12:39:08,708] Trial 28 finished with value: 328.5169383921364 and parameters: {'learning_rate': 0.021583841122931206, 'num_leaves': 30, 'n_estimators': 10, 'reg_alpha': 0.0001, 'reg_lambda': 8.0, 'min_child_samples': 11, 'n_jobs': 2, 'random_state': 69, 'subsample': 0.6, 'verbose': -1}. Best is trial 22 with value: 263.6150116138709.\n",
            "[I 2024-05-17 12:39:09,177] Trial 29 finished with value: 282.68631780366746 and parameters: {'learning_rate': 0.0576148495163493, 'num_leaves': 14, 'n_estimators': 142, 'reg_alpha': 0.2, 'reg_lambda': 8.0, 'min_child_samples': 48, 'n_jobs': 2, 'random_state': 69, 'subsample': 0.6, 'verbose': -1}. Best is trial 22 with value: 263.6150116138709.\n",
            "[I 2024-05-17 12:39:09,615] Trial 30 finished with value: 286.73198816890937 and parameters: {'learning_rate': 0.010350894825935498, 'num_leaves': 6, 'n_estimators': 217, 'reg_alpha': 0.08, 'reg_lambda': 10, 'min_child_samples': 61, 'n_jobs': 2, 'random_state': 69, 'subsample': 0.5, 'verbose': -1}. Best is trial 22 with value: 263.6150116138709.\n",
            "[I 2024-05-17 12:39:10,459] Trial 31 finished with value: 265.32034172568825 and parameters: {'learning_rate': 0.019220183209792102, 'num_leaves': 26, 'n_estimators': 170, 'reg_alpha': 0.004, 'reg_lambda': 0.2, 'min_child_samples': 20, 'n_jobs': 2, 'random_state': 69, 'subsample': 0.6, 'verbose': -1}. Best is trial 22 with value: 263.6150116138709.\n",
            "[I 2024-05-17 12:39:11,569] Trial 32 finished with value: 270.87438249407046 and parameters: {'learning_rate': 0.03609287264043425, 'num_leaves': 24, 'n_estimators': 244, 'reg_alpha': 10, 'reg_lambda': 0.9, 'min_child_samples': 25, 'n_jobs': 2, 'random_state': 69, 'subsample': 0.6, 'verbose': -1}. Best is trial 22 with value: 263.6150116138709.\n",
            "[I 2024-05-17 12:39:12,276] Trial 33 finished with value: 273.2950849823072 and parameters: {'learning_rate': 0.012379858900043963, 'num_leaves': 32, 'n_estimators': 132, 'reg_alpha': 0.0003, 'reg_lambda': 0.0005, 'min_child_samples': 20, 'n_jobs': 2, 'random_state': 69, 'subsample': 0.5, 'verbose': -1}. Best is trial 22 with value: 263.6150116138709.\n",
            "[I 2024-05-17 12:39:12,731] Trial 34 finished with value: 313.307922922254 and parameters: {'learning_rate': 0.007150841723700355, 'num_leaves': 40, 'n_estimators': 56, 'reg_alpha': 0.001, 'reg_lambda': 0.8, 'min_child_samples': 21, 'n_jobs': 2, 'random_state': 69, 'subsample': 0.8, 'verbose': -1}. Best is trial 22 with value: 263.6150116138709.\n",
            "[I 2024-05-17 12:39:13,556] Trial 35 finished with value: 265.999665444419 and parameters: {'learning_rate': 0.04586469069588896, 'num_leaves': 17, 'n_estimators': 199, 'reg_alpha': 0.02, 'reg_lambda': 6.0, 'min_child_samples': 11, 'n_jobs': 2, 'random_state': 69, 'subsample': 0.6, 'verbose': -1}. Best is trial 22 with value: 263.6150116138709.\n",
            "[I 2024-05-17 12:39:14,686] Trial 36 finished with value: 267.9144391622072 and parameters: {'learning_rate': 0.03299838847288106, 'num_leaves': 23, 'n_estimators': 242, 'reg_alpha': 0.01, 'reg_lambda': 7.0, 'min_child_samples': 23, 'n_jobs': 2, 'random_state': 69, 'subsample': 0.7, 'verbose': -1}. Best is trial 22 with value: 263.6150116138709.\n",
            "[I 2024-05-17 12:39:19,315] Trial 37 finished with value: 267.60532968568435 and parameters: {'learning_rate': 0.009054996792824862, 'num_leaves': 48, 'n_estimators': 287, 'reg_alpha': 8.0, 'reg_lambda': 0.0003, 'min_child_samples': 27, 'n_jobs': 2, 'random_state': 69, 'subsample': 0.8, 'verbose': -1}. Best is trial 22 with value: 263.6150116138709.\n",
            "[I 2024-05-17 12:39:21,670] Trial 38 finished with value: 268.88035756101493 and parameters: {'learning_rate': 0.005499068386960447, 'num_leaves': 36, 'n_estimators': 387, 'reg_alpha': 0.5, 'reg_lambda': 0.5, 'min_child_samples': 16, 'n_jobs': 2, 'random_state': 69, 'subsample': 0.5, 'verbose': -1}. Best is trial 22 with value: 263.6150116138709.\n",
            "[I 2024-05-17 12:39:22,519] Trial 39 finished with value: 264.8709603275979 and parameters: {'learning_rate': 0.013553825530762951, 'num_leaves': 11, 'n_estimators': 333, 'reg_alpha': 0.05, 'reg_lambda': 0.0007999999999999999, 'min_child_samples': 36, 'n_jobs': 2, 'random_state': 69, 'subsample': 0.9, 'verbose': -1}. Best is trial 22 with value: 263.6150116138709.\n",
            "[I 2024-05-17 12:39:22,983] Trial 40 finished with value: 276.67057388287384 and parameters: {'learning_rate': 0.020935081025507816, 'num_leaves': 59, 'n_estimators': 76, 'reg_alpha': 0.6, 'reg_lambda': 0.04, 'min_child_samples': 29, 'n_jobs': 2, 'random_state': 69, 'subsample': 0.6, 'verbose': -1}. Best is trial 22 with value: 263.6150116138709.\n",
            "[I 2024-05-17 12:39:23,883] Trial 41 finished with value: 270.71783633093486 and parameters: {'learning_rate': 0.013693938429877966, 'num_leaves': 13, 'n_estimators': 327, 'reg_alpha': 0.05, 'reg_lambda': 0.060000000000000005, 'min_child_samples': 37, 'n_jobs': 2, 'random_state': 69, 'subsample': 0.9, 'verbose': -1}. Best is trial 22 with value: 263.6150116138709.\n",
            "[I 2024-05-17 12:39:24,591] Trial 42 finished with value: 264.26155245985274 and parameters: {'learning_rate': 0.015964341896102983, 'num_leaves': 12, 'n_estimators': 229, 'reg_alpha': 0.006, 'reg_lambda': 3.0, 'min_child_samples': 15, 'n_jobs': 2, 'random_state': 69, 'subsample': 0.9, 'verbose': -1}. Best is trial 22 with value: 263.6150116138709.\n",
            "[I 2024-05-17 12:39:25,863] Trial 43 finished with value: 277.57960878741375 and parameters: {'learning_rate': 0.058505482476800576, 'num_leaves': 28, 'n_estimators': 238, 'reg_alpha': 0.7000000000000001, 'reg_lambda': 3.0, 'min_child_samples': 15, 'n_jobs': 2, 'random_state': 69, 'subsample': 0.9, 'verbose': -1}. Best is trial 22 with value: 263.6150116138709.\n",
            "[I 2024-05-17 12:39:26,669] Trial 44 finished with value: 273.28970934790124 and parameters: {'learning_rate': 0.010281370634733186, 'num_leaves': 23, 'n_estimators': 154, 'reg_alpha': 0.006, 'reg_lambda': 0.004, 'min_child_samples': 10, 'n_jobs': 2, 'random_state': 69, 'subsample': 0.9, 'verbose': -1}. Best is trial 22 with value: 263.6150116138709.\n",
            "[I 2024-05-17 12:39:27,422] Trial 45 finished with value: 285.51493082120487 and parameters: {'learning_rate': 0.015812220736706777, 'num_leaves': 34, 'n_estimators': 265, 'reg_alpha': 0.30000000000000004, 'reg_lambda': 0.09, 'min_child_samples': 70, 'n_jobs': 2, 'random_state': 69, 'subsample': 0.7, 'verbose': -1}. Best is trial 22 with value: 263.6150116138709.\n",
            "[I 2024-05-17 12:39:27,912] Trial 46 finished with value: 268.8465592684483 and parameters: {'learning_rate': 0.0197118489267795, 'num_leaves': 16, 'n_estimators': 121, 'reg_alpha': 0.03, 'reg_lambda': 0.002, 'min_child_samples': 24, 'n_jobs': 2, 'random_state': 69, 'subsample': 0.9, 'verbose': -1}. Best is trial 22 with value: 263.6150116138709.\n",
            "[I 2024-05-17 12:39:28,833] Trial 47 finished with value: 269.7589976648085 and parameters: {'learning_rate': 0.044914318582650985, 'num_leaves': 20, 'n_estimators': 219, 'reg_alpha': 3.0, 'reg_lambda': 0.1, 'min_child_samples': 19, 'n_jobs': 2, 'random_state': 69, 'subsample': 0.6, 'verbose': -1}. Best is trial 22 with value: 263.6150116138709.\n",
            "[I 2024-05-17 12:39:32,017] Trial 48 finished with value: 273.6950349420757 and parameters: {'learning_rate': 0.022955921751347676, 'num_leaves': 39, 'n_estimators': 191, 'reg_alpha': 0.8, 'reg_lambda': 0.003, 'min_child_samples': 41, 'n_jobs': 2, 'random_state': 69, 'subsample': 0.8, 'verbose': -1}. Best is trial 22 with value: 263.6150116138709.\n",
            "[I 2024-05-17 12:39:33,692] Trial 49 finished with value: 264.1987082179521 and parameters: {'learning_rate': 0.01752468985520725, 'num_leaves': 9, 'n_estimators': 288, 'reg_alpha': 0.060000000000000005, 'reg_lambda': 0.006, 'min_child_samples': 14, 'n_jobs': 2, 'random_state': 69, 'subsample': 1, 'verbose': -1}. Best is trial 22 with value: 263.6150116138709.\n",
            "[I 2024-05-17 12:39:34,164] Trial 50 finished with value: 272.104838201233 and parameters: {'learning_rate': 0.01146520719868442, 'num_leaves': 6, 'n_estimators': 230, 'reg_alpha': 0.060000000000000005, 'reg_lambda': 0.006, 'min_child_samples': 13, 'n_jobs': 2, 'random_state': 69, 'subsample': 0.6, 'verbose': -1}. Best is trial 22 with value: 263.6150116138709.\n",
            "[I 2024-05-17 12:39:34,953] Trial 51 finished with value: 263.3626312119745 and parameters: {'learning_rate': 0.01730751986824545, 'num_leaves': 10, 'n_estimators': 303, 'reg_alpha': 0.0005, 'reg_lambda': 0.03, 'min_child_samples': 16, 'n_jobs': 2, 'random_state': 69, 'subsample': 1, 'verbose': -1}. Best is trial 51 with value: 263.3626312119745.\n",
            "[I 2024-05-17 12:39:35,681] Trial 52 finished with value: 263.2364204896648 and parameters: {'learning_rate': 0.02786499852657541, 'num_leaves': 9, 'n_estimators': 297, 'reg_alpha': 0.1, 'reg_lambda': 0.005, 'min_child_samples': 16, 'n_jobs': 2, 'random_state': 69, 'subsample': 1, 'verbose': -1}. Best is trial 52 with value: 263.2364204896648.\n",
            "[I 2024-05-17 12:39:36,165] Trial 53 finished with value: 264.7674440788243 and parameters: {'learning_rate': 0.02852623370893579, 'num_leaves': 5, 'n_estimators': 298, 'reg_alpha': 0.1, 'reg_lambda': 0.03, 'min_child_samples': 26, 'n_jobs': 2, 'random_state': 69, 'subsample': 1, 'verbose': -1}. Best is trial 52 with value: 263.2364204896648.\n",
            "[I 2024-05-17 12:39:37,033] Trial 54 finished with value: 266.53227619975905 and parameters: {'learning_rate': 0.037618864370486706, 'num_leaves': 9, 'n_estimators': 368, 'reg_alpha': 0.00019999999999999998, 'reg_lambda': 0.005, 'min_child_samples': 18, 'n_jobs': 2, 'random_state': 69, 'subsample': 1, 'verbose': -1}. Best is trial 52 with value: 263.2364204896648.\n",
            "[I 2024-05-17 12:39:38,248] Trial 55 finished with value: 266.2346913097933 and parameters: {'learning_rate': 0.024089906354406037, 'num_leaves': 19, 'n_estimators': 311, 'reg_alpha': 0.0005, 'reg_lambda': 9.0, 'min_child_samples': 23, 'n_jobs': 2, 'random_state': 69, 'subsample': 1, 'verbose': -1}. Best is trial 52 with value: 263.2364204896648.\n",
            "[I 2024-05-17 12:39:39,512] Trial 56 finished with value: 279.04657499770195 and parameters: {'learning_rate': 0.05092028426985932, 'num_leaves': 15, 'n_estimators': 415, 'reg_alpha': 0.09, 'reg_lambda': 0.4, 'min_child_samples': 10, 'n_jobs': 2, 'random_state': 69, 'subsample': 1, 'verbose': -1}. Best is trial 52 with value: 263.2364204896648.\n",
            "[I 2024-05-17 12:39:40,131] Trial 57 finished with value: 291.775897071288 and parameters: {'learning_rate': 0.07810853970763507, 'num_leaves': 9, 'n_estimators': 284, 'reg_alpha': 0.0009, 'reg_lambda': 1.0, 'min_child_samples': 84, 'n_jobs': 2, 'random_state': 69, 'subsample': 1, 'verbose': -1}. Best is trial 52 with value: 263.2364204896648.\n",
            "[I 2024-05-17 12:39:41,876] Trial 58 finished with value: 273.77144372950676 and parameters: {'learning_rate': 0.029134641856630412, 'num_leaves': 94, 'n_estimators': 337, 'reg_alpha': 0.003, 'reg_lambda': 5.0, 'min_child_samples': 29, 'n_jobs': 2, 'random_state': 69, 'subsample': 1, 'verbose': -1}. Best is trial 52 with value: 263.2364204896648.\n",
            "[I 2024-05-17 12:39:43,907] Trial 59 finished with value: 265.8037569112018 and parameters: {'learning_rate': 0.018487838654886048, 'num_leaves': 21, 'n_estimators': 356, 'reg_alpha': 0.9, 'reg_lambda': 0.001, 'min_child_samples': 14, 'n_jobs': 2, 'random_state': 69, 'subsample': 1, 'verbose': -1}. Best is trial 52 with value: 263.2364204896648.\n",
            "[I 2024-05-17 12:39:47,371] Trial 60 finished with value: 265.9875048081977 and parameters: {'learning_rate': 0.03188183766395431, 'num_leaves': 9, 'n_estimators': 273, 'reg_alpha': 0.04, 'reg_lambda': 0.00039999999999999996, 'min_child_samples': 32, 'n_jobs': 2, 'random_state': 69, 'subsample': 1, 'verbose': -1}. Best is trial 52 with value: 263.2364204896648.\n",
            "[I 2024-05-17 12:39:48,402] Trial 61 finished with value: 263.497385114248 and parameters: {'learning_rate': 0.01667140644610774, 'num_leaves': 14, 'n_estimators': 309, 'reg_alpha': 0.00039999999999999996, 'reg_lambda': 8.0, 'min_child_samples': 16, 'n_jobs': 2, 'random_state': 69, 'subsample': 1, 'verbose': -1}. Best is trial 52 with value: 263.2364204896648.\n",
            "[I 2024-05-17 12:39:49,527] Trial 62 finished with value: 263.9694923075624 and parameters: {'learning_rate': 0.023023545948619877, 'num_leaves': 15, 'n_estimators': 317, 'reg_alpha': 0.002, 'reg_lambda': 8.0, 'min_child_samples': 18, 'n_jobs': 2, 'random_state': 69, 'subsample': 1, 'verbose': -1}. Best is trial 52 with value: 263.2364204896648.\n",
            "[I 2024-05-17 12:39:50,527] Trial 63 finished with value: 264.6782752707314 and parameters: {'learning_rate': 0.02477791538926959, 'num_leaves': 14, 'n_estimators': 308, 'reg_alpha': 0.00039999999999999996, 'reg_lambda': 8.0, 'min_child_samples': 23, 'n_jobs': 2, 'random_state': 69, 'subsample': 1, 'verbose': -1}. Best is trial 52 with value: 263.2364204896648.\n",
            "[I 2024-05-17 12:39:52,434] Trial 64 finished with value: 262.7072998202846 and parameters: {'learning_rate': 0.01326525822881112, 'num_leaves': 29, 'n_estimators': 369, 'reg_alpha': 0.002, 'reg_lambda': 8.0, 'min_child_samples': 18, 'n_jobs': 2, 'random_state': 69, 'subsample': 1, 'verbose': -1}. Best is trial 64 with value: 262.7072998202846.\n",
            "[I 2024-05-17 12:39:53,735] Trial 65 finished with value: 263.57920625876756 and parameters: {'learning_rate': 0.012195618932025714, 'num_leaves': 19, 'n_estimators': 324, 'reg_alpha': 0.002, 'reg_lambda': 0.05, 'min_child_samples': 17, 'n_jobs': 2, 'random_state': 69, 'subsample': 1, 'verbose': -1}. Best is trial 64 with value: 262.7072998202846.\n",
            "[I 2024-05-17 12:39:55,186] Trial 66 finished with value: 266.3369495325449 and parameters: {'learning_rate': 0.008898448691077898, 'num_leaves': 20, 'n_estimators': 368, 'reg_alpha': 0.009, 'reg_lambda': 0.05, 'min_child_samples': 13, 'n_jobs': 2, 'random_state': 69, 'subsample': 1, 'verbose': -1}. Best is trial 64 with value: 262.7072998202846.\n",
            "[I 2024-05-17 12:39:56,595] Trial 67 finished with value: 265.28320351367324 and parameters: {'learning_rate': 0.011924355282278398, 'num_leaves': 32, 'n_estimators': 256, 'reg_alpha': 0.002, 'reg_lambda': 0.0009, 'min_child_samples': 17, 'n_jobs': 2, 'random_state': 69, 'subsample': 1, 'verbose': -1}. Best is trial 64 with value: 262.7072998202846.\n",
            "[I 2024-05-17 12:40:02,054] Trial 68 finished with value: 267.6038240625866 and parameters: {'learning_rate': 0.01426843379945745, 'num_leaves': 28, 'n_estimators': 384, 'reg_alpha': 0.06999999999999999, 'reg_lambda': 2.0, 'min_child_samples': 22, 'n_jobs': 2, 'random_state': 69, 'subsample': 1, 'verbose': -1}. Best is trial 64 with value: 262.7072998202846.\n",
            "[I 2024-05-17 12:40:02,776] Trial 69 finished with value: 289.2362643395327 and parameters: {'learning_rate': 0.00581737152520657, 'num_leaves': 72, 'n_estimators': 344, 'reg_alpha': 4.0, 'reg_lambda': 0.005, 'min_child_samples': 100, 'n_jobs': 2, 'random_state': 69, 'subsample': 1, 'verbose': -1}. Best is trial 64 with value: 262.7072998202846.\n",
            "[I 2024-05-17 12:40:04,460] Trial 70 finished with value: 265.0821346181479 and parameters: {'learning_rate': 0.009479812942471052, 'num_leaves': 22, 'n_estimators': 400, 'reg_alpha': 0.0006000000000000001, 'reg_lambda': 0.05, 'min_child_samples': 27, 'n_jobs': 2, 'random_state': 69, 'subsample': 0.7, 'verbose': -1}. Best is trial 64 with value: 262.7072998202846.\n",
            "[I 2024-05-17 12:40:05,790] Trial 71 finished with value: 262.69452940807383 and parameters: {'learning_rate': 0.02123379730230682, 'num_leaves': 17, 'n_estimators': 314, 'reg_alpha': 0.002, 'reg_lambda': 8.0, 'min_child_samples': 18, 'n_jobs': 2, 'random_state': 69, 'subsample': 1, 'verbose': -1}. Best is trial 71 with value: 262.69452940807383.\n",
            "[I 2024-05-17 12:40:06,824] Trial 72 finished with value: 279.9643215108244 and parameters: {'learning_rate': 0.013265004294014292, 'num_leaves': 17, 'n_estimators': 324, 'reg_alpha': 0.002, 'reg_lambda': 0.03, 'min_child_samples': 58, 'n_jobs': 2, 'random_state': 69, 'subsample': 1, 'verbose': -1}. Best is trial 71 with value: 262.69452940807383.\n",
            "[I 2024-05-17 12:40:07,724] Trial 73 finished with value: 262.13711458430555 and parameters: {'learning_rate': 0.01992615223804497, 'num_leaves': 12, 'n_estimators': 296, 'reg_alpha': 0.008, 'reg_lambda': 0.0006000000000000001, 'min_child_samples': 21, 'n_jobs': 2, 'random_state': 69, 'subsample': 1, 'verbose': -1}. Best is trial 73 with value: 262.13711458430555.\n",
            "[I 2024-05-17 12:40:08,606] Trial 74 finished with value: 263.4339738623347 and parameters: {'learning_rate': 0.020241250489410254, 'num_leaves': 13, 'n_estimators': 279, 'reg_alpha': 0.008, 'reg_lambda': 0.008, 'min_child_samples': 17, 'n_jobs': 2, 'random_state': 69, 'subsample': 1, 'verbose': -1}. Best is trial 73 with value: 262.13711458430555.\n",
            "[I 2024-05-17 12:40:09,467] Trial 75 finished with value: 264.5703796830715 and parameters: {'learning_rate': 0.0205381278709676, 'num_leaves': 12, 'n_estimators': 297, 'reg_alpha': 0.008, 'reg_lambda': 0.008, 'min_child_samples': 12, 'n_jobs': 2, 'random_state': 69, 'subsample': 1, 'verbose': -1}. Best is trial 73 with value: 262.13711458430555.\n",
            "[I 2024-05-17 12:40:10,186] Trial 76 finished with value: 262.3338051094592 and parameters: {'learning_rate': 0.015751000900258674, 'num_leaves': 7, 'n_estimators': 351, 'reg_alpha': 0.00039999999999999996, 'reg_lambda': 0.0006000000000000001, 'min_child_samples': 21, 'n_jobs': 2, 'random_state': 69, 'subsample': 1, 'verbose': -1}. Best is trial 73 with value: 262.13711458430555.\n",
            "[I 2024-05-17 12:40:11,058] Trial 77 finished with value: 265.48230712899294 and parameters: {'learning_rate': 0.02681534169743457, 'num_leaves': 7, 'n_estimators': 460, 'reg_alpha': 0.00039999999999999996, 'reg_lambda': 0.0006000000000000001, 'min_child_samples': 25, 'n_jobs': 2, 'random_state': 69, 'subsample': 1, 'verbose': -1}. Best is trial 73 with value: 262.13711458430555.\n",
            "[I 2024-05-17 12:40:12,479] Trial 78 finished with value: 265.1013114901758 and parameters: {'learning_rate': 0.01558783142502272, 'num_leaves': 11, 'n_estimators': 360, 'reg_alpha': 0.008, 'reg_lambda': 0.0006000000000000001, 'min_child_samples': 31, 'n_jobs': 2, 'random_state': 69, 'subsample': 1, 'verbose': -1}. Best is trial 73 with value: 262.13711458430555.\n",
            "[I 2024-05-17 12:40:16,203] Trial 79 finished with value: 263.2118461104117 and parameters: {'learning_rate': 0.018916919007786158, 'num_leaves': 8, 'n_estimators': 406, 'reg_alpha': 0.1, 'reg_lambda': 0.0006000000000000001, 'min_child_samples': 21, 'n_jobs': 2, 'random_state': 69, 'subsample': 0.5, 'verbose': -1}. Best is trial 73 with value: 262.13711458430555.\n",
            "[I 2024-05-17 12:40:17,034] Trial 80 finished with value: 264.71056999094327 and parameters: {'learning_rate': 0.021309783960885568, 'num_leaves': 8, 'n_estimators': 401, 'reg_alpha': 0.1, 'reg_lambda': 0.01, 'min_child_samples': 34, 'n_jobs': 2, 'random_state': 69, 'subsample': 0.5, 'verbose': -1}. Best is trial 73 with value: 262.13711458430555.\n",
            "[I 2024-05-17 12:40:17,549] Trial 81 finished with value: 267.1738068676643 and parameters: {'learning_rate': 0.017243311297461563, 'num_leaves': 5, 'n_estimators': 299, 'reg_alpha': 0.0005, 'reg_lambda': 0.0006000000000000001, 'min_child_samples': 22, 'n_jobs': 2, 'random_state': 69, 'subsample': 0.5, 'verbose': -1}. Best is trial 73 with value: 262.13711458430555.\n",
            "[I 2024-05-17 12:40:18,766] Trial 82 finished with value: 264.38933420820564 and parameters: {'learning_rate': 0.019172960331103522, 'num_leaves': 13, 'n_estimators': 430, 'reg_alpha': 0.1, 'reg_lambda': 0.008, 'min_child_samples': 20, 'n_jobs': 2, 'random_state': 69, 'subsample': 0.5, 'verbose': -1}. Best is trial 73 with value: 262.13711458430555.\n",
            "[I 2024-05-17 12:40:19,983] Trial 83 finished with value: 268.90492716300923 and parameters: {'learning_rate': 0.031407962732716045, 'num_leaves': 17, 'n_estimators': 345, 'reg_alpha': 0.005, 'reg_lambda': 4.0, 'min_child_samples': 16, 'n_jobs': 2, 'random_state': 69, 'subsample': 0.5, 'verbose': -1}. Best is trial 73 with value: 262.13711458430555.\n",
            "[I 2024-05-17 12:40:20,828] Trial 84 finished with value: 264.172713045421 and parameters: {'learning_rate': 0.014752050159588038, 'num_leaves': 13, 'n_estimators': 279, 'reg_alpha': 7.0, 'reg_lambda': 0.0007, 'min_child_samples': 28, 'n_jobs': 2, 'random_state': 69, 'subsample': 1, 'verbose': -1}. Best is trial 73 with value: 262.13711458430555.\n",
            "[I 2024-05-17 12:40:21,801] Trial 85 finished with value: 265.617710502975 and parameters: {'learning_rate': 0.025487473579133082, 'num_leaves': 11, 'n_estimators': 373, 'reg_alpha': 0.00039999999999999996, 'reg_lambda': 0.0006000000000000001, 'min_child_samples': 12, 'n_jobs': 2, 'random_state': 69, 'subsample': 1, 'verbose': -1}. Best is trial 73 with value: 262.13711458430555.\n",
            "[I 2024-05-17 12:40:22,446] Trial 86 finished with value: 265.4091145102771 and parameters: {'learning_rate': 0.010935420993473268, 'num_leaves': 7, 'n_estimators': 312, 'reg_alpha': 0.007, 'reg_lambda': 0.00019999999999999998, 'min_child_samples': 25, 'n_jobs': 2, 'random_state': 69, 'subsample': 1, 'verbose': -1}. Best is trial 73 with value: 262.13711458430555.\n",
            "[I 2024-05-17 12:40:23,768] Trial 87 finished with value: 301.2180412734159 and parameters: {'learning_rate': 0.002123055479519223, 'num_leaves': 16, 'n_estimators': 460, 'reg_alpha': 0.008, 'reg_lambda': 0.009, 'min_child_samples': 46, 'n_jobs': 2, 'random_state': 69, 'subsample': 0.8, 'verbose': -1}. Best is trial 73 with value: 262.13711458430555.\n",
            "[I 2024-05-17 12:40:26,557] Trial 88 finished with value: 272.47269011572547 and parameters: {'learning_rate': 0.022869956244594276, 'num_leaves': 59, 'n_estimators': 336, 'reg_alpha': 2.0, 'reg_lambda': 0.08, 'min_child_samples': 21, 'n_jobs': 2, 'random_state': 69, 'subsample': 1, 'verbose': -1}. Best is trial 73 with value: 262.13711458430555.\n",
            "[I 2024-05-17 12:40:28,635] Trial 89 finished with value: 270.3475778907705 and parameters: {'learning_rate': 0.01317467037912092, 'num_leaves': 5, 'n_estimators': 288, 'reg_alpha': 1.0, 'reg_lambda': 0.0001, 'min_child_samples': 15, 'n_jobs': 2, 'random_state': 69, 'subsample': 0.5, 'verbose': -1}. Best is trial 73 with value: 262.13711458430555.\n",
            "[I 2024-05-17 12:40:30,915] Trial 90 finished with value: 266.05310873242144 and parameters: {'learning_rate': 0.017771317363264576, 'num_leaves': 10, 'n_estimators': 404, 'reg_alpha': 5.0, 'reg_lambda': 0.6, 'min_child_samples': 10, 'n_jobs': 2, 'random_state': 69, 'subsample': 1, 'verbose': -1}. Best is trial 73 with value: 262.13711458430555.\n",
            "[I 2024-05-17 12:40:31,990] Trial 91 finished with value: 263.03424777290337 and parameters: {'learning_rate': 0.012186840020446121, 'num_leaves': 14, 'n_estimators': 325, 'reg_alpha': 0.002, 'reg_lambda': 8.0, 'min_child_samples': 17, 'n_jobs': 2, 'random_state': 69, 'subsample': 1, 'verbose': -1}. Best is trial 73 with value: 262.13711458430555.\n",
            "[I 2024-05-17 12:40:33,013] Trial 92 finished with value: 262.82890768483804 and parameters: {'learning_rate': 0.015557497393638802, 'num_leaves': 14, 'n_estimators': 354, 'reg_alpha': 0, 'reg_lambda': 8.0, 'min_child_samples': 18, 'n_jobs': 2, 'random_state': 69, 'subsample': 1, 'verbose': -1}. Best is trial 73 with value: 262.13711458430555.\n",
            "[I 2024-05-17 12:40:34,156] Trial 93 finished with value: 262.68051842234803 and parameters: {'learning_rate': 0.014778127108449744, 'num_leaves': 18, 'n_estimators': 352, 'reg_alpha': 0, 'reg_lambda': 8.0, 'min_child_samples': 18, 'n_jobs': 2, 'random_state': 69, 'subsample': 1, 'verbose': -1}. Best is trial 73 with value: 262.13711458430555.\n",
            "[I 2024-05-17 12:40:34,896] Trial 94 finished with value: 265.9440584523824 and parameters: {'learning_rate': 0.008408627940005716, 'num_leaves': 8, 'n_estimators': 356, 'reg_alpha': 0, 'reg_lambda': 8.0, 'min_child_samples': 19, 'n_jobs': 2, 'random_state': 69, 'subsample': 1, 'verbose': -1}. Best is trial 73 with value: 262.13711458430555.\n",
            "[I 2024-05-17 12:40:35,735] Trial 95 finished with value: 282.4496219162679 and parameters: {'learning_rate': 0.01039580847389695, 'num_leaves': 18, 'n_estimators': 331, 'reg_alpha': 0, 'reg_lambda': 0, 'min_child_samples': 67, 'n_jobs': 2, 'random_state': 69, 'subsample': 0.7, 'verbose': -1}. Best is trial 73 with value: 262.13711458430555.\n",
            "[I 2024-05-17 12:40:36,645] Trial 96 finished with value: 261.46856106271235 and parameters: {'learning_rate': 0.014890137541315403, 'num_leaves': 11, 'n_estimators': 349, 'reg_alpha': 0.0007999999999999999, 'reg_lambda': 8.0, 'min_child_samples': 21, 'n_jobs': 2, 'random_state': 69, 'subsample': 1, 'verbose': -1}. Best is trial 96 with value: 261.46856106271235.\n",
            "[I 2024-05-17 12:40:38,069] Trial 97 finished with value: 267.52659747903715 and parameters: {'learning_rate': 0.007003286687436988, 'num_leaves': 24, 'n_estimators': 382, 'reg_alpha': 0, 'reg_lambda': 8.0, 'min_child_samples': 24, 'n_jobs': 2, 'random_state': 69, 'subsample': 1, 'verbose': -1}. Best is trial 96 with value: 261.46856106271235.\n",
            "[I 2024-05-17 12:40:39,223] Trial 98 finished with value: 264.1031799442322 and parameters: {'learning_rate': 0.01510407266464869, 'num_leaves': 16, 'n_estimators': 350, 'reg_alpha': 0.0007999999999999999, 'reg_lambda': 0.02, 'min_child_samples': 22, 'n_jobs': 2, 'random_state': 69, 'subsample': 1, 'verbose': -1}. Best is trial 96 with value: 261.46856106271235.\n",
            "[I 2024-05-17 12:40:42,022] Trial 99 finished with value: 263.8387195444509 and parameters: {'learning_rate': 0.0127052272694076, 'num_leaves': 20, 'n_estimators': 376, 'reg_alpha': 0.0007999999999999999, 'reg_lambda': 8.0, 'min_child_samples': 20, 'n_jobs': 2, 'random_state': 69, 'subsample': 0.8, 'verbose': -1}. Best is trial 96 with value: 261.46856106271235.\n",
            "[I 2024-05-17 12:40:44,800] Trial 100 finished with value: 284.7057880207319 and parameters: {'learning_rate': 0.011292901007330143, 'num_leaves': 11, 'n_estimators': 397, 'reg_alpha': 9.0, 'reg_lambda': 0.30000000000000004, 'min_child_samples': 94, 'n_jobs': 2, 'random_state': 69, 'subsample': 1, 'verbose': -1}. Best is trial 96 with value: 261.46856106271235.\n",
            "[I 2024-05-17 12:40:45,624] Trial 101 finished with value: 263.3660297851411 and parameters: {'learning_rate': 0.014114289624917536, 'num_leaves': 7, 'n_estimators': 413, 'reg_alpha': 0.0007, 'reg_lambda': 0.9, 'min_child_samples': 14, 'n_jobs': 2, 'random_state': 69, 'subsample': 1, 'verbose': -1}. Best is trial 96 with value: 261.46856106271235.\n",
            "[I 2024-05-17 12:40:46,471] Trial 102 finished with value: 263.3318472920251 and parameters: {'learning_rate': 0.01829802985940352, 'num_leaves': 10, 'n_estimators': 339, 'reg_alpha': 0.4, 'reg_lambda': 0.06999999999999999, 'min_child_samples': 18, 'n_jobs': 2, 'random_state': 69, 'subsample': 1, 'verbose': -1}. Best is trial 96 with value: 261.46856106271235.\n",
            "[I 2024-05-17 12:40:47,418] Trial 103 finished with value: 265.70157646964805 and parameters: {'learning_rate': 0.018937583260099027, 'num_leaves': 11, 'n_estimators': 363, 'reg_alpha': 0.002, 'reg_lambda': 0.06999999999999999, 'min_child_samples': 30, 'n_jobs': 2, 'random_state': 69, 'subsample': 1, 'verbose': -1}. Best is trial 96 with value: 261.46856106271235.\n",
            "[I 2024-05-17 12:40:48,504] Trial 104 finished with value: 265.6966769305202 and parameters: {'learning_rate': 0.021907464058367805, 'num_leaves': 15, 'n_estimators': 341, 'reg_alpha': 0.2, 'reg_lambda': 0.06999999999999999, 'min_child_samples': 26, 'n_jobs': 2, 'random_state': 69, 'subsample': 1, 'verbose': -1}. Best is trial 96 with value: 261.46856106271235.\n",
            "[I 2024-05-17 12:40:49,768] Trial 105 finished with value: 262.87094741440137 and parameters: {'learning_rate': 0.015406147537887691, 'num_leaves': 18, 'n_estimators': 352, 'reg_alpha': 0.08, 'reg_lambda': 0.0005, 'min_child_samples': 18, 'n_jobs': 2, 'random_state': 69, 'subsample': 1, 'verbose': -1}. Best is trial 96 with value: 261.46856106271235.\n",
            "[I 2024-05-17 12:40:50,905] Trial 106 finished with value: 264.72156146907486 and parameters: {'learning_rate': 0.016012755887117383, 'num_leaves': 17, 'n_estimators': 323, 'reg_alpha': 0.08, 'reg_lambda': 0.0005, 'min_child_samples': 13, 'n_jobs': 2, 'random_state': 69, 'subsample': 1, 'verbose': -1}. Best is trial 96 with value: 261.46856106271235.\n",
            "[I 2024-05-17 12:40:52,653] Trial 107 finished with value: 262.93772764405304 and parameters: {'learning_rate': 0.01005842143844287, 'num_leaves': 25, 'n_estimators': 393, 'reg_alpha': 0.004, 'reg_lambda': 10, 'min_child_samples': 21, 'n_jobs': 2, 'random_state': 69, 'subsample': 0.5, 'verbose': -1}. Best is trial 96 with value: 261.46856106271235.\n",
            "[I 2024-05-17 12:40:54,863] Trial 108 finished with value: 265.3595659876355 and parameters: {'learning_rate': 0.009970766304758683, 'num_leaves': 26, 'n_estimators': 419, 'reg_alpha': 0.004, 'reg_lambda': 0.0005, 'min_child_samples': 21, 'n_jobs': 2, 'random_state': 69, 'subsample': 0.5, 'verbose': -1}. Best is trial 96 with value: 261.46856106271235.\n",
            "[I 2024-05-17 12:40:59,343] Trial 109 finished with value: 265.9169698238564 and parameters: {'learning_rate': 0.007719883231180402, 'num_leaves': 22, 'n_estimators': 392, 'reg_alpha': 0.08, 'reg_lambda': 10, 'min_child_samples': 24, 'n_jobs': 2, 'random_state': 69, 'subsample': 0.5, 'verbose': -1}. Best is trial 96 with value: 261.46856106271235.\n",
            "[I 2024-05-17 12:41:01,050] Trial 110 finished with value: 265.12809882212906 and parameters: {'learning_rate': 0.012177490307537684, 'num_leaves': 29, 'n_estimators': 353, 'reg_alpha': 0.02, 'reg_lambda': 0.007, 'min_child_samples': 28, 'n_jobs': 2, 'random_state': 69, 'subsample': 0.5, 'verbose': -1}. Best is trial 96 with value: 261.46856106271235.\n",
            "[I 2024-05-17 12:41:02,512] Trial 111 finished with value: 262.3051868508083 and parameters: {'learning_rate': 0.014525053607305499, 'num_leaves': 19, 'n_estimators': 365, 'reg_alpha': 0.004, 'reg_lambda': 10, 'min_child_samples': 19, 'n_jobs': 2, 'random_state': 69, 'subsample': 0.5, 'verbose': -1}. Best is trial 96 with value: 261.46856106271235.\n",
            "[I 2024-05-17 12:41:04,040] Trial 112 finished with value: 262.1850082798475 and parameters: {'learning_rate': 0.01369812887257704, 'num_leaves': 21, 'n_estimators': 373, 'reg_alpha': 0.004, 'reg_lambda': 10, 'min_child_samples': 18, 'n_jobs': 2, 'random_state': 69, 'subsample': 0.5, 'verbose': -1}. Best is trial 96 with value: 261.46856106271235.\n",
            "[I 2024-05-17 12:41:05,953] Trial 113 finished with value: 264.01718761940066 and parameters: {'learning_rate': 0.013893976883270685, 'num_leaves': 31, 'n_estimators': 375, 'reg_alpha': 0.004, 'reg_lambda': 10, 'min_child_samples': 19, 'n_jobs': 2, 'random_state': 69, 'subsample': 0.5, 'verbose': -1}. Best is trial 96 with value: 261.46856106271235.\n",
            "[I 2024-05-17 12:41:07,552] Trial 114 finished with value: 262.65119753991615 and parameters: {'learning_rate': 0.009545166338304678, 'num_leaves': 24, 'n_estimators': 364, 'reg_alpha': 0.004, 'reg_lambda': 10, 'min_child_samples': 18, 'n_jobs': 2, 'random_state': 69, 'subsample': 0.5, 'verbose': -1}. Best is trial 96 with value: 261.46856106271235.\n",
            "[I 2024-05-17 12:41:08,776] Trial 115 finished with value: 279.32015880429054 and parameters: {'learning_rate': 0.010976371234974778, 'num_leaves': 26, 'n_estimators': 367, 'reg_alpha': 0.004, 'reg_lambda': 10, 'min_child_samples': 52, 'n_jobs': 2, 'random_state': 69, 'subsample': 0.5, 'verbose': -1}. Best is trial 96 with value: 261.46856106271235.\n",
            "[I 2024-05-17 12:41:13,608] Trial 116 finished with value: 263.8915315096452 and parameters: {'learning_rate': 0.00969014935335925, 'num_leaves': 24, 'n_estimators': 384, 'reg_alpha': 0.004, 'reg_lambda': 10, 'min_child_samples': 23, 'n_jobs': 2, 'random_state': 69, 'subsample': 0.5, 'verbose': -1}. Best is trial 96 with value: 261.46856106271235.\n",
            "[I 2024-05-17 12:41:15,027] Trial 117 finished with value: 262.5824866941086 and parameters: {'learning_rate': 0.014783929060254478, 'num_leaves': 19, 'n_estimators': 362, 'reg_alpha': 0.004, 'reg_lambda': 10, 'min_child_samples': 14, 'n_jobs': 2, 'random_state': 69, 'subsample': 0.5, 'verbose': -1}. Best is trial 96 with value: 261.46856106271235.\n",
            "[I 2024-05-17 12:41:16,535] Trial 118 finished with value: 263.9495846482125 and parameters: {'learning_rate': 0.015213120031532157, 'num_leaves': 21, 'n_estimators': 360, 'reg_alpha': 8.0, 'reg_lambda': 7.0, 'min_child_samples': 12, 'n_jobs': 2, 'random_state': 69, 'subsample': 0.5, 'verbose': -1}. Best is trial 96 with value: 261.46856106271235.\n",
            "[I 2024-05-17 12:41:17,872] Trial 119 finished with value: 264.8403357488423 and parameters: {'learning_rate': 0.016423594485607308, 'num_leaves': 19, 'n_estimators': 348, 'reg_alpha': 0.001, 'reg_lambda': 0.0003, 'min_child_samples': 14, 'n_jobs': 2, 'random_state': 69, 'subsample': 0.5, 'verbose': -1}. Best is trial 96 with value: 261.46856106271235.\n",
            "[I 2024-05-17 12:41:19,093] Trial 120 finished with value: 316.44347994878734 and parameters: {'learning_rate': 0.0010782453801854493, 'num_leaves': 18, 'n_estimators': 334, 'reg_alpha': 0.01, 'reg_lambda': 0.8, 'min_child_samples': 18, 'n_jobs': 2, 'random_state': 69, 'subsample': 0.5, 'verbose': -1}. Best is trial 96 with value: 261.46856106271235.\n",
            "[I 2024-05-17 12:41:20,770] Trial 121 finished with value: 263.00339167774865 and parameters: {'learning_rate': 0.008487125723018145, 'num_leaves': 23, 'n_estimators': 390, 'reg_alpha': 0.004, 'reg_lambda': 10, 'min_child_samples': 19, 'n_jobs': 2, 'random_state': 69, 'subsample': 0.5, 'verbose': -1}. Best is trial 96 with value: 261.46856106271235.\n",
            "[I 2024-05-17 12:41:22,519] Trial 122 finished with value: 263.188183909111 and parameters: {'learning_rate': 0.013337185673278783, 'num_leaves': 27, 'n_estimators': 375, 'reg_alpha': 0.004, 'reg_lambda': 10, 'min_child_samples': 22, 'n_jobs': 2, 'random_state': 69, 'subsample': 0.5, 'verbose': -1}. Best is trial 96 with value: 261.46856106271235.\n",
            "[I 2024-05-17 12:41:28,179] Trial 123 finished with value: 269.36866614255615 and parameters: {'learning_rate': 0.01466736348335805, 'num_leaves': 37, 'n_estimators': 365, 'reg_alpha': 0.0003, 'reg_lambda': 0.0007999999999999999, 'min_child_samples': 15, 'n_jobs': 2, 'random_state': 69, 'subsample': 0.5, 'verbose': -1}. Best is trial 96 with value: 261.46856106271235.\n",
            "[I 2024-05-17 12:41:29,587] Trial 124 finished with value: 264.195360380897 and parameters: {'learning_rate': 0.011364177290302736, 'num_leaves': 21, 'n_estimators': 352, 'reg_alpha': 0.6, 'reg_lambda': 0.5, 'min_child_samples': 26, 'n_jobs': 2, 'random_state': 69, 'subsample': 0.5, 'verbose': -1}. Best is trial 96 with value: 261.46856106271235.\n",
            "[I 2024-05-17 12:41:31,365] Trial 125 finished with value: 266.73193054918084 and parameters: {'learning_rate': 0.0065750676735396064, 'num_leaves': 25, 'n_estimators': 380, 'reg_alpha': 0.5, 'reg_lambda': 0.04, 'min_child_samples': 20, 'n_jobs': 2, 'random_state': 69, 'subsample': 0.5, 'verbose': -1}. Best is trial 96 with value: 261.46856106271235.\n",
            "[I 2024-05-17 12:41:33,044] Trial 126 finished with value: 269.9438068279876 and parameters: {'learning_rate': 0.004607910215199528, 'num_leaves': 19, 'n_estimators': 425, 'reg_alpha': 0.7000000000000001, 'reg_lambda': 0.004, 'min_child_samples': 17, 'n_jobs': 2, 'random_state': 69, 'subsample': 0.5, 'verbose': -1}. Best is trial 96 with value: 261.46856106271235.\n",
            "[I 2024-05-17 12:41:35,285] Trial 127 finished with value: 267.147976546094 and parameters: {'learning_rate': 0.009218184143384479, 'num_leaves': 34, 'n_estimators': 360, 'reg_alpha': 0.004, 'reg_lambda': 0.060000000000000005, 'min_child_samples': 12, 'n_jobs': 2, 'random_state': 69, 'subsample': 0.9, 'verbose': -1}. Best is trial 96 with value: 261.46856106271235.\n",
            "[I 2024-05-17 12:41:37,122] Trial 128 finished with value: 267.0895148631234 and parameters: {'learning_rate': 0.01254120735900534, 'num_leaves': 30, 'n_estimators': 316, 'reg_alpha': 0.0009, 'reg_lambda': 0.7000000000000001, 'min_child_samples': 10, 'n_jobs': 2, 'random_state': 69, 'subsample': 0.7, 'verbose': -1}. Best is trial 96 with value: 261.46856106271235.\n",
            "[I 2024-05-17 12:41:41,741] Trial 129 finished with value: 265.8402822154528 and parameters: {'learning_rate': 0.016743147695970493, 'num_leaves': 22, 'n_estimators': 345, 'reg_alpha': 0.09, 'reg_lambda': 6.0, 'min_child_samples': 15, 'n_jobs': 2, 'random_state': 69, 'subsample': 0.5, 'verbose': -1}. Best is trial 96 with value: 261.46856106271235.\n",
            "[I 2024-05-17 12:41:42,993] Trial 130 finished with value: 267.6853158657464 and parameters: {'learning_rate': 0.02045599190597268, 'num_leaves': 15, 'n_estimators': 393, 'reg_alpha': 6.0, 'reg_lambda': 0.09, 'min_child_samples': 24, 'n_jobs': 2, 'random_state': 69, 'subsample': 0.8, 'verbose': -1}. Best is trial 96 with value: 261.46856106271235.\n",
            "[I 2024-05-17 12:41:44,542] Trial 131 finished with value: 264.0849018644638 and parameters: {'learning_rate': 0.008246024116194958, 'num_leaves': 22, 'n_estimators': 369, 'reg_alpha': 0.30000000000000004, 'reg_lambda': 10, 'min_child_samples': 19, 'n_jobs': 2, 'random_state': 69, 'subsample': 0.5, 'verbose': -1}. Best is trial 96 with value: 261.46856106271235.\n",
            "[I 2024-05-17 12:41:45,963] Trial 132 finished with value: 262.9536390114494 and parameters: {'learning_rate': 0.008705706203870334, 'num_leaves': 18, 'n_estimators': 392, 'reg_alpha': 0.004, 'reg_lambda': 0.003, 'min_child_samples': 18, 'n_jobs': 2, 'random_state': 69, 'subsample': 0.5, 'verbose': -1}. Best is trial 96 with value: 261.46856106271235.\n",
            "[I 2024-05-17 12:41:47,404] Trial 133 finished with value: 263.68832901159175 and parameters: {'learning_rate': 0.010362177595492255, 'num_leaves': 17, 'n_estimators': 409, 'reg_alpha': 0.9, 'reg_lambda': 8.0, 'min_child_samples': 21, 'n_jobs': 2, 'random_state': 69, 'subsample': 0.5, 'verbose': -1}. Best is trial 96 with value: 261.46856106271235.\n",
            "[I 2024-05-17 12:41:48,580] Trial 134 finished with value: 262.8935631475575 and parameters: {'learning_rate': 0.013938723609627003, 'num_leaves': 13, 'n_estimators': 388, 'reg_alpha': 0.00019999999999999998, 'reg_lambda': 9.0, 'min_child_samples': 16, 'n_jobs': 2, 'random_state': 69, 'subsample': 0.5, 'verbose': -1}. Best is trial 96 with value: 261.46856106271235.\n",
            "[I 2024-05-17 12:41:49,706] Trial 135 finished with value: 263.15571547452737 and parameters: {'learning_rate': 0.014342695284617029, 'num_leaves': 13, 'n_estimators': 379, 'reg_alpha': 0.00019999999999999998, 'reg_lambda': 0.002, 'min_child_samples': 16, 'n_jobs': 2, 'random_state': 69, 'subsample': 1, 'verbose': -1}. Best is trial 96 with value: 261.46856106271235.\n",
            "[I 2024-05-17 12:41:50,964] Trial 136 finished with value: 262.16512358135196 and parameters: {'learning_rate': 0.013253584522069567, 'num_leaves': 16, 'n_estimators': 355, 'reg_alpha': 0.00019999999999999998, 'reg_lambda': 9.0, 'min_child_samples': 13, 'n_jobs': 2, 'random_state': 69, 'subsample': 0.5, 'verbose': -1}. Best is trial 96 with value: 261.46856106271235.\n",
            "[I 2024-05-17 12:41:54,275] Trial 137 finished with value: 263.2457949151746 and parameters: {'learning_rate': 0.015713967753765996, 'num_leaves': 14, 'n_estimators': 330, 'reg_alpha': 0.00019999999999999998, 'reg_lambda': 9.0, 'min_child_samples': 13, 'n_jobs': 2, 'random_state': 69, 'subsample': 1, 'verbose': -1}. Best is trial 96 with value: 261.46856106271235.\n",
            "[I 2024-05-17 12:41:56,543] Trial 138 finished with value: 262.7700651435216 and parameters: {'learning_rate': 0.012632695526100603, 'num_leaves': 16, 'n_estimators': 352, 'reg_alpha': 0.00019999999999999998, 'reg_lambda': 9.0, 'min_child_samples': 14, 'n_jobs': 2, 'random_state': 69, 'subsample': 1, 'verbose': -1}. Best is trial 96 with value: 261.46856106271235.\n",
            "[I 2024-05-17 12:41:57,391] Trial 139 finished with value: 286.68079125676417 and parameters: {'learning_rate': 0.017613323086837284, 'num_leaves': 20, 'n_estimators': 356, 'reg_alpha': 0, 'reg_lambda': 9.0, 'min_child_samples': 75, 'n_jobs': 2, 'random_state': 69, 'subsample': 1, 'verbose': -1}. Best is trial 96 with value: 261.46856106271235.\n",
            "[I 2024-05-17 12:41:58,606] Trial 140 finished with value: 265.5750619369937 and parameters: {'learning_rate': 0.012300074752053834, 'num_leaves': 16, 'n_estimators': 337, 'reg_alpha': 0.03, 'reg_lambda': 0.00039999999999999996, 'min_child_samples': 11, 'n_jobs': 2, 'random_state': 69, 'subsample': 1, 'verbose': -1}. Best is trial 96 with value: 261.46856106271235.\n",
            "[I 2024-05-17 12:41:59,639] Trial 141 finished with value: 262.5982999647408 and parameters: {'learning_rate': 0.0137526592621597, 'num_leaves': 12, 'n_estimators': 348, 'reg_alpha': 0.00019999999999999998, 'reg_lambda': 9.0, 'min_child_samples': 15, 'n_jobs': 2, 'random_state': 69, 'subsample': 1, 'verbose': -1}. Best is trial 96 with value: 261.46856106271235.\n",
            "[I 2024-05-17 12:42:00,660] Trial 142 finished with value: 263.0634383525983 and parameters: {'learning_rate': 0.015582914855224858, 'num_leaves': 12, 'n_estimators': 347, 'reg_alpha': 0.0007999999999999999, 'reg_lambda': 9.0, 'min_child_samples': 14, 'n_jobs': 2, 'random_state': 69, 'subsample': 1, 'verbose': -1}. Best is trial 96 with value: 261.46856106271235.\n",
            "[I 2024-05-17 12:42:01,969] Trial 143 finished with value: 265.2434012476933 and parameters: {'learning_rate': 0.013386127259551588, 'num_leaves': 16, 'n_estimators': 361, 'reg_alpha': 0.00019999999999999998, 'reg_lambda': 0.4, 'min_child_samples': 14, 'n_jobs': 2, 'random_state': 69, 'subsample': 1, 'verbose': -1}. Best is trial 96 with value: 261.46856106271235.\n",
            "[I 2024-05-17 12:42:03,219] Trial 144 finished with value: 263.8460651307152 and parameters: {'learning_rate': 0.011771364998853645, 'num_leaves': 19, 'n_estimators': 319, 'reg_alpha': 0.8, 'reg_lambda': 2.0, 'min_child_samples': 17, 'n_jobs': 2, 'random_state': 69, 'subsample': 1, 'verbose': -1}. Best is trial 96 with value: 261.46856106271235.\n",
            "[I 2024-05-17 12:42:04,424] Trial 145 finished with value: 265.4461907554665 and parameters: {'learning_rate': 0.019621836331053272, 'num_leaves': 15, 'n_estimators': 368, 'reg_alpha': 3.0, 'reg_lambda': 1.0, 'min_child_samples': 12, 'n_jobs': 2, 'random_state': 69, 'subsample': 1, 'verbose': -1}. Best is trial 96 with value: 261.46856106271235.\n",
            "[I 2024-05-17 12:42:10,072] Trial 146 finished with value: 265.09442055827395 and parameters: {'learning_rate': 0.017150771756616917, 'num_leaves': 48, 'n_estimators': 342, 'reg_alpha': 0.003, 'reg_lambda': 9.0, 'min_child_samples': 18, 'n_jobs': 2, 'random_state': 69, 'subsample': 1, 'verbose': -1}. Best is trial 96 with value: 261.46856106271235.\n",
            "[I 2024-05-17 12:42:11,070] Trial 147 finished with value: 264.37699564520204 and parameters: {'learning_rate': 0.01491142955206305, 'num_leaves': 12, 'n_estimators': 349, 'reg_alpha': 4.0, 'reg_lambda': 0.001, 'min_child_samples': 15, 'n_jobs': 2, 'random_state': 69, 'subsample': 1, 'verbose': -1}. Best is trial 96 with value: 261.46856106271235.\n",
            "[I 2024-05-17 12:42:12,320] Trial 148 finished with value: 265.90400379933544 and parameters: {'learning_rate': 0.013078842076001707, 'num_leaves': 17, 'n_estimators': 330, 'reg_alpha': 0.00019999999999999998, 'reg_lambda': 0.1, 'min_child_samples': 10, 'n_jobs': 2, 'random_state': 69, 'subsample': 1, 'verbose': -1}. Best is trial 96 with value: 261.46856106271235.\n",
            "[I 2024-05-17 12:42:14,919] Trial 149 finished with value: 272.99275025885385 and parameters: {'learning_rate': 0.022387495388214152, 'num_leaves': 86, 'n_estimators': 353, 'reg_alpha': 0.06999999999999999, 'reg_lambda': 0.0009, 'min_child_samples': 20, 'n_jobs': 2, 'random_state': 69, 'subsample': 1, 'verbose': -1}. Best is trial 96 with value: 261.46856106271235.\n",
            "[I 2024-05-17 12:42:16,322] Trial 150 finished with value: 264.07387702782495 and parameters: {'learning_rate': 0.011090111374185073, 'num_leaves': 20, 'n_estimators': 368, 'reg_alpha': 0.04, 'reg_lambda': 8.0, 'min_child_samples': 23, 'n_jobs': 2, 'random_state': 69, 'subsample': 1, 'verbose': -1}. Best is trial 96 with value: 261.46856106271235.\n",
            "[I 2024-05-17 12:42:17,525] Trial 151 finished with value: 263.0667790634116 and parameters: {'learning_rate': 0.013417218482856123, 'num_leaves': 14, 'n_estimators': 376, 'reg_alpha': 0.00019999999999999998, 'reg_lambda': 9.0, 'min_child_samples': 16, 'n_jobs': 2, 'random_state': 69, 'subsample': 0.5, 'verbose': -1}. Best is trial 96 with value: 261.46856106271235.\n",
            "[I 2024-05-17 12:42:18,451] Trial 152 finished with value: 262.55869778337484 and parameters: {'learning_rate': 0.014355744632045973, 'num_leaves': 9, 'n_estimators': 384, 'reg_alpha': 0.00019999999999999998, 'reg_lambda': 9.0, 'min_child_samples': 16, 'n_jobs': 2, 'random_state': 69, 'subsample': 0.7, 'verbose': -1}. Best is trial 96 with value: 261.46856106271235.\n",
            "[I 2024-05-17 12:42:19,310] Trial 153 finished with value: 262.8879297570536 and parameters: {'learning_rate': 0.014909214717830965, 'num_leaves': 9, 'n_estimators': 359, 'reg_alpha': 0.08, 'reg_lambda': 4.0, 'min_child_samples': 13, 'n_jobs': 2, 'random_state': 69, 'subsample': 0.7, 'verbose': -1}. Best is trial 96 with value: 261.46856106271235.\n",
            "[I 2024-05-17 12:42:20,396] Trial 154 finished with value: 263.63980855005303 and parameters: {'learning_rate': 0.01806106747548186, 'num_leaves': 6, 'n_estimators': 338, 'reg_alpha': 0.005, 'reg_lambda': 0.01, 'min_child_samples': 18, 'n_jobs': 2, 'random_state': 69, 'subsample': 0.7, 'verbose': -1}. Best is trial 96 with value: 261.46856106271235.\n",
            "[I 2024-05-17 12:42:24,086] Trial 155 finished with value: 262.80624554872077 and parameters: {'learning_rate': 0.016255546189823167, 'num_leaves': 11, 'n_estimators': 372, 'reg_alpha': 0, 'reg_lambda': 8.0, 'min_child_samples': 20, 'n_jobs': 2, 'random_state': 69, 'subsample': 0.7, 'verbose': -1}. Best is trial 96 with value: 261.46856106271235.\n",
            "[I 2024-05-17 12:42:24,865] Trial 156 finished with value: 261.42000562140305 and parameters: {'learning_rate': 0.016813486619951495, 'num_leaves': 8, 'n_estimators': 381, 'reg_alpha': 0, 'reg_lambda': 8.0, 'min_child_samples': 22, 'n_jobs': 2, 'random_state': 69, 'subsample': 0.7, 'verbose': -1}. Best is trial 156 with value: 261.42000562140305.\n",
            "[I 2024-05-17 12:42:25,611] Trial 157 finished with value: 261.907107021998 and parameters: {'learning_rate': 0.019552136414176278, 'num_leaves': 8, 'n_estimators': 381, 'reg_alpha': 0, 'reg_lambda': 8.0, 'min_child_samples': 22, 'n_jobs': 2, 'random_state': 69, 'subsample': 0.7, 'verbose': -1}. Best is trial 156 with value: 261.42000562140305.\n",
            "[I 2024-05-17 12:42:26,463] Trial 158 finished with value: 263.9663266382852 and parameters: {'learning_rate': 0.02409098112569024, 'num_leaves': 8, 'n_estimators': 380, 'reg_alpha': 0.0006000000000000001, 'reg_lambda': 9.0, 'min_child_samples': 24, 'n_jobs': 2, 'random_state': 69, 'subsample': 0.7, 'verbose': -1}. Best is trial 156 with value: 261.42000562140305.\n",
            "[I 2024-05-17 12:42:27,120] Trial 159 finished with value: 265.02794374652615 and parameters: {'learning_rate': 0.020130605250913616, 'num_leaves': 5, 'n_estimators': 385, 'reg_alpha': 0.007, 'reg_lambda': 5.0, 'min_child_samples': 22, 'n_jobs': 2, 'random_state': 69, 'subsample': 0.7, 'verbose': -1}. Best is trial 156 with value: 261.42000562140305.\n",
            "[I 2024-05-17 12:42:28,107] Trial 160 finished with value: 264.07684709187527 and parameters: {'learning_rate': 0.018562956969933757, 'num_leaves': 10, 'n_estimators': 403, 'reg_alpha': 0.05, 'reg_lambda': 0.0006000000000000001, 'min_child_samples': 15, 'n_jobs': 2, 'random_state': 69, 'subsample': 0.7, 'verbose': -1}. Best is trial 156 with value: 261.42000562140305.\n",
            "[I 2024-05-17 12:42:29,009] Trial 161 finished with value: 262.02490610540093 and parameters: {'learning_rate': 0.016143540847487446, 'num_leaves': 11, 'n_estimators': 370, 'reg_alpha': 0, 'reg_lambda': 8.0, 'min_child_samples': 20, 'n_jobs': 2, 'random_state': 69, 'subsample': 0.7, 'verbose': -1}. Best is trial 156 with value: 261.42000562140305.\n",
            "[I 2024-05-17 12:42:29,676] Trial 162 finished with value: 262.5197952618383 and parameters: {'learning_rate': 0.012967764299974538, 'num_leaves': 7, 'n_estimators': 365, 'reg_alpha': 0, 'reg_lambda': 8.0, 'min_child_samples': 26, 'n_jobs': 2, 'random_state': 69, 'subsample': 0.7, 'verbose': -1}. Best is trial 156 with value: 261.42000562140305.\n",
            "[I 2024-05-17 12:42:30,324] Trial 163 finished with value: 263.47249209522346 and parameters: {'learning_rate': 0.014213992946330835, 'num_leaves': 6, 'n_estimators': 366, 'reg_alpha': 0, 'reg_lambda': 8.0, 'min_child_samples': 26, 'n_jobs': 2, 'random_state': 69, 'subsample': 0.7, 'verbose': -1}. Best is trial 156 with value: 261.42000562140305.\n",
            "[I 2024-05-17 12:42:31,135] Trial 164 finished with value: 261.89290323119457 and parameters: {'learning_rate': 0.017146514326079096, 'num_leaves': 9, 'n_estimators': 375, 'reg_alpha': 0, 'reg_lambda': 8.0, 'min_child_samples': 22, 'n_jobs': 2, 'random_state': 69, 'subsample': 0.7, 'verbose': -1}. Best is trial 156 with value: 261.42000562140305.\n",
            "[I 2024-05-17 12:42:31,923] Trial 165 finished with value: 262.0297586509659 and parameters: {'learning_rate': 0.02131227083806301, 'num_leaves': 8, 'n_estimators': 382, 'reg_alpha': 0, 'reg_lambda': 8.0, 'min_child_samples': 22, 'n_jobs': 2, 'random_state': 69, 'subsample': 0.7, 'verbose': -1}. Best is trial 156 with value: 261.42000562140305.\n",
            "[I 2024-05-17 12:42:32,717] Trial 166 finished with value: 263.14131658187284 and parameters: {'learning_rate': 0.01875994914696886, 'num_leaves': 8, 'n_estimators': 399, 'reg_alpha': 0, 'reg_lambda': 3.0, 'min_child_samples': 23, 'n_jobs': 2, 'random_state': 69, 'subsample': 0.7, 'verbose': -1}. Best is trial 156 with value: 261.42000562140305.\n",
            "[I 2024-05-17 12:42:33,504] Trial 167 finished with value: 262.81948439878335 and parameters: {'learning_rate': 0.017496749976507214, 'num_leaves': 7, 'n_estimators': 379, 'reg_alpha': 0.009, 'reg_lambda': 8.0, 'min_child_samples': 28, 'n_jobs': 2, 'random_state': 69, 'subsample': 0.7, 'verbose': -1}. Best is trial 156 with value: 261.42000562140305.\n",
            "[I 2024-05-17 12:42:35,516] Trial 168 finished with value: 265.01248366467 and parameters: {'learning_rate': 0.021587662364607307, 'num_leaves': 10, 'n_estimators': 415, 'reg_alpha': 0, 'reg_lambda': 0.006, 'min_child_samples': 25, 'n_jobs': 2, 'random_state': 69, 'subsample': 0.7, 'verbose': -1}. Best is trial 156 with value: 261.42000562140305.\n",
            "[I 2024-05-17 12:42:38,331] Trial 169 finished with value: 266.19032825450176 and parameters: {'learning_rate': 0.01604748665602548, 'num_leaves': 5, 'n_estimators': 387, 'reg_alpha': 0, 'reg_lambda': 0.0007, 'min_child_samples': 22, 'n_jobs': 2, 'random_state': 69, 'subsample': 0.7, 'verbose': -1}. Best is trial 156 with value: 261.42000562140305.\n",
            "[I 2024-05-17 12:42:39,198] Trial 170 finished with value: 262.82668823667035 and parameters: {'learning_rate': 0.011678071604396998, 'num_leaves': 8, 'n_estimators': 443, 'reg_alpha': 0, 'reg_lambda': 0.009, 'min_child_samples': 21, 'n_jobs': 2, 'random_state': 69, 'subsample': 0.7, 'verbose': -1}. Best is trial 156 with value: 261.42000562140305.\n",
            "[I 2024-05-17 12:42:40,240] Trial 171 finished with value: 262.50335181486605 and parameters: {'learning_rate': 0.019486023404642963, 'num_leaves': 11, 'n_estimators': 373, 'reg_alpha': 0.006, 'reg_lambda': 8.0, 'min_child_samples': 19, 'n_jobs': 2, 'random_state': 69, 'subsample': 0.7, 'verbose': -1}. Best is trial 156 with value: 261.42000562140305.\n",
            "[I 2024-05-17 12:42:41,264] Trial 172 finished with value: 262.2636461129221 and parameters: {'learning_rate': 0.017398076622543508, 'num_leaves': 11, 'n_estimators': 371, 'reg_alpha': 0.006, 'reg_lambda': 8.0, 'min_child_samples': 20, 'n_jobs': 2, 'random_state': 69, 'subsample': 0.7, 'verbose': -1}. Best is trial 156 with value: 261.42000562140305.\n",
            "[I 2024-05-17 12:42:42,290] Trial 173 finished with value: 263.82017272233526 and parameters: {'learning_rate': 0.025819934716031705, 'num_leaves': 11, 'n_estimators': 375, 'reg_alpha': 0.006, 'reg_lambda': 8.0, 'min_child_samples': 20, 'n_jobs': 2, 'random_state': 69, 'subsample': 0.7, 'verbose': -1}. Best is trial 156 with value: 261.42000562140305.\n",
            "[I 2024-05-17 12:42:43,219] Trial 174 finished with value: 262.6184767171217 and parameters: {'learning_rate': 0.020103002633087105, 'num_leaves': 9, 'n_estimators': 396, 'reg_alpha': 0.006, 'reg_lambda': 8.0, 'min_child_samples': 23, 'n_jobs': 2, 'random_state': 69, 'subsample': 0.7, 'verbose': -1}. Best is trial 156 with value: 261.42000562140305.\n",
            "[I 2024-05-17 12:42:44,163] Trial 175 finished with value: 263.88090610891214 and parameters: {'learning_rate': 0.01996918429022709, 'num_leaves': 9, 'n_estimators': 399, 'reg_alpha': 0.006, 'reg_lambda': 8.0, 'min_child_samples': 25, 'n_jobs': 2, 'random_state': 69, 'subsample': 0.7, 'verbose': -1}. Best is trial 156 with value: 261.42000562140305.\n",
            "[I 2024-05-17 12:42:44,951] Trial 176 finished with value: 262.7324539018554 and parameters: {'learning_rate': 0.016755417848334907, 'num_leaves': 7, 'n_estimators': 386, 'reg_alpha': 5.0, 'reg_lambda': 0.00019999999999999998, 'min_child_samples': 27, 'n_jobs': 2, 'random_state': 69, 'subsample': 0.7, 'verbose': -1}. Best is trial 156 with value: 261.42000562140305.\n",
            "[I 2024-05-17 12:42:46,055] Trial 177 finished with value: 265.6498174164283 and parameters: {'learning_rate': 0.023232290194729718, 'num_leaves': 11, 'n_estimators': 410, 'reg_alpha': 7.0, 'reg_lambda': 0.2, 'min_child_samples': 23, 'n_jobs': 2, 'random_state': 69, 'subsample': 0.7, 'verbose': -1}. Best is trial 156 with value: 261.42000562140305.\n",
            "[I 2024-05-17 12:42:46,971] Trial 178 finished with value: 262.04673325183103 and parameters: {'learning_rate': 0.019131606355878666, 'num_leaves': 9, 'n_estimators': 374, 'reg_alpha': 0.006, 'reg_lambda': 8.0, 'min_child_samples': 21, 'n_jobs': 2, 'random_state': 69, 'subsample': 0.7, 'verbose': -1}. Best is trial 156 with value: 261.42000562140305.\n",
            "[I 2024-05-17 12:42:48,068] Trial 179 finished with value: 262.8620282926349 and parameters: {'learning_rate': 0.017902054212457823, 'num_leaves': 12, 'n_estimators': 374, 'reg_alpha': 2.0, 'reg_lambda': 8.0, 'min_child_samples': 20, 'n_jobs': 2, 'random_state': 69, 'subsample': 0.7, 'verbose': -1}. Best is trial 156 with value: 261.42000562140305.\n",
            "[I 2024-05-17 12:42:50,940] Trial 180 finished with value: 262.39570448225237 and parameters: {'learning_rate': 0.021716165801935118, 'num_leaves': 7, 'n_estimators': 363, 'reg_alpha': 0.006, 'reg_lambda': 0.6, 'min_child_samples': 21, 'n_jobs': 2, 'random_state': 69, 'subsample': 0.7, 'verbose': -1}. Best is trial 156 with value: 261.42000562140305.\n",
            "[I 2024-05-17 12:42:52,639] Trial 181 finished with value: 265.30045361132596 and parameters: {'learning_rate': 0.02350909201942015, 'num_leaves': 5, 'n_estimators': 364, 'reg_alpha': 0.006, 'reg_lambda': 0.6, 'min_child_samples': 21, 'n_jobs': 2, 'random_state': 69, 'subsample': 0.7, 'verbose': -1}. Best is trial 156 with value: 261.42000562140305.\n",
            "[I 2024-05-17 12:42:53,408] Trial 182 finished with value: 271.93300204657265 and parameters: {'learning_rate': 0.018967198910215356, 'num_leaves': 7, 'n_estimators': 382, 'reg_alpha': 0.006, 'reg_lambda': 0.6, 'min_child_samples': 41, 'n_jobs': 2, 'random_state': 69, 'subsample': 0.7, 'verbose': -1}. Best is trial 156 with value: 261.42000562140305.\n",
            "[I 2024-05-17 12:42:54,289] Trial 183 finished with value: 262.4831638189085 and parameters: {'learning_rate': 0.021669303589512672, 'num_leaves': 9, 'n_estimators': 371, 'reg_alpha': 0.006, 'reg_lambda': 0.30000000000000004, 'min_child_samples': 22, 'n_jobs': 2, 'random_state': 69, 'subsample': 0.7, 'verbose': -1}. Best is trial 156 with value: 261.42000562140305.\n",
            "[I 2024-05-17 12:42:55,172] Trial 184 finished with value: 265.6595513997478 and parameters: {'learning_rate': 0.02682307348123748, 'num_leaves': 9, 'n_estimators': 373, 'reg_alpha': 0.006, 'reg_lambda': 0, 'min_child_samples': 25, 'n_jobs': 2, 'random_state': 69, 'subsample': 0.7, 'verbose': -1}. Best is trial 156 with value: 261.42000562140305.\n",
            "[I 2024-05-17 12:42:55,944] Trial 185 finished with value: 262.576107758982 and parameters: {'learning_rate': 0.022208269777120565, 'num_leaves': 7, 'n_estimators': 360, 'reg_alpha': 0.060000000000000005, 'reg_lambda': 0.30000000000000004, 'min_child_samples': 21, 'n_jobs': 2, 'random_state': 69, 'subsample': 0.7, 'verbose': -1}. Best is trial 156 with value: 261.42000562140305.\n",
            "[I 2024-05-17 12:42:56,595] Trial 186 finished with value: 265.6425269333267 and parameters: {'learning_rate': 0.021160879536757195, 'num_leaves': 5, 'n_estimators': 385, 'reg_alpha': 0.006, 'reg_lambda': 0.30000000000000004, 'min_child_samples': 22, 'n_jobs': 2, 'random_state': 69, 'subsample': 0.7, 'verbose': -1}. Best is trial 156 with value: 261.42000562140305.\n",
            "[I 2024-05-17 12:42:57,363] Trial 187 finished with value: 263.5786787631818 and parameters: {'learning_rate': 0.027447112898816173, 'num_leaves': 7, 'n_estimators': 362, 'reg_alpha': 0.00039999999999999996, 'reg_lambda': 8.0, 'min_child_samples': 24, 'n_jobs': 2, 'random_state': 69, 'subsample': 0.7, 'verbose': -1}. Best is trial 156 with value: 261.42000562140305.\n",
            "[I 2024-05-17 12:42:58,375] Trial 188 finished with value: 264.38691345097305 and parameters: {'learning_rate': 0.02444262370357546, 'num_leaves': 10, 'n_estimators': 393, 'reg_alpha': 1.0, 'reg_lambda': 0.30000000000000004, 'min_child_samples': 20, 'n_jobs': 2, 'random_state': 69, 'subsample': 0.7, 'verbose': -1}. Best is trial 156 with value: 261.42000562140305.\n",
            "[I 2024-05-17 12:42:59,215] Trial 189 finished with value: 262.63322772969923 and parameters: {'learning_rate': 0.021829378501561515, 'num_leaves': 8, 'n_estimators': 374, 'reg_alpha': 0.006, 'reg_lambda': 0.30000000000000004, 'min_child_samples': 22, 'n_jobs': 2, 'random_state': 69, 'subsample': 0.7, 'verbose': -1}. Best is trial 156 with value: 261.42000562140305.\n",
            "[I 2024-05-17 12:43:00,233] Trial 190 finished with value: 267.98666019565195 and parameters: {'learning_rate': 0.030386516680357172, 'num_leaves': 12, 'n_estimators': 359, 'reg_alpha': 0.008, 'reg_lambda': 0.02, 'min_child_samples': 26, 'n_jobs': 2, 'random_state': 69, 'subsample': 0.7, 'verbose': -1}. Best is trial 156 with value: 261.42000562140305.\n",
            "[I 2024-05-17 12:43:01,196] Trial 191 finished with value: 263.085647221042 and parameters: {'learning_rate': 0.017598524223157854, 'num_leaves': 10, 'n_estimators': 365, 'reg_alpha': 0.060000000000000005, 'reg_lambda': 0.0006000000000000001, 'min_child_samples': 20, 'n_jobs': 2, 'random_state': 69, 'subsample': 0.7, 'verbose': -1}. Best is trial 156 with value: 261.42000562140305.\n",
            "[I 2024-05-17 12:43:02,047] Trial 192 finished with value: 262.7133811330215 and parameters: {'learning_rate': 0.016438783916361766, 'num_leaves': 7, 'n_estimators': 381, 'reg_alpha': 0.0007, 'reg_lambda': 0.08, 'min_child_samples': 19, 'n_jobs': 2, 'random_state': 69, 'subsample': 0.7, 'verbose': -1}. Best is trial 156 with value: 261.42000562140305.\n",
            "[I 2024-05-17 12:43:05,058] Trial 193 finished with value: 262.80423930161595 and parameters: {'learning_rate': 0.02020829845872103, 'num_leaves': 9, 'n_estimators': 373, 'reg_alpha': 0.2, 'reg_lambda': 0.007, 'min_child_samples': 22, 'n_jobs': 2, 'random_state': 69, 'subsample': 0.7, 'verbose': -1}. Best is trial 156 with value: 261.42000562140305.\n",
            "[I 2024-05-17 12:43:06,846] Trial 194 finished with value: 265.88634055218796 and parameters: {'learning_rate': 0.019134167412739694, 'num_leaves': 5, 'n_estimators': 363, 'reg_alpha': 0, 'reg_lambda': 0.0001, 'min_child_samples': 17, 'n_jobs': 2, 'random_state': 69, 'subsample': 0.7, 'verbose': -1}. Best is trial 156 with value: 261.42000562140305.\n",
            "[I 2024-05-17 12:43:08,048] Trial 195 finished with value: 265.2965361447682 and parameters: {'learning_rate': 0.02273977458712277, 'num_leaves': 13, 'n_estimators': 388, 'reg_alpha': 10, 'reg_lambda': 8.0, 'min_child_samples': 24, 'n_jobs': 2, 'random_state': 69, 'subsample': 0.7, 'verbose': -1}. Best is trial 156 with value: 261.42000562140305.\n",
            "[I 2024-05-17 12:43:08,964] Trial 196 finished with value: 263.0889385943157 and parameters: {'learning_rate': 0.016654142720364296, 'num_leaves': 10, 'n_estimators': 344, 'reg_alpha': 0.0001, 'reg_lambda': 0.30000000000000004, 'min_child_samples': 19, 'n_jobs': 2, 'random_state': 69, 'subsample': 0.7, 'verbose': -1}. Best is trial 156 with value: 261.42000562140305.\n",
            "[I 2024-05-17 12:43:09,747] Trial 197 finished with value: 262.5246015007131 and parameters: {'learning_rate': 0.015141470802389935, 'num_leaves': 7, 'n_estimators': 357, 'reg_alpha': 0.060000000000000005, 'reg_lambda': 0.8, 'min_child_samples': 21, 'n_jobs': 2, 'random_state': 69, 'subsample': 0.7, 'verbose': -1}. Best is trial 156 with value: 261.42000562140305.\n",
            "[I 2024-05-17 12:43:10,544] Trial 198 finished with value: 263.1126634208046 and parameters: {'learning_rate': 0.018329814320995952, 'num_leaves': 7, 'n_estimators': 357, 'reg_alpha': 0.060000000000000005, 'reg_lambda': 0.0007999999999999999, 'min_child_samples': 29, 'n_jobs': 2, 'random_state': 69, 'subsample': 0.7, 'verbose': -1}. Best is trial 156 with value: 261.42000562140305.\n",
            "[I 2024-05-17 12:43:11,392] Trial 199 finished with value: 263.851559273881 and parameters: {'learning_rate': 0.02198063892995736, 'num_leaves': 8, 'n_estimators': 373, 'reg_alpha': 0.060000000000000005, 'reg_lambda': 0.9, 'min_child_samples': 23, 'n_jobs': 2, 'random_state': 69, 'subsample': 0.7, 'verbose': -1}. Best is trial 156 with value: 261.42000562140305.\n"
          ]
        },
        {
          "output_type": "stream",
          "name": "stdout",
          "text": [
            "Best params: {'learning_rate': 0.016813486619951495, 'num_leaves': 8, 'n_estimators': 381, 'reg_alpha': 0, 'reg_lambda': 8.0, 'min_child_samples': 22, 'n_jobs': 2, 'random_state': 69, 'subsample': 0.7, 'verbose': -1} [247.85789629682728, 143038.91056059676, 1.1793292222579672, 0.2600935477805507]\n",
            "{'lossFunction': 'mse'} "
          ]
        },
        {
          "output_type": "stream",
          "name": "stderr",
          "text": [
            "[I 2024-05-17 12:43:11,837] A new study created in memory with name: no-name-ea5d8232-57e2-4211-872f-03bc266fba74\n",
            "[I 2024-05-17 12:43:12,576] Trial 0 finished with value: 326.6139050356598 and parameters: {'learning_rate': 0.0013885763611354545, 'num_leaves': 61, 'n_estimators': 237, 'reg_alpha': 0.04, 'reg_lambda': 0.03, 'min_child_samples': 52, 'n_jobs': 2, 'random_state': 69, 'subsample': 1, 'verbose': -1}. Best is trial 0 with value: 326.6139050356598.\n",
            "[I 2024-05-17 12:43:13,308] Trial 1 finished with value: 293.9308983789432 and parameters: {'learning_rate': 0.08405916509360456, 'num_leaves': 76, 'n_estimators': 250, 'reg_alpha': 0.0005, 'reg_lambda': 0.03, 'min_child_samples': 67, 'n_jobs': 2, 'random_state': 69, 'subsample': 0.8, 'verbose': -1}. Best is trial 1 with value: 293.9308983789432.\n",
            "[I 2024-05-17 12:43:14,123] Trial 2 finished with value: 306.5421738185285 and parameters: {'learning_rate': 0.003050665936689012, 'num_leaves': 39, 'n_estimators': 283, 'reg_alpha': 0.006, 'reg_lambda': 5.0, 'min_child_samples': 57, 'n_jobs': 2, 'random_state': 69, 'subsample': 0.7, 'verbose': -1}. Best is trial 1 with value: 293.9308983789432.\n",
            "[I 2024-05-17 12:43:15,990] Trial 3 finished with value: 271.84594558169846 and parameters: {'learning_rate': 0.00597035327747847, 'num_leaves': 63, 'n_estimators': 324, 'reg_alpha': 0.09, 'reg_lambda': 0.0006000000000000001, 'min_child_samples': 25, 'n_jobs': 2, 'random_state': 69, 'subsample': 0.5, 'verbose': -1}. Best is trial 3 with value: 271.84594558169846.\n",
            "[I 2024-05-17 12:43:17,005] Trial 4 finished with value: 327.14391148610395 and parameters: {'learning_rate': 0.0011439547512096227, 'num_leaves': 15, 'n_estimators': 237, 'reg_alpha': 5.0, 'reg_lambda': 0.009, 'min_child_samples': 31, 'n_jobs': 2, 'random_state': 69, 'subsample': 0.6, 'verbose': -1}. Best is trial 3 with value: 271.84594558169846.\n",
            "[I 2024-05-17 12:43:19,587] Trial 5 finished with value: 325.377517399161 and parameters: {'learning_rate': 0.001462414300760132, 'num_leaves': 14, 'n_estimators': 262, 'reg_alpha': 0.5, 'reg_lambda': 0.00039999999999999996, 'min_child_samples': 86, 'n_jobs': 2, 'random_state': 69, 'subsample': 0.8, 'verbose': -1}. Best is trial 3 with value: 271.84594558169846.\n",
            "[I 2024-05-17 12:43:21,549] Trial 6 finished with value: 299.1602256274819 and parameters: {'learning_rate': 0.002681801379419187, 'num_leaves': 77, 'n_estimators': 435, 'reg_alpha': 0.007, 'reg_lambda': 0.09, 'min_child_samples': 77, 'n_jobs': 2, 'random_state': 69, 'subsample': 1, 'verbose': -1}. Best is trial 3 with value: 271.84594558169846.\n",
            "[I 2024-05-17 12:43:22,472] Trial 7 finished with value: 289.0097796453603 and parameters: {'learning_rate': 0.004670170775657098, 'num_leaves': 40, 'n_estimators': 433, 'reg_alpha': 6.0, 'reg_lambda': 0.006, 'min_child_samples': 79, 'n_jobs': 2, 'random_state': 69, 'subsample': 0.8, 'verbose': -1}. Best is trial 3 with value: 271.84594558169846.\n",
            "[I 2024-05-17 12:43:23,179] Trial 8 finished with value: 278.6432361181536 and parameters: {'learning_rate': 0.009299185935782394, 'num_leaves': 25, 'n_estimators': 152, 'reg_alpha': 0.4, 'reg_lambda': 0.0001, 'min_child_samples': 25, 'n_jobs': 2, 'random_state': 69, 'subsample': 0.7, 'verbose': -1}. Best is trial 3 with value: 271.84594558169846.\n",
            "[I 2024-05-17 12:43:24,241] Trial 9 finished with value: 295.04960664756493 and parameters: {'learning_rate': 0.0037757074558773273, 'num_leaves': 75, 'n_estimators': 296, 'reg_alpha': 0.009, 'reg_lambda': 0.06999999999999999, 'min_child_samples': 40, 'n_jobs': 2, 'random_state': 69, 'subsample': 0.7, 'verbose': -1}. Best is trial 3 with value: 271.84594558169846.\n",
            "[I 2024-05-17 12:43:24,607] Trial 10 finished with value: 290.3969121372366 and parameters: {'learning_rate': 0.03616562327840143, 'num_leaves': 101, 'n_estimators': 24, 'reg_alpha': 0.09, 'reg_lambda': 0.060000000000000005, 'min_child_samples': 10, 'n_jobs': 2, 'random_state': 69, 'subsample': 0.5, 'verbose': -1}. Best is trial 3 with value: 271.84594558169846.\n",
            "[I 2024-05-17 12:43:25,260] Trial 11 finished with value: 278.0933126231873 and parameters: {'learning_rate': 0.013559007086976665, 'num_leaves': 34, 'n_estimators': 98, 'reg_alpha': 0.4, 'reg_lambda': 0.0001, 'min_child_samples': 16, 'n_jobs': 2, 'random_state': 69, 'subsample': 0.5, 'verbose': -1}. Best is trial 3 with value: 271.84594558169846.\n",
            "[I 2024-05-17 12:43:25,542] Trial 12 finished with value: 314.1471087003816 and parameters: {'learning_rate': 0.016377111145008977, 'num_leaves': 53, 'n_estimators': 22, 'reg_alpha': 0.004, 'reg_lambda': 0.0006000000000000001, 'min_child_samples': 11, 'n_jobs': 2, 'random_state': 69, 'subsample': 0.5, 'verbose': -1}. Best is trial 3 with value: 271.84594558169846.\n",
            "[I 2024-05-17 12:43:26,273] Trial 13 finished with value: 277.5588768949245 and parameters: {'learning_rate': 0.012052760920106636, 'num_leaves': 39, 'n_estimators': 120, 'reg_alpha': 0.4, 'reg_lambda': 0.0001, 'min_child_samples': 25, 'n_jobs': 2, 'random_state': 69, 'subsample': 0.9, 'verbose': -1}. Best is trial 3 with value: 271.84594558169846.\n",
            "[I 2024-05-17 12:43:27,040] Trial 14 finished with value: 286.20449632689633 and parameters: {'learning_rate': 0.0075848809026904, 'num_leaves': 55, 'n_estimators': 373, 'reg_alpha': 0.30000000000000004, 'reg_lambda': 4.0, 'min_child_samples': 99, 'n_jobs': 2, 'random_state': 69, 'subsample': 0.9, 'verbose': -1}. Best is trial 3 with value: 271.84594558169846.\n",
            "[I 2024-05-17 12:43:27,593] Trial 15 finished with value: 273.97444129530305 and parameters: {'learning_rate': 0.025466782632137717, 'num_leaves': 93, 'n_estimators': 126, 'reg_alpha': 0.008, 'reg_lambda': 0.002, 'min_child_samples': 41, 'n_jobs': 2, 'random_state': 69, 'subsample': 0.9, 'verbose': -1}. Best is trial 3 with value: 271.84594558169846.\n",
            "[I 2024-05-17 12:43:28,373] Trial 16 finished with value: 274.46274125339534 and parameters: {'learning_rate': 0.027652418482532633, 'num_leaves': 98, 'n_estimators': 181, 'reg_alpha': 0.008, 'reg_lambda': 0.30000000000000004, 'min_child_samples': 41, 'n_jobs': 2, 'random_state': 69, 'subsample': 0.9, 'verbose': -1}. Best is trial 3 with value: 271.84594558169846.\n",
            "[I 2024-05-17 12:43:29,672] Trial 17 finished with value: 293.8959133604555 and parameters: {'learning_rate': 0.06001769935975339, 'num_leaves': 89, 'n_estimators': 341, 'reg_alpha': 0.003, 'reg_lambda': 0.002, 'min_child_samples': 43, 'n_jobs': 2, 'random_state': 69, 'subsample': 0.6, 'verbose': -1}. Best is trial 3 with value: 271.84594558169846.\n",
            "[I 2024-05-17 12:43:31,112] Trial 18 finished with value: 284.65922279974023 and parameters: {'learning_rate': 0.027024349964158353, 'num_leaves': 65, 'n_estimators': 370, 'reg_alpha': 0.06999999999999999, 'reg_lambda': 0.01, 'min_child_samples': 52, 'n_jobs': 2, 'random_state': 69, 'subsample': 0.9, 'verbose': -1}. Best is trial 3 with value: 271.84594558169846.\n",
            "[I 2024-05-17 12:43:36,463] Trial 19 finished with value: 269.55206453840077 and parameters: {'learning_rate': 0.00526523792185714, 'num_leaves': 84, 'n_estimators': 501, 'reg_alpha': 0.060000000000000005, 'reg_lambda': 9.0, 'min_child_samples': 29, 'n_jobs': 2, 'random_state': 69, 'subsample': 0.5, 'verbose': -1}. Best is trial 19 with value: 269.55206453840077.\n",
            "[I 2024-05-17 12:43:39,148] Trial 20 finished with value: 268.6415762864526 and parameters: {'learning_rate': 0.005772687953521675, 'num_leaves': 84, 'n_estimators': 494, 'reg_alpha': 0.060000000000000005, 'reg_lambda': 9.0, 'min_child_samples': 23, 'n_jobs': 2, 'random_state': 69, 'subsample': 0.5, 'verbose': -1}. Best is trial 20 with value: 268.6415762864526.\n",
            "[I 2024-05-17 12:43:42,216] Trial 21 finished with value: 266.3502655854773 and parameters: {'learning_rate': 0.006011605534522289, 'num_leaves': 84, 'n_estimators': 479, 'reg_alpha': 0.7000000000000001, 'reg_lambda': 0.0003, 'min_child_samples': 23, 'n_jobs': 2, 'random_state': 69, 'subsample': 0.5, 'verbose': -1}. Best is trial 21 with value: 266.3502655854773.\n",
            "[I 2024-05-17 12:43:44,307] Trial 22 finished with value: 297.2916356841229 and parameters: {'learning_rate': 0.001971143964297777, 'num_leaves': 85, 'n_estimators': 501, 'reg_alpha': 0.060000000000000005, 'reg_lambda': 9.0, 'min_child_samples': 32, 'n_jobs': 2, 'random_state': 69, 'subsample': 0.5, 'verbose': -1}. Best is trial 21 with value: 266.3502655854773.\n",
            "[I 2024-05-17 12:43:50,995] Trial 23 finished with value: 266.5182860267736 and parameters: {'learning_rate': 0.005455447909795687, 'num_leaves': 71, 'n_estimators': 501, 'reg_alpha': 0.060000000000000005, 'reg_lambda': 0.0003, 'min_child_samples': 21, 'n_jobs': 2, 'random_state': 69, 'subsample': 0.5, 'verbose': -1}. Best is trial 21 with value: 266.3502655854773.\n",
            "[I 2024-05-17 12:43:54,617] Trial 24 finished with value: 266.5423862879431 and parameters: {'learning_rate': 0.007233472892251985, 'num_leaves': 72, 'n_estimators': 445, 'reg_alpha': 0.7000000000000001, 'reg_lambda': 0.0003, 'min_child_samples': 17, 'n_jobs': 2, 'random_state': 69, 'subsample': 0.5, 'verbose': -1}. Best is trial 21 with value: 266.3502655854773.\n",
            "[I 2024-05-17 12:43:58,141] Trial 25 finished with value: 266.7288262679139 and parameters: {'learning_rate': 0.008361853707769571, 'num_leaves': 73, 'n_estimators': 436, 'reg_alpha': 4.0, 'reg_lambda': 0.0003, 'min_child_samples': 17, 'n_jobs': 2, 'random_state': 69, 'subsample': 0.5, 'verbose': -1}. Best is trial 21 with value: 266.3502655854773.\n",
            "[I 2024-05-17 12:44:04,934] Trial 26 finished with value: 279.9879573354795 and parameters: {'learning_rate': 0.0026270757012818767, 'num_leaves': 69, 'n_estimators': 457, 'reg_alpha': 0.7000000000000001, 'reg_lambda': 0.0003, 'min_child_samples': 18, 'n_jobs': 2, 'random_state': 69, 'subsample': 0.5, 'verbose': -1}. Best is trial 21 with value: 266.3502655854773.\n",
            "[I 2024-05-17 12:44:06,565] Trial 27 finished with value: 269.7414386244756 and parameters: {'learning_rate': 0.016972330903639567, 'num_leaves': 52, 'n_estimators': 377, 'reg_alpha': 0.002, 'reg_lambda': 0.0003, 'min_child_samples': 35, 'n_jobs': 2, 'random_state': 69, 'subsample': 0.5, 'verbose': -1}. Best is trial 21 with value: 266.3502655854773.\n",
            "[I 2024-05-17 12:44:09,465] Trial 28 finished with value: 266.58901742646225 and parameters: {'learning_rate': 0.007244564826505148, 'num_leaves': 81, 'n_estimators': 402, 'reg_alpha': 0.7000000000000001, 'reg_lambda': 0.0003, 'min_child_samples': 19, 'n_jobs': 2, 'random_state': 69, 'subsample': 0.5, 'verbose': -1}. Best is trial 21 with value: 266.3502655854773.\n",
            "[I 2024-05-17 12:44:10,722] Trial 29 finished with value: 286.9433832255028 and parameters: {'learning_rate': 0.00397539205239919, 'num_leaves': 60, 'n_estimators': 456, 'reg_alpha': 0.0009, 'reg_lambda': 0.008, 'min_child_samples': 60, 'n_jobs': 2, 'random_state': 69, 'subsample': 1, 'verbose': -1}. Best is trial 21 with value: 266.3502655854773.\n",
            "[I 2024-05-17 12:44:12,252] Trial 30 finished with value: 300.7417118380019 and parameters: {'learning_rate': 0.002107704231715874, 'num_leaves': 92, 'n_estimators': 464, 'reg_alpha': 0.1, 'reg_lambda': 0.0007999999999999999, 'min_child_samples': 46, 'n_jobs': 2, 'random_state': 69, 'subsample': 0.6, 'verbose': -1}. Best is trial 21 with value: 266.3502655854773.\n",
            "[I 2024-05-17 12:44:18,464] Trial 31 finished with value: 265.73041956377665 and parameters: {'learning_rate': 0.0072878156797027815, 'num_leaves': 69, 'n_estimators': 408, 'reg_alpha': 0.7000000000000001, 'reg_lambda': 0.0003, 'min_child_samples': 20, 'n_jobs': 2, 'random_state': 69, 'subsample': 0.5, 'verbose': -1}. Best is trial 31 with value: 265.73041956377665.\n",
            "[I 2024-05-17 12:44:23,246] Trial 32 finished with value: 273.90325061863757 and parameters: {'learning_rate': 0.011049951247431501, 'num_leaves': 67, 'n_estimators': 470, 'reg_alpha': 0.7000000000000001, 'reg_lambda': 0.1, 'min_child_samples': 10, 'n_jobs': 2, 'random_state': 69, 'subsample': 0.5, 'verbose': -1}. Best is trial 31 with value: 265.73041956377665.\n",
            "[I 2024-05-17 12:44:24,768] Trial 33 finished with value: 284.43505965697926 and parameters: {'learning_rate': 0.0037061887669012743, 'num_leaves': 72, 'n_estimators': 408, 'reg_alpha': 0.8, 'reg_lambda': 6.0, 'min_child_samples': 35, 'n_jobs': 2, 'random_state': 69, 'subsample': 0.5, 'verbose': -1}. Best is trial 31 with value: 265.73041956377665.\n",
            "[I 2024-05-17 12:44:27,691] Trial 34 finished with value: 266.61934635671975 and parameters: {'learning_rate': 0.006671792607468472, 'num_leaves': 47, 'n_estimators': 414, 'reg_alpha': 0.6, 'reg_lambda': 0.9, 'min_child_samples': 21, 'n_jobs': 2, 'random_state': 69, 'subsample': 1, 'verbose': -1}. Best is trial 31 with value: 265.73041956377665.\n",
            "[I 2024-05-17 12:44:33,565] Trial 35 finished with value: 277.3648509310083 and parameters: {'learning_rate': 0.004679705729394317, 'num_leaves': 80, 'n_estimators': 334, 'reg_alpha': 8.0, 'reg_lambda': 0.007, 'min_child_samples': 14, 'n_jobs': 2, 'random_state': 69, 'subsample': 0.5, 'verbose': -1}. Best is trial 31 with value: 265.73041956377665.\n",
            "[I 2024-05-17 12:44:36,084] Trial 36 finished with value: 266.8504642946201 and parameters: {'learning_rate': 0.009536824745552064, 'num_leaves': 61, 'n_estimators': 477, 'reg_alpha': 0.00019999999999999998, 'reg_lambda': 0.08, 'min_child_samples': 29, 'n_jobs': 2, 'random_state': 69, 'subsample': 0.8, 'verbose': -1}. Best is trial 31 with value: 265.73041956377665.\n",
            "[I 2024-05-17 12:44:37,260] Trial 37 finished with value: 266.4602597807374 and parameters: {'learning_rate': 0.015329933773075744, 'num_leaves': 58, 'n_estimators': 204, 'reg_alpha': 1.0, 'reg_lambda': 0.04, 'min_child_samples': 25, 'n_jobs': 2, 'random_state': 69, 'subsample': 0.5, 'verbose': -1}. Best is trial 31 with value: 265.73041956377665.\n",
            "[I 2024-05-17 12:44:37,950] Trial 38 finished with value: 280.0797946376119 and parameters: {'learning_rate': 0.015063155888911734, 'num_leaves': 46, 'n_estimators': 222, 'reg_alpha': 1.0, 'reg_lambda': 0.04, 'min_child_samples': 61, 'n_jobs': 2, 'random_state': 69, 'subsample': 0.7, 'verbose': -1}. Best is trial 31 with value: 265.73041956377665.\n",
            "[I 2024-05-17 12:44:38,320] Trial 39 finished with value: 266.2615565734637 and parameters: {'learning_rate': 0.01949524840327196, 'num_leaves': 6, 'n_estimators': 185, 'reg_alpha': 0, 'reg_lambda': 0, 'min_child_samples': 26, 'n_jobs': 2, 'random_state': 69, 'subsample': 0.5, 'verbose': -1}. Best is trial 31 with value: 265.73041956377665.\n",
            "[I 2024-05-17 12:44:38,782] Trial 40 finished with value: 278.8141474079488 and parameters: {'learning_rate': 0.019353175502954616, 'num_leaves': 9, 'n_estimators': 196, 'reg_alpha': 0, 'reg_lambda': 0, 'min_child_samples': 48, 'n_jobs': 2, 'random_state': 69, 'subsample': 0.8, 'verbose': -1}. Best is trial 31 with value: 265.73041956377665.\n",
            "[I 2024-05-17 12:44:39,957] Trial 41 finished with value: 275.3690831577291 and parameters: {'learning_rate': 0.045235670818450834, 'num_leaves': 25, 'n_estimators': 262, 'reg_alpha': 0.08, 'reg_lambda': 0.0005, 'min_child_samples': 27, 'n_jobs': 2, 'random_state': 69, 'subsample': 0.5, 'verbose': -1}. Best is trial 31 with value: 265.73041956377665.\n",
            "[I 2024-05-17 12:44:40,871] Trial 42 finished with value: 271.3039212863146 and parameters: {'learning_rate': 0.010846488896035521, 'num_leaves': 57, 'n_estimators': 207, 'reg_alpha': 0.001, 'reg_lambda': 1.0, 'min_child_samples': 35, 'n_jobs': 2, 'random_state': 69, 'subsample': 0.5, 'verbose': -1}. Best is trial 31 with value: 265.73041956377665.\n",
            "[I 2024-05-17 12:44:46,214] Trial 43 finished with value: 270.14828996353316 and parameters: {'learning_rate': 0.022051412500008985, 'num_leaves': 67, 'n_estimators': 291, 'reg_alpha': 0.0003, 'reg_lambda': 0.0007, 'min_child_samples': 22, 'n_jobs': 2, 'random_state': 69, 'subsample': 0.5, 'verbose': -1}. Best is trial 31 with value: 265.73041956377665.\n",
            "[I 2024-05-17 12:44:46,935] Trial 44 finished with value: 274.43602838616647 and parameters: {'learning_rate': 0.012817553400188867, 'num_leaves': 77, 'n_estimators': 162, 'reg_alpha': 0.01, 'reg_lambda': 8.0, 'min_child_samples': 33, 'n_jobs': 2, 'random_state': 69, 'subsample': 0.6, 'verbose': -1}. Best is trial 31 with value: 265.73041956377665.\n",
            "[I 2024-05-17 12:44:47,130] Trial 45 finished with value: 337.65057627204516 and parameters: {'learning_rate': 0.003047678355460693, 'num_leaves': 5, 'n_estimators': 62, 'reg_alpha': 0.0006000000000000001, 'reg_lambda': 2.0, 'min_child_samples': 69, 'n_jobs': 2, 'random_state': 69, 'subsample': 0.5, 'verbose': -1}. Best is trial 31 with value: 265.73041956377665.\n",
            "[I 2024-05-17 12:44:48,426] Trial 46 finished with value: 271.3760699912015 and parameters: {'learning_rate': 0.032877866573053506, 'num_leaves': 29, 'n_estimators': 244, 'reg_alpha': 0.0007, 'reg_lambda': 0.001, 'min_child_samples': 14, 'n_jobs': 2, 'random_state': 69, 'subsample': 0.7, 'verbose': -1}. Best is trial 31 with value: 265.73041956377665.\n",
            "[I 2024-05-17 12:44:49,330] Trial 47 finished with value: 287.5506874592447 and parameters: {'learning_rate': 0.006158394097071736, 'num_leaves': 49, 'n_estimators': 157, 'reg_alpha': 10, 'reg_lambda': 0.7000000000000001, 'min_child_samples': 23, 'n_jobs': 2, 'random_state': 69, 'subsample': 1, 'verbose': -1}. Best is trial 31 with value: 265.73041956377665.\n",
            "[I 2024-05-17 12:44:50,465] Trial 48 finished with value: 267.10128035230076 and parameters: {'learning_rate': 0.009155465588966277, 'num_leaves': 19, 'n_estimators': 307, 'reg_alpha': 0.05, 'reg_lambda': 0.5, 'min_child_samples': 27, 'n_jobs': 2, 'random_state': 69, 'subsample': 0.5, 'verbose': -1}. Best is trial 31 with value: 265.73041956377665.\n",
            "[I 2024-05-17 12:44:51,595] Trial 49 finished with value: 293.1625300177567 and parameters: {'learning_rate': 0.09282154502888837, 'num_leaves': 60, 'n_estimators': 265, 'reg_alpha': 0.00039999999999999996, 'reg_lambda': 0.0009, 'min_child_samples': 38, 'n_jobs': 2, 'random_state': 69, 'subsample': 0.5, 'verbose': -1}. Best is trial 31 with value: 265.73041956377665.\n",
            "[I 2024-05-17 12:44:52,700] Trial 50 finished with value: 267.4396161117473 and parameters: {'learning_rate': 0.01923787654615032, 'num_leaves': 34, 'n_estimators': 180, 'reg_alpha': 0.02, 'reg_lambda': 0.02, 'min_child_samples': 14, 'n_jobs': 2, 'random_state': 69, 'subsample': 0.8, 'verbose': -1}. Best is trial 31 with value: 265.73041956377665.\n",
            "[I 2024-05-17 12:44:55,571] Trial 51 finished with value: 269.76697175449243 and parameters: {'learning_rate': 0.004649413829791267, 'num_leaves': 70, 'n_estimators': 438, 'reg_alpha': 7.0, 'reg_lambda': 0.2, 'min_child_samples': 20, 'n_jobs': 2, 'random_state': 69, 'subsample': 0.5, 'verbose': -1}. Best is trial 31 with value: 265.73041956377665.\n",
            "[I 2024-05-17 12:45:01,696] Trial 52 finished with value: 266.2608426412922 and parameters: {'learning_rate': 0.007787677626198768, 'num_leaves': 79, 'n_estimators': 479, 'reg_alpha': 9.0, 'reg_lambda': 0.004, 'min_child_samples': 24, 'n_jobs': 2, 'random_state': 69, 'subsample': 0.5, 'verbose': -1}. Best is trial 31 with value: 265.73041956377665.\n",
            "[I 2024-05-17 12:45:04,537] Trial 53 finished with value: 269.48392769070267 and parameters: {'learning_rate': 0.014392672229886343, 'num_leaves': 79, 'n_estimators': 480, 'reg_alpha': 9.0, 'reg_lambda': 0.004, 'min_child_samples': 27, 'n_jobs': 2, 'random_state': 69, 'subsample': 0.5, 'verbose': -1}. Best is trial 31 with value: 265.73041956377665.\n",
            "[I 2024-05-17 12:45:06,393] Trial 54 finished with value: 268.5172105651879 and parameters: {'learning_rate': 0.008017979166822717, 'num_leaves': 64, 'n_estimators': 415, 'reg_alpha': 0.03, 'reg_lambda': 3.0, 'min_child_samples': 31, 'n_jobs': 2, 'random_state': 69, 'subsample': 0.5, 'verbose': -1}. Best is trial 31 with value: 265.73041956377665.\n",
            "[I 2024-05-17 12:45:06,759] Trial 55 finished with value: 313.55716536523755 and parameters: {'learning_rate': 0.005474167372207158, 'num_leaves': 88, 'n_estimators': 126, 'reg_alpha': 0.2, 'reg_lambda': 7.0, 'min_child_samples': 96, 'n_jobs': 2, 'random_state': 69, 'subsample': 0.5, 'verbose': -1}. Best is trial 31 with value: 265.73041956377665.\n",
            "[I 2024-05-17 12:45:10,061] Trial 56 finished with value: 268.06800275709367 and parameters: {'learning_rate': 0.010298028244632332, 'num_leaves': 95, 'n_estimators': 487, 'reg_alpha': 3.0, 'reg_lambda': 0.05, 'min_child_samples': 22, 'n_jobs': 2, 'random_state': 69, 'subsample': 0.5, 'verbose': -1}. Best is trial 31 with value: 265.73041956377665.\n",
            "[I 2024-05-17 12:45:12,634] Trial 57 finished with value: 315.09695180102125 and parameters: {'learning_rate': 0.004344943638266963, 'num_leaves': 76, 'n_estimators': 89, 'reg_alpha': 0.9, 'reg_lambda': 0.8, 'min_child_samples': 26, 'n_jobs': 2, 'random_state': 69, 'subsample': 0.7, 'verbose': -1}. Best is trial 31 with value: 265.73041956377665.\n",
            "[I 2024-05-17 12:45:17,300] Trial 58 finished with value: 313.42272130773085 and parameters: {'learning_rate': 0.001077372469103288, 'num_leaves': 88, 'n_estimators': 363, 'reg_alpha': 0.0001, 'reg_lambda': 0.003, 'min_child_samples': 13, 'n_jobs': 2, 'random_state': 69, 'subsample': 0.6, 'verbose': -1}. Best is trial 31 with value: 265.73041956377665.\n",
            "[I 2024-05-17 12:45:18,235] Trial 59 finished with value: 272.42474864567254 and parameters: {'learning_rate': 0.012626743302283982, 'num_leaves': 43, 'n_estimators': 226, 'reg_alpha': 0.0007999999999999999, 'reg_lambda': 0.6, 'min_child_samples': 37, 'n_jobs': 2, 'random_state': 69, 'subsample': 0.5, 'verbose': -1}. Best is trial 31 with value: 265.73041956377665.\n",
            "[I 2024-05-17 12:45:18,987] Trial 60 finished with value: 294.6258866657641 and parameters: {'learning_rate': 0.0063964761029356035, 'num_leaves': 83, 'n_estimators': 143, 'reg_alpha': 2.0, 'reg_lambda': 0.005, 'min_child_samples': 30, 'n_jobs': 2, 'random_state': 69, 'subsample': 0.9, 'verbose': -1}. Best is trial 31 with value: 265.73041956377665.\n",
            "[I 2024-05-17 12:45:22,703] Trial 61 finished with value: 266.3495978001518 and parameters: {'learning_rate': 0.007710605614806026, 'num_leaves': 72, 'n_estimators': 448, 'reg_alpha': 0.04, 'reg_lambda': 0.00019999999999999998, 'min_child_samples': 17, 'n_jobs': 2, 'random_state': 69, 'subsample': 0.5, 'verbose': -1}. Best is trial 31 with value: 265.73041956377665.\n",
            "[I 2024-05-17 12:45:29,603] Trial 62 finished with value: 265.22651924625137 and parameters: {'learning_rate': 0.008155450604405246, 'num_leaves': 57, 'n_estimators': 449, 'reg_alpha': 0.04, 'reg_lambda': 0.00019999999999999998, 'min_child_samples': 18, 'n_jobs': 2, 'random_state': 69, 'subsample': 0.5, 'verbose': -1}. Best is trial 62 with value: 265.22651924625137.\n",
            "[I 2024-05-17 12:45:32,893] Trial 63 finished with value: 266.77557018239787 and parameters: {'learning_rate': 0.008565098339036768, 'num_leaves': 57, 'n_estimators': 398, 'reg_alpha': 0.006, 'reg_lambda': 0.00019999999999999998, 'min_child_samples': 17, 'n_jobs': 2, 'random_state': 69, 'subsample': 0.5, 'verbose': -1}. Best is trial 62 with value: 265.22651924625137.\n",
            "[I 2024-05-17 12:45:36,916] Trial 64 finished with value: 274.39856792608333 and parameters: {'learning_rate': 0.016963436835529935, 'num_leaves': 54, 'n_estimators': 446, 'reg_alpha': 0.04, 'reg_lambda': 0.00019999999999999998, 'min_child_samples': 10, 'n_jobs': 2, 'random_state': 69, 'subsample': 0.5, 'verbose': -1}. Best is trial 62 with value: 265.22651924625137.\n",
            "[I 2024-05-17 12:45:41,829] Trial 65 finished with value: 266.3372546925484 and parameters: {'learning_rate': 0.007544404757159641, 'num_leaves': 75, 'n_estimators': 424, 'reg_alpha': 1.0, 'reg_lambda': 10, 'min_child_samples': 25, 'n_jobs': 2, 'random_state': 69, 'subsample': 0.5, 'verbose': -1}. Best is trial 62 with value: 265.22651924625137.\n",
            "[I 2024-05-17 12:45:44,633] Trial 66 finished with value: 266.2014338355199 and parameters: {'learning_rate': 0.0071942197278818554, 'num_leaves': 76, 'n_estimators': 424, 'reg_alpha': 0.04, 'reg_lambda': 10, 'min_child_samples': 19, 'n_jobs': 2, 'random_state': 69, 'subsample': 0.5, 'verbose': -1}. Best is trial 62 with value: 265.22651924625137.\n",
            "[I 2024-05-17 12:45:47,598] Trial 67 finished with value: 266.4013130811641 and parameters: {'learning_rate': 0.007653819897262621, 'num_leaves': 74, 'n_estimators': 424, 'reg_alpha': 0.04, 'reg_lambda': 0.4, 'min_child_samples': 19, 'n_jobs': 2, 'random_state': 69, 'subsample': 0.5, 'verbose': -1}. Best is trial 62 with value: 265.22651924625137.\n",
            "[I 2024-05-17 12:45:50,476] Trial 68 finished with value: 267.4628150140114 and parameters: {'learning_rate': 0.011703358064377703, 'num_leaves': 66, 'n_estimators': 390, 'reg_alpha': 0.04, 'reg_lambda': 10, 'min_child_samples': 16, 'n_jobs': 2, 'random_state': 69, 'subsample': 1, 'verbose': -1}. Best is trial 62 with value: 265.22651924625137.\n",
            "[I 2024-05-17 12:45:55,701] Trial 69 finished with value: 268.0530827132609 and parameters: {'learning_rate': 0.006977506880336568, 'num_leaves': 63, 'n_estimators': 349, 'reg_alpha': 0.0005, 'reg_lambda': 10, 'min_child_samples': 13, 'n_jobs': 2, 'random_state': 69, 'subsample': 0.5, 'verbose': -1}. Best is trial 62 with value: 265.22651924625137.\n",
            "[I 2024-05-17 12:45:59,467] Trial 70 finished with value: 267.61152522564834 and parameters: {'learning_rate': 0.009788140450471683, 'num_leaves': 78, 'n_estimators': 428, 'reg_alpha': 5.0, 'reg_lambda': 0, 'min_child_samples': 19, 'n_jobs': 2, 'random_state': 69, 'subsample': 0.9, 'verbose': -1}. Best is trial 62 with value: 265.22651924625137.\n",
            "[I 2024-05-17 12:46:02,156] Trial 71 finished with value: 266.8673109296108 and parameters: {'learning_rate': 0.006166009686454909, 'num_leaves': 86, 'n_estimators': 449, 'reg_alpha': 9.0, 'reg_lambda': 0.03, 'min_child_samples': 24, 'n_jobs': 2, 'random_state': 69, 'subsample': 0.5, 'verbose': -1}. Best is trial 62 with value: 265.22651924625137.\n",
            "[I 2024-05-17 12:46:06,033] Trial 72 finished with value: 267.8041905713561 and parameters: {'learning_rate': 0.00518344040660791, 'num_leaves': 81, 'n_estimators': 463, 'reg_alpha': 0.5, 'reg_lambda': 0.00019999999999999998, 'min_child_samples': 16, 'n_jobs': 2, 'random_state': 69, 'subsample': 0.5, 'verbose': -1}. Best is trial 62 with value: 265.22651924625137.\n",
            "[I 2024-05-17 12:46:11,968] Trial 73 finished with value: 266.4945659048539 and parameters: {'learning_rate': 0.008627928785222309, 'num_leaves': 75, 'n_estimators': 473, 'reg_alpha': 0.007, 'reg_lambda': 5.0, 'min_child_samples': 24, 'n_jobs': 2, 'random_state': 69, 'subsample': 0.5, 'verbose': -1}. Best is trial 62 with value: 265.22651924625137.\n",
            "[I 2024-05-17 12:46:14,842] Trial 74 finished with value: 273.3505088580276 and parameters: {'learning_rate': 0.0038961387721180574, 'num_leaves': 68, 'n_estimators': 423, 'reg_alpha': 0.005, 'reg_lambda': 0.00039999999999999996, 'min_child_samples': 21, 'n_jobs': 2, 'random_state': 69, 'subsample': 0.5, 'verbose': -1}. Best is trial 62 with value: 265.22651924625137.\n",
            "[I 2024-05-17 12:46:16,417] Trial 75 finished with value: 268.14898508008355 and parameters: {'learning_rate': 0.007349562083064998, 'num_leaves': 82, 'n_estimators': 388, 'reg_alpha': 0, 'reg_lambda': 10, 'min_child_samples': 29, 'n_jobs': 2, 'random_state': 69, 'subsample': 0.5, 'verbose': -1}. Best is trial 62 with value: 265.22651924625137.\n",
            "[I 2024-05-17 12:46:18,591] Trial 76 finished with value: 281.2214648836894 and parameters: {'learning_rate': 0.003222784658447592, 'num_leaves': 92, 'n_estimators': 457, 'reg_alpha': 0.04, 'reg_lambda': 0.004, 'min_child_samples': 32, 'n_jobs': 2, 'random_state': 69, 'subsample': 0.5, 'verbose': -1}. Best is trial 62 with value: 265.22651924625137.\n",
            "[I 2024-05-17 12:46:26,279] Trial 77 finished with value: 269.176863460548 and parameters: {'learning_rate': 0.005243228326147431, 'num_leaves': 71, 'n_estimators': 492, 'reg_alpha': 6.0, 'reg_lambda': 0.060000000000000005, 'min_child_samples': 13, 'n_jobs': 2, 'random_state': 69, 'subsample': 0.8, 'verbose': -1}. Best is trial 62 with value: 265.22651924625137.\n",
            "[I 2024-05-17 12:46:29,729] Trial 78 finished with value: 268.0229745228274 and parameters: {'learning_rate': 0.010277517894954992, 'num_leaves': 74, 'n_estimators': 436, 'reg_alpha': 0.7000000000000001, 'reg_lambda': 0.006, 'min_child_samples': 18, 'n_jobs': 2, 'random_state': 69, 'subsample': 0.6, 'verbose': -1}. Best is trial 62 with value: 265.22651924625137.\n",
            "[I 2024-05-17 12:46:32,361] Trial 79 finished with value: 265.52292580919345 and parameters: {'learning_rate': 0.006726138386527567, 'num_leaves': 78, 'n_estimators': 482, 'reg_alpha': 0.09, 'reg_lambda': 0.009, 'min_child_samples': 28, 'n_jobs': 2, 'random_state': 69, 'subsample': 0.5, 'verbose': -1}. Best is trial 62 with value: 265.22651924625137.\n",
            "[I 2024-05-17 12:46:33,376] Trial 80 finished with value: 284.6850372943316 and parameters: {'learning_rate': 0.008013347691831176, 'num_leaves': 78, 'n_estimators': 408, 'reg_alpha': 0.009, 'reg_lambda': 0.009, 'min_child_samples': 81, 'n_jobs': 2, 'random_state': 69, 'subsample': 0.5, 'verbose': -1}. Best is trial 62 with value: 265.22651924625137.\n",
            "[I 2024-05-17 12:46:39,553] Trial 81 finished with value: 266.05687759619474 and parameters: {'learning_rate': 0.0068437633679286035, 'num_leaves': 84, 'n_estimators': 479, 'reg_alpha': 0.09, 'reg_lambda': 0.009, 'min_child_samples': 27, 'n_jobs': 2, 'random_state': 69, 'subsample': 0.5, 'verbose': -1}. Best is trial 62 with value: 265.22651924625137.\n",
            "[I 2024-05-17 12:46:42,629] Trial 82 finished with value: 288.4176245812368 and parameters: {'learning_rate': 0.0682634767742221, 'num_leaves': 86, 'n_estimators': 485, 'reg_alpha': 0.003, 'reg_lambda': 0.009, 'min_child_samples': 28, 'n_jobs': 2, 'random_state': 69, 'subsample': 0.5, 'verbose': -1}. Best is trial 62 with value: 265.22651924625137.\n",
            "[I 2024-05-17 12:46:45,744] Trial 83 finished with value: 266.8480244523925 and parameters: {'learning_rate': 0.006742770137769051, 'num_leaves': 69, 'n_estimators': 470, 'reg_alpha': 0.09, 'reg_lambda': 0.009, 'min_child_samples': 25, 'n_jobs': 2, 'random_state': 69, 'subsample': 0.5, 'verbose': -1}. Best is trial 62 with value: 265.22651924625137.\n",
            "[I 2024-05-17 12:46:47,535] Trial 84 finished with value: 276.63035086438055 and parameters: {'learning_rate': 0.0093181889929392, 'num_leaves': 73, 'n_estimators': 454, 'reg_alpha': 0.09, 'reg_lambda': 0.0006000000000000001, 'min_child_samples': 44, 'n_jobs': 2, 'random_state': 69, 'subsample': 0.5, 'verbose': -1}. Best is trial 62 with value: 265.22651924625137.\n",
            "[I 2024-05-17 12:46:53,008] Trial 85 finished with value: 269.7183172788142 and parameters: {'learning_rate': 0.0046850674011431935, 'num_leaves': 80, 'n_estimators': 500, 'reg_alpha': 0.30000000000000004, 'reg_lambda': 0.06999999999999999, 'min_child_samples': 34, 'n_jobs': 2, 'random_state': 69, 'subsample': 0.5, 'verbose': -1}. Best is trial 62 with value: 265.22651924625137.\n",
            "[I 2024-05-17 12:46:56,709] Trial 86 finished with value: 266.3274613623392 and parameters: {'learning_rate': 0.005963157858839759, 'num_leaves': 62, 'n_estimators': 444, 'reg_alpha': 0.004, 'reg_lambda': 0, 'min_child_samples': 20, 'n_jobs': 2, 'random_state': 69, 'subsample': 0.7, 'verbose': -1}. Best is trial 62 with value: 265.22651924625137.\n",
            "[I 2024-05-17 12:46:59,936] Trial 87 finished with value: 267.6406626796129 and parameters: {'learning_rate': 0.005878596077255016, 'num_leaves': 62, 'n_estimators': 418, 'reg_alpha': 0.09, 'reg_lambda': 0, 'min_child_samples': 20, 'n_jobs': 2, 'random_state': 69, 'subsample': 0.7, 'verbose': -1}. Best is trial 62 with value: 265.22651924625137.\n",
            "[I 2024-05-17 12:47:01,814] Trial 88 finished with value: 272.5673025212853 and parameters: {'learning_rate': 0.006655017093598077, 'num_leaves': 50, 'n_estimators': 434, 'reg_alpha': 0.06999999999999999, 'reg_lambda': 4.0, 'min_child_samples': 37, 'n_jobs': 2, 'random_state': 69, 'subsample': 0.7, 'verbose': -1}. Best is trial 62 with value: 265.22651924625137.\n",
            "[I 2024-05-17 12:47:08,117] Trial 89 finished with value: 267.57272816912206 and parameters: {'learning_rate': 0.011448095427001486, 'num_leaves': 65, 'n_estimators': 381, 'reg_alpha': 1.0, 'reg_lambda': 0.09, 'min_child_samples': 23, 'n_jobs': 2, 'random_state': 69, 'subsample': 0.7, 'verbose': -1}. Best is trial 62 with value: 265.22651924625137.\n",
            "[I 2024-05-17 12:47:09,979] Trial 90 finished with value: 275.13541772189024 and parameters: {'learning_rate': 0.005129954557395399, 'num_leaves': 76, 'n_estimators': 360, 'reg_alpha': 4.0, 'reg_lambda': 0.008, 'min_child_samples': 30, 'n_jobs': 2, 'random_state': 69, 'subsample': 0.7, 'verbose': -1}. Best is trial 62 with value: 265.22651924625137.\n",
            "[I 2024-05-17 12:47:14,510] Trial 91 finished with value: 268.84263384956216 and parameters: {'learning_rate': 0.007631865194744999, 'num_leaves': 71, 'n_estimators': 447, 'reg_alpha': 0.004, 'reg_lambda': 0, 'min_child_samples': 15, 'n_jobs': 2, 'random_state': 69, 'subsample': 0.5, 'verbose': -1}. Best is trial 62 with value: 265.22651924625137.\n",
            "[I 2024-05-17 12:47:17,243] Trial 92 finished with value: 266.12648974848 and parameters: {'learning_rate': 0.008414390497864552, 'num_leaves': 59, 'n_estimators': 466, 'reg_alpha': 0.002, 'reg_lambda': 0.30000000000000004, 'min_child_samples': 26, 'n_jobs': 2, 'random_state': 69, 'subsample': 1, 'verbose': -1}. Best is trial 62 with value: 265.22651924625137.\n",
            "[I 2024-05-17 12:47:23,195] Trial 93 finished with value: 266.5641543247497 and parameters: {'learning_rate': 0.008962698547723047, 'num_leaves': 56, 'n_estimators': 467, 'reg_alpha': 0.004, 'reg_lambda': 0.30000000000000004, 'min_child_samples': 26, 'n_jobs': 2, 'random_state': 69, 'subsample': 1, 'verbose': -1}. Best is trial 62 with value: 265.22651924625137.\n",
            "[I 2024-05-17 12:47:26,220] Trial 94 finished with value: 267.0669364518632 and parameters: {'learning_rate': 0.006094122699653713, 'num_leaves': 59, 'n_estimators': 481, 'reg_alpha': 0.002, 'reg_lambda': 0.30000000000000004, 'min_child_samples': 22, 'n_jobs': 2, 'random_state': 69, 'subsample': 1, 'verbose': -1}. Best is trial 62 with value: 265.22651924625137.\n",
            "[I 2024-05-17 12:47:28,827] Trial 95 finished with value: 269.59144494216497 and parameters: {'learning_rate': 0.013830326304588931, 'num_leaves': 52, 'n_estimators': 463, 'reg_alpha': 0.002, 'reg_lambda': 0.01, 'min_child_samples': 27, 'n_jobs': 2, 'random_state': 69, 'subsample': 1, 'verbose': -1}. Best is trial 62 with value: 265.22651924625137.\n",
            "[I 2024-05-17 12:47:29,943] Trial 96 finished with value: 277.58992100778386 and parameters: {'learning_rate': 0.004280262386698159, 'num_leaves': 15, 'n_estimators': 400, 'reg_alpha': 0, 'reg_lambda': 0.1, 'min_child_samples': 31, 'n_jobs': 2, 'random_state': 69, 'subsample': 1, 'verbose': -1}. Best is trial 62 with value: 265.22651924625137.\n",
            "[I 2024-05-17 12:47:31,348] Trial 97 finished with value: 279.77385082755194 and parameters: {'learning_rate': 0.010575031577577316, 'num_leaves': 90, 'n_estimators': 437, 'reg_alpha': 0.0009, 'reg_lambda': 0.0007999999999999999, 'min_child_samples': 54, 'n_jobs': 2, 'random_state': 69, 'subsample': 0.7, 'verbose': -1}. Best is trial 62 with value: 265.22651924625137.\n",
            "[I 2024-05-17 12:47:38,529] Trial 98 finished with value: 300.55481088688725 and parameters: {'learning_rate': 0.0013028108473385372, 'num_leaves': 62, 'n_estimators': 487, 'reg_alpha': 0.6, 'reg_lambda': 6.0, 'min_child_samples': 12, 'n_jobs': 2, 'random_state': 69, 'subsample': 0.9, 'verbose': -1}. Best is trial 62 with value: 265.22651924625137.\n",
            "[I 2024-05-17 12:47:40,467] Trial 99 finished with value: 273.24266341593267 and parameters: {'learning_rate': 0.005647263231572424, 'num_leaves': 67, 'n_estimators': 477, 'reg_alpha': 0.008, 'reg_lambda': 0.002, 'min_child_samples': 39, 'n_jobs': 2, 'random_state': 69, 'subsample': 0.8, 'verbose': -1}. Best is trial 62 with value: 265.22651924625137.\n",
            "[I 2024-05-17 12:47:43,005] Trial 100 finished with value: 266.64765088514355 and parameters: {'learning_rate': 0.006947651055723372, 'num_leaves': 36, 'n_estimators': 427, 'reg_alpha': 8.0, 'reg_lambda': 0.0001, 'min_child_samples': 20, 'n_jobs': 2, 'random_state': 69, 'subsample': 1, 'verbose': -1}. Best is trial 62 with value: 265.22651924625137.\n",
            "[I 2024-05-17 12:47:46,960] Trial 101 finished with value: 266.4187369076455 and parameters: {'learning_rate': 0.008141712722988203, 'num_leaves': 69, 'n_estimators': 445, 'reg_alpha': 0.04, 'reg_lambda': 0.00019999999999999998, 'min_child_samples': 18, 'n_jobs': 2, 'random_state': 69, 'subsample': 0.5, 'verbose': -1}. Best is trial 62 with value: 265.22651924625137.\n",
            "[I 2024-05-17 12:47:52,533] Trial 102 finished with value: 266.2139669662018 and parameters: {'learning_rate': 0.008856848256313919, 'num_leaves': 64, 'n_estimators': 456, 'reg_alpha': 0.00019999999999999998, 'reg_lambda': 0.007, 'min_child_samples': 24, 'n_jobs': 2, 'random_state': 69, 'subsample': 0.5, 'verbose': -1}. Best is trial 62 with value: 265.22651924625137.\n",
            "[I 2024-05-17 12:47:55,312] Trial 103 finished with value: 266.8880649622707 and parameters: {'learning_rate': 0.009668874080206292, 'num_leaves': 65, 'n_estimators': 458, 'reg_alpha': 0.4, 'reg_lambda': 0.007, 'min_child_samples': 25, 'n_jobs': 2, 'random_state': 69, 'subsample': 0.5, 'verbose': -1}. Best is trial 62 with value: 265.22651924625137.\n",
            "[I 2024-05-17 12:47:58,450] Trial 104 finished with value: 265.4486801531989 and parameters: {'learning_rate': 0.006881298246543477, 'num_leaves': 60, 'n_estimators': 490, 'reg_alpha': 0.00019999999999999998, 'reg_lambda': 0.007, 'min_child_samples': 23, 'n_jobs': 2, 'random_state': 69, 'subsample': 0.5, 'verbose': -1}. Best is trial 62 with value: 265.22651924625137.\n",
            "[I 2024-05-17 12:48:05,153] Trial 105 finished with value: 267.12863420657226 and parameters: {'learning_rate': 0.008530843674948444, 'num_leaves': 54, 'n_estimators': 493, 'reg_alpha': 0.00019999999999999998, 'reg_lambda': 0.007, 'min_child_samples': 22, 'n_jobs': 2, 'random_state': 69, 'subsample': 0.5, 'verbose': -1}. Best is trial 62 with value: 265.22651924625137.\n",
            "[I 2024-05-17 12:48:07,837] Trial 106 finished with value: 282.5743519300076 and parameters: {'learning_rate': 0.04036976009086852, 'num_leaves': 58, 'n_estimators': 474, 'reg_alpha': 0.00019999999999999998, 'reg_lambda': 0.007, 'min_child_samples': 28, 'n_jobs': 2, 'random_state': 69, 'subsample': 0.5, 'verbose': -1}. Best is trial 62 with value: 265.22651924625137.\n",
            "[I 2024-05-17 12:48:11,232] Trial 107 finished with value: 270.08949949030085 and parameters: {'learning_rate': 0.012535047303676312, 'num_leaves': 61, 'n_estimators': 501, 'reg_alpha': 0.8, 'reg_lambda': 0.9, 'min_child_samples': 21, 'n_jobs': 2, 'random_state': 69, 'subsample': 0.6, 'verbose': -1}. Best is trial 62 with value: 265.22651924625137.\n",
            "[I 2024-05-17 12:48:14,127] Trial 108 finished with value: 266.2747783111602 and parameters: {'learning_rate': 0.006457277554718905, 'num_leaves': 64, 'n_estimators': 468, 'reg_alpha': 0.00019999999999999998, 'reg_lambda': 0.004, 'min_child_samples': 24, 'n_jobs': 2, 'random_state': 69, 'subsample': 0.5, 'verbose': -1}. Best is trial 62 with value: 265.22651924625137.\n",
            "[I 2024-05-17 12:48:19,793] Trial 109 finished with value: 271.5659958182749 and parameters: {'learning_rate': 0.004896754270200766, 'num_leaves': 60, 'n_estimators': 468, 'reg_alpha': 0.1, 'reg_lambda': 0.004, 'min_child_samples': 32, 'n_jobs': 2, 'random_state': 69, 'subsample': 0.5, 'verbose': -1}. Best is trial 62 with value: 265.22651924625137.\n",
            "[I 2024-05-17 12:48:21,502] Trial 110 finished with value: 272.46142898357624 and parameters: {'learning_rate': 0.006483826867621045, 'num_leaves': 50, 'n_estimators': 274, 'reg_alpha': 0.00019999999999999998, 'reg_lambda': 0.004, 'min_child_samples': 24, 'n_jobs': 2, 'random_state': 69, 'subsample': 0.5, 'verbose': -1}. Best is trial 62 with value: 265.22651924625137.\n",
            "[I 2024-05-17 12:48:24,138] Trial 111 finished with value: 267.7884480712974 and parameters: {'learning_rate': 0.005559081657824495, 'num_leaves': 64, 'n_estimators': 485, 'reg_alpha': 0.00019999999999999998, 'reg_lambda': 0.009, 'min_child_samples': 29, 'n_jobs': 2, 'random_state': 69, 'subsample': 0.5, 'verbose': -1}. Best is trial 62 with value: 265.22651924625137.\n",
            "[I 2024-05-17 12:48:26,800] Trial 112 finished with value: 270.27881821706615 and parameters: {'learning_rate': 0.007243798495063062, 'num_leaves': 58, 'n_estimators': 314, 'reg_alpha': 9.0, 'reg_lambda': 0.0007, 'min_child_samples': 15, 'n_jobs': 2, 'random_state': 69, 'subsample': 0.5, 'verbose': -1}. Best is trial 62 with value: 265.22651924625137.\n",
            "[I 2024-05-17 12:48:30,894] Trial 113 finished with value: 268.5226583654872 and parameters: {'learning_rate': 0.006027820690410728, 'num_leaves': 55, 'n_estimators': 441, 'reg_alpha': 0.08, 'reg_lambda': 2.0, 'min_child_samples': 23, 'n_jobs': 2, 'random_state': 69, 'subsample': 0.5, 'verbose': -1}. Best is trial 62 with value: 265.22651924625137.\n",
            "[I 2024-05-17 12:48:34,786] Trial 114 finished with value: 262.95440700228124 and parameters: {'learning_rate': 0.009138081182390432, 'num_leaves': 20, 'n_estimators': 455, 'reg_alpha': 0.0003, 'reg_lambda': 0.0005, 'min_child_samples': 19, 'n_jobs': 2, 'random_state': 69, 'subsample': 0.5, 'verbose': -1}. Best is trial 114 with value: 262.95440700228124.\n",
            "[I 2024-05-17 12:48:35,842] Trial 115 finished with value: 281.5661463680131 and parameters: {'learning_rate': 0.011055718408077505, 'num_leaves': 10, 'n_estimators': 456, 'reg_alpha': 0.0003, 'reg_lambda': 0.08, 'min_child_samples': 66, 'n_jobs': 2, 'random_state': 69, 'subsample': 0.5, 'verbose': -1}. Best is trial 114 with value: 262.95440700228124.\n",
            "[I 2024-05-17 12:48:37,755] Trial 116 finished with value: 264.99750183993007 and parameters: {'learning_rate': 0.008861234992863388, 'num_leaves': 22, 'n_estimators': 475, 'reg_alpha': 0.0006000000000000001, 'reg_lambda': 0.0005, 'min_child_samples': 26, 'n_jobs': 2, 'random_state': 69, 'subsample': 0.5, 'verbose': -1}. Best is trial 114 with value: 262.95440700228124.\n",
            "[I 2024-05-17 12:48:40,203] Trial 117 finished with value: 264.5479336545009 and parameters: {'learning_rate': 0.009022072212296893, 'num_leaves': 25, 'n_estimators': 490, 'reg_alpha': 0.0003, 'reg_lambda': 0.0005, 'min_child_samples': 17, 'n_jobs': 2, 'random_state': 69, 'subsample': 0.5, 'verbose': -1}. Best is trial 114 with value: 262.95440700228124.\n",
            "[I 2024-05-17 12:48:42,269] Trial 118 finished with value: 262.71045631375875 and parameters: {'learning_rate': 0.009126905422203988, 'num_leaves': 22, 'n_estimators': 493, 'reg_alpha': 0.0006000000000000001, 'reg_lambda': 0.0005, 'min_child_samples': 18, 'n_jobs': 2, 'random_state': 69, 'subsample': 0.5, 'verbose': -1}. Best is trial 118 with value: 262.71045631375875.\n",
            "[I 2024-05-17 12:48:46,622] Trial 119 finished with value: 264.8138287406656 and parameters: {'learning_rate': 0.009076239407267098, 'num_leaves': 18, 'n_estimators': 490, 'reg_alpha': 0.0006000000000000001, 'reg_lambda': 0.0005, 'min_child_samples': 11, 'n_jobs': 2, 'random_state': 69, 'subsample': 0.5, 'verbose': -1}. Best is trial 118 with value: 262.71045631375875.\n",
            "[I 2024-05-17 12:48:49,081] Trial 120 finished with value: 265.4970908945283 and parameters: {'learning_rate': 0.010016514565749465, 'num_leaves': 21, 'n_estimators': 495, 'reg_alpha': 0.0006000000000000001, 'reg_lambda': 0.0005, 'min_child_samples': 11, 'n_jobs': 2, 'random_state': 69, 'subsample': 0.5, 'verbose': -1}. Best is trial 118 with value: 262.71045631375875.\n",
            "[I 2024-05-17 12:48:50,916] Trial 121 finished with value: 265.33142614607806 and parameters: {'learning_rate': 0.010204761556650005, 'num_leaves': 19, 'n_estimators': 492, 'reg_alpha': 0.0006000000000000001, 'reg_lambda': 0.0005, 'min_child_samples': 12, 'n_jobs': 2, 'random_state': 69, 'subsample': 0.5, 'verbose': -1}. Best is trial 118 with value: 262.71045631375875.\n",
            "[I 2024-05-17 12:48:52,820] Trial 122 finished with value: 265.8563991289032 and parameters: {'learning_rate': 0.009816884345498144, 'num_leaves': 20, 'n_estimators': 491, 'reg_alpha': 0.0006000000000000001, 'reg_lambda': 0.0005, 'min_child_samples': 10, 'n_jobs': 2, 'random_state': 69, 'subsample': 0.5, 'verbose': -1}. Best is trial 118 with value: 262.71045631375875.\n",
            "[I 2024-05-17 12:48:54,822] Trial 123 finished with value: 266.4456758578846 and parameters: {'learning_rate': 0.010098644882635264, 'num_leaves': 21, 'n_estimators': 491, 'reg_alpha': 0.0006000000000000001, 'reg_lambda': 0.0005, 'min_child_samples': 11, 'n_jobs': 2, 'random_state': 69, 'subsample': 0.5, 'verbose': -1}. Best is trial 118 with value: 262.71045631375875.\n",
            "[I 2024-05-17 12:48:56,813] Trial 124 finished with value: 266.53339278682046 and parameters: {'learning_rate': 0.011753003941131508, 'num_leaves': 20, 'n_estimators': 496, 'reg_alpha': 0.0006000000000000001, 'reg_lambda': 0.0005, 'min_child_samples': 10, 'n_jobs': 2, 'random_state': 69, 'subsample': 0.5, 'verbose': -1}. Best is trial 118 with value: 262.71045631375875.\n",
            "[I 2024-05-17 12:49:02,437] Trial 125 finished with value: 266.4769120276222 and parameters: {'learning_rate': 0.013045133268037032, 'num_leaves': 25, 'n_estimators': 485, 'reg_alpha': 0.0006000000000000001, 'reg_lambda': 0.0005, 'min_child_samples': 12, 'n_jobs': 2, 'random_state': 69, 'subsample': 0.5, 'verbose': -1}. Best is trial 118 with value: 262.71045631375875.\n",
            "[I 2024-05-17 12:49:04,181] Trial 126 finished with value: 264.1942393814809 and parameters: {'learning_rate': 0.009304961572596696, 'num_leaves': 16, 'n_estimators': 479, 'reg_alpha': 0.0006000000000000001, 'reg_lambda': 0.0005, 'min_child_samples': 15, 'n_jobs': 2, 'random_state': 69, 'subsample': 0.5, 'verbose': -1}. Best is trial 118 with value: 262.71045631375875.\n",
            "[I 2024-05-17 12:49:05,942] Trial 127 finished with value: 264.7695755246444 and parameters: {'learning_rate': 0.009503709544306993, 'num_leaves': 17, 'n_estimators': 501, 'reg_alpha': 0.0006000000000000001, 'reg_lambda': 0.0005, 'min_child_samples': 15, 'n_jobs': 2, 'random_state': 69, 'subsample': 0.5, 'verbose': -1}. Best is trial 118 with value: 262.71045631375875.\n",
            "[I 2024-05-17 12:49:07,720] Trial 128 finished with value: 266.72360089942754 and parameters: {'learning_rate': 0.015802942587535243, 'num_leaves': 17, 'n_estimators': 499, 'reg_alpha': 0.0006000000000000001, 'reg_lambda': 0.0005, 'min_child_samples': 15, 'n_jobs': 2, 'random_state': 69, 'subsample': 0.5, 'verbose': -1}. Best is trial 118 with value: 262.71045631375875.\n",
            "[I 2024-05-17 12:49:09,780] Trial 129 finished with value: 264.4167943681065 and parameters: {'learning_rate': 0.009199285412531939, 'num_leaves': 23, 'n_estimators': 477, 'reg_alpha': 0.0003, 'reg_lambda': 0.0005, 'min_child_samples': 17, 'n_jobs': 2, 'random_state': 69, 'subsample': 0.5, 'verbose': -1}. Best is trial 118 with value: 262.71045631375875.\n",
            "[I 2024-05-17 12:49:13,546] Trial 130 finished with value: 263.9849139509613 and parameters: {'learning_rate': 0.011138339652757434, 'num_leaves': 23, 'n_estimators': 478, 'reg_alpha': 0.0003, 'reg_lambda': 0.0005, 'min_child_samples': 17, 'n_jobs': 2, 'random_state': 69, 'subsample': 0.5, 'verbose': -1}. Best is trial 118 with value: 262.71045631375875.\n",
            "[I 2024-05-17 12:49:17,448] Trial 131 finished with value: 266.05511775706736 and parameters: {'learning_rate': 0.010867723882165241, 'num_leaves': 28, 'n_estimators': 477, 'reg_alpha': 0.0003, 'reg_lambda': 0.0005, 'min_child_samples': 17, 'n_jobs': 2, 'random_state': 69, 'subsample': 0.5, 'verbose': -1}. Best is trial 118 with value: 262.71045631375875.\n",
            "[I 2024-05-17 12:49:18,792] Trial 132 finished with value: 264.6979667826068 and parameters: {'learning_rate': 0.009304521313824221, 'num_leaves': 12, 'n_estimators': 488, 'reg_alpha': 0.0006000000000000001, 'reg_lambda': 0.0005, 'min_child_samples': 14, 'n_jobs': 2, 'random_state': 69, 'subsample': 0.5, 'verbose': -1}. Best is trial 118 with value: 262.71045631375875.\n",
            "[I 2024-05-17 12:49:20,255] Trial 133 finished with value: 265.2934609196346 and parameters: {'learning_rate': 0.009245399659253398, 'num_leaves': 13, 'n_estimators': 501, 'reg_alpha': 0.0003, 'reg_lambda': 0.0005, 'min_child_samples': 13, 'n_jobs': 2, 'random_state': 69, 'subsample': 0.5, 'verbose': -1}. Best is trial 118 with value: 262.71045631375875.\n",
            "[I 2024-05-17 12:49:21,629] Trial 134 finished with value: 264.5843918816726 and parameters: {'learning_rate': 0.009300776475565459, 'num_leaves': 13, 'n_estimators': 473, 'reg_alpha': 0.0003, 'reg_lambda': 0.0005, 'min_child_samples': 14, 'n_jobs': 2, 'random_state': 69, 'subsample': 0.5, 'verbose': -1}. Best is trial 118 with value: 262.71045631375875.\n",
            "[I 2024-05-17 12:49:22,992] Trial 135 finished with value: 264.7374332731243 and parameters: {'learning_rate': 0.011858029343212161, 'num_leaves': 12, 'n_estimators': 501, 'reg_alpha': 0.0003, 'reg_lambda': 0.0005, 'min_child_samples': 14, 'n_jobs': 2, 'random_state': 69, 'subsample': 0.5, 'verbose': -1}. Best is trial 118 with value: 262.71045631375875.\n",
            "[I 2024-05-17 12:49:24,278] Trial 136 finished with value: 265.34037616122765 and parameters: {'learning_rate': 0.014131219351088586, 'num_leaves': 12, 'n_estimators': 476, 'reg_alpha': 0.0003, 'reg_lambda': 0.0005, 'min_child_samples': 14, 'n_jobs': 2, 'random_state': 69, 'subsample': 0.5, 'verbose': -1}. Best is trial 118 with value: 262.71045631375875.\n",
            "[I 2024-05-17 12:49:27,050] Trial 137 finished with value: 264.08826665314336 and parameters: {'learning_rate': 0.011936937709532029, 'num_leaves': 16, 'n_estimators': 501, 'reg_alpha': 0.0003, 'reg_lambda': 0.0005, 'min_child_samples': 16, 'n_jobs': 2, 'random_state': 69, 'subsample': 0.5, 'verbose': -1}. Best is trial 118 with value: 262.71045631375875.\n",
            "[I 2024-05-17 12:49:31,216] Trial 138 finished with value: 266.42368764330115 and parameters: {'learning_rate': 0.012097071094544422, 'num_leaves': 23, 'n_estimators': 463, 'reg_alpha': 0.0003, 'reg_lambda': 0.0005, 'min_child_samples': 16, 'n_jobs': 2, 'random_state': 69, 'subsample': 0.5, 'verbose': -1}. Best is trial 118 with value: 262.71045631375875.\n",
            "[I 2024-05-17 12:49:32,904] Trial 139 finished with value: 264.8867549620711 and parameters: {'learning_rate': 0.013123790689747875, 'num_leaves': 17, 'n_estimators': 473, 'reg_alpha': 0.0003, 'reg_lambda': 0.0005, 'min_child_samples': 17, 'n_jobs': 2, 'random_state': 69, 'subsample': 0.9, 'verbose': -1}. Best is trial 118 with value: 262.71045631375875.\n",
            "[I 2024-05-17 12:49:34,446] Trial 140 finished with value: 265.07906041044345 and parameters: {'learning_rate': 0.013727296400630973, 'num_leaves': 15, 'n_estimators': 474, 'reg_alpha': 0.0003, 'reg_lambda': 0.0005, 'min_child_samples': 15, 'n_jobs': 2, 'random_state': 69, 'subsample': 0.9, 'verbose': -1}. Best is trial 118 with value: 262.71045631375875.\n",
            "[I 2024-05-17 12:49:36,008] Trial 141 finished with value: 267.73479849959057 and parameters: {'learning_rate': 0.018510270716846428, 'num_leaves': 16, 'n_estimators': 471, 'reg_alpha': 0.0003, 'reg_lambda': 0.0005, 'min_child_samples': 15, 'n_jobs': 2, 'random_state': 69, 'subsample': 0.9, 'verbose': -1}. Best is trial 118 with value: 262.71045631375875.\n",
            "[I 2024-05-17 12:49:37,677] Trial 142 finished with value: 265.30903101372564 and parameters: {'learning_rate': 0.013360700923120422, 'num_leaves': 17, 'n_estimators': 481, 'reg_alpha': 0.0003, 'reg_lambda': 0.0005, 'min_child_samples': 17, 'n_jobs': 2, 'random_state': 69, 'subsample': 0.9, 'verbose': -1}. Best is trial 118 with value: 262.71045631375875.\n",
            "[I 2024-05-17 12:49:38,726] Trial 143 finished with value: 262.40022076171476 and parameters: {'learning_rate': 0.011709182610546116, 'num_leaves': 8, 'n_estimators': 484, 'reg_alpha': 0.0003, 'reg_lambda': 0.0005, 'min_child_samples': 14, 'n_jobs': 2, 'random_state': 69, 'subsample': 0.9, 'verbose': -1}. Best is trial 143 with value: 262.40022076171476.\n",
            "[I 2024-05-17 12:49:40,265] Trial 144 finished with value: 263.6722072449913 and parameters: {'learning_rate': 0.011640600809649428, 'num_leaves': 9, 'n_estimators': 486, 'reg_alpha': 0.0003, 'reg_lambda': 0.0005, 'min_child_samples': 13, 'n_jobs': 2, 'random_state': 69, 'subsample': 0.9, 'verbose': -1}. Best is trial 143 with value: 262.40022076171476.\n",
            "[I 2024-05-17 12:49:43,705] Trial 145 finished with value: 263.467692688015 and parameters: {'learning_rate': 0.011853779359095575, 'num_leaves': 7, 'n_estimators': 501, 'reg_alpha': 0.0003, 'reg_lambda': 0.0005, 'min_child_samples': 13, 'n_jobs': 2, 'random_state': 69, 'subsample': 0.9, 'verbose': -1}. Best is trial 143 with value: 262.40022076171476.\n",
            "[I 2024-05-17 12:49:44,800] Trial 146 finished with value: 262.6819728262774 and parameters: {'learning_rate': 0.011815078646115898, 'num_leaves': 8, 'n_estimators': 488, 'reg_alpha': 0.0003, 'reg_lambda': 8.0, 'min_child_samples': 13, 'n_jobs': 2, 'random_state': 69, 'subsample': 0.9, 'verbose': -1}. Best is trial 143 with value: 262.40022076171476.\n",
            "[I 2024-05-17 12:49:45,894] Trial 147 finished with value: 262.6180396726085 and parameters: {'learning_rate': 0.011316094733197321, 'num_leaves': 8, 'n_estimators': 499, 'reg_alpha': 0.0003, 'reg_lambda': 8.0, 'min_child_samples': 13, 'n_jobs': 2, 'random_state': 69, 'subsample': 0.9, 'verbose': -1}. Best is trial 143 with value: 262.40022076171476.\n",
            "[I 2024-05-17 12:49:46,865] Trial 148 finished with value: 263.4687565903682 and parameters: {'learning_rate': 0.011535167898178714, 'num_leaves': 7, 'n_estimators': 485, 'reg_alpha': 0.0003, 'reg_lambda': 1.0, 'min_child_samples': 13, 'n_jobs': 2, 'random_state': 69, 'subsample': 0.9, 'verbose': -1}. Best is trial 143 with value: 262.40022076171476.\n",
            "[I 2024-05-17 12:49:47,842] Trial 149 finished with value: 262.1514979965491 and parameters: {'learning_rate': 0.01611940832617027, 'num_leaves': 7, 'n_estimators': 484, 'reg_alpha': 0.0003, 'reg_lambda': 8.0, 'min_child_samples': 13, 'n_jobs': 2, 'random_state': 69, 'subsample': 0.9, 'verbose': -1}. Best is trial 149 with value: 262.1514979965491.\n",
            "[I 2024-05-17 12:49:48,783] Trial 150 finished with value: 262.43964685352336 and parameters: {'learning_rate': 0.015077331903486637, 'num_leaves': 7, 'n_estimators': 461, 'reg_alpha': 0.0003, 'reg_lambda': 8.0, 'min_child_samples': 12, 'n_jobs': 2, 'random_state': 69, 'subsample': 0.9, 'verbose': -1}. Best is trial 149 with value: 262.1514979965491.\n",
            "[I 2024-05-17 12:49:49,753] Trial 151 finished with value: 263.06685607818844 and parameters: {'learning_rate': 0.015187618915886459, 'num_leaves': 7, 'n_estimators': 461, 'reg_alpha': 0.0003, 'reg_lambda': 8.0, 'min_child_samples': 10, 'n_jobs': 2, 'random_state': 69, 'subsample': 0.9, 'verbose': -1}. Best is trial 149 with value: 262.1514979965491.\n",
            "[I 2024-05-17 12:49:50,691] Trial 152 finished with value: 262.3500332844778 and parameters: {'learning_rate': 0.01776039405857371, 'num_leaves': 7, 'n_estimators': 457, 'reg_alpha': 0.0003, 'reg_lambda': 8.0, 'min_child_samples': 13, 'n_jobs': 2, 'random_state': 69, 'subsample': 0.9, 'verbose': -1}. Best is trial 149 with value: 262.1514979965491.\n",
            "[I 2024-05-17 12:49:51,618] Trial 153 finished with value: 262.7296231892801 and parameters: {'learning_rate': 0.023128371206960645, 'num_leaves': 7, 'n_estimators': 459, 'reg_alpha': 0.0003, 'reg_lambda': 8.0, 'min_child_samples': 12, 'n_jobs': 2, 'random_state': 69, 'subsample': 0.9, 'verbose': -1}. Best is trial 149 with value: 262.1514979965491.\n",
            "[I 2024-05-17 12:49:52,632] Trial 154 finished with value: 262.31689600878 and parameters: {'learning_rate': 0.017560047689076184, 'num_leaves': 8, 'n_estimators': 457, 'reg_alpha': 0.0003, 'reg_lambda': 8.0, 'min_child_samples': 12, 'n_jobs': 2, 'random_state': 69, 'subsample': 0.9, 'verbose': -1}. Best is trial 149 with value: 262.1514979965491.\n",
            "[I 2024-05-17 12:49:53,555] Trial 155 finished with value: 262.76993944092874 and parameters: {'learning_rate': 0.023181049954860717, 'num_leaves': 7, 'n_estimators': 458, 'reg_alpha': 0.0003, 'reg_lambda': 8.0, 'min_child_samples': 12, 'n_jobs': 2, 'random_state': 69, 'subsample': 0.9, 'verbose': -1}. Best is trial 149 with value: 262.1514979965491.\n",
            "[I 2024-05-17 12:49:56,902] Trial 156 finished with value: 262.87529490896515 and parameters: {'learning_rate': 0.022545906494186876, 'num_leaves': 7, 'n_estimators': 456, 'reg_alpha': 0.0003, 'reg_lambda': 8.0, 'min_child_samples': 10, 'n_jobs': 2, 'random_state': 69, 'subsample': 0.9, 'verbose': -1}. Best is trial 149 with value: 262.1514979965491.\n",
            "[I 2024-05-17 12:49:58,851] Trial 157 finished with value: 264.44187721082784 and parameters: {'learning_rate': 0.023738775679910302, 'num_leaves': 8, 'n_estimators': 455, 'reg_alpha': 0.0003, 'reg_lambda': 8.0, 'min_child_samples': 10, 'n_jobs': 2, 'random_state': 69, 'subsample': 0.9, 'verbose': -1}. Best is trial 149 with value: 262.1514979965491.\n",
            "[I 2024-05-17 12:49:59,786] Trial 158 finished with value: 262.3510607970438 and parameters: {'learning_rate': 0.017795575355644373, 'num_leaves': 7, 'n_estimators': 461, 'reg_alpha': 0.001, 'reg_lambda': 8.0, 'min_child_samples': 12, 'n_jobs': 2, 'random_state': 69, 'subsample': 0.9, 'verbose': -1}. Best is trial 149 with value: 262.1514979965491.\n",
            "[I 2024-05-17 12:50:00,640] Trial 159 finished with value: 264.1872068834136 and parameters: {'learning_rate': 0.02165044859253047, 'num_leaves': 6, 'n_estimators': 461, 'reg_alpha': 0.001, 'reg_lambda': 8.0, 'min_child_samples': 12, 'n_jobs': 2, 'random_state': 69, 'subsample': 0.9, 'verbose': -1}. Best is trial 149 with value: 262.1514979965491.\n",
            "[I 2024-05-17 12:50:01,563] Trial 160 finished with value: 263.96523769224194 and parameters: {'learning_rate': 0.029106339832569855, 'num_leaves': 7, 'n_estimators': 451, 'reg_alpha': 0.01, 'reg_lambda': 8.0, 'min_child_samples': 10, 'n_jobs': 2, 'random_state': 69, 'subsample': 0.9, 'verbose': -1}. Best is trial 149 with value: 262.1514979965491.\n",
            "[I 2024-05-17 12:50:02,746] Trial 161 finished with value: 263.5100130917787 and parameters: {'learning_rate': 0.021148787842091975, 'num_leaves': 10, 'n_estimators': 435, 'reg_alpha': 0.001, 'reg_lambda': 8.0, 'min_child_samples': 12, 'n_jobs': 2, 'random_state': 69, 'subsample': 0.9, 'verbose': -1}. Best is trial 149 with value: 262.1514979965491.\n",
            "[I 2024-05-17 12:50:03,495] Trial 162 finished with value: 265.46520184499803 and parameters: {'learning_rate': 0.017674542969225195, 'num_leaves': 5, 'n_estimators': 440, 'reg_alpha': 0.001, 'reg_lambda': 8.0, 'min_child_samples': 12, 'n_jobs': 2, 'random_state': 69, 'subsample': 0.9, 'verbose': -1}. Best is trial 149 with value: 262.1514979965491.\n",
            "[I 2024-05-17 12:50:04,704] Trial 163 finished with value: 262.1737902385068 and parameters: {'learning_rate': 0.020415936763912717, 'num_leaves': 10, 'n_estimators': 463, 'reg_alpha': 0.0007, 'reg_lambda': 8.0, 'min_child_samples': 12, 'n_jobs': 2, 'random_state': 69, 'subsample': 0.9, 'verbose': -1}. Best is trial 149 with value: 262.1514979965491.\n",
            "[I 2024-05-17 12:50:05,624] Trial 164 finished with value: 263.6284482234589 and parameters: {'learning_rate': 0.02489720905684913, 'num_leaves': 7, 'n_estimators': 454, 'reg_alpha': 0.0007, 'reg_lambda': 8.0, 'min_child_samples': 10, 'n_jobs': 2, 'random_state': 69, 'subsample': 0.9, 'verbose': -1}. Best is trial 149 with value: 262.1514979965491.\n",
            "[I 2024-05-17 12:50:06,409] Trial 165 finished with value: 265.34548801485323 and parameters: {'learning_rate': 0.015469150909691858, 'num_leaves': 5, 'n_estimators': 461, 'reg_alpha': 0.00039999999999999996, 'reg_lambda': 8.0, 'min_child_samples': 12, 'n_jobs': 2, 'random_state': 69, 'subsample': 0.9, 'verbose': -1}. Best is trial 149 with value: 262.1514979965491.\n",
            "[I 2024-05-17 12:50:07,580] Trial 166 finished with value: 263.60654036154455 and parameters: {'learning_rate': 0.020040349697641884, 'num_leaves': 10, 'n_estimators': 463, 'reg_alpha': 10, 'reg_lambda': 8.0, 'min_child_samples': 13, 'n_jobs': 2, 'random_state': 69, 'subsample': 0.9, 'verbose': -1}. Best is trial 149 with value: 262.1514979965491.\n",
            "[I 2024-05-17 12:50:11,012] Trial 167 finished with value: 263.2017279812547 and parameters: {'learning_rate': 0.01691649667160585, 'num_leaves': 8, 'n_estimators': 466, 'reg_alpha': 0.05, 'reg_lambda': 8.0, 'min_child_samples': 10, 'n_jobs': 2, 'random_state': 69, 'subsample': 0.9, 'verbose': -1}. Best is trial 149 with value: 262.1514979965491.\n",
            "[I 2024-05-17 12:50:13,051] Trial 168 finished with value: 264.2308263090254 and parameters: {'learning_rate': 0.016734351238616104, 'num_leaves': 9, 'n_estimators': 443, 'reg_alpha': 0.05, 'reg_lambda': 8.0, 'min_child_samples': 10, 'n_jobs': 2, 'random_state': 69, 'subsample': 0.9, 'verbose': -1}. Best is trial 149 with value: 262.1514979965491.\n",
            "[I 2024-05-17 12:50:14,299] Trial 169 finished with value: 264.67784662176285 and parameters: {'learning_rate': 0.023666872868417697, 'num_leaves': 11, 'n_estimators': 449, 'reg_alpha': 0.0007, 'reg_lambda': 8.0, 'min_child_samples': 10, 'n_jobs': 2, 'random_state': 69, 'subsample': 0.9, 'verbose': -1}. Best is trial 149 with value: 262.1514979965491.\n",
            "[I 2024-05-17 12:50:15,281] Trial 170 finished with value: 262.15813564414026 and parameters: {'learning_rate': 0.017962296159436612, 'num_leaves': 8, 'n_estimators': 432, 'reg_alpha': 0.05, 'reg_lambda': 8.0, 'min_child_samples': 12, 'n_jobs': 2, 'random_state': 69, 'subsample': 0.9, 'verbose': -1}. Best is trial 149 with value: 262.1514979965491.\n",
            "[I 2024-05-17 12:50:16,290] Trial 171 finished with value: 263.1625705750749 and parameters: {'learning_rate': 0.027916044225485683, 'num_leaves': 8, 'n_estimators': 465, 'reg_alpha': 0.05, 'reg_lambda': 8.0, 'min_child_samples': 12, 'n_jobs': 2, 'random_state': 69, 'subsample': 0.9, 'verbose': -1}. Best is trial 149 with value: 262.1514979965491.\n",
            "[I 2024-05-17 12:50:17,375] Trial 172 finished with value: 265.02009018163966 and parameters: {'learning_rate': 0.030416550121362986, 'num_leaves': 9, 'n_estimators': 461, 'reg_alpha': 0.05, 'reg_lambda': 8.0, 'min_child_samples': 12, 'n_jobs': 2, 'random_state': 69, 'subsample': 0.9, 'verbose': -1}. Best is trial 149 with value: 262.1514979965491.\n",
            "[I 2024-05-17 12:50:18,099] Trial 173 finished with value: 266.1120961094463 and parameters: {'learning_rate': 0.026884545745875295, 'num_leaves': 5, 'n_estimators': 434, 'reg_alpha': 0.05, 'reg_lambda': 8.0, 'min_child_samples': 10, 'n_jobs': 2, 'random_state': 69, 'subsample': 0.9, 'verbose': -1}. Best is trial 149 with value: 262.1514979965491.\n",
            "[I 2024-05-17 12:50:19,105] Trial 174 finished with value: 262.1395650140899 and parameters: {'learning_rate': 0.018970728989741167, 'num_leaves': 8, 'n_estimators': 449, 'reg_alpha': 0.05, 'reg_lambda': 8.0, 'min_child_samples': 14, 'n_jobs': 2, 'random_state': 69, 'subsample': 0.9, 'verbose': -1}. Best is trial 174 with value: 262.1395650140899.\n",
            "[I 2024-05-17 12:50:20,344] Trial 175 finished with value: 263.62380443367493 and parameters: {'learning_rate': 0.019883993261877796, 'num_leaves': 11, 'n_estimators': 449, 'reg_alpha': 0.02, 'reg_lambda': 8.0, 'min_child_samples': 14, 'n_jobs': 2, 'random_state': 69, 'subsample': 0.9, 'verbose': -1}. Best is trial 174 with value: 262.1395650140899.\n",
            "[I 2024-05-17 12:50:21,069] Trial 176 finished with value: 264.8903463935835 and parameters: {'learning_rate': 0.018469052254551813, 'num_leaves': 5, 'n_estimators': 427, 'reg_alpha': 0.2, 'reg_lambda': 8.0, 'min_child_samples': 19, 'n_jobs': 2, 'random_state': 69, 'subsample': 0.9, 'verbose': -1}. Best is trial 174 with value: 262.1395650140899.\n",
            "[I 2024-05-17 12:50:22,078] Trial 177 finished with value: 262.8827477393963 and parameters: {'learning_rate': 0.02240089655722387, 'num_leaves': 8, 'n_estimators': 455, 'reg_alpha': 0.0001, 'reg_lambda': 8.0, 'min_child_samples': 12, 'n_jobs': 2, 'random_state': 69, 'subsample': 0.9, 'verbose': -1}. Best is trial 174 with value: 262.1395650140899.\n",
            "[I 2024-05-17 12:50:25,398] Trial 178 finished with value: 288.0143224382811 and parameters: {'learning_rate': 0.02154555686744415, 'num_leaves': 14, 'n_estimators': 443, 'reg_alpha': 0.0001, 'reg_lambda': 0.7000000000000001, 'min_child_samples': 94, 'n_jobs': 2, 'random_state': 69, 'subsample': 0.9, 'verbose': -1}. Best is trial 174 with value: 262.1395650140899.\n",
            "[I 2024-05-17 12:50:27,429] Trial 179 finished with value: 264.06196665614067 and parameters: {'learning_rate': 0.015249418527707727, 'num_leaves': 10, 'n_estimators': 452, 'reg_alpha': 7.0, 'reg_lambda': 0.5, 'min_child_samples': 15, 'n_jobs': 2, 'random_state': 69, 'subsample': 0.9, 'verbose': -1}. Best is trial 174 with value: 262.1395650140899.\n",
            "[I 2024-05-17 12:50:28,316] Trial 180 finished with value: 262.6651466231932 and parameters: {'learning_rate': 0.023369149026456804, 'num_leaves': 7, 'n_estimators': 434, 'reg_alpha': 0.0001, 'reg_lambda': 7.0, 'min_child_samples': 14, 'n_jobs': 2, 'random_state': 69, 'subsample': 0.9, 'verbose': -1}. Best is trial 174 with value: 262.1395650140899.\n",
            "[I 2024-05-17 12:50:29,223] Trial 181 finished with value: 263.8778282100328 and parameters: {'learning_rate': 0.02314645787748789, 'num_leaves': 8, 'n_estimators': 420, 'reg_alpha': 0.005, 'reg_lambda': 0.001, 'min_child_samples': 14, 'n_jobs': 2, 'random_state': 69, 'subsample': 0.9, 'verbose': -1}. Best is trial 174 with value: 262.1395650140899.\n",
            "[I 2024-05-17 12:50:30,056] Trial 182 finished with value: 263.5953233356476 and parameters: {'learning_rate': 0.01831556462307445, 'num_leaves': 6, 'n_estimators': 435, 'reg_alpha': 0.0001, 'reg_lambda': 7.0, 'min_child_samples': 12, 'n_jobs': 2, 'random_state': 69, 'subsample': 0.9, 'verbose': -1}. Best is trial 174 with value: 262.1395650140899.\n",
            "[I 2024-05-17 12:50:31,114] Trial 183 finished with value: 263.68042583840673 and parameters: {'learning_rate': 0.019520750087261157, 'num_leaves': 10, 'n_estimators': 413, 'reg_alpha': 0.03, 'reg_lambda': 3.0, 'min_child_samples': 16, 'n_jobs': 2, 'random_state': 69, 'subsample': 0.9, 'verbose': -1}. Best is trial 174 with value: 262.1395650140899.\n",
            "[I 2024-05-17 12:50:32,033] Trial 184 finished with value: 263.85257736422733 and parameters: {'learning_rate': 0.025608904992808216, 'num_leaves': 7, 'n_estimators': 455, 'reg_alpha': 0.9, 'reg_lambda': 0.0009, 'min_child_samples': 18, 'n_jobs': 2, 'random_state': 69, 'subsample': 0.9, 'verbose': -1}. Best is trial 174 with value: 262.1395650140899.\n",
            "[I 2024-05-17 12:50:33,362] Trial 185 finished with value: 265.9363600976197 and parameters: {'learning_rate': 0.016463226577147626, 'num_leaves': 13, 'n_estimators': 444, 'reg_alpha': 0.0001, 'reg_lambda': 0.003, 'min_child_samples': 12, 'n_jobs': 2, 'random_state': 69, 'subsample': 0.9, 'verbose': -1}. Best is trial 174 with value: 262.1395650140899.\n",
            "[I 2024-05-17 12:50:34,125] Trial 186 finished with value: 266.675073421893 and parameters: {'learning_rate': 0.03339550980394378, 'num_leaves': 5, 'n_estimators': 465, 'reg_alpha': 0.0007999999999999999, 'reg_lambda': 0.2, 'min_child_samples': 13, 'n_jobs': 2, 'random_state': 69, 'subsample': 0.9, 'verbose': -1}. Best is trial 174 with value: 262.1395650140899.\n",
            "[I 2024-05-17 12:50:35,280] Trial 187 finished with value: 265.57366443117195 and parameters: {'learning_rate': 0.02100120535395081, 'num_leaves': 11, 'n_estimators': 432, 'reg_alpha': 0.006, 'reg_lambda': 0.05, 'min_child_samples': 15, 'n_jobs': 2, 'random_state': 69, 'subsample': 0.9, 'verbose': -1}. Best is trial 174 with value: 262.1395650140899.\n",
            "[I 2024-05-17 12:50:35,530] Trial 188 finished with value: 302.29087458971406 and parameters: {'learning_rate': 0.014932003206787404, 'num_leaves': 8, 'n_estimators': 45, 'reg_alpha': 0.0005, 'reg_lambda': 0.8, 'min_child_samples': 19, 'n_jobs': 2, 'random_state': 69, 'subsample': 0.9, 'verbose': -1}. Best is trial 174 with value: 262.1395650140899.\n",
            "[I 2024-05-17 12:50:36,915] Trial 189 finished with value: 263.53503530810616 and parameters: {'learning_rate': 0.017763109774704477, 'num_leaves': 9, 'n_estimators': 458, 'reg_alpha': 0.007, 'reg_lambda': 7.0, 'min_child_samples': 11, 'n_jobs': 2, 'random_state': 69, 'subsample': 0.9, 'verbose': -1}. Best is trial 174 with value: 262.1395650140899.\n",
            "[I 2024-05-17 12:50:40,830] Trial 190 finished with value: 266.4411722214118 and parameters: {'learning_rate': 0.0219050254256585, 'num_leaves': 12, 'n_estimators': 470, 'reg_alpha': 5.0, 'reg_lambda': 0.6, 'min_child_samples': 14, 'n_jobs': 2, 'random_state': 69, 'subsample': 0.9, 'verbose': -1}. Best is trial 174 with value: 262.1395650140899.\n",
            "[I 2024-05-17 12:50:41,787] Trial 191 finished with value: 264.2192585528868 and parameters: {'learning_rate': 0.02564595760711108, 'num_leaves': 7, 'n_estimators': 466, 'reg_alpha': 0.009, 'reg_lambda': 0.02, 'min_child_samples': 12, 'n_jobs': 2, 'random_state': 69, 'subsample': 0.9, 'verbose': -1}. Best is trial 174 with value: 262.1395650140899.\n",
            "[I 2024-05-17 12:50:42,795] Trial 192 finished with value: 262.8790574542209 and parameters: {'learning_rate': 0.02323518257535088, 'num_leaves': 8, 'n_estimators': 451, 'reg_alpha': 0.5, 'reg_lambda': 8.0, 'min_child_samples': 16, 'n_jobs': 2, 'random_state': 69, 'subsample': 0.9, 'verbose': -1}. Best is trial 174 with value: 262.1395650140899.\n",
            "[I 2024-05-17 12:50:43,560] Trial 193 finished with value: 265.48668899052404 and parameters: {'learning_rate': 0.020101218943216186, 'num_leaves': 5, 'n_estimators': 449, 'reg_alpha': 3.0, 'reg_lambda': 0.005, 'min_child_samples': 16, 'n_jobs': 2, 'random_state': 69, 'subsample': 0.9, 'verbose': -1}. Best is trial 174 with value: 262.1395650140899.\n",
            "[I 2024-05-17 12:50:44,643] Trial 194 finished with value: 263.6720180412273 and parameters: {'learning_rate': 0.02291271106442517, 'num_leaves': 9, 'n_estimators': 455, 'reg_alpha': 0.5, 'reg_lambda': 8.0, 'min_child_samples': 14, 'n_jobs': 2, 'random_state': 69, 'subsample': 0.9, 'verbose': -1}. Best is trial 174 with value: 262.1395650140899.\n",
            "[I 2024-05-17 12:50:45,546] Trial 195 finished with value: 265.3998655280939 and parameters: {'learning_rate': 0.016980274905314764, 'num_leaves': 7, 'n_estimators': 438, 'reg_alpha': 0.5, 'reg_lambda': 0.4, 'min_child_samples': 10, 'n_jobs': 2, 'random_state': 69, 'subsample': 0.9, 'verbose': -1}. Best is trial 174 with value: 262.1395650140899.\n",
            "[I 2024-05-17 12:50:46,724] Trial 196 finished with value: 262.36465174742983 and parameters: {'learning_rate': 0.014993464666969533, 'num_leaves': 11, 'n_estimators': 429, 'reg_alpha': 0.0001, 'reg_lambda': 9.0, 'min_child_samples': 16, 'n_jobs': 2, 'random_state': 69, 'subsample': 0.9, 'verbose': -1}. Best is trial 174 with value: 262.1395650140899.\n",
            "[I 2024-05-17 12:50:47,848] Trial 197 finished with value: 262.86006977498704 and parameters: {'learning_rate': 0.01834943126702299, 'num_leaves': 11, 'n_estimators': 422, 'reg_alpha': 2.0, 'reg_lambda': 5.0, 'min_child_samples': 18, 'n_jobs': 2, 'random_state': 69, 'subsample': 0.9, 'verbose': -1}. Best is trial 174 with value: 262.1395650140899.\n",
            "[I 2024-05-17 12:50:48,950] Trial 198 finished with value: 262.1991052773354 and parameters: {'learning_rate': 0.019353970900226586, 'num_leaves': 11, 'n_estimators': 412, 'reg_alpha': 2.0, 'reg_lambda': 9.0, 'min_child_samples': 16, 'n_jobs': 2, 'random_state': 69, 'subsample': 0.9, 'verbose': -1}. Best is trial 174 with value: 262.1395650140899.\n",
            "[I 2024-05-17 12:50:50,282] Trial 199 finished with value: 264.44342387700243 and parameters: {'learning_rate': 0.017708996830616126, 'num_leaves': 14, 'n_estimators': 405, 'reg_alpha': 2.0, 'reg_lambda': 9.0, 'min_child_samples': 16, 'n_jobs': 2, 'random_state': 69, 'subsample': 0.9, 'verbose': -1}. Best is trial 174 with value: 262.1395650140899.\n"
          ]
        },
        {
          "output_type": "stream",
          "name": "stdout",
          "text": [
            "Best params: {'learning_rate': 0.018970728989741167, 'num_leaves': 8, 'n_estimators': 449, 'reg_alpha': 0.05, 'reg_lambda': 8.0, 'min_child_samples': 14, 'n_jobs': 2, 'random_state': 69, 'subsample': 0.9, 'verbose': -1} [249.76098484941528, 145231.37518919428, 1.202416863368397, 0.24875244682693987]\n",
            "{'lossFunction': 'mape'} "
          ]
        },
        {
          "output_type": "stream",
          "name": "stderr",
          "text": [
            "[I 2024-05-17 12:50:50,810] A new study created in memory with name: no-name-d0d29f14-5e9c-4473-9264-4927a3a24857\n",
            "[I 2024-05-17 12:50:55,150] Trial 0 finished with value: 265.09091276948226 and parameters: {'learning_rate': 0.020414361748174705, 'num_leaves': 39, 'n_estimators': 210, 'reg_alpha': 0.0003, 'reg_lambda': 7.0, 'min_child_samples': 16, 'n_jobs': 2, 'random_state': 69, 'subsample': 1, 'verbose': -1}. Best is trial 0 with value: 265.09091276948226.\n",
            "[I 2024-05-17 12:50:56,021] Trial 1 finished with value: 289.4615861654666 and parameters: {'learning_rate': 0.004392395625781391, 'num_leaves': 91, 'n_estimators': 451, 'reg_alpha': 0.003, 'reg_lambda': 0.00039999999999999996, 'min_child_samples': 97, 'n_jobs': 2, 'random_state': 69, 'subsample': 0.5, 'verbose': -1}. Best is trial 0 with value: 265.09091276948226.\n",
            "[I 2024-05-17 12:50:56,370] Trial 2 finished with value: 335.30271766339155 and parameters: {'learning_rate': 0.001290891764154638, 'num_leaves': 89, 'n_estimators': 164, 'reg_alpha': 0.0003, 'reg_lambda': 0.03, 'min_child_samples': 101, 'n_jobs': 2, 'random_state': 69, 'subsample': 0.5, 'verbose': -1}. Best is trial 0 with value: 265.09091276948226.\n",
            "[I 2024-05-17 12:50:57,283] Trial 3 finished with value: 287.7656316627314 and parameters: {'learning_rate': 0.06382945965366196, 'num_leaves': 38, 'n_estimators': 249, 'reg_alpha': 0.5, 'reg_lambda': 0.0005, 'min_child_samples': 44, 'n_jobs': 2, 'random_state': 69, 'subsample': 0.5, 'verbose': -1}. Best is trial 0 with value: 265.09091276948226.\n",
            "[I 2024-05-17 12:50:58,222] Trial 4 finished with value: 287.9535467898268 and parameters: {'learning_rate': 0.06180589604429492, 'num_leaves': 54, 'n_estimators': 241, 'reg_alpha': 0.060000000000000005, 'reg_lambda': 0.001, 'min_child_samples': 42, 'n_jobs': 2, 'random_state': 69, 'subsample': 1, 'verbose': -1}. Best is trial 0 with value: 265.09091276948226.\n",
            "[I 2024-05-17 12:50:58,334] Trial 5 finished with value: 333.7487651751466 and parameters: {'learning_rate': 0.015557727437429164, 'num_leaves': 41, 'n_estimators': 16, 'reg_alpha': 0.05, 'reg_lambda': 9.0, 'min_child_samples': 75, 'n_jobs': 2, 'random_state': 69, 'subsample': 0.8, 'verbose': -1}. Best is trial 0 with value: 265.09091276948226.\n",
            "[I 2024-05-17 12:50:59,488] Trial 6 finished with value: 279.9477009382966 and parameters: {'learning_rate': 0.008108839892576436, 'num_leaves': 42, 'n_estimators': 380, 'reg_alpha': 0.005, 'reg_lambda': 0.003, 'min_child_samples': 52, 'n_jobs': 2, 'random_state': 69, 'subsample': 0.8, 'verbose': -1}. Best is trial 0 with value: 265.09091276948226.\n",
            "[I 2024-05-17 12:50:59,929] Trial 7 finished with value: 284.9982503848151 and parameters: {'learning_rate': 0.022426333567217085, 'num_leaves': 91, 'n_estimators': 163, 'reg_alpha': 0.0001, 'reg_lambda': 0.7000000000000001, 'min_child_samples': 75, 'n_jobs': 2, 'random_state': 69, 'subsample': 0.6, 'verbose': -1}. Best is trial 0 with value: 265.09091276948226.\n",
            "[I 2024-05-17 12:51:00,982] Trial 8 finished with value: 284.03096203903567 and parameters: {'learning_rate': 0.009952977356852587, 'num_leaves': 88, 'n_estimators': 418, 'reg_alpha': 0.7000000000000001, 'reg_lambda': 0.00019999999999999998, 'min_child_samples': 69, 'n_jobs': 2, 'random_state': 69, 'subsample': 0.5, 'verbose': -1}. Best is trial 0 with value: 265.09091276948226.\n",
            "[I 2024-05-17 12:51:01,685] Trial 9 finished with value: 267.2660101649699 and parameters: {'learning_rate': 0.020036712587159698, 'num_leaves': 98, 'n_estimators': 150, 'reg_alpha': 0.005, 'reg_lambda': 0.006, 'min_child_samples': 34, 'n_jobs': 2, 'random_state': 69, 'subsample': 0.7, 'verbose': -1}. Best is trial 0 with value: 265.09091276948226.\n",
            "[I 2024-05-17 12:51:01,822] Trial 10 finished with value: 345.8007797856237 and parameters: {'learning_rate': 0.002903433565756997, 'num_leaves': 6, 'n_estimators': 15, 'reg_alpha': 3.0, 'reg_lambda': 0.007, 'min_child_samples': 14, 'n_jobs': 2, 'random_state': 69, 'subsample': 1, 'verbose': -1}. Best is trial 0 with value: 265.09091276948226.\n",
            "[I 2024-05-17 12:51:02,770] Trial 11 finished with value: 266.0306122316476 and parameters: {'learning_rate': 0.02741998294823634, 'num_leaves': 62, 'n_estimators': 130, 'reg_alpha': 0.005, 'reg_lambda': 7.0, 'min_child_samples': 16, 'n_jobs': 2, 'random_state': 69, 'subsample': 0.7, 'verbose': -1}. Best is trial 0 with value: 265.09091276948226.\n",
            "[I 2024-05-17 12:51:03,748] Trial 12 finished with value: 265.96571696744644 and parameters: {'learning_rate': 0.03571833803041401, 'num_leaves': 64, 'n_estimators': 103, 'reg_alpha': 0.0007999999999999999, 'reg_lambda': 7.0, 'min_child_samples': 10, 'n_jobs': 2, 'random_state': 69, 'subsample': 0.7, 'verbose': -1}. Best is trial 0 with value: 265.09091276948226.\n",
            "[I 2024-05-17 12:51:07,917] Trial 13 finished with value: 287.4436310447495 and parameters: {'learning_rate': 0.09483091527273067, 'num_leaves': 70, 'n_estimators': 326, 'reg_alpha': 0.0007999999999999999, 'reg_lambda': 7.0, 'min_child_samples': 26, 'n_jobs': 2, 'random_state': 69, 'subsample': 0.9, 'verbose': -1}. Best is trial 0 with value: 265.09091276948226.\n",
            "[I 2024-05-17 12:51:09,358] Trial 14 finished with value: 265.9045101981344 and parameters: {'learning_rate': 0.036487664408736846, 'num_leaves': 20, 'n_estimators': 92, 'reg_alpha': 0.0005, 'reg_lambda': 0.05, 'min_child_samples': 11, 'n_jobs': 2, 'random_state': 69, 'subsample': 1, 'verbose': -1}. Best is trial 0 with value: 265.09091276948226.\n",
            "[I 2024-05-17 12:51:10,537] Trial 15 finished with value: 273.986806430268 and parameters: {'learning_rate': 0.04283415303743485, 'num_leaves': 20, 'n_estimators': 312, 'reg_alpha': 0.0005, 'reg_lambda': 0.05, 'min_child_samples': 26, 'n_jobs': 2, 'random_state': 69, 'subsample': 1, 'verbose': -1}. Best is trial 0 with value: 265.09091276948226.\n",
            "[I 2024-05-17 12:51:10,945] Trial 16 finished with value: 286.468082734664 and parameters: {'learning_rate': 0.013334160762772865, 'num_leaves': 24, 'n_estimators': 79, 'reg_alpha': 0.04, 'reg_lambda': 0.009, 'min_child_samples': 26, 'n_jobs': 2, 'random_state': 69, 'subsample': 1, 'verbose': -1}. Best is trial 0 with value: 265.09091276948226.\n",
            "[I 2024-05-17 12:51:11,675] Trial 17 finished with value: 291.4297385447098 and parameters: {'learning_rate': 0.006508930022792457, 'num_leaves': 27, 'n_estimators': 229, 'reg_alpha': 2.0, 'reg_lambda': 0.02, 'min_child_samples': 57, 'n_jobs': 2, 'random_state': 69, 'subsample': 1, 'verbose': -1}. Best is trial 0 with value: 265.09091276948226.\n",
            "[I 2024-05-17 12:51:12,191] Trial 18 finished with value: 265.3928413170345 and parameters: {'learning_rate': 0.05160630497319681, 'num_leaves': 10, 'n_estimators': 195, 'reg_alpha': 0.006, 'reg_lambda': 3.0, 'min_child_samples': 21, 'n_jobs': 2, 'random_state': 69, 'subsample': 0.9, 'verbose': -1}. Best is trial 0 with value: 265.09091276948226.\n",
            "[I 2024-05-17 12:51:12,678] Trial 19 finished with value: 270.65168248998924 and parameters: {'learning_rate': 0.08104652946937249, 'num_leaves': 10, 'n_estimators': 198, 'reg_alpha': 0, 'reg_lambda': 3.0, 'min_child_samples': 34, 'n_jobs': 2, 'random_state': 69, 'subsample': 0.9, 'verbose': -1}. Best is trial 0 with value: 265.09091276948226.\n",
            "[I 2024-05-17 12:51:13,592] Trial 20 finished with value: 271.9501114719101 and parameters: {'learning_rate': 0.049214746513687305, 'num_leaves': 13, 'n_estimators': 307, 'reg_alpha': 0.0007, 'reg_lambda': 0.08, 'min_child_samples': 21, 'n_jobs': 2, 'random_state': 69, 'subsample': 0.9, 'verbose': -1}. Best is trial 0 with value: 265.09091276948226.\n",
            "[I 2024-05-17 12:51:14,169] Trial 21 finished with value: 267.18174431970084 and parameters: {'learning_rate': 0.03163739220342369, 'num_leaves': 32, 'n_estimators': 90, 'reg_alpha': 0.03, 'reg_lambda': 0.0006000000000000001, 'min_child_samples': 10, 'n_jobs': 2, 'random_state': 69, 'subsample': 0.6, 'verbose': -1}. Best is trial 0 with value: 265.09091276948226.\n",
            "[I 2024-05-17 12:51:14,904] Trial 22 finished with value: 264.2542050075802 and parameters: {'learning_rate': 0.015635410005329625, 'num_leaves': 16, 'n_estimators': 198, 'reg_alpha': 0.30000000000000004, 'reg_lambda': 0.4, 'min_child_samples': 20, 'n_jobs': 2, 'random_state': 69, 'subsample': 0.9, 'verbose': -1}. Best is trial 22 with value: 264.2542050075802.\n",
            "[I 2024-05-17 12:51:15,530] Trial 23 finished with value: 268.300868008995 and parameters: {'learning_rate': 0.013641505633368535, 'num_leaves': 13, 'n_estimators': 198, 'reg_alpha': 0.30000000000000004, 'reg_lambda': 3.0, 'min_child_samples': 32, 'n_jobs': 2, 'random_state': 69, 'subsample': 0.9, 'verbose': -1}. Best is trial 22 with value: 264.2542050075802.\n",
            "[I 2024-05-17 12:51:17,575] Trial 24 finished with value: 268.3185231551782 and parameters: {'learning_rate': 0.01795501146293145, 'num_leaves': 48, 'n_estimators': 282, 'reg_alpha': 0.006, 'reg_lambda': 0.4, 'min_child_samples': 20, 'n_jobs': 2, 'random_state': 69, 'subsample': 0.9, 'verbose': -1}. Best is trial 22 with value: 264.2542050075802.\n",
            "[I 2024-05-17 12:51:18,311] Trial 25 finished with value: 298.32791312087085 and parameters: {'learning_rate': 0.005236326487040636, 'num_leaves': 31, 'n_estimators': 204, 'reg_alpha': 0.2, 'reg_lambda': 5.0, 'min_child_samples': 40, 'n_jobs': 2, 'random_state': 69, 'subsample': 0.9, 'verbose': -1}. Best is trial 22 with value: 264.2542050075802.\n",
            "[I 2024-05-17 12:51:23,420] Trial 26 finished with value: 272.4603605259578 and parameters: {'learning_rate': 0.024850550004065115, 'num_leaves': 18, 'n_estimators': 501, 'reg_alpha': 0.006, 'reg_lambda': 0.4, 'min_child_samples': 21, 'n_jobs': 2, 'random_state': 69, 'subsample': 0.9, 'verbose': -1}. Best is trial 22 with value: 264.2542050075802.\n",
            "[I 2024-05-17 12:51:24,008] Trial 27 finished with value: 268.2944878031688 and parameters: {'learning_rate': 0.01024408597286858, 'num_leaves': 7, 'n_estimators': 286, 'reg_alpha': 0.30000000000000004, 'reg_lambda': 0.01, 'min_child_samples': 34, 'n_jobs': 2, 'random_state': 69, 'subsample': 0.9, 'verbose': -1}. Best is trial 22 with value: 264.2542050075802.\n",
            "[I 2024-05-17 12:51:25,094] Trial 28 finished with value: 300.3066160174647 and parameters: {'learning_rate': 0.0029401160409931936, 'num_leaves': 31, 'n_estimators': 353, 'reg_alpha': 0.0003, 'reg_lambda': 0.5, 'min_child_samples': 49, 'n_jobs': 2, 'random_state': 69, 'subsample': 0.8, 'verbose': -1}. Best is trial 22 with value: 264.2542050075802.\n",
            "[I 2024-05-17 12:51:26,216] Trial 29 finished with value: 276.33705383965645 and parameters: {'learning_rate': 0.050738550738253514, 'num_leaves': 50, 'n_estimators': 211, 'reg_alpha': 0.00019999999999999998, 'reg_lambda': 0.060000000000000005, 'min_child_samples': 29, 'n_jobs': 2, 'random_state': 69, 'subsample': 0.6, 'verbose': -1}. Best is trial 22 with value: 264.2542050075802.\n",
            "[I 2024-05-17 12:51:26,846] Trial 30 finished with value: 285.03103742736465 and parameters: {'learning_rate': 0.012588750305867095, 'num_leaves': 76, 'n_estimators': 267, 'reg_alpha': 0.4, 'reg_lambda': 0.005, 'min_child_samples': 90, 'n_jobs': 2, 'random_state': 69, 'subsample': 0.9, 'verbose': -1}. Best is trial 22 with value: 264.2542050075802.\n",
            "[I 2024-05-17 12:51:27,155] Trial 31 finished with value: 269.58073571550386 and parameters: {'learning_rate': 0.03619586692906838, 'num_leaves': 19, 'n_estimators': 55, 'reg_alpha': 0.08, 'reg_lambda': 0.0007, 'min_child_samples': 17, 'n_jobs': 2, 'random_state': 69, 'subsample': 1, 'verbose': -1}. Best is trial 22 with value: 264.2542050075802.\n",
            "[I 2024-05-17 12:51:27,791] Trial 32 finished with value: 265.48029126970226 and parameters: {'learning_rate': 0.025357140205546587, 'num_leaves': 22, 'n_estimators': 124, 'reg_alpha': 0.007, 'reg_lambda': 0.6, 'min_child_samples': 10, 'n_jobs': 2, 'random_state': 69, 'subsample': 1, 'verbose': -1}. Best is trial 22 with value: 264.2542050075802.\n",
            "[I 2024-05-17 12:51:28,636] Trial 33 finished with value: 267.3307432739792 and parameters: {'learning_rate': 0.01999909603419473, 'num_leaves': 36, 'n_estimators': 143, 'reg_alpha': 0.02, 'reg_lambda': 0.30000000000000004, 'min_child_samples': 22, 'n_jobs': 2, 'random_state': 69, 'subsample': 1, 'verbose': -1}. Best is trial 22 with value: 264.2542050075802.\n",
            "[I 2024-05-17 12:51:29,494] Trial 34 finished with value: 273.2539939672045 and parameters: {'learning_rate': 0.06579292146452616, 'num_leaves': 25, 'n_estimators': 172, 'reg_alpha': 0.01, 'reg_lambda': 0.6, 'min_child_samples': 17, 'n_jobs': 2, 'random_state': 69, 'subsample': 0.5, 'verbose': -1}. Best is trial 22 with value: 264.2542050075802.\n",
            "[I 2024-05-17 12:51:29,940] Trial 35 finished with value: 276.2200254305288 and parameters: {'learning_rate': 0.02600516353089993, 'num_leaves': 14, 'n_estimators': 123, 'reg_alpha': 0.007, 'reg_lambda': 0.008, 'min_child_samples': 42, 'n_jobs': 2, 'random_state': 69, 'subsample': 1, 'verbose': -1}. Best is trial 22 with value: 264.2542050075802.\n",
            "[I 2024-05-17 12:51:31,523] Trial 36 finished with value: 323.9492584762085 and parameters: {'learning_rate': 0.0010593348971751424, 'num_leaves': 44, 'n_estimators': 241, 'reg_alpha': 4.0, 'reg_lambda': 0.2, 'min_child_samples': 16, 'n_jobs': 2, 'random_state': 69, 'subsample': 1, 'verbose': -1}. Best is trial 22 with value: 264.2542050075802.\n",
            "[I 2024-05-17 12:51:32,100] Trial 37 finished with value: 281.47588236111676 and parameters: {'learning_rate': 0.01558735142413778, 'num_leaves': 37, 'n_estimators': 174, 'reg_alpha': 0.9, 'reg_lambda': 4.0, 'min_child_samples': 57, 'n_jobs': 2, 'random_state': 69, 'subsample': 0.5, 'verbose': -1}. Best is trial 22 with value: 264.2542050075802.\n",
            "[I 2024-05-17 12:51:32,530] Trial 38 finished with value: 301.3552494243118 and parameters: {'learning_rate': 0.009404464248097185, 'num_leaves': 55, 'n_estimators': 62, 'reg_alpha': 5.0, 'reg_lambda': 0.002, 'min_child_samples': 24, 'n_jobs': 2, 'random_state': 69, 'subsample': 0.8, 'verbose': -1}. Best is trial 22 with value: 264.2542050075802.\n",
            "[I 2024-05-17 12:51:32,882] Trial 39 finished with value: 270.3181227624764 and parameters: {'learning_rate': 0.06129348306472545, 'num_leaves': 6, 'n_estimators': 175, 'reg_alpha': 0.009, 'reg_lambda': 0.004, 'min_child_samples': 38, 'n_jobs': 2, 'random_state': 69, 'subsample': 0.9, 'verbose': -1}. Best is trial 22 with value: 264.2542050075802.\n",
            "[I 2024-05-17 12:51:36,265] Trial 40 finished with value: 279.55445318998164 and parameters: {'learning_rate': 0.007084410693259028, 'num_leaves': 26, 'n_estimators': 226, 'reg_alpha': 7.0, 'reg_lambda': 2.0, 'min_child_samples': 30, 'n_jobs': 2, 'random_state': 69, 'subsample': 0.6, 'verbose': -1}. Best is trial 22 with value: 264.2542050075802.\n",
            "[I 2024-05-17 12:51:37,693] Trial 41 finished with value: 265.669035288637 and parameters: {'learning_rate': 0.04199733461027944, 'num_leaves': 18, 'n_estimators': 111, 'reg_alpha': 8.0, 'reg_lambda': 0.09, 'min_child_samples': 10, 'n_jobs': 2, 'random_state': 69, 'subsample': 1, 'verbose': -1}. Best is trial 22 with value: 264.2542050075802.\n",
            "[I 2024-05-17 12:51:38,206] Trial 42 finished with value: 265.4759689594605 and parameters: {'learning_rate': 0.028158223242859517, 'num_leaves': 17, 'n_estimators': 117, 'reg_alpha': 8.0, 'reg_lambda': 0.09, 'min_child_samples': 14, 'n_jobs': 2, 'random_state': 69, 'subsample': 1, 'verbose': -1}. Best is trial 22 with value: 264.2542050075802.\n",
            "[I 2024-05-17 12:51:38,680] Trial 43 finished with value: 267.6916716653955 and parameters: {'learning_rate': 0.017120129414860557, 'num_leaves': 11, 'n_estimators': 146, 'reg_alpha': 0.002, 'reg_lambda': 0.04, 'min_child_samples': 15, 'n_jobs': 2, 'random_state': 69, 'subsample': 1, 'verbose': -1}. Best is trial 22 with value: 264.2542050075802.\n",
            "[I 2024-05-17 12:51:38,895] Trial 44 finished with value: 295.0180147383237 and parameters: {'learning_rate': 0.0301752016234521, 'num_leaves': 15, 'n_estimators': 42, 'reg_alpha': 1.0, 'reg_lambda': 0, 'min_child_samples': 64, 'n_jobs': 2, 'random_state': 69, 'subsample': 0.7, 'verbose': -1}. Best is trial 22 with value: 264.2542050075802.\n",
            "[I 2024-05-17 12:51:40,011] Trial 45 finished with value: 265.1165687064683 and parameters: {'learning_rate': 0.021278620225295187, 'num_leaves': 23, 'n_estimators': 253, 'reg_alpha': 0.00039999999999999996, 'reg_lambda': 0.8, 'min_child_samples': 14, 'n_jobs': 2, 'random_state': 69, 'subsample': 1, 'verbose': -1}. Best is trial 22 with value: 264.2542050075802.\n",
            "[I 2024-05-17 12:51:40,608] Trial 46 finished with value: 285.7999340771242 and parameters: {'learning_rate': 0.019582985035241866, 'num_leaves': 32, 'n_estimators': 248, 'reg_alpha': 0.00039999999999999996, 'reg_lambda': 0.8, 'min_child_samples': 90, 'n_jobs': 2, 'random_state': 69, 'subsample': 1, 'verbose': -1}. Best is trial 22 with value: 264.2542050075802.\n",
            "[I 2024-05-17 12:51:41,857] Trial 47 finished with value: 264.8909856288922 and parameters: {'learning_rate': 0.022297056877775962, 'num_leaves': 41, 'n_estimators': 190, 'reg_alpha': 0.1, 'reg_lambda': 1.0, 'min_child_samples': 19, 'n_jobs': 2, 'random_state': 69, 'subsample': 0.8, 'verbose': -1}. Best is trial 22 with value: 264.2542050075802.\n",
            "[I 2024-05-17 12:51:43,145] Trial 48 finished with value: 268.1672222830801 and parameters: {'learning_rate': 0.010172789191417253, 'num_leaves': 44, 'n_estimators': 263, 'reg_alpha': 0.1, 'reg_lambda': 6.0, 'min_child_samples': 27, 'n_jobs': 2, 'random_state': 69, 'subsample': 0.8, 'verbose': -1}. Best is trial 22 with value: 264.2542050075802.\n",
            "[I 2024-05-17 12:51:44,577] Trial 49 finished with value: 266.8005348411122 and parameters: {'learning_rate': 0.02219664350268711, 'num_leaves': 39, 'n_estimators': 223, 'reg_alpha': 0.0009, 'reg_lambda': 1.0, 'min_child_samples': 19, 'n_jobs': 2, 'random_state': 69, 'subsample': 0.8, 'verbose': -1}. Best is trial 22 with value: 264.2542050075802.\n",
            "[I 2024-05-17 12:51:45,335] Trial 50 finished with value: 274.44032770825237 and parameters: {'learning_rate': 0.012910019759115344, 'num_leaves': 58, 'n_estimators': 192, 'reg_alpha': 9.0, 'reg_lambda': 8.0, 'min_child_samples': 37, 'n_jobs': 2, 'random_state': 69, 'subsample': 0.8, 'verbose': -1}. Best is trial 22 with value: 264.2542050075802.\n",
            "[I 2024-05-17 12:51:46,220] Trial 51 finished with value: 266.4193211968399 and parameters: {'learning_rate': 0.028979335367011506, 'num_leaves': 28, 'n_estimators': 161, 'reg_alpha': 10, 'reg_lambda': 0.9, 'min_child_samples': 14, 'n_jobs': 2, 'random_state': 69, 'subsample': 0.8, 'verbose': -1}. Best is trial 22 with value: 264.2542050075802.\n",
            "[I 2024-05-17 12:51:46,740] Trial 52 finished with value: 262.5969175986473 and parameters: {'learning_rate': 0.022144325479964973, 'num_leaves': 9, 'n_estimators': 182, 'reg_alpha': 0.004, 'reg_lambda': 10, 'min_child_samples': 23, 'n_jobs': 2, 'random_state': 69, 'subsample': 0.7, 'verbose': -1}. Best is trial 52 with value: 262.5969175986473.\n",
            "[I 2024-05-17 12:51:47,229] Trial 53 finished with value: 266.7163234318674 and parameters: {'learning_rate': 0.015994248894659863, 'num_leaves': 9, 'n_estimators': 183, 'reg_alpha': 0.003, 'reg_lambda': 10, 'min_child_samples': 24, 'n_jobs': 2, 'random_state': 69, 'subsample': 0.7, 'verbose': -1}. Best is trial 52 with value: 262.5969175986473.\n",
            "[I 2024-05-17 12:51:48,711] Trial 54 finished with value: 265.13708624177826 and parameters: {'learning_rate': 0.021800829903099377, 'num_leaves': 6, 'n_estimators': 216, 'reg_alpha': 0.004, 'reg_lambda': 0.0007999999999999999, 'min_child_samples': 19, 'n_jobs': 2, 'random_state': 69, 'subsample': 0.7, 'verbose': -1}. Best is trial 52 with value: 262.5969175986473.\n",
            "[I 2024-05-17 12:51:51,452] Trial 55 finished with value: 265.2729384303936 and parameters: {'learning_rate': 0.022765359543952514, 'num_leaves': 6, 'n_estimators': 240, 'reg_alpha': 0.004, 'reg_lambda': 0.0007999999999999999, 'min_child_samples': 13, 'n_jobs': 2, 'random_state': 69, 'subsample': 0.7, 'verbose': -1}. Best is trial 52 with value: 262.5969175986473.\n",
            "[I 2024-05-17 12:51:52,436] Trial 56 finished with value: 280.09674560658306 and parameters: {'learning_rate': 0.011556599198144219, 'num_leaves': 48, 'n_estimators': 284, 'reg_alpha': 0.5, 'reg_lambda': 0.1, 'min_child_samples': 48, 'n_jobs': 2, 'random_state': 69, 'subsample': 0.7, 'verbose': -1}. Best is trial 52 with value: 262.5969175986473.\n",
            "[I 2024-05-17 12:51:53,387] Trial 57 finished with value: 265.8548332589601 and parameters: {'learning_rate': 0.02054748411432983, 'num_leaves': 23, 'n_estimators': 220, 'reg_alpha': 0.004, 'reg_lambda': 0.06999999999999999, 'min_child_samples': 29, 'n_jobs': 2, 'random_state': 69, 'subsample': 0.7, 'verbose': -1}. Best is trial 52 with value: 262.5969175986473.\n",
            "[I 2024-05-17 12:51:54,325] Trial 58 finished with value: 267.9864201434235 and parameters: {'learning_rate': 0.013958084331942684, 'num_leaves': 35, 'n_estimators': 154, 'reg_alpha': 6.0, 'reg_lambda': 0.0009, 'min_child_samples': 18, 'n_jobs': 2, 'random_state': 69, 'subsample': 0.7, 'verbose': -1}. Best is trial 52 with value: 262.5969175986473.\n",
            "[I 2024-05-17 12:51:56,264] Trial 59 finished with value: 267.56341954972055 and parameters: {'learning_rate': 0.008383522967087326, 'num_leaves': 41, 'n_estimators': 307, 'reg_alpha': 0.8, 'reg_lambda': 0.0003, 'min_child_samples': 22, 'n_jobs': 2, 'random_state': 69, 'subsample': 0.7, 'verbose': -1}. Best is trial 52 with value: 262.5969175986473.\n",
            "[I 2024-05-17 12:51:56,740] Trial 60 finished with value: 266.1226247149097 and parameters: {'learning_rate': 0.038909685123739025, 'num_leaves': 5, 'n_estimators': 260, 'reg_alpha': 0.09, 'reg_lambda': 0.00039999999999999996, 'min_child_samples': 25, 'n_jobs': 2, 'random_state': 69, 'subsample': 0.7, 'verbose': -1}. Best is trial 52 with value: 262.5969175986473.\n",
            "[I 2024-05-17 12:51:57,369] Trial 61 finished with value: 264.21952611938127 and parameters: {'learning_rate': 0.02276120814048934, 'num_leaves': 9, 'n_estimators': 243, 'reg_alpha': 0.004, 'reg_lambda': 0.0005, 'min_child_samples': 12, 'n_jobs': 2, 'random_state': 69, 'subsample': 0.7, 'verbose': -1}. Best is trial 52 with value: 262.5969175986473.\n",
            "[I 2024-05-17 12:51:58,026] Trial 62 finished with value: 265.36207930413633 and parameters: {'learning_rate': 0.01648109893976468, 'num_leaves': 12, 'n_estimators': 208, 'reg_alpha': 0.004, 'reg_lambda': 0.0005, 'min_child_samples': 13, 'n_jobs': 2, 'random_state': 69, 'subsample': 0.7, 'verbose': -1}. Best is trial 52 with value: 262.5969175986473.\n",
            "[I 2024-05-17 12:51:58,817] Trial 63 finished with value: 263.594325427895 and parameters: {'learning_rate': 0.018298035599371935, 'num_leaves': 15, 'n_estimators': 233, 'reg_alpha': 0.001, 'reg_lambda': 0.001, 'min_child_samples': 20, 'n_jobs': 2, 'random_state': 69, 'subsample': 0.7, 'verbose': -1}. Best is trial 52 with value: 262.5969175986473.\n",
            "[I 2024-05-17 12:51:59,674] Trial 64 finished with value: 268.0850788203721 and parameters: {'learning_rate': 0.03313219941363901, 'num_leaves': 16, 'n_estimators': 244, 'reg_alpha': 0.001, 'reg_lambda': 0.001, 'min_child_samples': 12, 'n_jobs': 2, 'random_state': 69, 'subsample': 0.5, 'verbose': -1}. Best is trial 52 with value: 262.5969175986473.\n",
            "[I 2024-05-17 12:52:00,832] Trial 65 finished with value: 266.90020536427744 and parameters: {'learning_rate': 0.019351119459863644, 'num_leaves': 22, 'n_estimators': 275, 'reg_alpha': 0.0006000000000000001, 'reg_lambda': 0.0001, 'min_child_samples': 23, 'n_jobs': 2, 'random_state': 69, 'subsample': 0.7, 'verbose': -1}. Best is trial 52 with value: 262.5969175986473.\n",
            "[I 2024-05-17 12:52:02,112] Trial 66 finished with value: 265.1909031343406 and parameters: {'learning_rate': 0.014876115190868953, 'num_leaves': 10, 'n_estimators': 350, 'reg_alpha': 0.6, 'reg_lambda': 0.03, 'min_child_samples': 31, 'n_jobs': 2, 'random_state': 69, 'subsample': 0.7, 'verbose': -1}. Best is trial 52 with value: 262.5969175986473.\n",
            "[I 2024-05-17 12:52:05,712] Trial 67 finished with value: 264.4089014576916 and parameters: {'learning_rate': 0.011963712277707273, 'num_leaves': 20, 'n_estimators': 293, 'reg_alpha': 0.0003, 'reg_lambda': 9.0, 'min_child_samples': 27, 'n_jobs': 2, 'random_state': 69, 'subsample': 0.6, 'verbose': -1}. Best is trial 52 with value: 262.5969175986473.\n",
            "[I 2024-05-17 12:52:07,293] Trial 68 finished with value: 264.93700333867775 and parameters: {'learning_rate': 0.011356440040390074, 'num_leaves': 29, 'n_estimators': 328, 'reg_alpha': 0.06999999999999999, 'reg_lambda': 7.0, 'min_child_samples': 27, 'n_jobs': 2, 'random_state': 69, 'subsample': 0.6, 'verbose': -1}. Best is trial 52 with value: 262.5969175986473.\n",
            "[I 2024-05-17 12:52:09,101] Trial 69 finished with value: 264.5455769246685 and parameters: {'learning_rate': 0.011561802654596422, 'num_leaves': 29, 'n_estimators': 400, 'reg_alpha': 0.008, 'reg_lambda': 10, 'min_child_samples': 27, 'n_jobs': 2, 'random_state': 69, 'subsample': 0.6, 'verbose': -1}. Best is trial 52 with value: 262.5969175986473.\n",
            "[I 2024-05-17 12:52:10,723] Trial 70 finished with value: 270.64649959916653 and parameters: {'learning_rate': 0.004715945635497291, 'num_leaves': 20, 'n_estimators': 425, 'reg_alpha': 0.008, 'reg_lambda': 9.0, 'min_child_samples': 19, 'n_jobs': 2, 'random_state': 69, 'subsample': 0.6, 'verbose': -1}. Best is trial 52 with value: 262.5969175986473.\n",
            "[I 2024-05-17 12:52:12,519] Trial 71 finished with value: 263.68729785449045 and parameters: {'learning_rate': 0.011577807724222853, 'num_leaves': 29, 'n_estimators': 388, 'reg_alpha': 0.060000000000000005, 'reg_lambda': 10, 'min_child_samples': 27, 'n_jobs': 2, 'random_state': 69, 'subsample': 0.6, 'verbose': -1}. Best is trial 52 with value: 262.5969175986473.\n",
            "[I 2024-05-17 12:52:14,010] Trial 72 finished with value: 268.2897750193161 and parameters: {'learning_rate': 0.007931793370986854, 'num_leaves': 34, 'n_estimators': 382, 'reg_alpha': 0.060000000000000005, 'reg_lambda': 10, 'min_child_samples': 34, 'n_jobs': 2, 'random_state': 69, 'subsample': 0.6, 'verbose': -1}. Best is trial 52 with value: 262.5969175986473.\n",
            "[I 2024-05-17 12:52:15,282] Trial 73 finished with value: 269.47338961499116 and parameters: {'learning_rate': 0.005902060826042709, 'num_leaves': 15, 'n_estimators': 407, 'reg_alpha': 0.1, 'reg_lambda': 10, 'min_child_samples': 28, 'n_jobs': 2, 'random_state': 69, 'subsample': 0.6, 'verbose': -1}. Best is trial 52 with value: 262.5969175986473.\n",
            "[I 2024-05-17 12:52:20,372] Trial 74 finished with value: 272.983323033101 and parameters: {'learning_rate': 0.011351006541609, 'num_leaves': 29, 'n_estimators': 462, 'reg_alpha': 0.0003, 'reg_lambda': 1.0, 'min_child_samples': 37, 'n_jobs': 2, 'random_state': 69, 'subsample': 0.6, 'verbose': -1}. Best is trial 52 with value: 262.5969175986473.\n",
            "[I 2024-05-17 12:52:21,266] Trial 75 finished with value: 266.5668001962106 and parameters: {'learning_rate': 0.008926172543684318, 'num_leaves': 9, 'n_estimators': 389, 'reg_alpha': 0.008, 'reg_lambda': 0.7000000000000001, 'min_child_samples': 31, 'n_jobs': 2, 'random_state': 69, 'subsample': 0.6, 'verbose': -1}. Best is trial 52 with value: 262.5969175986473.\n",
            "[I 2024-05-17 12:52:23,322] Trial 76 finished with value: 270.48616737766196 and parameters: {'learning_rate': 0.0180714585740519, 'num_leaves': 26, 'n_estimators': 447, 'reg_alpha': 0.001, 'reg_lambda': 0.0005, 'min_child_samples': 25, 'n_jobs': 2, 'random_state': 69, 'subsample': 0.6, 'verbose': -1}. Best is trial 52 with value: 262.5969175986473.\n",
            "[I 2024-05-17 12:52:24,661] Trial 77 finished with value: 263.47432019507954 and parameters: {'learning_rate': 0.012351725451746426, 'num_leaves': 19, 'n_estimators': 358, 'reg_alpha': 0.0001, 'reg_lambda': 0.00019999999999999998, 'min_child_samples': 22, 'n_jobs': 2, 'random_state': 69, 'subsample': 0.6, 'verbose': -1}. Best is trial 52 with value: 262.5969175986473.\n",
            "[I 2024-05-17 12:52:26,008] Trial 78 finished with value: 269.17489437033663 and parameters: {'learning_rate': 0.007688742168305863, 'num_leaves': 21, 'n_estimators': 354, 'reg_alpha': 0.0001, 'reg_lambda': 0.001, 'min_child_samples': 33, 'n_jobs': 2, 'random_state': 69, 'subsample': 0.6, 'verbose': -1}. Best is trial 52 with value: 262.5969175986473.\n",
            "[I 2024-05-17 12:52:27,033] Trial 79 finished with value: 262.4221762365482 and parameters: {'learning_rate': 0.013007579049266924, 'num_leaves': 13, 'n_estimators': 337, 'reg_alpha': 0.7000000000000001, 'reg_lambda': 0.00019999999999999998, 'min_child_samples': 22, 'n_jobs': 2, 'random_state': 69, 'subsample': 0.6, 'verbose': -1}. Best is trial 79 with value: 262.4221762365482.\n",
            "[I 2024-05-17 12:52:27,952] Trial 80 finished with value: 299.64637871464396 and parameters: {'learning_rate': 0.0021763113000685236, 'num_leaves': 13, 'n_estimators': 298, 'reg_alpha': 0.05, 'reg_lambda': 0.00019999999999999998, 'min_child_samples': 22, 'n_jobs': 2, 'random_state': 69, 'subsample': 0.6, 'verbose': -1}. Best is trial 79 with value: 262.4221762365482.\n",
            "[I 2024-05-17 12:52:29,235] Trial 81 finished with value: 264.0372032188639 and parameters: {'learning_rate': 0.014157041605691506, 'num_leaves': 17, 'n_estimators': 365, 'reg_alpha': 0.7000000000000001, 'reg_lambda': 0.00019999999999999998, 'min_child_samples': 16, 'n_jobs': 2, 'random_state': 69, 'subsample': 0.6, 'verbose': -1}. Best is trial 79 with value: 262.4221762365482.\n",
            "[I 2024-05-17 12:52:32,889] Trial 82 finished with value: 264.15606953007983 and parameters: {'learning_rate': 0.015272797196371226, 'num_leaves': 17, 'n_estimators': 335, 'reg_alpha': 3.0, 'reg_lambda': 0.00019999999999999998, 'min_child_samples': 16, 'n_jobs': 2, 'random_state': 69, 'subsample': 0.6, 'verbose': -1}. Best is trial 79 with value: 262.4221762365482.\n",
            "[I 2024-05-17 12:52:34,605] Trial 83 finished with value: 264.1093776518691 and parameters: {'learning_rate': 0.01433231549187147, 'num_leaves': 17, 'n_estimators': 368, 'reg_alpha': 0.7000000000000001, 'reg_lambda': 0.00019999999999999998, 'min_child_samples': 16, 'n_jobs': 2, 'random_state': 69, 'subsample': 0.6, 'verbose': -1}. Best is trial 79 with value: 262.4221762365482.\n",
            "[I 2024-05-17 12:52:35,435] Trial 84 finished with value: 262.34853067263685 and parameters: {'learning_rate': 0.013994730872372445, 'num_leaves': 8, 'n_estimators': 366, 'reg_alpha': 0.7000000000000001, 'reg_lambda': 0.00019999999999999998, 'min_child_samples': 16, 'n_jobs': 2, 'random_state': 69, 'subsample': 0.6, 'verbose': -1}. Best is trial 84 with value: 262.34853067263685.\n",
            "[I 2024-05-17 12:52:36,738] Trial 85 finished with value: 264.1446311640547 and parameters: {'learning_rate': 0.014060324603330418, 'num_leaves': 17, 'n_estimators': 365, 'reg_alpha': 0.7000000000000001, 'reg_lambda': 0.00019999999999999998, 'min_child_samples': 17, 'n_jobs': 2, 'random_state': 69, 'subsample': 0.6, 'verbose': -1}. Best is trial 84 with value: 262.34853067263685.\n",
            "[I 2024-05-17 12:52:37,841] Trial 86 finished with value: 263.7822001495752 and parameters: {'learning_rate': 0.010147372453571907, 'num_leaves': 13, 'n_estimators': 365, 'reg_alpha': 0.7000000000000001, 'reg_lambda': 0.003, 'min_child_samples': 17, 'n_jobs': 2, 'random_state': 69, 'subsample': 0.6, 'verbose': -1}. Best is trial 84 with value: 262.34853067263685.\n",
            "[I 2024-05-17 12:52:38,583] Trial 87 finished with value: 283.5315861771353 and parameters: {'learning_rate': 0.009926446173511176, 'num_leaves': 8, 'n_estimators': 370, 'reg_alpha': 0.7000000000000001, 'reg_lambda': 0.003, 'min_child_samples': 76, 'n_jobs': 2, 'random_state': 69, 'subsample': 0.6, 'verbose': -1}. Best is trial 84 with value: 262.34853067263685.\n",
            "[I 2024-05-17 12:52:39,639] Trial 88 finished with value: 267.1302412972458 and parameters: {'learning_rate': 0.006742464786797639, 'num_leaves': 13, 'n_estimators': 340, 'reg_alpha': 0.7000000000000001, 'reg_lambda': 0.00019999999999999998, 'min_child_samples': 21, 'n_jobs': 2, 'random_state': 69, 'subsample': 0.6, 'verbose': -1}. Best is trial 84 with value: 262.34853067263685.\n",
            "[I 2024-05-17 12:52:40,554] Trial 89 finished with value: 264.17876157195303 and parameters: {'learning_rate': 0.012980497480886598, 'num_leaves': 11, 'n_estimators': 316, 'reg_alpha': 0.7000000000000001, 'reg_lambda': 0.00019999999999999998, 'min_child_samples': 16, 'n_jobs': 2, 'random_state': 69, 'subsample': 0.6, 'verbose': -1}. Best is trial 84 with value: 262.34853067263685.\n",
            "[I 2024-05-17 12:52:47,881] Trial 90 finished with value: 277.5662855099161 and parameters: {'learning_rate': 0.018016238521625687, 'num_leaves': 76, 'n_estimators': 370, 'reg_alpha': 0.7000000000000001, 'reg_lambda': 0.003, 'min_child_samples': 10, 'n_jobs': 2, 'random_state': 69, 'subsample': 0.6, 'verbose': -1}. Best is trial 84 with value: 262.34853067263685.\n",
            "[I 2024-05-17 12:52:49,199] Trial 91 finished with value: 262.72982966828886 and parameters: {'learning_rate': 0.013533634917523032, 'num_leaves': 17, 'n_estimators': 360, 'reg_alpha': 0.7000000000000001, 'reg_lambda': 0.00019999999999999998, 'min_child_samples': 18, 'n_jobs': 2, 'random_state': 69, 'subsample': 0.6, 'verbose': -1}. Best is trial 84 with value: 262.34853067263685.\n",
            "[I 2024-05-17 12:52:50,388] Trial 92 finished with value: 264.20442204209365 and parameters: {'learning_rate': 0.009609453792816051, 'num_leaves': 14, 'n_estimators': 394, 'reg_alpha': 0.7000000000000001, 'reg_lambda': 0.00019999999999999998, 'min_child_samples': 24, 'n_jobs': 2, 'random_state': 69, 'subsample': 0.6, 'verbose': -1}. Best is trial 84 with value: 262.34853067263685.\n",
            "[I 2024-05-17 12:52:51,776] Trial 93 finished with value: 263.50479800263565 and parameters: {'learning_rate': 0.010397186163586281, 'num_leaves': 19, 'n_estimators': 358, 'reg_alpha': 0.04, 'reg_lambda': 0.009, 'min_child_samples': 20, 'n_jobs': 2, 'random_state': 69, 'subsample': 0.6, 'verbose': -1}. Best is trial 84 with value: 262.34853067263685.\n",
            "[I 2024-05-17 12:52:53,591] Trial 94 finished with value: 264.19805744078934 and parameters: {'learning_rate': 0.009094803215539026, 'num_leaves': 24, 'n_estimators': 418, 'reg_alpha': 0.04, 'reg_lambda': 0.006, 'min_child_samples': 21, 'n_jobs': 2, 'random_state': 69, 'subsample': 0.6, 'verbose': -1}. Best is trial 84 with value: 262.34853067263685.\n",
            "[I 2024-05-17 12:52:54,577] Trial 95 finished with value: 262.8531047257381 and parameters: {'learning_rate': 0.010926619437364548, 'num_leaves': 12, 'n_estimators': 347, 'reg_alpha': 0.0001, 'reg_lambda': 0.02, 'min_child_samples': 19, 'n_jobs': 2, 'random_state': 69, 'subsample': 0.6, 'verbose': -1}. Best is trial 84 with value: 262.34853067263685.\n",
            "[I 2024-05-17 12:52:55,583] Trial 96 finished with value: 262.8357588417554 and parameters: {'learning_rate': 0.01043528820481885, 'num_leaves': 12, 'n_estimators': 348, 'reg_alpha': 0.0001, 'reg_lambda': 0.009, 'min_child_samples': 18, 'n_jobs': 2, 'random_state': 69, 'subsample': 0.6, 'verbose': -1}. Best is trial 84 with value: 262.34853067263685.\n",
            "[I 2024-05-17 12:52:56,293] Trial 97 finished with value: 263.82931870617784 and parameters: {'learning_rate': 0.012500417431276348, 'num_leaves': 7, 'n_estimators': 345, 'reg_alpha': 0.0001, 'reg_lambda': 0.009, 'min_child_samples': 23, 'n_jobs': 2, 'random_state': 69, 'subsample': 0.6, 'verbose': -1}. Best is trial 84 with value: 262.34853067263685.\n",
            "[I 2024-05-17 12:52:56,847] Trial 98 finished with value: 278.47097087641936 and parameters: {'learning_rate': 0.007408792393580173, 'num_leaves': 5, 'n_estimators': 317, 'reg_alpha': 0.0001, 'reg_lambda': 0.08, 'min_child_samples': 20, 'n_jobs': 2, 'random_state': 69, 'subsample': 0.6, 'verbose': -1}. Best is trial 84 with value: 262.34853067263685.\n",
            "[I 2024-05-17 12:52:59,206] Trial 99 finished with value: 268.8524014134346 and parameters: {'learning_rate': 0.0061400612633308, 'num_leaves': 11, 'n_estimators': 384, 'reg_alpha': 0.0001, 'reg_lambda': 0.009, 'min_child_samples': 25, 'n_jobs': 2, 'random_state': 69, 'subsample': 0.5, 'verbose': -1}. Best is trial 84 with value: 262.34853067263685.\n",
            "[I 2024-05-17 12:53:02,084] Trial 100 finished with value: 263.52236418020675 and parameters: {'learning_rate': 0.011005071338505937, 'num_leaves': 19, 'n_estimators': 322, 'reg_alpha': 0.2, 'reg_lambda': 5.0, 'min_child_samples': 19, 'n_jobs': 2, 'random_state': 69, 'subsample': 0.6, 'verbose': -1}. Best is trial 84 with value: 262.34853067263685.\n",
            "[I 2024-05-17 12:53:03,342] Trial 101 finished with value: 263.1601574104306 and parameters: {'learning_rate': 0.010778518391890304, 'num_leaves': 19, 'n_estimators': 328, 'reg_alpha': 0.2, 'reg_lambda': 0.009, 'min_child_samples': 20, 'n_jobs': 2, 'random_state': 69, 'subsample': 0.6, 'verbose': -1}. Best is trial 84 with value: 262.34853067263685.\n",
            "[I 2024-05-17 12:53:04,416] Trial 102 finished with value: 265.33638281167276 and parameters: {'learning_rate': 0.008633001681801393, 'num_leaves': 14, 'n_estimators': 325, 'reg_alpha': 0.2, 'reg_lambda': 5.0, 'min_child_samples': 18, 'n_jobs': 2, 'random_state': 69, 'subsample': 0.6, 'verbose': -1}. Best is trial 84 with value: 262.34853067263685.\n",
            "[I 2024-05-17 12:53:05,770] Trial 103 finished with value: 263.41501459571776 and parameters: {'learning_rate': 0.010781344342968317, 'num_leaves': 19, 'n_estimators': 353, 'reg_alpha': 0.2, 'reg_lambda': 0.009, 'min_child_samples': 20, 'n_jobs': 2, 'random_state': 69, 'subsample': 0.6, 'verbose': -1}. Best is trial 84 with value: 262.34853067263685.\n",
            "[I 2024-05-17 12:53:07,133] Trial 104 finished with value: 264.5852291386747 and parameters: {'learning_rate': 0.010409374267995784, 'num_leaves': 20, 'n_estimators': 335, 'reg_alpha': 0.2, 'reg_lambda': 0.02, 'min_child_samples': 12, 'n_jobs': 2, 'random_state': 69, 'subsample': 0.6, 'verbose': -1}. Best is trial 84 with value: 262.34853067263685.\n",
            "[I 2024-05-17 12:53:08,553] Trial 105 finished with value: 264.0897878602111 and parameters: {'learning_rate': 0.010556109743085337, 'num_leaves': 19, 'n_estimators': 357, 'reg_alpha': 0.2, 'reg_lambda': 0.009, 'min_child_samples': 14, 'n_jobs': 2, 'random_state': 69, 'subsample': 0.6, 'verbose': -1}. Best is trial 84 with value: 262.34853067263685.\n",
            "[I 2024-05-17 12:53:09,987] Trial 106 finished with value: 266.71036549653786 and parameters: {'learning_rate': 0.00815999713628774, 'num_leaves': 24, 'n_estimators': 329, 'reg_alpha': 2.0, 'reg_lambda': 0.02, 'min_child_samples': 22, 'n_jobs': 2, 'random_state': 69, 'subsample': 0.6, 'verbose': -1}. Best is trial 84 with value: 262.34853067263685.\n",
            "[I 2024-05-17 12:53:16,147] Trial 107 finished with value: 267.53310304869774 and parameters: {'learning_rate': 0.012901586792791978, 'num_leaves': 101, 'n_estimators': 344, 'reg_alpha': 0.2, 'reg_lambda': 0.05, 'min_child_samples': 18, 'n_jobs': 2, 'random_state': 69, 'subsample': 0.6, 'verbose': -1}. Best is trial 84 with value: 262.34853067263685.\n",
            "[I 2024-05-17 12:53:16,865] Trial 108 finished with value: 263.82354017527376 and parameters: {'learning_rate': 0.016413426874523494, 'num_leaves': 8, 'n_estimators': 320, 'reg_alpha': 0.03, 'reg_lambda': 0.009, 'min_child_samples': 29, 'n_jobs': 2, 'random_state': 69, 'subsample': 0.6, 'verbose': -1}. Best is trial 84 with value: 262.34853067263685.\n",
            "[I 2024-05-17 12:53:18,032] Trial 109 finished with value: 265.0539440567706 and parameters: {'learning_rate': 0.010933152593194637, 'num_leaves': 22, 'n_estimators': 304, 'reg_alpha': 0, 'reg_lambda': 0.007, 'min_child_samples': 23, 'n_jobs': 2, 'random_state': 69, 'subsample': 0.6, 'verbose': -1}. Best is trial 84 with value: 262.34853067263685.\n",
            "[I 2024-05-17 12:53:19,107] Trial 110 finished with value: 267.00417552019894 and parameters: {'learning_rate': 0.007117675142683392, 'num_leaves': 12, 'n_estimators': 376, 'reg_alpha': 0.0007, 'reg_lambda': 0.009, 'min_child_samples': 14, 'n_jobs': 2, 'random_state': 69, 'subsample': 0.6, 'verbose': -1}. Best is trial 84 with value: 262.34853067263685.\n",
            "[I 2024-05-17 12:53:20,270] Trial 111 finished with value: 264.33534163553514 and parameters: {'learning_rate': 0.01755727931764748, 'num_leaves': 15, 'n_estimators': 354, 'reg_alpha': 0.0007999999999999999, 'reg_lambda': 0.0006000000000000001, 'min_child_samples': 20, 'n_jobs': 2, 'random_state': 69, 'subsample': 0.6, 'verbose': -1}. Best is trial 84 with value: 262.34853067263685.\n",
            "[I 2024-05-17 12:53:21,551] Trial 112 finished with value: 264.2763734445876 and parameters: {'learning_rate': 0.009299392313223607, 'num_leaves': 18, 'n_estimators': 340, 'reg_alpha': 0.04, 'reg_lambda': 5.0, 'min_child_samples': 19, 'n_jobs': 2, 'random_state': 69, 'subsample': 0.6, 'verbose': -1}. Best is trial 84 with value: 262.34853067263685.\n",
            "[I 2024-05-17 12:53:22,515] Trial 113 finished with value: 262.1932556706646 and parameters: {'learning_rate': 0.012441178429146549, 'num_leaves': 11, 'n_estimators': 356, 'reg_alpha': 0.0005, 'reg_lambda': 0.005, 'min_child_samples': 21, 'n_jobs': 2, 'random_state': 69, 'subsample': 0.6, 'verbose': -1}. Best is trial 113 with value: 262.1932556706646.\n",
            "[I 2024-05-17 12:53:23,593] Trial 114 finished with value: 263.60122574468363 and parameters: {'learning_rate': 0.012211151261088554, 'num_leaves': 11, 'n_estimators': 403, 'reg_alpha': 0.005, 'reg_lambda': 0.01, 'min_child_samples': 25, 'n_jobs': 2, 'random_state': 69, 'subsample': 0.6, 'verbose': -1}. Best is trial 113 with value: 262.1932556706646.\n",
            "[I 2024-05-17 12:53:24,414] Trial 115 finished with value: 263.21690052797675 and parameters: {'learning_rate': 0.013364343082421851, 'num_leaves': 8, 'n_estimators': 360, 'reg_alpha': 0.00019999999999999998, 'reg_lambda': 0.2, 'min_child_samples': 15, 'n_jobs': 2, 'random_state': 69, 'subsample': 0.6, 'verbose': -1}. Best is trial 113 with value: 262.1932556706646.\n",
            "[I 2024-05-17 12:53:25,254] Trial 116 finished with value: 263.42138262278604 and parameters: {'learning_rate': 0.01538244149247972, 'num_leaves': 8, 'n_estimators': 376, 'reg_alpha': 0.00019999999999999998, 'reg_lambda': 0.005, 'min_child_samples': 15, 'n_jobs': 2, 'random_state': 69, 'subsample': 0.6, 'verbose': -1}. Best is trial 113 with value: 262.1932556706646.\n",
            "[I 2024-05-17 12:53:26,724] Trial 117 finished with value: 262.98996568533795 and parameters: {'learning_rate': 0.015773039875729276, 'num_leaves': 8, 'n_estimators': 380, 'reg_alpha': 0.00019999999999999998, 'reg_lambda': 0.5, 'min_child_samples': 12, 'n_jobs': 2, 'random_state': 69, 'subsample': 0.5, 'verbose': -1}. Best is trial 113 with value: 262.1932556706646.\n",
            "[I 2024-05-17 12:53:30,106] Trial 118 finished with value: 264.3575868212653 and parameters: {'learning_rate': 0.015883168649955044, 'num_leaves': 7, 'n_estimators': 380, 'reg_alpha': 0.00019999999999999998, 'reg_lambda': 0.0007, 'min_child_samples': 11, 'n_jobs': 2, 'random_state': 69, 'subsample': 0.5, 'verbose': -1}. Best is trial 113 with value: 262.1932556706646.\n",
            "[I 2024-05-17 12:53:31,015] Trial 119 finished with value: 264.44722214816073 and parameters: {'learning_rate': 0.02472684731214503, 'num_leaves': 10, 'n_estimators': 348, 'reg_alpha': 0.08, 'reg_lambda': 0.005, 'min_child_samples': 15, 'n_jobs': 2, 'random_state': 69, 'subsample': 0.5, 'verbose': -1}. Best is trial 113 with value: 262.1932556706646.\n",
            "[I 2024-05-17 12:53:31,930] Trial 120 finished with value: 262.9343605635516 and parameters: {'learning_rate': 0.018974428358856585, 'num_leaves': 8, 'n_estimators': 412, 'reg_alpha': 0.00019999999999999998, 'reg_lambda': 0.5, 'min_child_samples': 12, 'n_jobs': 2, 'random_state': 69, 'subsample': 0.5, 'verbose': -1}. Best is trial 113 with value: 262.1932556706646.\n",
            "[I 2024-05-17 12:53:32,661] Trial 121 finished with value: 266.96226700935557 and parameters: {'learning_rate': 0.01374063547369671, 'num_leaves': 5, 'n_estimators': 428, 'reg_alpha': 0.00019999999999999998, 'reg_lambda': 0.2, 'min_child_samples': 12, 'n_jobs': 2, 'random_state': 69, 'subsample': 0.5, 'verbose': -1}. Best is trial 113 with value: 262.1932556706646.\n",
            "[I 2024-05-17 12:53:33,515] Trial 122 finished with value: 262.53452257438124 and parameters: {'learning_rate': 0.015124513990910823, 'num_leaves': 8, 'n_estimators': 376, 'reg_alpha': 0.0005, 'reg_lambda': 0.30000000000000004, 'min_child_samples': 13, 'n_jobs': 2, 'random_state': 69, 'subsample': 0.5, 'verbose': -1}. Best is trial 113 with value: 262.1932556706646.\n",
            "[I 2024-05-17 12:53:34,446] Trial 123 finished with value: 266.3608975536818 and parameters: {'learning_rate': 0.02043014171636731, 'num_leaves': 9, 'n_estimators': 392, 'reg_alpha': 0.0005, 'reg_lambda': 0.30000000000000004, 'min_child_samples': 10, 'n_jobs': 2, 'random_state': 69, 'subsample': 0.5, 'verbose': -1}. Best is trial 113 with value: 262.1932556706646.\n",
            "[I 2024-05-17 12:53:35,671] Trial 124 finished with value: 265.9265093417679 and parameters: {'learning_rate': 0.019292432369856234, 'num_leaves': 12, 'n_estimators': 413, 'reg_alpha': 0.0005, 'reg_lambda': 0.5, 'min_child_samples': 13, 'n_jobs': 2, 'random_state': 69, 'subsample': 0.5, 'verbose': -1}. Best is trial 113 with value: 262.1932556706646.\n",
            "[I 2024-05-17 12:53:36,556] Trial 125 finished with value: 262.85490430125947 and parameters: {'learning_rate': 0.014398926226884759, 'num_leaves': 10, 'n_estimators': 334, 'reg_alpha': 0.00019999999999999998, 'reg_lambda': 0.5, 'min_child_samples': 17, 'n_jobs': 2, 'random_state': 69, 'subsample': 0.5, 'verbose': -1}. Best is trial 113 with value: 262.1932556706646.\n",
            "[I 2024-05-17 12:53:37,211] Trial 126 finished with value: 267.0490551607201 and parameters: {'learning_rate': 0.013435775872685582, 'num_leaves': 5, 'n_estimators': 395, 'reg_alpha': 0.00019999999999999998, 'reg_lambda': 0.5, 'min_child_samples': 17, 'n_jobs': 2, 'random_state': 69, 'subsample': 0.5, 'verbose': -1}. Best is trial 113 with value: 262.1932556706646.\n",
            "[I 2024-05-17 12:53:37,943] Trial 127 finished with value: 263.7144439438744 and parameters: {'learning_rate': 0.015039944223065057, 'num_leaves': 7, 'n_estimators': 334, 'reg_alpha': 0.00019999999999999998, 'reg_lambda': 0.5, 'min_child_samples': 12, 'n_jobs': 2, 'random_state': 69, 'subsample': 0.5, 'verbose': -1}. Best is trial 113 with value: 262.1932556706646.\n",
            "[I 2024-05-17 12:53:38,780] Trial 128 finished with value: 264.38587359812374 and parameters: {'learning_rate': 0.017630776141036437, 'num_leaves': 10, 'n_estimators': 309, 'reg_alpha': 4.0, 'reg_lambda': 4.0, 'min_child_samples': 14, 'n_jobs': 2, 'random_state': 69, 'subsample': 0.5, 'verbose': -1}. Best is trial 113 with value: 262.1932556706646.\n",
            "[I 2024-05-17 12:53:39,627] Trial 129 finished with value: 288.48117996860145 and parameters: {'learning_rate': 0.024007791973963223, 'num_leaves': 9, 'n_estimators': 426, 'reg_alpha': 0.0005, 'reg_lambda': 0.2, 'min_child_samples': 100, 'n_jobs': 2, 'random_state': 69, 'subsample': 0.5, 'verbose': -1}. Best is trial 113 with value: 262.1932556706646.\n",
            "[I 2024-05-17 12:53:41,848] Trial 130 finished with value: 287.8783389403029 and parameters: {'learning_rate': 0.01685528472931318, 'num_leaves': 13, 'n_estimators': 440, 'reg_alpha': 5.0, 'reg_lambda': 0.060000000000000005, 'min_child_samples': 70, 'n_jobs': 2, 'random_state': 69, 'subsample': 0.5, 'verbose': -1}. Best is trial 113 with value: 262.1932556706646.\n",
            "[I 2024-05-17 12:53:45,044] Trial 131 finished with value: 262.9215448809925 and parameters: {'learning_rate': 0.014422514435835265, 'num_leaves': 15, 'n_estimators': 347, 'reg_alpha': 0.4, 'reg_lambda': 0.002, 'min_child_samples': 18, 'n_jobs': 2, 'random_state': 69, 'subsample': 0.5, 'verbose': -1}. Best is trial 113 with value: 262.1932556706646.\n",
            "[I 2024-05-17 12:53:46,225] Trial 132 finished with value: 263.5841878227421 and parameters: {'learning_rate': 0.013684833769579286, 'num_leaves': 15, 'n_estimators': 373, 'reg_alpha': 0.02, 'reg_lambda': 0.002, 'min_child_samples': 17, 'n_jobs': 2, 'random_state': 69, 'subsample': 0.5, 'verbose': -1}. Best is trial 113 with value: 262.1932556706646.\n",
            "[I 2024-05-17 12:53:46,997] Trial 133 finished with value: 263.50904713033634 and parameters: {'learning_rate': 0.014847589886227145, 'num_leaves': 7, 'n_estimators': 363, 'reg_alpha': 7.0, 'reg_lambda': 0.5, 'min_child_samples': 15, 'n_jobs': 2, 'random_state': 69, 'subsample': 0.5, 'verbose': -1}. Best is trial 113 with value: 262.1932556706646.\n",
            "[I 2024-05-17 12:53:48,007] Trial 134 finished with value: 265.60806057907223 and parameters: {'learning_rate': 0.012220910891177798, 'num_leaves': 12, 'n_estimators': 344, 'reg_alpha': 0.4, 'reg_lambda': 0.008, 'min_child_samples': 10, 'n_jobs': 2, 'random_state': 69, 'subsample': 0.5, 'verbose': -1}. Best is trial 113 with value: 262.1932556706646.\n",
            "[I 2024-05-17 12:53:48,997] Trial 135 finished with value: 263.3975668242527 and parameters: {'learning_rate': 0.016512967639614407, 'num_leaves': 10, 'n_estimators': 381, 'reg_alpha': 10, 'reg_lambda': 0, 'min_child_samples': 12, 'n_jobs': 2, 'random_state': 69, 'subsample': 0.5, 'verbose': -1}. Best is trial 113 with value: 262.1932556706646.\n",
            "[I 2024-05-17 12:53:50,341] Trial 136 finished with value: 264.8375535980813 and parameters: {'learning_rate': 0.019160050458086865, 'num_leaves': 16, 'n_estimators': 403, 'reg_alpha': 1.0, 'reg_lambda': 0.002, 'min_child_samples': 18, 'n_jobs': 2, 'random_state': 69, 'subsample': 0.5, 'verbose': -1}. Best is trial 113 with value: 262.1932556706646.\n",
            "[I 2024-05-17 12:53:51,131] Trial 137 finished with value: 263.09845951533526 and parameters: {'learning_rate': 0.013007721162570556, 'num_leaves': 8, 'n_estimators': 335, 'reg_alpha': 0.4, 'reg_lambda': 0.30000000000000004, 'min_child_samples': 15, 'n_jobs': 2, 'random_state': 69, 'subsample': 0.5, 'verbose': -1}. Best is trial 113 with value: 262.1932556706646.\n",
            "[I 2024-05-17 12:53:53,557] Trial 138 finished with value: 273.7628120997203 and parameters: {'learning_rate': 0.026541445130821035, 'num_leaves': 93, 'n_estimators': 295, 'reg_alpha': 0.4, 'reg_lambda': 0.30000000000000004, 'min_child_samples': 18, 'n_jobs': 2, 'random_state': 69, 'subsample': 0.5, 'verbose': -1}. Best is trial 113 with value: 262.1932556706646.\n",
            "[I 2024-05-17 12:53:54,139] Trial 139 finished with value: 279.0468696592315 and parameters: {'learning_rate': 0.011669019015946034, 'num_leaves': 5, 'n_estimators': 330, 'reg_alpha': 0.4, 'reg_lambda': 0.1, 'min_child_samples': 46, 'n_jobs': 2, 'random_state': 69, 'subsample': 0.5, 'verbose': -1}. Best is trial 113 with value: 262.1932556706646.\n",
            "[I 2024-05-17 12:53:57,324] Trial 140 finished with value: 262.5549343344576 and parameters: {'learning_rate': 0.014495600661255997, 'num_leaves': 11, 'n_estimators': 338, 'reg_alpha': 0.0009, 'reg_lambda': 0.30000000000000004, 'min_child_samples': 23, 'n_jobs': 2, 'random_state': 69, 'subsample': 0.5, 'verbose': -1}. Best is trial 113 with value: 262.1932556706646.\n",
            "[I 2024-05-17 12:53:59,080] Trial 141 finished with value: 262.37550661749793 and parameters: {'learning_rate': 0.015974590692114952, 'num_leaves': 11, 'n_estimators': 343, 'reg_alpha': 0.8, 'reg_lambda': 0.30000000000000004, 'min_child_samples': 23, 'n_jobs': 2, 'random_state': 69, 'subsample': 0.5, 'verbose': -1}. Best is trial 113 with value: 262.1932556706646.\n",
            "[I 2024-05-17 12:54:00,055] Trial 142 finished with value: 262.638763541661 and parameters: {'learning_rate': 0.01486719275257674, 'num_leaves': 11, 'n_estimators': 343, 'reg_alpha': 0.8, 'reg_lambda': 0.30000000000000004, 'min_child_samples': 23, 'n_jobs': 2, 'random_state': 69, 'subsample': 0.5, 'verbose': -1}. Best is trial 113 with value: 262.1932556706646.\n",
            "[I 2024-05-17 12:54:01,037] Trial 143 finished with value: 262.0639283258784 and parameters: {'learning_rate': 0.015186103385115036, 'num_leaves': 11, 'n_estimators': 343, 'reg_alpha': 0.9, 'reg_lambda': 8.0, 'min_child_samples': 23, 'n_jobs': 2, 'random_state': 69, 'subsample': 0.5, 'verbose': -1}. Best is trial 143 with value: 262.0639283258784.\n",
            "[I 2024-05-17 12:54:02,063] Trial 144 finished with value: 264.4366424257708 and parameters: {'learning_rate': 0.021070473639789377, 'num_leaves': 14, 'n_estimators': 314, 'reg_alpha': 0.8, 'reg_lambda': 8.0, 'min_child_samples': 24, 'n_jobs': 2, 'random_state': 69, 'subsample': 0.5, 'verbose': -1}. Best is trial 143 with value: 262.0639283258784.\n",
            "[I 2024-05-17 12:54:03,344] Trial 145 finished with value: 263.91782093344807 and parameters: {'learning_rate': 0.01767326787708717, 'num_leaves': 12, 'n_estimators': 472, 'reg_alpha': 0.9, 'reg_lambda': 0.30000000000000004, 'min_child_samples': 22, 'n_jobs': 2, 'random_state': 69, 'subsample': 0.5, 'verbose': -1}. Best is trial 143 with value: 262.0639283258784.\n",
            "[I 2024-05-17 12:54:04,276] Trial 146 finished with value: 262.8322441300956 and parameters: {'learning_rate': 0.01470313455958129, 'num_leaves': 11, 'n_estimators': 347, 'reg_alpha': 0.8, 'reg_lambda': 0.30000000000000004, 'min_child_samples': 26, 'n_jobs': 2, 'random_state': 69, 'subsample': 0.5, 'verbose': -1}. Best is trial 143 with value: 262.0639283258784.\n",
            "[I 2024-05-17 12:54:05,237] Trial 147 finished with value: 263.2937253053835 and parameters: {'learning_rate': 0.014550181160524539, 'num_leaves': 11, 'n_estimators': 347, 'reg_alpha': 0.0009, 'reg_lambda': 0.30000000000000004, 'min_child_samples': 26, 'n_jobs': 2, 'random_state': 69, 'subsample': 0.5, 'verbose': -1}. Best is trial 143 with value: 262.0639283258784.\n",
            "[I 2024-05-17 12:54:06,388] Trial 148 finished with value: 263.77930571846343 and parameters: {'learning_rate': 0.014876699352980699, 'num_leaves': 15, 'n_estimators': 339, 'reg_alpha': 0.01, 'reg_lambda': 0.30000000000000004, 'min_child_samples': 23, 'n_jobs': 2, 'random_state': 69, 'subsample': 0.5, 'verbose': -1}. Best is trial 143 with value: 262.0639283258784.\n",
            "[I 2024-05-17 12:54:07,356] Trial 149 finished with value: 264.2283822605096 and parameters: {'learning_rate': 0.01246597297158346, 'num_leaves': 11, 'n_estimators': 354, 'reg_alpha': 0.8, 'reg_lambda': 8.0, 'min_child_samples': 30, 'n_jobs': 2, 'random_state': 69, 'subsample': 0.5, 'verbose': -1}. Best is trial 143 with value: 262.0639283258784.\n",
            "[I 2024-05-17 12:54:08,331] Trial 150 finished with value: 263.7229103873463 and parameters: {'learning_rate': 0.01670001774985944, 'num_leaves': 13, 'n_estimators': 325, 'reg_alpha': 0.8, 'reg_lambda': 0.004, 'min_child_samples': 26, 'n_jobs': 2, 'random_state': 69, 'subsample': 0.9, 'verbose': -1}. Best is trial 143 with value: 262.0639283258784.\n",
            "[I 2024-05-17 12:54:11,454] Trial 151 finished with value: 279.49883239615866 and parameters: {'learning_rate': 0.018995369022829268, 'num_leaves': 10, 'n_estimators': 348, 'reg_alpha': 0.009, 'reg_lambda': 2.0, 'min_child_samples': 61, 'n_jobs': 2, 'random_state': 69, 'subsample': 0.5, 'verbose': -1}. Best is trial 143 with value: 262.0639283258784.\n",
            "[I 2024-05-17 12:54:13,649] Trial 152 finished with value: 263.5193470887771 and parameters: {'learning_rate': 0.014296937531450456, 'num_leaves': 16, 'n_estimators': 366, 'reg_alpha': 0.0009, 'reg_lambda': 0.04, 'min_child_samples': 23, 'n_jobs': 2, 'random_state': 69, 'subsample': 0.5, 'verbose': -1}. Best is trial 143 with value: 262.0639283258784.\n",
            "[I 2024-05-17 12:54:14,708] Trial 153 finished with value: 262.51830428674947 and parameters: {'learning_rate': 0.01636134797022521, 'num_leaves': 13, 'n_estimators': 338, 'reg_alpha': 0.9, 'reg_lambda': 6.0, 'min_child_samples': 21, 'n_jobs': 2, 'random_state': 69, 'subsample': 0.5, 'verbose': -1}. Best is trial 143 with value: 262.0639283258784.\n",
            "[I 2024-05-17 12:54:15,706] Trial 154 finished with value: 278.6674178484677 and parameters: {'learning_rate': 0.011955228203908132, 'num_leaves': 14, 'n_estimators': 340, 'reg_alpha': 0.8, 'reg_lambda': 6.0, 'min_child_samples': 53, 'n_jobs': 2, 'random_state': 69, 'subsample': 0.5, 'verbose': -1}. Best is trial 143 with value: 262.0639283258784.\n",
            "[I 2024-05-17 12:54:16,704] Trial 155 finished with value: 261.8060944889774 and parameters: {'learning_rate': 0.015764239710006307, 'num_leaves': 11, 'n_estimators': 358, 'reg_alpha': 0.9, 'reg_lambda': 6.0, 'min_child_samples': 21, 'n_jobs': 2, 'random_state': 69, 'subsample': 0.5, 'verbose': -1}. Best is trial 155 with value: 261.8060944889774.\n",
            "[I 2024-05-17 12:54:17,560] Trial 156 finished with value: 262.34317173291066 and parameters: {'learning_rate': 0.016844527044850777, 'num_leaves': 10, 'n_estimators': 316, 'reg_alpha': 0.9, 'reg_lambda': 0.06999999999999999, 'min_child_samples': 21, 'n_jobs': 2, 'random_state': 69, 'subsample': 0.8, 'verbose': -1}. Best is trial 155 with value: 261.8060944889774.\n",
            "[I 2024-05-17 12:54:18,551] Trial 157 finished with value: 264.1356426898836 and parameters: {'learning_rate': 0.016082653755779566, 'num_leaves': 12, 'n_estimators': 360, 'reg_alpha': 0.9, 'reg_lambda': 0.06999999999999999, 'min_child_samples': 28, 'n_jobs': 2, 'random_state': 69, 'subsample': 0.8, 'verbose': -1}. Best is trial 155 with value: 261.8060944889774.\n",
            "[I 2024-05-17 12:54:20,306] Trial 158 finished with value: 269.9351054841104 and parameters: {'learning_rate': 0.02263970763060392, 'num_leaves': 70, 'n_estimators': 317, 'reg_alpha': 9.0, 'reg_lambda': 6.0, 'min_child_samples': 25, 'n_jobs': 2, 'random_state': 69, 'subsample': 0.8, 'verbose': -1}. Best is trial 155 with value: 261.8060944889774.\n",
            "[I 2024-05-17 12:54:21,047] Trial 159 finished with value: 263.1212324231686 and parameters: {'learning_rate': 0.0172391650361672, 'num_leaves': 6, 'n_estimators': 367, 'reg_alpha': 0.9, 'reg_lambda': 6.0, 'min_child_samples': 21, 'n_jobs': 2, 'random_state': 69, 'subsample': 0.8, 'verbose': -1}. Best is trial 155 with value: 261.8060944889774.\n",
            "[I 2024-05-17 12:54:22,139] Trial 160 finished with value: 263.45287573506886 and parameters: {'learning_rate': 0.020673225488260956, 'num_leaves': 13, 'n_estimators': 356, 'reg_alpha': 0.9, 'reg_lambda': 0.9, 'min_child_samples': 21, 'n_jobs': 2, 'random_state': 69, 'subsample': 0.8, 'verbose': -1}. Best is trial 155 with value: 261.8060944889774.\n",
            "[I 2024-05-17 12:54:24,558] Trial 161 finished with value: 264.1196579626389 and parameters: {'learning_rate': 0.013139918012444993, 'num_leaves': 10, 'n_estimators': 332, 'reg_alpha': 0.9, 'reg_lambda': 0.06999999999999999, 'min_child_samples': 24, 'n_jobs': 2, 'random_state': 69, 'subsample': 0.5, 'verbose': -1}. Best is trial 155 with value: 261.8060944889774.\n",
            "[I 2024-05-17 12:54:26,867] Trial 162 finished with value: 262.45834191622936 and parameters: {'learning_rate': 0.015294023097533358, 'num_leaves': 10, 'n_estimators': 302, 'reg_alpha': 0.002, 'reg_lambda': 0.0003, 'min_child_samples': 22, 'n_jobs': 2, 'random_state': 69, 'subsample': 0.5, 'verbose': -1}. Best is trial 155 with value: 261.8060944889774.\n",
            "[I 2024-05-17 12:54:27,672] Trial 163 finished with value: 262.5796597197306 and parameters: {'learning_rate': 0.01597423295554771, 'num_leaves': 9, 'n_estimators': 321, 'reg_alpha': 0.002, 'reg_lambda': 0.0003, 'min_child_samples': 22, 'n_jobs': 2, 'random_state': 69, 'subsample': 0.5, 'verbose': -1}. Best is trial 155 with value: 261.8060944889774.\n",
            "[I 2024-05-17 12:54:28,361] Trial 164 finished with value: 262.74180582735545 and parameters: {'learning_rate': 0.015699636886282873, 'num_leaves': 7, 'n_estimators': 308, 'reg_alpha': 0.002, 'reg_lambda': 3.0, 'min_child_samples': 22, 'n_jobs': 2, 'random_state': 69, 'subsample': 0.5, 'verbose': -1}. Best is trial 155 with value: 261.8060944889774.\n",
            "[I 2024-05-17 12:54:29,028] Trial 165 finished with value: 262.70333229014244 and parameters: {'learning_rate': 0.016135703272395125, 'num_leaves': 7, 'n_estimators': 312, 'reg_alpha': 0.002, 'reg_lambda': 0.0003, 'min_child_samples': 22, 'n_jobs': 2, 'random_state': 69, 'subsample': 0.5, 'verbose': -1}. Best is trial 155 with value: 261.8060944889774.\n",
            "[I 2024-05-17 12:54:29,578] Trial 166 finished with value: 267.50320317984125 and parameters: {'learning_rate': 0.01612223935269447, 'num_leaves': 5, 'n_estimators': 301, 'reg_alpha': 0.002, 'reg_lambda': 0.0003, 'min_child_samples': 22, 'n_jobs': 2, 'random_state': 69, 'subsample': 0.5, 'verbose': -1}. Best is trial 155 with value: 261.8060944889774.\n",
            "[I 2024-05-17 12:54:30,228] Trial 167 finished with value: 264.0534008136351 and parameters: {'learning_rate': 0.017966498645373127, 'num_leaves': 8, 'n_estimators': 282, 'reg_alpha': 0.002, 'reg_lambda': 0.0003, 'min_child_samples': 24, 'n_jobs': 2, 'random_state': 69, 'subsample': 0.5, 'verbose': -1}. Best is trial 155 with value: 261.8060944889774.\n",
            "[I 2024-05-17 12:54:30,932] Trial 168 finished with value: 263.2363470091421 and parameters: {'learning_rate': 0.019481593709215837, 'num_leaves': 9, 'n_estimators': 274, 'reg_alpha': 0.002, 'reg_lambda': 0.0003, 'min_child_samples': 28, 'n_jobs': 2, 'random_state': 69, 'subsample': 0.5, 'verbose': -1}. Best is trial 155 with value: 261.8060944889774.\n",
            "[I 2024-05-17 12:54:31,584] Trial 169 finished with value: 264.4371781736677 and parameters: {'learning_rate': 0.01590285976856811, 'num_leaves': 6, 'n_estimators': 313, 'reg_alpha': 0.003, 'reg_lambda': 0.00039999999999999996, 'min_child_samples': 21, 'n_jobs': 2, 'random_state': 69, 'subsample': 0.5, 'verbose': -1}. Best is trial 155 with value: 261.8060944889774.\n",
            "[I 2024-05-17 12:54:32,225] Trial 170 finished with value: 262.345098307863 and parameters: {'learning_rate': 0.017905058546665898, 'num_leaves': 7, 'n_estimators': 301, 'reg_alpha': 0.002, 'reg_lambda': 3.0, 'min_child_samples': 22, 'n_jobs': 2, 'random_state': 69, 'subsample': 0.5, 'verbose': -1}. Best is trial 155 with value: 261.8060944889774.\n",
            "[I 2024-05-17 12:54:32,907] Trial 171 finished with value: 263.1359053028438 and parameters: {'learning_rate': 0.0168522645243845, 'num_leaves': 7, 'n_estimators': 307, 'reg_alpha': 0.002, 'reg_lambda': 3.0, 'min_child_samples': 23, 'n_jobs': 2, 'random_state': 69, 'subsample': 0.5, 'verbose': -1}. Best is trial 155 with value: 261.8060944889774.\n",
            "[I 2024-05-17 12:54:33,690] Trial 172 finished with value: 262.43319520795694 and parameters: {'learning_rate': 0.018194954458082613, 'num_leaves': 9, 'n_estimators': 297, 'reg_alpha': 0.002, 'reg_lambda': 3.0, 'min_child_samples': 20, 'n_jobs': 2, 'random_state': 69, 'subsample': 0.5, 'verbose': -1}. Best is trial 155 with value: 261.8060944889774.\n",
            "[I 2024-05-17 12:54:34,433] Trial 173 finished with value: 262.6380049036625 and parameters: {'learning_rate': 0.018440176406638416, 'num_leaves': 9, 'n_estimators': 293, 'reg_alpha': 6.0, 'reg_lambda': 0.0003, 'min_child_samples': 20, 'n_jobs': 2, 'random_state': 69, 'subsample': 0.5, 'verbose': -1}. Best is trial 155 with value: 261.8060944889774.\n",
            "[I 2024-05-17 12:54:35,242] Trial 174 finished with value: 262.8470536474992 and parameters: {'learning_rate': 0.02148099405272416, 'num_leaves': 9, 'n_estimators': 293, 'reg_alpha': 0.002, 'reg_lambda': 0.0003, 'min_child_samples': 20, 'n_jobs': 2, 'random_state': 69, 'subsample': 0.5, 'verbose': -1}. Best is trial 155 with value: 261.8060944889774.\n",
            "[I 2024-05-17 12:54:35,790] Trial 175 finished with value: 266.0908650246955 and parameters: {'learning_rate': 0.023794280398612314, 'num_leaves': 5, 'n_estimators': 287, 'reg_alpha': 0.6, 'reg_lambda': 0.0003, 'min_child_samples': 25, 'n_jobs': 2, 'random_state': 69, 'subsample': 0.5, 'verbose': -1}. Best is trial 155 with value: 261.8060944889774.\n",
            "[I 2024-05-17 12:54:36,649] Trial 176 finished with value: 262.8432907130321 and parameters: {'learning_rate': 0.01847715338311895, 'num_leaves': 10, 'n_estimators': 264, 'reg_alpha': 6.0, 'reg_lambda': 3.0, 'min_child_samples': 20, 'n_jobs': 2, 'random_state': 69, 'subsample': 0.5, 'verbose': -1}. Best is trial 155 with value: 261.8060944889774.\n",
            "[I 2024-05-17 12:54:39,837] Trial 177 finished with value: 264.3162703522446 and parameters: {'learning_rate': 0.020374190674142947, 'num_leaves': 9, 'n_estimators': 295, 'reg_alpha': 6.0, 'reg_lambda': 0.0009, 'min_child_samples': 27, 'n_jobs': 2, 'random_state': 69, 'subsample': 0.5, 'verbose': -1}. Best is trial 155 with value: 261.8060944889774.\n",
            "[I 2024-05-17 12:54:41,312] Trial 178 finished with value: 262.8948554071947 and parameters: {'learning_rate': 0.01763343853248349, 'num_leaves': 13, 'n_estimators': 276, 'reg_alpha': 0.09, 'reg_lambda': 0.0001, 'min_child_samples': 23, 'n_jobs': 2, 'random_state': 69, 'subsample': 0.5, 'verbose': -1}. Best is trial 155 with value: 261.8060944889774.\n",
            "[I 2024-05-17 12:54:42,033] Trial 179 finished with value: 263.40383780860464 and parameters: {'learning_rate': 0.018551631090696134, 'num_leaves': 7, 'n_estimators': 320, 'reg_alpha': 0.5, 'reg_lambda': 0.03, 'min_child_samples': 24, 'n_jobs': 2, 'random_state': 69, 'subsample': 0.5, 'verbose': -1}. Best is trial 155 with value: 261.8060944889774.\n",
            "[I 2024-05-17 12:54:42,829] Trial 180 finished with value: 262.0144991748698 and parameters: {'learning_rate': 0.015931122868966224, 'num_leaves': 10, 'n_estimators': 301, 'reg_alpha': 0.06999999999999999, 'reg_lambda': 0.0003, 'min_child_samples': 21, 'n_jobs': 2, 'random_state': 69, 'subsample': 0.5, 'verbose': -1}. Best is trial 155 with value: 261.8060944889774.\n",
            "[I 2024-05-17 12:54:43,687] Trial 181 finished with value: 261.94588597550234 and parameters: {'learning_rate': 0.015431445347153443, 'num_leaves': 11, 'n_estimators': 302, 'reg_alpha': 0.002, 'reg_lambda': 0.0003, 'min_child_samples': 21, 'n_jobs': 2, 'random_state': 69, 'subsample': 0.5, 'verbose': -1}. Best is trial 155 with value: 261.8060944889774.\n",
            "[I 2024-05-17 12:54:44,625] Trial 182 finished with value: 262.2224311580583 and parameters: {'learning_rate': 0.013501732153319283, 'num_leaves': 11, 'n_estimators': 323, 'reg_alpha': 0.0006000000000000001, 'reg_lambda': 0.6, 'min_child_samples': 20, 'n_jobs': 2, 'random_state': 69, 'subsample': 0.5, 'verbose': -1}. Best is trial 155 with value: 261.8060944889774.\n",
            "[I 2024-05-17 12:54:45,589] Trial 183 finished with value: 263.2711458778462 and parameters: {'learning_rate': 0.013259020005476794, 'num_leaves': 14, 'n_estimators': 290, 'reg_alpha': 0.06999999999999999, 'reg_lambda': 0.4, 'min_child_samples': 20, 'n_jobs': 2, 'random_state': 69, 'subsample': 0.5, 'verbose': -1}. Best is trial 155 with value: 261.8060944889774.\n",
            "[I 2024-05-17 12:54:46,364] Trial 184 finished with value: 262.8046947735416 and parameters: {'learning_rate': 0.017096311667768798, 'num_leaves': 9, 'n_estimators': 298, 'reg_alpha': 0.06999999999999999, 'reg_lambda': 0.0003, 'min_child_samples': 19, 'n_jobs': 2, 'random_state': 69, 'subsample': 0.5, 'verbose': -1}. Best is trial 155 with value: 261.8060944889774.\n",
            "[I 2024-05-17 12:54:47,224] Trial 185 finished with value: 289.12543079582457 and parameters: {'learning_rate': 0.0032898353580833157, 'num_leaves': 11, 'n_estimators': 302, 'reg_alpha': 0.0006000000000000001, 'reg_lambda': 0.8, 'min_child_samples': 21, 'n_jobs': 2, 'random_state': 69, 'subsample': 0.7, 'verbose': -1}. Best is trial 155 with value: 261.8060944889774.\n",
            "[I 2024-05-17 12:54:48,246] Trial 186 finished with value: 263.12450893736406 and parameters: {'learning_rate': 0.013842692156789413, 'num_leaves': 13, 'n_estimators': 323, 'reg_alpha': 0.0006000000000000001, 'reg_lambda': 0.7000000000000001, 'min_child_samples': 17, 'n_jobs': 2, 'random_state': 69, 'subsample': 0.5, 'verbose': -1}. Best is trial 155 with value: 261.8060944889774.\n",
            "[I 2024-05-17 12:54:49,031] Trial 187 finished with value: 264.3540681544973 and parameters: {'learning_rate': 0.020116634509433802, 'num_leaves': 9, 'n_estimators': 324, 'reg_alpha': 0.9, 'reg_lambda': 0.6, 'min_child_samples': 25, 'n_jobs': 2, 'random_state': 69, 'subsample': 0.5, 'verbose': -1}. Best is trial 155 with value: 261.8060944889774.\n",
            "[I 2024-05-17 12:54:49,827] Trial 188 finished with value: 262.4139845687373 and parameters: {'learning_rate': 0.015358415686632794, 'num_leaves': 11, 'n_estimators': 272, 'reg_alpha': 0.007, 'reg_lambda': 0.006, 'min_child_samples': 21, 'n_jobs': 2, 'random_state': 69, 'subsample': 0.8, 'verbose': -1}. Best is trial 155 with value: 261.8060944889774.\n",
            "[I 2024-05-17 12:54:51,454] Trial 189 finished with value: 264.81399754525245 and parameters: {'learning_rate': 0.012649051078919104, 'num_leaves': 16, 'n_estimators': 273, 'reg_alpha': 0.30000000000000004, 'reg_lambda': 0.005, 'min_child_samples': 22, 'n_jobs': 2, 'random_state': 69, 'subsample': 0.8, 'verbose': -1}. Best is trial 155 with value: 261.8060944889774.\n",
            "[I 2024-05-17 12:54:54,991] Trial 190 finished with value: 263.7419172048077 and parameters: {'learning_rate': 0.015265454510549475, 'num_leaves': 14, 'n_estimators': 286, 'reg_alpha': 0.007, 'reg_lambda': 0.6, 'min_child_samples': 26, 'n_jobs': 2, 'random_state': 69, 'subsample': 0.8, 'verbose': -1}. Best is trial 155 with value: 261.8060944889774.\n",
            "[I 2024-05-17 12:54:55,724] Trial 191 finished with value: 286.2195204044688 and parameters: {'learning_rate': 0.0179879191584033, 'num_leaves': 11, 'n_estimators': 304, 'reg_alpha': 0.007, 'reg_lambda': 0.006, 'min_child_samples': 88, 'n_jobs': 2, 'random_state': 69, 'subsample': 0.8, 'verbose': -1}. Best is trial 155 with value: 261.8060944889774.\n",
            "[I 2024-05-17 12:54:56,463] Trial 192 finished with value: 263.531976356447 and parameters: {'learning_rate': 0.015336755321571997, 'num_leaves': 10, 'n_estimators': 252, 'reg_alpha': 3.0, 'reg_lambda': 6.0, 'min_child_samples': 19, 'n_jobs': 2, 'random_state': 69, 'subsample': 0.8, 'verbose': -1}. Best is trial 155 with value: 261.8060944889774.\n",
            "[I 2024-05-17 12:54:57,093] Trial 193 finished with value: 264.1406294047388 and parameters: {'learning_rate': 0.013605171937953018, 'num_leaves': 7, 'n_estimators': 281, 'reg_alpha': 0.0005, 'reg_lambda': 0.006, 'min_child_samples': 21, 'n_jobs': 2, 'random_state': 69, 'subsample': 0.5, 'verbose': -1}. Best is trial 155 with value: 261.8060944889774.\n",
            "[I 2024-05-17 12:54:57,930] Trial 194 finished with value: 262.6601634691685 and parameters: {'learning_rate': 0.016345571567909917, 'num_leaves': 12, 'n_estimators': 267, 'reg_alpha': 0.00039999999999999996, 'reg_lambda': 0.0003, 'min_child_samples': 19, 'n_jobs': 2, 'random_state': 69, 'subsample': 0.9, 'verbose': -1}. Best is trial 155 with value: 261.8060944889774.\n",
            "[I 2024-05-17 12:54:58,539] Trial 195 finished with value: 268.29123963265175 and parameters: {'learning_rate': 0.014436088733577417, 'num_leaves': 5, 'n_estimators': 316, 'reg_alpha': 0.006, 'reg_lambda': 3.0, 'min_child_samples': 16, 'n_jobs': 2, 'random_state': 69, 'subsample': 0.5, 'verbose': -1}. Best is trial 155 with value: 261.8060944889774.\n",
            "[I 2024-05-17 12:54:59,288] Trial 196 finished with value: 264.15077948709944 and parameters: {'learning_rate': 0.02227328615725934, 'num_leaves': 9, 'n_estimators': 302, 'reg_alpha': 0.05, 'reg_lambda': 0.0007999999999999999, 'min_child_samples': 24, 'n_jobs': 2, 'random_state': 69, 'subsample': 0.5, 'verbose': -1}. Best is trial 155 with value: 261.8060944889774.\n",
            "[I 2024-05-17 12:55:00,275] Trial 197 finished with value: 262.5517166461581 and parameters: {'learning_rate': 0.019343670977112332, 'num_leaves': 12, 'n_estimators': 329, 'reg_alpha': 8.0, 'reg_lambda': 8.0, 'min_child_samples': 21, 'n_jobs': 2, 'random_state': 69, 'subsample': 0.5, 'verbose': -1}. Best is trial 155 with value: 261.8060944889774.\n",
            "[I 2024-05-17 12:55:01,249] Trial 198 finished with value: 306.0235458781778 and parameters: {'learning_rate': 0.0017610769705195472, 'num_leaves': 12, 'n_estimators': 329, 'reg_alpha': 0.004, 'reg_lambda': 8.0, 'min_child_samples': 23, 'n_jobs': 2, 'random_state': 69, 'subsample': 0.7, 'verbose': -1}. Best is trial 155 with value: 261.8060944889774.\n",
            "[I 2024-05-17 12:55:02,390] Trial 199 finished with value: 262.74086643278014 and parameters: {'learning_rate': 0.01193329262634292, 'num_leaves': 15, 'n_estimators': 335, 'reg_alpha': 8.0, 'reg_lambda': 7.0, 'min_child_samples': 18, 'n_jobs': 2, 'random_state': 69, 'subsample': 1, 'verbose': -1}. Best is trial 155 with value: 261.8060944889774.\n"
          ]
        },
        {
          "output_type": "stream",
          "name": "stdout",
          "text": [
            "Best params: {'learning_rate': 0.015764239710006307, 'num_leaves': 11, 'n_estimators': 358, 'reg_alpha': 0.9, 'reg_lambda': 6.0, 'min_child_samples': 21, 'n_jobs': 2, 'random_state': 69, 'subsample': 0.5, 'verbose': -1} [249.82096614178684, 147405.75094999836, 1.1965807332219849, 0.23750491530797646]\n"
          ]
        }
      ],
      "source": [
        "def writeLog(string):\n",
        "    logFile = open(\"log.txt\", \"a\")\n",
        "    logFile.write(string)\n",
        "    logFile.close()\n",
        "    print(string, end = \"\")\n",
        "\n",
        "#from IPython.display import Javascript\n",
        "#display(Javascript('''google.colab.output.setIframeHeight(0, true, {maxHeight: 10000})'''))\n",
        "\n",
        "searchSpace = {\n",
        "    \"lossFunction\": [\"mae\", \"mse\", \"mape\"],\n",
        "    # \"badColumns\": [True, False],\n",
        "    # \"30\": [True, False]\n",
        "}\n",
        "\n",
        "keys, values = zip(*searchSpace.items())\n",
        "combinations = [dict(zip(keys, p)) for p in product(*values)]\n",
        "\n",
        "result = list()\n",
        "\n",
        "writeLog(\"\\n\\n\\nStart optimizing\\n\")\n",
        "\n",
        "for combination in combinations:\n",
        "    writeLog(str(combination) + \" \")\n",
        "    try:\n",
        "        rawData = pandas.read_csv(DATA_FILE_PATH)\n",
        "    except:\n",
        "        writeLog(\"Could not read file\\n\")\n",
        "        rawData = pandas.DataFrame()\n",
        "        break\n",
        "\n",
        "    # if (combination[\"wordColumns\"] == False):\n",
        "    #     #wordColumns\n",
        "    #     droppedColumns = rawData.columns[19:]\n",
        "\n",
        "    #     try:\n",
        "    #         rawData.drop(droppedColumns, axis = 1, inplace = True)\n",
        "    #     except Exception as error:\n",
        "    #         writeLog(\"Exception: \" + str(error) + \"\\n\")\n",
        "    #         break\n",
        "\n",
        "    if (True):\n",
        "        #30\n",
        "        droppedColumns = [\"avgLast30\", \"minLast30\", \"maxLast30\"]\n",
        "\n",
        "        try:\n",
        "            rawData.drop(droppedColumns, axis = 1, inplace = True)\n",
        "        except Exception as error:\n",
        "            writeLog(\"Exception: \" + str(error) + \"\\n\")\n",
        "            break\n",
        "\n",
        "    data = rawData\n",
        "\n",
        "    for column in data.columns:\n",
        "        if len(data[column].unique()) == 1:\n",
        "            data.drop(column, axis = 1, inplace = True)\n",
        "\n",
        "    data = data.dropna()\n",
        "    data.reset_index(drop = True, inplace = True)\n",
        "\n",
        "    trainData, testData = sklearn.model_selection.train_test_split(data, test_size = 0.2, random_state = 42)\n",
        "\n",
        "    trainData.reset_index(drop = True, inplace = True)\n",
        "    testData.reset_index(drop = True, inplace = True)\n",
        "\n",
        "    label = \"reaction_count\"\n",
        "\n",
        "    trainYRegression = trainData[label]\n",
        "    trainX = copy.deepcopy(trainData)\n",
        "    trainX.pop(label)\n",
        "\n",
        "    testYRegression = testData[label]\n",
        "    testX = copy.deepcopy(testData)\n",
        "    testX.pop(label)\n",
        "\n",
        "    trainYClassification, testYClassification = yRegressionToClassification(trainData, testData, 10, label)\n",
        "\n",
        "    #objectiveFunction\n",
        "    study = optuna.create_study(direction = \"minimize\")\n",
        "    if (combination[\"lossFunction\"] == \"mae\"):\n",
        "        study.optimize(optunaObjectiveMAE, n_trials = 200)\n",
        "    elif (combination[\"lossFunction\"] == \"mse\"):\n",
        "        study.optimize(optunaObjectiveMSE, n_trials = 200)\n",
        "    else:\n",
        "        study.optimize(optunaObjectiveMAPE, n_trials = 200)\n",
        "\n",
        "    writeLog(\"Best params: \" + str(study.best_trial.params) + \" \")\n",
        "\n",
        "    lightGBMModel = lightgbm.LGBMRegressor(**study.best_trial.params)\n",
        "    lightGBMModel.fit(trainX, trainYRegression)\n",
        "\n",
        "    result.append([\n",
        "        sklearn.metrics.mean_absolute_error(testYRegression, lightGBMModel.predict(testX)),\n",
        "        sklearn.metrics.mean_squared_error(testYRegression, lightGBMModel.predict(testX)),\n",
        "        sklearn.metrics.mean_absolute_percentage_error(testYRegression, lightGBMModel.predict(testX)),\n",
        "        sklearn.metrics.r2_score(testYRegression, lightGBMModel.predict(testX)),\n",
        "    ])\n",
        "\n",
        "    writeLog(str(result[-1]) + \"\\n\")"
      ]
    },
    {
      "cell_type": "code",
      "source": [
        "for i in range(len(combinations)):\n",
        "    print(combinations[i], result[i])"
      ],
      "metadata": {
        "colab": {
          "base_uri": "https://localhost:8080/"
        },
        "id": "mZ4metyrUevL",
        "outputId": "e3776630-64e0-4039-c3ec-b2126e8486d6"
      },
      "execution_count": 60,
      "outputs": [
        {
          "output_type": "stream",
          "name": "stdout",
          "text": [
            "{'lossFunction': 'mae'} [247.85789629682728, 143038.91056059676, 1.1793292222579672, 0.2600935477805507]\n",
            "{'lossFunction': 'mse'} [249.76098484941528, 145231.37518919428, 1.202416863368397, 0.24875244682693987]\n",
            "{'lossFunction': 'mape'} [249.82096614178684, 147405.75094999836, 1.1965807332219849, 0.23750491530797646]\n"
          ]
        }
      ]
    },
    {
      "cell_type": "code",
      "source": [
        "losses = list()"
      ],
      "metadata": {
        "id": "eJnTOZAm4i9s"
      },
      "execution_count": null,
      "outputs": []
    },
    {
      "cell_type": "code",
      "source": [
        "data = rawData\n",
        "\n",
        "\n",
        "\n",
        "def customMAE(y_true, y_pred):\n",
        "    return 'customMAE', sklearn.metrics.mean_absolute_error(y_true, y_pred), False\n",
        "\n",
        "trainData, testData = sklearn.model_selection.train_test_split(data, test_size = 0.2, random_state = 42)\n",
        "\n",
        "label = \"reaction_count\"\n",
        "\n",
        "trainYRegression = trainData[label]\n",
        "trainX = copy.deepcopy(trainData)\n",
        "trainX.pop(label)\n",
        "\n",
        "testYRegression = testData[label]\n",
        "testX = copy.deepcopy(testData)\n",
        "testX.pop(label)\n",
        "\n",
        "params = {'learning_rate': 0.016813486619951495, 'num_leaves': 8, 'n_estimators': 381, 'reg_alpha': 0, 'reg_lambda': 8.0, 'min_child_samples': 22, 'n_jobs': 2, 'random_state': 69, 'subsample': 0.7, 'verbose': -1}\n",
        "\n",
        "thisLightGBMModel = lightgbm.LGBMRegressor(metric = \"None\", **params)\n",
        "\n",
        "kFold = sklearn.model_selection.KFold(n_splits = 6, shuffle = True, random_state = 420)\n",
        "\n",
        "loss = []\n",
        "\n",
        "for trainIndex, validationIndex in kFold.split(trainX):\n",
        "    trainX_cv, validationX_cv = trainX.iloc[trainIndex], trainX.iloc[validationIndex]\n",
        "    trainY_cv, validationY_cv = trainYRegression.iloc[trainIndex], trainYRegression.iloc[validationIndex]\n",
        "\n",
        "    thisLightGBMModel.fit(trainX_cv, trainY_cv, eval_metric = customMAE)\n",
        "\n",
        "    loss.append(sklearn.metrics.mean_absolute_error(validationY_cv, thisLightGBMModel.predict(validationX_cv)))\n",
        "\n",
        "thisLightGBMModel = lightgbm.LGBMRegressor(metric = \"None\", **params)\n",
        "\n",
        "thisLightGBMModel.fit(trainX, trainYRegression, eval_metric = customMAE)\n",
        "\n",
        "print(loss)\n",
        "\n",
        "print(numpy.mean(loss))\n",
        "\n",
        "print(sklearn.metrics.r2_score(testYRegression, thisLightGBMModel.predict(testX)))\n",
        "print(sklearn.metrics.mean_absolute_error(trainYRegression, thisLightGBMModel.predict(trainX)))\n",
        "\n",
        "featureImportances = pandas.DataFrame({'Value':thisLightGBMModel.feature_importances_,'Feature':trainX.columns})\n",
        "\n",
        "print(featureImportances.loc[featureImportances[\"Value\"] == 0])\n",
        "lightgbm.plot_importance(thisLightGBMModel, importance_type=\"gain\", figsize=(12,6), title=\"LightGBM Feature Importance (Gain)\")"
      ],
      "metadata": {
        "id": "X4fdlSnbs9qI"
      },
      "execution_count": null,
      "outputs": []
    },
    {
      "cell_type": "code",
      "source": [
        "figure = pyplot.figure()\n",
        "figure.set_figwidth(15)\n",
        "figure.set_figheight(4)\n",
        "\n",
        "pyplot.plot(numpy.array(testYRegression)[:200], label = \"testY\")\n",
        "pyplot.plot(thisLightGBMModel.predict(testX)[:200], label = \"predicteTestY\")\n",
        "pyplot.legend()\n",
        "pyplot.show()"
      ],
      "metadata": {
        "colab": {
          "base_uri": "https://localhost:8080/",
          "height": 258
        },
        "id": "J_obIxJr9EBl",
        "outputId": "135da252-6582-481c-847a-2ec25fc37042"
      },
      "execution_count": 142,
      "outputs": [
        {
          "output_type": "display_data",
          "data": {
            "text/plain": [
              "<Figure size 1500x400 with 1 Axes>"
            ],
            "image/png": "[encoded data removed]"
          },
          "metadata": {}
        }
      ]
    },
    {
      "cell_type": "code",
      "source": [],
      "metadata": {
        "id": "9xfEN4l0CtJs"
      },
      "execution_count": null,
      "outputs": []
    },
    {
      "cell_type": "code",
      "source": [
        "print(sklearn.metrics.mean_squared_error(testYRegression, numpy.array(numpy.array(data[\"avgAllTime\"]))))"
      ],
      "metadata": {
        "colab": {
          "base_uri": "https://localhost:8080/"
        },
        "id": "zrcIaW1dBVrd",
        "outputId": "351626c0-c215-45bb-8ee4-2a184c0e123b"
      },
      "execution_count": 151,
      "outputs": [
        {
          "output_type": "stream",
          "name": "stdout",
          "text": [
            "194870.83070165684\n"
          ]
        }
      ]
    },
    {
      "cell_type": "code",
      "source": [],
      "metadata": {
        "id": "yYMAVQf7BkZR"
      },
      "execution_count": null,
      "outputs": []
    },
    {
      "cell_type": "code",
      "source": [
        "numpy.var(loss)"
      ],
      "metadata": {
        "colab": {
          "base_uri": "https://localhost:8080/"
        },
        "id": "xzsNjAI0thid",
        "outputId": "5c360500-ff21-44dc-c394-f9b8289147b7"
      },
      "execution_count": 119,
      "outputs": [
        {
          "output_type": "execute_result",
          "data": {
            "text/plain": [
              "304.971152727877"
            ]
          },
          "metadata": {},
          "execution_count": 119
        }
      ]
    },
    {
      "cell_type": "markdown",
      "metadata": {
        "id": "D6i1SbYg4PZz"
      },
      "source": [
        "Hyperparameter optimization using Randomized Search and K-fold\n",
        "\n",
        "Changing dataset: One-hot encoding vs numeric\n",
        "\n",
        "Changing loss function\n",
        "\n",
        "Regression vs Classification model"
      ]
    },
    {
      "cell_type": "markdown",
      "metadata": {
        "id": "dyqB8nThsKvh"
      },
      "source": [
        "### Other plots and graphs"
      ]
    },
    {
      "cell_type": "markdown",
      "metadata": {
        "id": "-jmQyP8i8V3B"
      },
      "source": [
        "Compare multiple models"
      ]
    },
    {
      "cell_type": "code",
      "execution_count": null,
      "metadata": {
        "id": "iN8W5DWnsL8u"
      },
      "outputs": [],
      "source": [
        "modelList = list()\n",
        "\n",
        "trainingLoss = modelList[\"trainingLoss\"]\n",
        "testingLoss = modelList[\"testingLoss\"]\n",
        "\n",
        "pyplot.figure(figsize(11, 11))\n",
        "pyplot.bar(numpy.arange(len(modelList)) - 0.2, trainingLoss, width = 0.4, label = \"training\", color = \"black\")\n",
        "pyplot.bar(numpy.arange(len(modelList)) + 0.2, testingLoss, width = 0.4, label = \"testing\", color = \"blue\")\n",
        "pyplot.xticks(numpy.arange(len(modelList)), modelList[\"name\"])\n",
        "pyplot.xlabel(\"models\")\n",
        "pyplot.ylabel(\"loss\")\n",
        "pyplot.legend()\n",
        "pyplot.show()"
      ]
    },
    {
      "cell_type": "markdown",
      "metadata": {
        "id": "3JUTerJDG5q5"
      },
      "source": [
        "Feature importances"
      ]
    },
    {
      "cell_type": "markdown",
      "metadata": {
        "id": "DNS43oM3G8GK"
      },
      "source": [
        "Log transform of $\\vec{y}$"
      ]
    },
    {
      "cell_type": "markdown",
      "metadata": {
        "id": "oeEKsCXsH6u6"
      },
      "source": [
        "$\\vec{y_\\star}$ vs $\\vec{y}$"
      ]
    },
    {
      "cell_type": "markdown",
      "metadata": {
        "id": "w7Lg1_GrHAIa"
      },
      "source": [
        "$\\vec{y_\\star}$ vs $\\vec{y}$ (log transformed)"
      ]
    },
    {
      "cell_type": "markdown",
      "metadata": {
        "id": "mvkvdugcEr_8"
      },
      "source": [
        "### Deep learning"
      ]
    },
    {
      "cell_type": "code",
      "execution_count": 75,
      "metadata": {
        "id": "TJB1OTUREqtN",
        "colab": {
          "base_uri": "https://localhost:8080/"
        },
        "outputId": "c1e52150-8da7-495a-abcc-5e584e8e8bee"
      },
      "outputs": [
        {
          "output_type": "stream",
          "name": "stdout",
          "text": [
            "Model: \"wwwww\"\n",
            "_________________________________________________________________\n",
            " Layer (type)                Output Shape              Param #   \n",
            "=================================================================\n",
            " input (InputLayer)          [(None, 46)]              0         \n",
            "                                                                 \n",
            " layer1 (Dense)              (None, 100)               4700      \n",
            "                                                                 \n",
            " layer2 (Dense)              (None, 100)               10100     \n",
            "                                                                 \n",
            " layer3 (Dense)              (None, 100)               10100     \n",
            "                                                                 \n",
            " output (Dense)              (None, 1)                 101       \n",
            "                                                                 \n",
            "=================================================================\n",
            "Total params: 25001 (97.66 KB)\n",
            "Trainable params: 25001 (97.66 KB)\n",
            "Non-trainable params: 0 (0.00 Byte)\n",
            "_________________________________________________________________\n"
          ]
        }
      ],
      "source": [
        "from tensorflow import keras\n",
        "\n",
        "inputs = keras.Input(shape = (46, ), name = \"input\")\n",
        "layer1 = keras.layers.Dense(units = 100, activation = \"relu\", name = \"layer1\")(inputs)\n",
        "layer2 = keras.layers.Dense(units = 100, activation = \"relu\", name = \"layer2\")(layer1)\n",
        "layer3 = keras.layers.Dense(units = 100, activation = \"relu\", name = \"layer3\")(layer2)\n",
        "outputs = keras.layers.Dense(units = 1, name = \"output\", activation = \"relu\")(layer3)\n",
        "model = keras.Model(inputs = inputs, outputs = outputs, name = \"wwwww\")\n",
        "model.summary()\n",
        "\n",
        "model.compile(\n",
        "    optimizer = keras.optimizers.Adam(learning_rate = 0.001),\n",
        "    loss = keras.losses.MeanSquaredError(),\n",
        "    metrics = [\"mape\"],\n",
        ")"
      ]
    },
    {
      "cell_type": "code",
      "source": [
        "trainData, testData = sklearn.model_selection.train_test_split(data, test_size = 0.2, random_state = 42)\n",
        "\n",
        "trainData.reset_index(drop = True, inplace = True)\n",
        "testData.reset_index(drop = True, inplace = True)\n",
        "\n",
        "label = \"reaction_count\"\n",
        "\n",
        "trainYRegression = trainData[label]\n",
        "trainX = copy.deepcopy(trainData)\n",
        "trainX.pop(label)\n",
        "\n",
        "testYRegression = testData[label]\n",
        "testX = copy.deepcopy(testData)\n",
        "testX.pop(label)"
      ],
      "metadata": {
        "colab": {
          "base_uri": "https://localhost:8080/"
        },
        "id": "TqISa4ANsABq",
        "outputId": "2efd7374-be2b-4907-d104-29a457495919"
      },
      "execution_count": 76,
      "outputs": [
        {
          "output_type": "execute_result",
          "data": {
            "text/plain": [
              "0      449\n",
              "1      695\n",
              "2      373\n",
              "3       50\n",
              "4       20\n",
              "      ... \n",
              "369     19\n",
              "370    236\n",
              "371     31\n",
              "372     18\n",
              "373     21\n",
              "Name: reaction_count, Length: 374, dtype: int64"
            ]
          },
          "metadata": {},
          "execution_count": 76
        }
      ]
    },
    {
      "cell_type": "code",
      "execution_count": null,
      "metadata": {
        "id": "zCGlYNtGF0wc"
      },
      "outputs": [],
      "source": [
        "model.fit(trainX, trainYRegression, batch_size = 32, epochs = 100, verbose = 2)"
      ]
    },
    {
      "cell_type": "code",
      "source": [
        "print(sklearn.metrics.mean_absolute_error(testYRegression, model.predict(testX)),\n",
        "sklearn.metrics.mean_squared_error(testYRegression, model.predict(testX)),\n",
        "sklearn.metrics.mean_absolute_percentage_error(testYRegression, model.predict(testX)),\n",
        "sklearn.metrics.r2_score(testYRegression, model.predict(testX)))"
      ],
      "metadata": {
        "colab": {
          "base_uri": "https://localhost:8080/"
        },
        "id": "MQOenAtkr5MA",
        "outputId": "8fb20b5a-4a09-4536-b948-fdb7ed5670c0"
      },
      "execution_count": 78,
      "outputs": [
        {
          "output_type": "stream",
          "name": "stdout",
          "text": [
            "12/12 [==============================] - 0s 4ms/step\n",
            "12/12 [==============================] - 0s 3ms/step\n",
            "12/12 [==============================] - 0s 3ms/step\n",
            "12/12 [==============================] - 0s 2ms/step\n",
            "274.8533917098122 169737.2115046746 1.1758525741036916 0.12198955178114634\n"
          ]
        }
      ]
    },
    {
      "cell_type": "code",
      "source": [],
      "metadata": {
        "id": "hrpKDqTzseOD"
      },
      "execution_count": null,
      "outputs": []
    }
  ],
  "metadata": {
    "colab": {
      "collapsed_sections": [
        "q7SfO65h9Vq7",
        "N7SuQMxcPeFv",
        "cGIFmp77kdJC",
        "GF-0p_yVgcED",
        "acSUen_aah6_",
        "dyqB8nThsKvh",
        "mvkvdugcEr_8"
      ],
      "provenance": []
    },
    "kernelspec": {
      "display_name": "Python 3",
      "name": "python3"
    },
    "language_info": {
      "name": "python"
    }
  },
  "nbformat": 4,
  "nbformat_minor": 0
}