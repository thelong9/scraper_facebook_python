{
 "cells": [
  {
   "cell_type": "code",
   "execution_count": null,
   "metadata": {},
   "outputs": [],
   "source": []
  },
  {
   "cell_type": "code",
   "execution_count": 34,
   "metadata": {},
   "outputs": [],
   "source": [
    "import pandas as pd"
   ]
  },
  {
   "cell_type": "code",
   "execution_count": 35,
   "metadata": {},
   "outputs": [],
   "source": [
    "df = pd.read_csv('../../res/data/dataF3.csv')"
   ]
  },
  {
   "cell_type": "code",
   "execution_count": 36,
   "metadata": {},
   "outputs": [
    {
     "name": "stdout",
     "output_type": "stream",
     "text": [
      "<class 'pandas.core.frame.DataFrame'>\n",
      "RangeIndex: 1869 entries, 0 to 1868\n",
      "Data columns (total 48 columns):\n",
      " #   Column                  Non-Null Count  Dtype  \n",
      "---  ------                  --------------  -----  \n",
      " 0   has_player_mention      1869 non-null   bool   \n",
      " 1   is_umorous              1869 non-null   bool   \n",
      " 2   is_controversial_topic  1869 non-null   bool   \n",
      " 3   contains_good_deed      1869 non-null   bool   \n",
      " 4   mention_match           1869 non-null   bool   \n",
      " 5   reaction_count          1869 non-null   int64  \n",
      " 6   image_count             1869 non-null   int64  \n",
      " 7   has_with                1869 non-null   bool   \n",
      " 8   has_link                1869 non-null   bool   \n",
      " 9   Hour                    1869 non-null   int64  \n",
      " 10  Day of week             1869 non-null   int64  \n",
      " 11  Date                    1869 non-null   int64  \n",
      " 12  Month                   1869 non-null   int64  \n",
      " 13  avgLast5                1869 non-null   float64\n",
      " 14  minLast5                1869 non-null   float64\n",
      " 15  maxLast5                1869 non-null   float64\n",
      " 16  capitalized             1869 non-null   float64\n",
      " 17  captionLength           1869 non-null   int64  \n",
      " 18  trận_đấu                1869 non-null   bool   \n",
      " 19  huấn_luyện_viên         1869 non-null   bool   \n",
      " 20  ten_hag                 1869 non-null   bool   \n",
      " 21  cầu_thủ                 1869 non-null   bool   \n",
      " 22  bàn_thắng               1869 non-null   bool   \n",
      " 23  mùa_giải                1869 non-null   bool   \n",
      " 24  sân                     1869 non-null   bool   \n",
      " 25  đội_hình                1869 non-null   bool   \n",
      " 26  premier_league          1869 non-null   bool   \n",
      " 27  thi_đấu                 1869 non-null   bool   \n",
      " 28  onana                   1869 non-null   bool   \n",
      " 29  đêm                     1869 non-null   bool   \n",
      " 30  chính_thức              1869 non-null   bool   \n",
      " 31  rashford                1869 non-null   bool   \n",
      " 32  maguire                 1869 non-null   bool   \n",
      " 33  quỷ_đỏ                  1869 non-null   bool   \n",
      " 34  old_trafford            1869 non-null   bool   \n",
      " 35  tiền_đạo                1869 non-null   bool   \n",
      " 36  chấn_thương             1869 non-null   bool   \n",
      " 37  sancho                  1869 non-null   bool   \n",
      " 38  ronaldo                 1869 non-null   bool   \n",
      " 39  greenwood               1869 non-null   bool   \n",
      " 40  de_gea                  1869 non-null   bool   \n",
      " 41  triệu_bảng              1869 non-null   bool   \n",
      " 42  clb                     1869 non-null   bool   \n",
      " 43  quả_bóng                1869 non-null   bool   \n",
      " 44  bruno                   1869 non-null   bool   \n",
      " 45  chúc_mừng               1869 non-null   bool   \n",
      " 46  đội_bóng                1869 non-null   bool   \n",
      " 47  antony                  1869 non-null   bool   \n",
      "dtypes: bool(37), float64(4), int64(7)\n",
      "memory usage: 228.3 KB\n"
     ]
    }
   ],
   "source": [
    "df.info()"
   ]
  },
  {
   "cell_type": "code",
   "execution_count": 37,
   "metadata": {},
   "outputs": [],
   "source": [
    "# from sklearn.preprocessing import LabelEncoder\n",
    "# le_Day_of_week = LabelEncoder()\n",
    "# df['Day_of_week_n'] = le_Day_of_week.fit_transform(df['Day of week'])"
   ]
  },
  {
   "cell_type": "code",
   "execution_count": 38,
   "metadata": {},
   "outputs": [],
   "source": [
    "# df['Day_of_week_n'].head(40)"
   ]
  },
  {
   "cell_type": "code",
   "execution_count": 39,
   "metadata": {},
   "outputs": [],
   "source": [
    "# df.dropna(inplace=True)\n",
    "# df.info()"
   ]
  },
  {
   "cell_type": "code",
   "execution_count": 40,
   "metadata": {},
   "outputs": [
    {
     "data": {
      "text/plain": [
       "Index(['has_player_mention', 'is_umorous', 'is_controversial_topic',\n",
       "       'contains_good_deed', 'mention_match', 'reaction_count', 'image_count',\n",
       "       'has_with', 'has_link', 'Hour', 'Day of week', 'Date', 'Month',\n",
       "       'avgLast5', 'minLast5', 'maxLast5', 'capitalized', 'captionLength',\n",
       "       'trận_đấu', 'huấn_luyện_viên', 'ten_hag', 'cầu_thủ', 'bàn_thắng',\n",
       "       'mùa_giải', 'sân', 'đội_hình', 'premier_league', 'thi_đấu', 'onana',\n",
       "       'đêm', 'chính_thức', 'rashford', 'maguire', 'quỷ_đỏ', 'old_trafford',\n",
       "       'tiền_đạo', 'chấn_thương', 'sancho', 'ronaldo', 'greenwood', 'de_gea',\n",
       "       'triệu_bảng', 'clb', 'quả_bóng', 'bruno', 'chúc_mừng', 'đội_bóng',\n",
       "       'antony'],\n",
       "      dtype='object')"
      ]
     },
     "execution_count": 40,
     "metadata": {},
     "output_type": "execute_result"
    }
   ],
   "source": [
    "df.columns"
   ]
  },
  {
   "cell_type": "markdown",
   "metadata": {},
   "source": []
  },
  {
   "cell_type": "code",
   "execution_count": 41,
   "metadata": {},
   "outputs": [],
   "source": [
    "# df.drop(columns=['Day of week', 'url', 'text', 'share_count', 'comment_count', 'fanpage_name', 'image_count',\n",
    "#                  'date', 'time', 'comments_text', 'fanpage_followers', 'fanpage_created_time', 'reactions'], inplace=True)\n",
    "# df.columns\n",
    "# df.drop(columns=['emoji', 'number', 'capitalized','avgAllTime', 'minAllTime', 'maxAllTime','Year'], inplace=True)"
   ]
  },
  {
   "cell_type": "code",
   "execution_count": 42,
   "metadata": {},
   "outputs": [],
   "source": [
    "df.drop(columns=['capitalized'], inplace=True)"
   ]
  },
  {
   "cell_type": "code",
   "execution_count": 43,
   "metadata": {},
   "outputs": [
    {
     "data": {
      "text/plain": [
       "Index(['has_player_mention', 'is_umorous', 'is_controversial_topic',\n",
       "       'contains_good_deed', 'mention_match', 'reaction_count', 'image_count',\n",
       "       'has_with', 'has_link', 'Hour', 'Day of week', 'Date', 'Month',\n",
       "       'avgLast5', 'minLast5', 'maxLast5', 'captionLength', 'trận_đấu',\n",
       "       'huấn_luyện_viên', 'ten_hag', 'cầu_thủ', 'bàn_thắng', 'mùa_giải', 'sân',\n",
       "       'đội_hình', 'premier_league', 'thi_đấu', 'onana', 'đêm', 'chính_thức',\n",
       "       'rashford', 'maguire', 'quỷ_đỏ', 'old_trafford', 'tiền_đạo',\n",
       "       'chấn_thương', 'sancho', 'ronaldo', 'greenwood', 'de_gea', 'triệu_bảng',\n",
       "       'clb', 'quả_bóng', 'bruno', 'chúc_mừng', 'đội_bóng', 'antony'],\n",
       "      dtype='object')"
      ]
     },
     "execution_count": 43,
     "metadata": {},
     "output_type": "execute_result"
    }
   ],
   "source": [
    "df.columns\n"
   ]
  },
  {
   "cell_type": "markdown",
   "metadata": {},
   "source": []
  },
  {
   "cell_type": "code",
   "execution_count": 44,
   "metadata": {},
   "outputs": [
    {
     "data": {
      "text/html": [
       "<div>\n",
       "<style scoped>\n",
       "    .dataframe tbody tr th:only-of-type {\n",
       "        vertical-align: middle;\n",
       "    }\n",
       "\n",
       "    .dataframe tbody tr th {\n",
       "        vertical-align: top;\n",
       "    }\n",
       "\n",
       "    .dataframe thead th {\n",
       "        text-align: right;\n",
       "    }\n",
       "</style>\n",
       "<table border=\"1\" class=\"dataframe\">\n",
       "  <thead>\n",
       "    <tr style=\"text-align: right;\">\n",
       "      <th></th>\n",
       "      <th>has_player_mention</th>\n",
       "      <th>is_umorous</th>\n",
       "      <th>is_controversial_topic</th>\n",
       "      <th>contains_good_deed</th>\n",
       "      <th>mention_match</th>\n",
       "      <th>reaction_count</th>\n",
       "      <th>image_count</th>\n",
       "      <th>has_with</th>\n",
       "      <th>has_link</th>\n",
       "      <th>Hour</th>\n",
       "      <th>...</th>\n",
       "      <th>ronaldo</th>\n",
       "      <th>greenwood</th>\n",
       "      <th>de_gea</th>\n",
       "      <th>triệu_bảng</th>\n",
       "      <th>clb</th>\n",
       "      <th>quả_bóng</th>\n",
       "      <th>bruno</th>\n",
       "      <th>chúc_mừng</th>\n",
       "      <th>đội_bóng</th>\n",
       "      <th>antony</th>\n",
       "    </tr>\n",
       "  </thead>\n",
       "  <tbody>\n",
       "    <tr>\n",
       "      <th>0</th>\n",
       "      <td>True</td>\n",
       "      <td>False</td>\n",
       "      <td>False</td>\n",
       "      <td>False</td>\n",
       "      <td>False</td>\n",
       "      <td>1161</td>\n",
       "      <td>1</td>\n",
       "      <td>False</td>\n",
       "      <td>False</td>\n",
       "      <td>0</td>\n",
       "      <td>...</td>\n",
       "      <td>False</td>\n",
       "      <td>False</td>\n",
       "      <td>False</td>\n",
       "      <td>False</td>\n",
       "      <td>False</td>\n",
       "      <td>False</td>\n",
       "      <td>False</td>\n",
       "      <td>False</td>\n",
       "      <td>False</td>\n",
       "      <td>False</td>\n",
       "    </tr>\n",
       "    <tr>\n",
       "      <th>1</th>\n",
       "      <td>True</td>\n",
       "      <td>False</td>\n",
       "      <td>False</td>\n",
       "      <td>False</td>\n",
       "      <td>False</td>\n",
       "      <td>2053</td>\n",
       "      <td>1</td>\n",
       "      <td>False</td>\n",
       "      <td>False</td>\n",
       "      <td>13</td>\n",
       "      <td>...</td>\n",
       "      <td>False</td>\n",
       "      <td>False</td>\n",
       "      <td>False</td>\n",
       "      <td>False</td>\n",
       "      <td>False</td>\n",
       "      <td>False</td>\n",
       "      <td>False</td>\n",
       "      <td>False</td>\n",
       "      <td>False</td>\n",
       "      <td>False</td>\n",
       "    </tr>\n",
       "    <tr>\n",
       "      <th>2</th>\n",
       "      <td>True</td>\n",
       "      <td>False</td>\n",
       "      <td>False</td>\n",
       "      <td>False</td>\n",
       "      <td>False</td>\n",
       "      <td>1099</td>\n",
       "      <td>1</td>\n",
       "      <td>False</td>\n",
       "      <td>False</td>\n",
       "      <td>18</td>\n",
       "      <td>...</td>\n",
       "      <td>True</td>\n",
       "      <td>False</td>\n",
       "      <td>False</td>\n",
       "      <td>False</td>\n",
       "      <td>False</td>\n",
       "      <td>False</td>\n",
       "      <td>False</td>\n",
       "      <td>False</td>\n",
       "      <td>False</td>\n",
       "      <td>False</td>\n",
       "    </tr>\n",
       "    <tr>\n",
       "      <th>3</th>\n",
       "      <td>True</td>\n",
       "      <td>False</td>\n",
       "      <td>False</td>\n",
       "      <td>False</td>\n",
       "      <td>False</td>\n",
       "      <td>92</td>\n",
       "      <td>0</td>\n",
       "      <td>False</td>\n",
       "      <td>True</td>\n",
       "      <td>18</td>\n",
       "      <td>...</td>\n",
       "      <td>False</td>\n",
       "      <td>False</td>\n",
       "      <td>False</td>\n",
       "      <td>False</td>\n",
       "      <td>False</td>\n",
       "      <td>False</td>\n",
       "      <td>False</td>\n",
       "      <td>False</td>\n",
       "      <td>False</td>\n",
       "      <td>False</td>\n",
       "    </tr>\n",
       "    <tr>\n",
       "      <th>4</th>\n",
       "      <td>True</td>\n",
       "      <td>False</td>\n",
       "      <td>False</td>\n",
       "      <td>False</td>\n",
       "      <td>False</td>\n",
       "      <td>2338</td>\n",
       "      <td>1</td>\n",
       "      <td>False</td>\n",
       "      <td>False</td>\n",
       "      <td>20</td>\n",
       "      <td>...</td>\n",
       "      <td>False</td>\n",
       "      <td>False</td>\n",
       "      <td>False</td>\n",
       "      <td>False</td>\n",
       "      <td>False</td>\n",
       "      <td>False</td>\n",
       "      <td>False</td>\n",
       "      <td>False</td>\n",
       "      <td>False</td>\n",
       "      <td>False</td>\n",
       "    </tr>\n",
       "  </tbody>\n",
       "</table>\n",
       "<p>5 rows × 47 columns</p>\n",
       "</div>"
      ],
      "text/plain": [
       "   has_player_mention  is_umorous  is_controversial_topic  contains_good_deed  \\\n",
       "0                True       False                   False               False   \n",
       "1                True       False                   False               False   \n",
       "2                True       False                   False               False   \n",
       "3                True       False                   False               False   \n",
       "4                True       False                   False               False   \n",
       "\n",
       "   mention_match  reaction_count  image_count  has_with  has_link  Hour  ...  \\\n",
       "0          False            1161            1     False     False     0  ...   \n",
       "1          False            2053            1     False     False    13  ...   \n",
       "2          False            1099            1     False     False    18  ...   \n",
       "3          False              92            0     False      True    18  ...   \n",
       "4          False            2338            1     False     False    20  ...   \n",
       "\n",
       "   ronaldo  greenwood  de_gea  triệu_bảng    clb  quả_bóng  bruno  chúc_mừng  \\\n",
       "0    False      False   False       False  False     False  False      False   \n",
       "1    False      False   False       False  False     False  False      False   \n",
       "2     True      False   False       False  False     False  False      False   \n",
       "3    False      False   False       False  False     False  False      False   \n",
       "4    False      False   False       False  False     False  False      False   \n",
       "\n",
       "   đội_bóng  antony  \n",
       "0     False   False  \n",
       "1     False   False  \n",
       "2     False   False  \n",
       "3     False   False  \n",
       "4     False   False  \n",
       "\n",
       "[5 rows x 47 columns]"
      ]
     },
     "execution_count": 44,
     "metadata": {},
     "output_type": "execute_result"
    }
   ],
   "source": [
    "df.head()"
   ]
  },
  {
   "cell_type": "code",
   "execution_count": 45,
   "metadata": {},
   "outputs": [],
   "source": [
    "# df.captionLength = df.captionLength // 50"
   ]
  },
  {
   "cell_type": "code",
   "execution_count": 46,
   "metadata": {},
   "outputs": [],
   "source": [
    "# #  'trận_counts',\n",
    "# #        'đội_counts', 'mùa_counts', 'hlv_counts', 'ten_hag_counts',\n",
    "# #        'cầu_thủ_counts', 'bàn_counts', 'sân_counts', 'giải_counts',\n",
    "# #        'bóng_counts', 'đấu_counts', 'premier_league_counts', 'onana_counts',\n",
    "# #        'dự_counts', 'chính_thức_counts', 'đêm_counts', 'rashford_counts',\n",
    "# #        'ghi_counts', 'maguire_counts', 'quỷ_đỏ_counts', 'kiến_counts',\n",
    "# #        'old_trafford_counts', 'chấn_thương_counts', 'sancho_counts',\n",
    "# #        'ronaldo_counts', 'kết_counts', 'greenwood_counts', 'de_gea_counts',\n",
    "# #        'triệu_counts', 'hàng_counts', 'hè_counts', 'trai_counts', 'báo_counts',\n",
    "# #        'clb_counts', 'bảng_counts', 'vệ_counts', 'bruno_counts',\n",
    "# #        'chúc_mừng_counts', 'thủ_counts', 'top_counts', 'luyện_counts',\n",
    "# #        'tỷ_counts', 'antony_counts', 'mount_counts', 'hojlund_counts',\n",
    "# #        'mua_counts', 'chủ_counts', 'thông_counts', 'casemiro_counts',\n",
    "# #        'vọng_counts',\n",
    "\n",
    "\n",
    "\n",
    "\n",
    "# df['trận_counts'] = df['trận_counts'].apply(lambda x: 1 if x > 0 else 0)\n",
    "# df['đội_counts'] = df['đội_counts'].apply(lambda x: 1 if x > 0 else 0)\n",
    "# df['mùa_counts'] = df['mùa_counts'].apply(lambda x: 1 if x > 0 else 0)\n",
    "# df['cầu_thủ_counts'] = df['cầu_thủ_counts'].apply(lambda x: 1 if x > 0 else 0)\n",
    "# df['hlv_counts'] = df['hlv_counts'].apply(lambda x: 1 if x > 0 else 0)\n",
    "# df['ten_hag_counts'] = df['ten_hag_counts'].apply(lambda x: 1 if x > 0 else 0)\n",
    "# df['bàn_counts'] = df['bàn_counts'].apply(lambda x: 1 if x > 0 else 0)\n",
    "# df['sân_counts'] = df['sân_counts'].apply(lambda x: 1 if x > 0 else 0)\n",
    "# df['giải_counts'] = df['giải_counts'].apply(lambda x: 1 if x > 0 else 0)\n",
    "# df['bóng_counts'] = df['bóng_counts'].apply(lambda x: 1 if x > 0 else 0)\n",
    "# df['đấu_counts'] = df['đấu_counts'].apply(lambda x: 1 if x > 0 else 0)\n",
    "# df['premier_league_counts'] = df['premier_league_counts'].apply(lambda x: 1 if x > 0 else 0)\n",
    "# df['onana_counts'] = df['onana_counts'].apply(lambda x: 1 if x > 0 else 0)\n",
    "# df['dự_counts'] = df['dự_counts'].apply(lambda x: 1 if x > 0 else 0)\n",
    "# df['chính_thức_counts'] = df['chính_thức_counts'].apply(lambda x: 1 if x > 0 else 0)\n",
    "# df['đêm_counts'] = df['đêm_counts'].apply(lambda x: 1 if x > 0 else 0)\n",
    "# df['rashford_counts'] = df['rashford_counts'].apply(lambda x: 1 if x > 0 else 0)\n",
    "# df['ghi_counts'] = df['ghi_counts'].apply(lambda x: 1 if x > 0 else 0)\n",
    "# df['maguire_counts'] = df['maguire_counts'].apply(lambda x: 1 if x > 0 else 0)\n",
    "# df['quỷ_đỏ_counts'] = df['quỷ_đỏ_counts'].apply(lambda x: 1 if x > 0 else 0)\n",
    "# df['kiến_counts'] = df['kiến_counts'].apply(lambda x: 1 if x > 0 else 0)\n",
    "# df['old_trafford_counts'] = df['old_trafford_counts'].apply(lambda x: 1 if x > 0 else 0)\n",
    "# df['chấn_thương_counts'] = df['chấn_thương_counts'].apply(lambda x: 1 if x > 0 else 0)\n",
    "# df['sancho_counts'] = df['sancho_counts'].apply(lambda x: 1 if x > 0 else 0)\n",
    "# df['ronaldo_counts'] = df['ronaldo_counts'].apply(lambda x: 1 if x > 0 else 0)\n",
    "# df['kết_counts'] = df['kết_counts'].apply(lambda x: 1 if x > 0 else 0)\n",
    "# df['greenwood_counts'] = df['greenwood_counts'].apply(lambda x: 1 if x > 0 else 0)\n",
    "# df['de_gea_counts'] = df['de_gea_counts'].apply(lambda x: 1 if x > 0 else 0)\n",
    "# df['triệu_counts'] = df['triệu_counts'].apply(lambda x: 1 if x > 0 else 0)\n",
    "# df['hàng_counts'] = df['hàng_counts'].apply(lambda x: 1 if x > 0 else 0)\n",
    "# df['hè_counts'] = df['hè_counts'].apply(lambda x: 1 if x > 0 else 0)\n",
    "# df['trai_counts'] = df['trai_counts'].apply(lambda x: 1 if x > 0 else 0)\n",
    "# df['báo_counts'] = df['báo_counts'].apply(lambda x: 1 if x > 0 else 0)\n",
    "# df['clb_counts'] = df['clb_counts'].apply(lambda x: 1 if x > 0 else 0)\n",
    "# df['bảng_counts'] = df['bảng_counts'].apply(lambda x: 1 if x > 0 else 0)\n",
    "# df['vệ_counts'] = df['vệ_counts'].apply(lambda x: 1 if x > 0 else 0)\n",
    "# df['bruno_counts'] = df['bruno_counts'].apply(lambda x: 1 if x > 0 else 0)\n",
    "# df['chúc_mừng_counts'] = df['chúc_mừng_counts'].apply(lambda x: 1 if x > 0 else 0)\n",
    "# df['thủ_counts'] = df['thủ_counts'].apply(lambda x: 1 if x > 0 else 0)\n",
    "# df['top_counts'] = df['top_counts'].apply(lambda x: 1 if x > 0 else 0)\n",
    "# df['luyện_counts'] = df['luyện_counts'].apply(lambda x: 1 if x > 0 else 0)\n",
    "# df['tỷ_counts'] = df['tỷ_counts'].apply(lambda x: 1 if x > 0 else 0)\n",
    "# df['antony_counts'] = df['antony_counts'].apply(lambda x: 1 if x > 0 else 0)\n",
    "# df['mount_counts'] = df['mount_counts'].apply(lambda x: 1 if x > 0 else 0)\n",
    "# df['hojlund_counts'] = df['hojlund_counts'].apply(lambda x: 1 if x > 0 else 0)\n",
    "# df['mua_counts'] = df['mua_counts'].apply(lambda x: 1 if x > 0 else 0)\n",
    "# df['chủ_counts'] = df['chủ_counts'].apply(lambda x: 1 if x > 0 else 0)\n",
    "# df['thông_counts'] = df['thông_counts'].apply(lambda x: 1 if x > 0 else 0)\n",
    "# df['casemiro_counts'] = df['casemiro_counts'].apply(lambda x: 1 if x > 0 else 0)\n",
    "# df['vọng_counts'] = df['vọng_counts'].apply(lambda x: 1 if x > 0 else 0)\n"
   ]
  },
  {
   "cell_type": "code",
   "execution_count": 47,
   "metadata": {},
   "outputs": [],
   "source": [
    "# giờ trộn dữ liệu, chia bộ train, test theo tỉ lệ 80-20\n",
    "from sklearn.model_selection import train_test_split\n",
    "df_train, df_test = train_test_split(df, test_size=0.2, random_state=42)\n",
    "df_train, df_valid = train_test_split(df_train, test_size=0.2, random_state=42)"
   ]
  },
  {
   "cell_type": "code",
   "execution_count": 48,
   "metadata": {},
   "outputs": [],
   "source": [
    "target = df_train['reaction_count']\n",
    "inputs = df_train.drop(['reaction_count'], axis='columns')\n",
    "# inputs = df_train[['has_image', 'Hour', 'Day_of_week_n']]\n",
    "\n",
    "valid_target = df_valid['reaction_count']\n",
    "valid_input = df_valid.drop(['reaction_count'], axis = 'columns')\n",
    "# valid_input = df_valid[['has_image', 'Hour', 'Day_of_week_n']]\n",
    "\n",
    "test_target = df_test['reaction_count']\n",
    "test_input = df_test.drop(['reaction_count'], axis = 'columns')\n",
    "# test_input = df_test[['has_image', 'Hour', 'Day_of_week_n']]"
   ]
  },
  {
   "cell_type": "code",
   "execution_count": 49,
   "metadata": {},
   "outputs": [],
   "source": [
    "# valid_input.columns"
   ]
  },
  {
   "cell_type": "code",
   "execution_count": 50,
   "metadata": {},
   "outputs": [],
   "source": [
    "# cái không thu được: phạm vi tiếp cận của bài viết, bài viết trước đó đã từng được chạy quảng cáo ko "
   ]
  },
  {
   "cell_type": "code",
   "execution_count": 51,
   "metadata": {},
   "outputs": [],
   "source": [
    "# Decision tree regression là một phương pháp học máy dùng để dự đoán giá trị liên tục. \n",
    "# Ý tưởng cơ bản của nó là chia dữ liệu đầu vào thành các tập con nhỏ hơn và nhỏ hơn, theo cách cây phân chia các nhánh.\n",
    "# Giá trị dự đoán cho một mẫu mới là giá trị trung bình của các mẫu trong lá mà mẫu mới rơi vào.\n",
    "\n",
    "# criterion: Tiêu chuẩn dùng để đo mức độ phân chia các nút. \n",
    "# ['squared_error', 'friedman_mse', 'absolute_error', 'poisson'], mặc định là 'squared_error'.\n",
    "# splitter: Chiến lược để chọn chia nút. ['best', 'random'], mặc định là 'best'.\n",
    "# max_depth: Độ sâu tối đa của cây\n",
    "# min_samples_split: float | int = 2, Số lượng mẫu tối thiểu cần thiết để chia một nút\n",
    "# min_samples_leaf: float | int = 1, Số lượng mẫu tối thiểu cần có ở một lá\n",
    "# min_weight_fraction_leaf: Float = 0, Phần trọng số tối thiểu của tổng số mẫu cần có ở một lá.\n",
    "# max_features: float | int | Literal['auto', 'sqrt', 'log2'] | None = None,\n",
    "# random_state: Int | RandomState | None = None, Hạt giống ngẫu nhiên dùng cho quá trình chọn lựa và chia tách.\n",
    "# max_leaf_nodes: Int | None = None, Số lượng lá tối đa, None là số lá không bị giới hạn\n",
    "# min_impurity_decrease: Float = 0,\n",
    "# ccp_alpha: float = 0\n",
    "\n",
    "\n",
    "\n",
    "\n",
    "# baseline: là giá trị trung bình trên toàn bộ điểm dữ liệu -> mse, ...\n",
    "# dùng r2score để đánh giá mô hình\n",
    "\n",
    "\n"
   ]
  },
  {
   "cell_type": "code",
   "execution_count": 52,
   "metadata": {},
   "outputs": [],
   "source": [
    "# from sklearn import tree\n",
    "# model = tree.DecisionTreeRegressor(max_depth=5, min_samples_split=10, min_samples_leaf=10)\n",
    "# model.fit(inputs, target)\n",
    "# tree_rules = tree.export_text(model, feature_names=[f'feature_{i}' for i in range(inputs.shape[1])])\n",
    "# print(model.score(inputs, target))\n",
    "# print(model.score(valid_input, valid_target))\n",
    "# print(tree_rules)\n",
    "\n"
   ]
  },
  {
   "cell_type": "code",
   "execution_count": 53,
   "metadata": {},
   "outputs": [],
   "source": [
    "# print(model.score(test_input, test_target))\n"
   ]
  },
  {
   "cell_type": "code",
   "execution_count": 54,
   "metadata": {},
   "outputs": [
    {
     "name": "stdout",
     "output_type": "stream",
     "text": [
      "Fitting 10 folds for each of 1560 candidates, totalling 15600 fits\n",
      "{'criterion': 'squared_error', 'max_depth': 5, 'min_samples_leaf': 5, 'min_samples_split': 35}\n",
      "0.3486800437466092\n",
      "|--- feature_14 <= 305.00\n",
      "|   |--- feature_14 <= 174.50\n",
      "|   |   |--- feature_14 <= 95.50\n",
      "|   |   |   |--- feature_8 <= 7.50\n",
      "|   |   |   |   |--- value: [46.10]\n",
      "|   |   |   |--- feature_8 >  7.50\n",
      "|   |   |   |   |--- feature_15 <= 61.00\n",
      "|   |   |   |   |   |--- value: [32.09]\n",
      "|   |   |   |   |--- feature_15 >  61.00\n",
      "|   |   |   |   |   |--- value: [48.20]\n",
      "|   |   |--- feature_14 >  95.50\n",
      "|   |   |   |--- value: [54.25]\n",
      "|   |--- feature_14 >  174.50\n",
      "|   |   |--- feature_10 <= 8.00\n",
      "|   |   |   |--- value: [436.67]\n",
      "|   |   |--- feature_10 >  8.00\n",
      "|   |   |   |--- feature_9 <= 5.50\n",
      "|   |   |   |   |--- value: [222.82]\n",
      "|   |   |   |--- feature_9 >  5.50\n",
      "|   |   |   |   |--- value: [387.60]\n",
      "|--- feature_14 >  305.00\n",
      "|   |--- feature_12 <= 608.50\n",
      "|   |   |--- feature_8 <= 9.50\n",
      "|   |   |   |--- feature_3 <= 0.50\n",
      "|   |   |   |   |--- feature_1 <= 0.50\n",
      "|   |   |   |   |   |--- value: [495.16]\n",
      "|   |   |   |   |--- feature_1 >  0.50\n",
      "|   |   |   |   |   |--- value: [744.52]\n",
      "|   |   |   |--- feature_3 >  0.50\n",
      "|   |   |   |   |--- value: [987.27]\n",
      "|   |   |--- feature_8 >  9.50\n",
      "|   |   |   |--- feature_0 <= 0.50\n",
      "|   |   |   |   |--- feature_10 <= 29.50\n",
      "|   |   |   |   |   |--- value: [242.85]\n",
      "|   |   |   |   |--- feature_10 >  29.50\n",
      "|   |   |   |   |   |--- value: [480.60]\n",
      "|   |   |   |--- feature_0 >  0.50\n",
      "|   |   |   |   |--- feature_33 <= 0.50\n",
      "|   |   |   |   |   |--- value: [383.28]\n",
      "|   |   |   |   |--- feature_33 >  0.50\n",
      "|   |   |   |   |   |--- value: [821.33]\n",
      "|   |--- feature_12 >  608.50\n",
      "|   |   |--- feature_5 <= 0.50\n",
      "|   |   |   |--- value: [184.44]\n",
      "|   |   |--- feature_5 >  0.50\n",
      "|   |   |   |--- feature_11 <= 4.50\n",
      "|   |   |   |   |--- feature_11 <= 2.50\n",
      "|   |   |   |   |   |--- value: [616.46]\n",
      "|   |   |   |   |--- feature_11 >  2.50\n",
      "|   |   |   |   |   |--- value: [1183.89]\n",
      "|   |   |   |--- feature_11 >  4.50\n",
      "|   |   |   |   |--- feature_3 <= 0.50\n",
      "|   |   |   |   |   |--- value: [543.21]\n",
      "|   |   |   |   |--- feature_3 >  0.50\n",
      "|   |   |   |   |   |--- value: [890.11]\n",
      "\n"
     ]
    }
   ],
   "source": [
    "from sklearn.model_selection import GridSearchCV\n",
    "from sklearn import tree\n",
    "\n",
    "model = tree.DecisionTreeRegressor()\n",
    "param_grid = {\n",
    "    'criterion' : ['squared_error', 'absolute_error'],\n",
    "    'max_depth': [3, 4, 5, 6, 7],\n",
    "    'min_samples_split': [2, 5, 10, 15, 20, 25, 30, 35, 40, 45, 50, 75, 100],\n",
    "    'min_samples_leaf': [1, 5, 10, 15, 20, 25, 30, 35, 40, 50, 75, 100],\n",
    "}\n",
    "\n",
    "\n",
    "grid_search = GridSearchCV(model, param_grid, cv=10, n_jobs=-1, scoring='r2', return_train_score=True, verbose=1)\n",
    "grid_search.fit(inputs, target)\n",
    "\n",
    "\n",
    "# In ra siêu tham số tốt nhất\n",
    "print(grid_search.best_params_)\n",
    "model = grid_search.best_estimator_\n",
    "\n",
    "print(model.score(valid_input, valid_target))\n",
    "# model = tree.DecisionTreeRegressor(max_depth=5, min_samples_split=10, min_samples_leaf=10)\n",
    "# model.fit(inputs, target)\n",
    "tree_rules = tree.export_text(model, feature_names=[f'feature_{i}' for i in range(inputs.shape[1])])\n",
    "# print(model.score(inputs, target))\n",
    "# print(model.score(valid_input, valid_target))\n",
    "print(tree_rules)\n",
    "\n"
   ]
  },
  {
   "cell_type": "code",
   "execution_count": null,
   "metadata": {},
   "outputs": [],
   "source": [
    "# Fitting 10 folds for each of 605 candidates, totalling 6050 fits\n",
    "# {'max_depth': 5, 'min_samples_leaf': 5, 'min_samples_split': 35}\n",
    "# 0.3486800437466092\n",
    "# |--- feature_14 <= 305.00\n",
    "# |   |--- feature_14 <= 174.50\n",
    "# |   |   |--- feature_14 <= 95.50\n",
    "# |   |   |   |--- feature_8 <= 7.50\n",
    "# |   |   |   |   |--- value: [46.10]\n",
    "# |   |   |   |--- feature_8 >  7.50\n",
    "# |   |   |   |   |--- feature_15 <= 61.00\n",
    "# |   |   |   |   |   |--- value: [32.09]\n",
    "# |   |   |   |   |--- feature_15 >  61.00\n",
    "# |   |   |   |   |   |--- value: [48.20]\n",
    "# |   |   |--- feature_14 >  95.50\n",
    "# |   |   |   |--- value: [54.25]\n",
    "# |   |--- feature_14 >  174.50\n",
    "# |   |   |--- feature_10 <= 8.00\n",
    "# |   |   |   |--- value: [436.67]\n",
    "# |   |   |--- feature_10 >  8.00\n",
    "# |   |   |   |--- feature_9 <= 5.50\n",
    "# |   |   |   |   |--- value: [222.82]\n",
    "# |   |   |   |--- feature_9 >  5.50\n",
    "# |   |   |   |   |--- value: [387.60]\n",
    "# |--- feature_14 >  305.00\n",
    "# |   |--- feature_12 <= 608.50\n",
    "# ...\n",
    "# |   |   |   |   |   |--- value: [890.11]\n",
    "# |   |   |--- feature_7 >  0.50\n",
    "# |   |   |   |--- value: [184.44]"
   ]
  },
  {
   "cell_type": "code",
   "execution_count": 55,
   "metadata": {},
   "outputs": [
    {
     "name": "stdout",
     "output_type": "stream",
     "text": [
      "0.22027339317852257\n"
     ]
    }
   ],
   "source": [
    "print(model.score(test_input, test_target))"
   ]
  },
  {
   "cell_type": "code",
   "execution_count": 56,
   "metadata": {},
   "outputs": [
    {
     "name": "stdout",
     "output_type": "stream",
     "text": [
      "254.88884272294823\n",
      "150736.9533544435\n"
     ]
    }
   ],
   "source": [
    "import sklearn\n",
    "\n",
    "print(sklearn.metrics.mean_absolute_error(test_target, model.predict(test_input)))\n",
    "print(sklearn.metrics.mean_squared_error(test_target, model.predict(test_input)))"
   ]
  },
  {
   "cell_type": "code",
   "execution_count": 57,
   "metadata": {},
   "outputs": [
    {
     "name": "stdout",
     "output_type": "stream",
     "text": [
      "1.1239527358919503\n"
     ]
    }
   ],
   "source": [
    "print(sklearn.metrics.mean_absolute_percentage_error(test_target, model.predict(test_input)))"
   ]
  },
  {
   "cell_type": "code",
   "execution_count": null,
   "metadata": {},
   "outputs": [],
   "source": []
  },
  {
   "cell_type": "code",
   "execution_count": null,
   "metadata": {},
   "outputs": [],
   "source": []
  },
  {
   "cell_type": "code",
   "execution_count": null,
   "metadata": {},
   "outputs": [],
   "source": []
  },
  {
   "cell_type": "code",
   "execution_count": 160,
   "metadata": {},
   "outputs": [
    {
     "data": {
      "text/plain": [
       "758      406\n",
       "622      149\n",
       "1724     153\n",
       "670      582\n",
       "104     1156\n",
       "        ... \n",
       "768      495\n",
       "1777     260\n",
       "1559     234\n",
       "1131     301\n",
       "1436     926\n",
       "Name: reaction_count, Length: 317, dtype: int64"
      ]
     },
     "execution_count": 160,
     "metadata": {},
     "output_type": "execute_result"
    }
   ],
   "source": [
    "df_test.reaction_count"
   ]
  },
  {
   "cell_type": "code",
   "execution_count": 161,
   "metadata": {},
   "outputs": [
    {
     "data": {
      "text/plain": [
       "842      591\n",
       "1537     389\n",
       "1503     187\n",
       "1337     546\n",
       "567      361\n",
       "        ... \n",
       "1420     248\n",
       "1584    1232\n",
       "1150     974\n",
       "1749     199\n",
       "1416     384\n",
       "Name: reaction_count, Length: 1267, dtype: int64"
      ]
     },
     "execution_count": 161,
     "metadata": {},
     "output_type": "execute_result"
    }
   ],
   "source": [
    "df_train.reaction_count"
   ]
  },
  {
   "cell_type": "code",
   "execution_count": null,
   "metadata": {},
   "outputs": [],
   "source": []
  },
  {
   "cell_type": "code",
   "execution_count": 162,
   "metadata": {},
   "outputs": [
    {
     "name": "stdout",
     "output_type": "stream",
     "text": [
      "<class 'pandas.core.frame.DataFrame'>\n",
      "Index: 1267 entries, 842 to 1416\n",
      "Data columns (total 69 columns):\n",
      " #   Column                  Non-Null Count  Dtype  \n",
      "---  ------                  --------------  -----  \n",
      " 0   has_player_mention      1267 non-null   bool   \n",
      " 1   is_umorous              1267 non-null   bool   \n",
      " 2   is_controversial_topic  1267 non-null   bool   \n",
      " 3   contains_good_deed      1267 non-null   bool   \n",
      " 4   mention_match           1267 non-null   bool   \n",
      " 5   reaction_count          1267 non-null   int64  \n",
      " 6   was_live                1267 non-null   bool   \n",
      " 7   has_image               1267 non-null   bool   \n",
      " 8   has_with                1267 non-null   bool   \n",
      " 9   has_link                1267 non-null   bool   \n",
      " 10  Hour                    1267 non-null   int64  \n",
      " 11  Date                    1267 non-null   int64  \n",
      " 12  Month                   1267 non-null   int64  \n",
      " 13  Year                    1267 non-null   int64  \n",
      " 14  avgLast5                1267 non-null   float64\n",
      " 15  minLast5                1267 non-null   float64\n",
      " 16  maxLast5                1267 non-null   float64\n",
      " 17  captionLength           1267 non-null   int64  \n",
      " 18  trận_counts             1267 non-null   int64  \n",
      " 19  đội_counts              1267 non-null   int64  \n",
      " 20  mùa_counts              1267 non-null   int64  \n",
      " 21  hlv_counts              1267 non-null   int64  \n",
      " 22  ten_hag_counts          1267 non-null   int64  \n",
      " 23  cầu_thủ_counts          1267 non-null   int64  \n",
      " 24  bàn_counts              1267 non-null   int64  \n",
      " 25  sân_counts              1267 non-null   int64  \n",
      " 26  giải_counts             1267 non-null   int64  \n",
      " 27  bóng_counts             1267 non-null   int64  \n",
      " 28  đấu_counts              1267 non-null   int64  \n",
      " 29  premier_league_counts   1267 non-null   int64  \n",
      " 30  onana_counts            1267 non-null   int64  \n",
      " 31  dự_counts               1267 non-null   int64  \n",
      " 32  chính_thức_counts       1267 non-null   int64  \n",
      " 33  đêm_counts              1267 non-null   int64  \n",
      " 34  rashford_counts         1267 non-null   int64  \n",
      " 35  ghi_counts              1267 non-null   int64  \n",
      " 36  maguire_counts          1267 non-null   int64  \n",
      " 37  quỷ_đỏ_counts           1267 non-null   int64  \n",
      " 38  kiến_counts             1267 non-null   int64  \n",
      " 39  old_trafford_counts     1267 non-null   int64  \n",
      " 40  chấn_thương_counts      1267 non-null   int64  \n",
      " 41  sancho_counts           1267 non-null   int64  \n",
      " 42  ronaldo_counts          1267 non-null   int64  \n",
      " 43  kết_counts              1267 non-null   int64  \n",
      " 44  greenwood_counts        1267 non-null   int64  \n",
      " 45  de_gea_counts           1267 non-null   int64  \n",
      " 46  triệu_counts            1267 non-null   int64  \n",
      " 47  hàng_counts             1267 non-null   int64  \n",
      " 48  hè_counts               1267 non-null   int64  \n",
      " 49  trai_counts             1267 non-null   int64  \n",
      " 50  báo_counts              1267 non-null   int64  \n",
      " 51  clb_counts              1267 non-null   int64  \n",
      " 52  bảng_counts             1267 non-null   int64  \n",
      " 53  vệ_counts               1267 non-null   int64  \n",
      " 54  bruno_counts            1267 non-null   int64  \n",
      " 55  chúc_mừng_counts        1267 non-null   int64  \n",
      " 56  thủ_counts              1267 non-null   int64  \n",
      " 57  top_counts              1267 non-null   int64  \n",
      " 58  luyện_counts            1267 non-null   int64  \n",
      " 59  tỷ_counts               1267 non-null   int64  \n",
      " 60  antony_counts           1267 non-null   int64  \n",
      " 61  mount_counts            1267 non-null   int64  \n",
      " 62  hojlund_counts          1267 non-null   int64  \n",
      " 63  mua_counts              1267 non-null   int64  \n",
      " 64  chủ_counts              1267 non-null   int64  \n",
      " 65  thông_counts            1267 non-null   int64  \n",
      " 66  casemiro_counts         1267 non-null   int64  \n",
      " 67  vọng_counts             1267 non-null   int64  \n",
      " 68  Day_of_week_n           1267 non-null   int32  \n",
      "dtypes: bool(9), float64(3), int32(1), int64(56)\n",
      "memory usage: 610.0 KB\n"
     ]
    }
   ],
   "source": [
    "df_train.info()"
   ]
  },
  {
   "cell_type": "code",
   "execution_count": 163,
   "metadata": {},
   "outputs": [
    {
     "name": "stdout",
     "output_type": "stream",
     "text": [
      "<class 'pandas.core.frame.DataFrame'>\n",
      "Index: 317 entries, 758 to 1436\n",
      "Data columns (total 69 columns):\n",
      " #   Column                  Non-Null Count  Dtype  \n",
      "---  ------                  --------------  -----  \n",
      " 0   has_player_mention      317 non-null    bool   \n",
      " 1   is_umorous              317 non-null    bool   \n",
      " 2   is_controversial_topic  317 non-null    bool   \n",
      " 3   contains_good_deed      317 non-null    bool   \n",
      " 4   mention_match           317 non-null    bool   \n",
      " 5   reaction_count          317 non-null    int64  \n",
      " 6   was_live                317 non-null    bool   \n",
      " 7   has_image               317 non-null    bool   \n",
      " 8   has_with                317 non-null    bool   \n",
      " 9   has_link                317 non-null    bool   \n",
      " 10  Hour                    317 non-null    int64  \n",
      " 11  Date                    317 non-null    int64  \n",
      " 12  Month                   317 non-null    int64  \n",
      " 13  Year                    317 non-null    int64  \n",
      " 14  avgLast5                317 non-null    float64\n",
      " 15  minLast5                317 non-null    float64\n",
      " 16  maxLast5                317 non-null    float64\n",
      " 17  captionLength           317 non-null    int64  \n",
      " 18  trận_counts             317 non-null    int64  \n",
      " 19  đội_counts              317 non-null    int64  \n",
      " 20  mùa_counts              317 non-null    int64  \n",
      " 21  hlv_counts              317 non-null    int64  \n",
      " 22  ten_hag_counts          317 non-null    int64  \n",
      " 23  cầu_thủ_counts          317 non-null    int64  \n",
      " 24  bàn_counts              317 non-null    int64  \n",
      " 25  sân_counts              317 non-null    int64  \n",
      " 26  giải_counts             317 non-null    int64  \n",
      " 27  bóng_counts             317 non-null    int64  \n",
      " 28  đấu_counts              317 non-null    int64  \n",
      " 29  premier_league_counts   317 non-null    int64  \n",
      " 30  onana_counts            317 non-null    int64  \n",
      " 31  dự_counts               317 non-null    int64  \n",
      " 32  chính_thức_counts       317 non-null    int64  \n",
      " 33  đêm_counts              317 non-null    int64  \n",
      " 34  rashford_counts         317 non-null    int64  \n",
      " 35  ghi_counts              317 non-null    int64  \n",
      " 36  maguire_counts          317 non-null    int64  \n",
      " 37  quỷ_đỏ_counts           317 non-null    int64  \n",
      " 38  kiến_counts             317 non-null    int64  \n",
      " 39  old_trafford_counts     317 non-null    int64  \n",
      " 40  chấn_thương_counts      317 non-null    int64  \n",
      " 41  sancho_counts           317 non-null    int64  \n",
      " 42  ronaldo_counts          317 non-null    int64  \n",
      " 43  kết_counts              317 non-null    int64  \n",
      " 44  greenwood_counts        317 non-null    int64  \n",
      " 45  de_gea_counts           317 non-null    int64  \n",
      " 46  triệu_counts            317 non-null    int64  \n",
      " 47  hàng_counts             317 non-null    int64  \n",
      " 48  hè_counts               317 non-null    int64  \n",
      " 49  trai_counts             317 non-null    int64  \n",
      " 50  báo_counts              317 non-null    int64  \n",
      " 51  clb_counts              317 non-null    int64  \n",
      " 52  bảng_counts             317 non-null    int64  \n",
      " 53  vệ_counts               317 non-null    int64  \n",
      " 54  bruno_counts            317 non-null    int64  \n",
      " 55  chúc_mừng_counts        317 non-null    int64  \n",
      " 56  thủ_counts              317 non-null    int64  \n",
      " 57  top_counts              317 non-null    int64  \n",
      " 58  luyện_counts            317 non-null    int64  \n",
      " 59  tỷ_counts               317 non-null    int64  \n",
      " 60  antony_counts           317 non-null    int64  \n",
      " 61  mount_counts            317 non-null    int64  \n",
      " 62  hojlund_counts          317 non-null    int64  \n",
      " 63  mua_counts              317 non-null    int64  \n",
      " 64  chủ_counts              317 non-null    int64  \n",
      " 65  thông_counts            317 non-null    int64  \n",
      " 66  casemiro_counts         317 non-null    int64  \n",
      " 67  vọng_counts             317 non-null    int64  \n",
      " 68  Day_of_week_n           317 non-null    int32  \n",
      "dtypes: bool(9), float64(3), int32(1), int64(56)\n",
      "memory usage: 152.6 KB\n"
     ]
    }
   ],
   "source": [
    "df_test.info()"
   ]
  },
  {
   "cell_type": "code",
   "execution_count": 164,
   "metadata": {},
   "outputs": [
    {
     "name": "stdout",
     "output_type": "stream",
     "text": [
      "<class 'pandas.core.frame.DataFrame'>\n",
      "Index: 1584 entries, 5 to 1873\n",
      "Data columns (total 69 columns):\n",
      " #   Column                  Non-Null Count  Dtype  \n",
      "---  ------                  --------------  -----  \n",
      " 0   has_player_mention      1584 non-null   bool   \n",
      " 1   is_umorous              1584 non-null   bool   \n",
      " 2   is_controversial_topic  1584 non-null   bool   \n",
      " 3   contains_good_deed      1584 non-null   bool   \n",
      " 4   mention_match           1584 non-null   bool   \n",
      " 5   reaction_count          1584 non-null   int64  \n",
      " 6   was_live                1584 non-null   bool   \n",
      " 7   has_image               1584 non-null   bool   \n",
      " 8   has_with                1584 non-null   bool   \n",
      " 9   has_link                1584 non-null   bool   \n",
      " 10  Hour                    1584 non-null   int64  \n",
      " 11  Date                    1584 non-null   int64  \n",
      " 12  Month                   1584 non-null   int64  \n",
      " 13  Year                    1584 non-null   int64  \n",
      " 14  avgLast5                1584 non-null   float64\n",
      " 15  minLast5                1584 non-null   float64\n",
      " 16  maxLast5                1584 non-null   float64\n",
      " 17  captionLength           1584 non-null   int64  \n",
      " 18  trận_counts             1584 non-null   int64  \n",
      " 19  đội_counts              1584 non-null   int64  \n",
      " 20  mùa_counts              1584 non-null   int64  \n",
      " 21  hlv_counts              1584 non-null   int64  \n",
      " 22  ten_hag_counts          1584 non-null   int64  \n",
      " 23  cầu_thủ_counts          1584 non-null   int64  \n",
      " 24  bàn_counts              1584 non-null   int64  \n",
      " 25  sân_counts              1584 non-null   int64  \n",
      " 26  giải_counts             1584 non-null   int64  \n",
      " 27  bóng_counts             1584 non-null   int64  \n",
      " 28  đấu_counts              1584 non-null   int64  \n",
      " 29  premier_league_counts   1584 non-null   int64  \n",
      " 30  onana_counts            1584 non-null   int64  \n",
      " 31  dự_counts               1584 non-null   int64  \n",
      " 32  chính_thức_counts       1584 non-null   int64  \n",
      " 33  đêm_counts              1584 non-null   int64  \n",
      " 34  rashford_counts         1584 non-null   int64  \n",
      " 35  ghi_counts              1584 non-null   int64  \n",
      " 36  maguire_counts          1584 non-null   int64  \n",
      " 37  quỷ_đỏ_counts           1584 non-null   int64  \n",
      " 38  kiến_counts             1584 non-null   int64  \n",
      " 39  old_trafford_counts     1584 non-null   int64  \n",
      " 40  chấn_thương_counts      1584 non-null   int64  \n",
      " 41  sancho_counts           1584 non-null   int64  \n",
      " 42  ronaldo_counts          1584 non-null   int64  \n",
      " 43  kết_counts              1584 non-null   int64  \n",
      " 44  greenwood_counts        1584 non-null   int64  \n",
      " 45  de_gea_counts           1584 non-null   int64  \n",
      " 46  triệu_counts            1584 non-null   int64  \n",
      " 47  hàng_counts             1584 non-null   int64  \n",
      " 48  hè_counts               1584 non-null   int64  \n",
      " 49  trai_counts             1584 non-null   int64  \n",
      " 50  báo_counts              1584 non-null   int64  \n",
      " 51  clb_counts              1584 non-null   int64  \n",
      " 52  bảng_counts             1584 non-null   int64  \n",
      " 53  vệ_counts               1584 non-null   int64  \n",
      " 54  bruno_counts            1584 non-null   int64  \n",
      " 55  chúc_mừng_counts        1584 non-null   int64  \n",
      " 56  thủ_counts              1584 non-null   int64  \n",
      " 57  top_counts              1584 non-null   int64  \n",
      " 58  luyện_counts            1584 non-null   int64  \n",
      " 59  tỷ_counts               1584 non-null   int64  \n",
      " 60  antony_counts           1584 non-null   int64  \n",
      " 61  mount_counts            1584 non-null   int64  \n",
      " 62  hojlund_counts          1584 non-null   int64  \n",
      " 63  mua_counts              1584 non-null   int64  \n",
      " 64  chủ_counts              1584 non-null   int64  \n",
      " 65  thông_counts            1584 non-null   int64  \n",
      " 66  casemiro_counts         1584 non-null   int64  \n",
      " 67  vọng_counts             1584 non-null   int64  \n",
      " 68  Day_of_week_n           1584 non-null   int32  \n",
      "dtypes: bool(9), float64(3), int32(1), int64(56)\n",
      "memory usage: 762.6 KB\n"
     ]
    }
   ],
   "source": [
    "df.info()"
   ]
  },
  {
   "cell_type": "code",
   "execution_count": 165,
   "metadata": {},
   "outputs": [],
   "source": [
    "# from sklearn.ensemble import RandomForestRegressor\n",
    "# model = RandomForestRegressor()\n",
    "# model.fit(inputs, target)\n",
    "# print(model.score(inputs, target))\n",
    "# print(model.score(valid_input, valid_target))\n",
    "# print(model.score(test_input, test_target))\n",
    "\n",
    "\n"
   ]
  },
  {
   "cell_type": "code",
   "execution_count": 166,
   "metadata": {},
   "outputs": [],
   "source": [
    "# print(model.score(test_input, test_target))\n"
   ]
  },
  {
   "cell_type": "code",
   "execution_count": null,
   "metadata": {},
   "outputs": [],
   "source": []
  },
  {
   "cell_type": "code",
   "execution_count": null,
   "metadata": {},
   "outputs": [],
   "source": []
  },
  {
   "cell_type": "code",
   "execution_count": null,
   "metadata": {},
   "outputs": [],
   "source": []
  },
  {
   "cell_type": "code",
   "execution_count": null,
   "metadata": {},
   "outputs": [],
   "source": []
  },
  {
   "cell_type": "code",
   "execution_count": null,
   "metadata": {},
   "outputs": [],
   "source": []
  },
  {
   "cell_type": "code",
   "execution_count": null,
   "metadata": {},
   "outputs": [],
   "source": []
  },
  {
   "cell_type": "code",
   "execution_count": 391,
   "metadata": {},
   "outputs": [
    {
     "name": "stdout",
     "output_type": "stream",
     "text": [
      "-1.3388395088646588e+16\n",
      "0.17908909523257643\n"
     ]
    }
   ],
   "source": [
    "from sklearn.linear_model import LinearRegression\n",
    "\n",
    "model = LinearRegression()\n",
    "model.fit(inputs, target)\n",
    "accuracy = model.score(valid_input, valid_target)\n",
    "print(accuracy)\n",
    "print(model.score(test_input, test_target))\n"
   ]
  },
  {
   "cell_type": "code",
   "execution_count": 393,
   "metadata": {},
   "outputs": [
    {
     "name": "stdout",
     "output_type": "stream",
     "text": [
      "0.25956257225961454\n",
      "0.237134335004337\n"
     ]
    }
   ],
   "source": [
    "from sklearn.ensemble import RandomForestRegressor\n",
    "\n",
    "model = RandomForestRegressor(max_depth=2, random_state=0)\n",
    "model.fit(inputs, target)\n",
    "accuracy = model.score(valid_input, valid_target)\n",
    "print(accuracy)\n",
    "print(model.score(test_input, test_target))"
   ]
  },
  {
   "cell_type": "code",
   "execution_count": null,
   "metadata": {},
   "outputs": [],
   "source": []
  },
  {
   "cell_type": "code",
   "execution_count": null,
   "metadata": {},
   "outputs": [],
   "source": []
  },
  {
   "cell_type": "code",
   "execution_count": null,
   "metadata": {},
   "outputs": [],
   "source": []
  },
  {
   "cell_type": "code",
   "execution_count": null,
   "metadata": {},
   "outputs": [],
   "source": []
  }
 ],
 "metadata": {
  "kernelspec": {
   "display_name": "base",
   "language": "python",
   "name": "python3"
  },
  "language_info": {
   "codemirror_mode": {
    "name": "ipython",
    "version": 3
   },
   "file_extension": ".py",
   "mimetype": "text/x-python",
   "name": "python",
   "nbconvert_exporter": "python",
   "pygments_lexer": "ipython3",
   "version": "3.11.5"
  }
 },
 "nbformat": 4,
 "nbformat_minor": 2
}
