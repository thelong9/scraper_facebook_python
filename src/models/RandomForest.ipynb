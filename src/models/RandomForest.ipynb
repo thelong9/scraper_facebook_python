{
 "cells": [
  {
   "cell_type": "code",
   "execution_count": 1,
   "metadata": {},
   "outputs": [],
   "source": [
    "import pandas as pd"
   ]
  },
  {
   "cell_type": "code",
   "execution_count": 27,
   "metadata": {},
   "outputs": [],
   "source": [
    "df = pd.read_csv('dataF5.csv')"
   ]
  },
  {
   "cell_type": "code",
   "execution_count": 28,
   "metadata": {},
   "outputs": [
    {
     "name": "stdout",
     "output_type": "stream",
     "text": [
      "<class 'pandas.core.frame.DataFrame'>\n",
      "RangeIndex: 1869 entries, 0 to 1868\n",
      "Data columns (total 47 columns):\n",
      " #   Column                  Non-Null Count  Dtype  \n",
      "---  ------                  --------------  -----  \n",
      " 0   has_player_mention      1869 non-null   bool   \n",
      " 1   is_umorous              1869 non-null   bool   \n",
      " 2   is_controversial_topic  1869 non-null   bool   \n",
      " 3   contains_good_deed      1869 non-null   bool   \n",
      " 4   mention_match           1869 non-null   bool   \n",
      " 5   reaction_count          1869 non-null   int64  \n",
      " 6   image_count             1869 non-null   int64  \n",
      " 7   has_with                1869 non-null   bool   \n",
      " 8   has_link                1869 non-null   bool   \n",
      " 9   Hour                    1869 non-null   int64  \n",
      " 10  Day of week             1869 non-null   int64  \n",
      " 11  Date                    1869 non-null   int64  \n",
      " 12  Month                   1869 non-null   int64  \n",
      " 13  avgLast5                1869 non-null   float64\n",
      " 14  minLast5                1869 non-null   float64\n",
      " 15  maxLast5                1869 non-null   float64\n",
      " 16  captionLength           1869 non-null   int64  \n",
      " 17  trận_đấu                1869 non-null   bool   \n",
      " 18  huấn_luyện_viên         1869 non-null   bool   \n",
      " 19  ten_hag                 1869 non-null   bool   \n",
      " 20  cầu_thủ                 1869 non-null   bool   \n",
      " 21  bàn_thắng               1869 non-null   bool   \n",
      " 22  mùa_giải                1869 non-null   bool   \n",
      " 23  sân                     1869 non-null   bool   \n",
      " 24  đội_hình                1869 non-null   bool   \n",
      " 25  premier_league          1869 non-null   bool   \n",
      " 26  thi_đấu                 1869 non-null   bool   \n",
      " 27  onana                   1869 non-null   bool   \n",
      " 28  đêm                     1869 non-null   bool   \n",
      " 29  chính_thức              1869 non-null   bool   \n",
      " 30  rashford                1869 non-null   bool   \n",
      " 31  maguire                 1869 non-null   bool   \n",
      " 32  quỷ_đỏ                  1869 non-null   bool   \n",
      " 33  old_trafford            1869 non-null   bool   \n",
      " 34  tiền_đạo                1869 non-null   bool   \n",
      " 35  chấn_thương             1869 non-null   bool   \n",
      " 36  sancho                  1869 non-null   bool   \n",
      " 37  ronaldo                 1869 non-null   bool   \n",
      " 38  greenwood               1869 non-null   bool   \n",
      " 39  de_gea                  1869 non-null   bool   \n",
      " 40  triệu_bảng              1869 non-null   bool   \n",
      " 41  clb                     1869 non-null   bool   \n",
      " 42  quả_bóng                1869 non-null   bool   \n",
      " 43  bruno                   1869 non-null   bool   \n",
      " 44  chúc_mừng               1869 non-null   bool   \n",
      " 45  đội_bóng                1869 non-null   bool   \n",
      " 46  antony                  1869 non-null   bool   \n",
      "dtypes: bool(37), float64(3), int64(7)\n",
      "memory usage: 213.7 KB\n"
     ]
    }
   ],
   "source": [
    "df.info()"
   ]
  },
  {
   "cell_type": "code",
   "execution_count": 29,
   "metadata": {},
   "outputs": [],
   "source": [
    "from sklearn.preprocessing import LabelEncoder\n",
    "le_Day_of_week = LabelEncoder()\n",
    "df['Day_of_week_n'] = le_Day_of_week.fit_transform(df['Day of week'])"
   ]
  },
  {
   "cell_type": "code",
   "execution_count": 34,
   "metadata": {},
   "outputs": [],
   "source": [
    "# giờ trộn dữ liệu, chia bộ train, test theo tỉ lệ 80-20\n",
    "from sklearn.model_selection import train_test_split\n",
    "df_train, df_test = train_test_split(df, test_size=0.2, random_state=42)\n",
    "# df_train, df_valid = train_test_split(df_train, test_size=0.2, random_state=42)"
   ]
  },
  {
   "cell_type": "code",
   "execution_count": 35,
   "metadata": {},
   "outputs": [],
   "source": [
    "y_train = df_train['reaction_count']\n",
    "X_train = df_train.drop(['reaction_count'], axis='columns')\n",
    "\n",
    "\n",
    "y_test = df_test['reaction_count']\n",
    "X_test = df_test.drop(['reaction_count'], axis = 'columns')\n"
   ]
  },
  {
   "cell_type": "code",
   "execution_count": 43,
   "metadata": {},
   "outputs": [
    {
     "name": "stdout",
     "output_type": "stream",
     "text": [
      "Fitting 3 folds for each of 108 candidates, totalling 324 fits\n",
      "{'max_depth': 10, 'min_samples_leaf': 4, 'min_samples_split': 10, 'n_estimators': 50}\n",
      "0.21982317041773247\n"
     ]
    }
   ],
   "source": [
    "from sklearn.ensemble import RandomForestRegressor\n",
    "from sklearn.model_selection import GridSearchCV\n",
    "\n",
    "\n",
    "model = RandomForestRegressor()\n",
    "param_grid = {\n",
    "    'n_estimators': [50, 100, 150],\n",
    "    'max_depth': [None, 10, 20, 30],\n",
    "    'min_samples_split': [2, 5, 10],\n",
    "    'min_samples_leaf': [1, 2, 4]\n",
    "}\n",
    "\n",
    "grid_search = GridSearchCV(model, param_grid, cv=3, n_jobs=-1, verbose=2)\n",
    "\n",
    "grid_search.fit(X_train, y_train)\n",
    "\n",
    "\n",
    "# In ra siêu tham số tốt nhất\n",
    "print(grid_search.best_params_)\n",
    "model = grid_search.best_estimator_\n",
    "print(model.score(X_test, y_test))\n",
    "\n",
    "\n",
    "\n",
    "\n"
   ]
  },
  {
   "cell_type": "code",
   "execution_count": 44,
   "metadata": {},
   "outputs": [
    {
     "name": "stdout",
     "output_type": "stream",
     "text": [
      "255.33959213784314\n",
      "150823.99053734657\n",
      "1.099505772606094\n"
     ]
    }
   ],
   "source": [
    "from sklearn.metrics import mean_absolute_error, mean_absolute_percentage_error, mean_squared_error\n",
    "\n",
    "\n",
    "print(mean_absolute_error(y_test, model.predict(X_test)))\n",
    "print(mean_squared_error\n",
    "(y_test, model.predict(X_test)))\n",
    "print(mean_absolute_percentage_error(y_test, model.predict(X_test)))"
   ]
  }
 ],
 "metadata": {
  "kernelspec": {
   "display_name": "base",
   "language": "python",
   "name": "python3"
  },
  "language_info": {
   "codemirror_mode": {
    "name": "ipython",
    "version": 3
   },
   "file_extension": ".py",
   "mimetype": "text/x-python",
   "name": "python",
   "nbconvert_exporter": "python",
   "pygments_lexer": "ipython3",
   "version": "3.11.9"
  }
 },
 "nbformat": 4,
 "nbformat_minor": 2
}
